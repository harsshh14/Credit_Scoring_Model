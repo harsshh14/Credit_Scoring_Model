{
 "cells": [
  {
   "cell_type": "code",
   "execution_count": 1,
   "metadata": {
    "_cell_guid": "98e8c140-b331-4a2e-98a1-aa76dd1ae9c3",
    "_uuid": "ebb00fd08333f52902981f381d94492ec2819bfd"
   },
   "outputs": [],
   "source": [
    "#Load the librarys\n",
    "import pandas as pd #To work with dataset\n",
    "import numpy as np #Math library\n",
    "import seaborn as sns #Graph library that use matplot in background\n",
    "import matplotlib.pyplot as plt #to plot some parameters in seaborn\n",
    "\n",
    "#Importing the data\n",
    "df_credit = pd.read_csv(\"german_credit_data.csv\",index_col=0)"
   ]
  },
  {
   "cell_type": "markdown",
   "metadata": {
    "_cell_guid": "8f6af2bc-3f44-4134-bb3f-feaabcce6254",
    "_uuid": "b1edd34feb9c638a57fe28bbb56695a9ece694c0"
   },
   "source": [
    "# Understanding data"
   ]
  },
  {
   "cell_type": "code",
   "execution_count": 2,
   "metadata": {},
   "outputs": [
    {
     "data": {
      "text/html": [
       "<div>\n",
       "<style scoped>\n",
       "    .dataframe tbody tr th:only-of-type {\n",
       "        vertical-align: middle;\n",
       "    }\n",
       "\n",
       "    .dataframe tbody tr th {\n",
       "        vertical-align: top;\n",
       "    }\n",
       "\n",
       "    .dataframe thead th {\n",
       "        text-align: right;\n",
       "    }\n",
       "</style>\n",
       "<table border=\"1\" class=\"dataframe\">\n",
       "  <thead>\n",
       "    <tr style=\"text-align: right;\">\n",
       "      <th></th>\n",
       "      <th>Age</th>\n",
       "      <th>Sex</th>\n",
       "      <th>Job</th>\n",
       "      <th>Housing</th>\n",
       "      <th>Saving accounts</th>\n",
       "      <th>Checking account</th>\n",
       "      <th>Credit amount</th>\n",
       "      <th>Duration</th>\n",
       "      <th>Purpose</th>\n",
       "      <th>Risk</th>\n",
       "    </tr>\n",
       "  </thead>\n",
       "  <tbody>\n",
       "    <tr>\n",
       "      <th>0</th>\n",
       "      <td>67</td>\n",
       "      <td>male</td>\n",
       "      <td>2</td>\n",
       "      <td>own</td>\n",
       "      <td>NaN</td>\n",
       "      <td>little</td>\n",
       "      <td>1169</td>\n",
       "      <td>6</td>\n",
       "      <td>radio/TV</td>\n",
       "      <td>good</td>\n",
       "    </tr>\n",
       "    <tr>\n",
       "      <th>1</th>\n",
       "      <td>22</td>\n",
       "      <td>female</td>\n",
       "      <td>2</td>\n",
       "      <td>own</td>\n",
       "      <td>little</td>\n",
       "      <td>moderate</td>\n",
       "      <td>5951</td>\n",
       "      <td>48</td>\n",
       "      <td>radio/TV</td>\n",
       "      <td>bad</td>\n",
       "    </tr>\n",
       "    <tr>\n",
       "      <th>2</th>\n",
       "      <td>49</td>\n",
       "      <td>male</td>\n",
       "      <td>1</td>\n",
       "      <td>own</td>\n",
       "      <td>little</td>\n",
       "      <td>NaN</td>\n",
       "      <td>2096</td>\n",
       "      <td>12</td>\n",
       "      <td>education</td>\n",
       "      <td>good</td>\n",
       "    </tr>\n",
       "    <tr>\n",
       "      <th>3</th>\n",
       "      <td>45</td>\n",
       "      <td>male</td>\n",
       "      <td>2</td>\n",
       "      <td>free</td>\n",
       "      <td>little</td>\n",
       "      <td>little</td>\n",
       "      <td>7882</td>\n",
       "      <td>42</td>\n",
       "      <td>furniture/equipment</td>\n",
       "      <td>good</td>\n",
       "    </tr>\n",
       "    <tr>\n",
       "      <th>4</th>\n",
       "      <td>53</td>\n",
       "      <td>male</td>\n",
       "      <td>2</td>\n",
       "      <td>free</td>\n",
       "      <td>little</td>\n",
       "      <td>little</td>\n",
       "      <td>4870</td>\n",
       "      <td>24</td>\n",
       "      <td>car</td>\n",
       "      <td>bad</td>\n",
       "    </tr>\n",
       "  </tbody>\n",
       "</table>\n",
       "</div>"
      ],
      "text/plain": [
       "   Age     Sex  Job Housing Saving accounts Checking account  Credit amount  \\\n",
       "0   67    male    2     own             NaN           little           1169   \n",
       "1   22  female    2     own          little         moderate           5951   \n",
       "2   49    male    1     own          little              NaN           2096   \n",
       "3   45    male    2    free          little           little           7882   \n",
       "4   53    male    2    free          little           little           4870   \n",
       "\n",
       "   Duration              Purpose  Risk  \n",
       "0         6             radio/TV  good  \n",
       "1        48             radio/TV   bad  \n",
       "2        12            education  good  \n",
       "3        42  furniture/equipment  good  \n",
       "4        24                  car   bad  "
      ]
     },
     "execution_count": 2,
     "metadata": {},
     "output_type": "execute_result"
    }
   ],
   "source": [
    "df_credit.head()"
   ]
  },
  {
   "cell_type": "code",
   "execution_count": 3,
   "metadata": {
    "_cell_guid": "81649261-de36-4f16-9816-643d90d3d2aa",
    "_uuid": "017a2be77ff92841897d9b25e898927e641b90fb"
   },
   "outputs": [
    {
     "name": "stdout",
     "output_type": "stream",
     "text": [
      "<class 'pandas.core.frame.DataFrame'>\n",
      "Int64Index: 1000 entries, 0 to 999\n",
      "Data columns (total 10 columns):\n",
      " #   Column            Non-Null Count  Dtype \n",
      "---  ------            --------------  ----- \n",
      " 0   Age               1000 non-null   int64 \n",
      " 1   Sex               1000 non-null   object\n",
      " 2   Job               1000 non-null   int64 \n",
      " 3   Housing           1000 non-null   object\n",
      " 4   Saving accounts   817 non-null    object\n",
      " 5   Checking account  606 non-null    object\n",
      " 6   Credit amount     1000 non-null   int64 \n",
      " 7   Duration          1000 non-null   int64 \n",
      " 8   Purpose           1000 non-null   object\n",
      " 9   Risk              1000 non-null   object\n",
      "dtypes: int64(4), object(6)\n",
      "memory usage: 85.9+ KB\n",
      "None\n"
     ]
    }
   ],
   "source": [
    "#Searching for Missings,type of data and also known the shape of data\n",
    "print(df_credit.info())"
   ]
  },
  {
   "cell_type": "code",
   "execution_count": 4,
   "metadata": {
    "_cell_guid": "379c0593-dbc5-4523-b130-8a7ee71bce5b",
    "_uuid": "3e45297ce0530246c288cb8ab64378b639246f6b"
   },
   "outputs": [
    {
     "name": "stdout",
     "output_type": "stream",
     "text": [
      "Age                  53\n",
      "Sex                   2\n",
      "Job                   4\n",
      "Housing               3\n",
      "Saving accounts       4\n",
      "Checking account      3\n",
      "Credit amount       921\n",
      "Duration             33\n",
      "Purpose               8\n",
      "Risk                  2\n",
      "dtype: int64\n",
      "   Age     Sex  Job Housing Saving accounts Checking account  Credit amount  \\\n",
      "0   67    male    2     own             NaN           little           1169   \n",
      "1   22  female    2     own          little         moderate           5951   \n",
      "2   49    male    1     own          little              NaN           2096   \n",
      "3   45    male    2    free          little           little           7882   \n",
      "4   53    male    2    free          little           little           4870   \n",
      "\n",
      "   Duration              Purpose  Risk  \n",
      "0         6             radio/TV  good  \n",
      "1        48             radio/TV   bad  \n",
      "2        12            education  good  \n",
      "3        42  furniture/equipment  good  \n",
      "4        24                  car   bad  \n"
     ]
    }
   ],
   "source": [
    "#Looking unique values\n",
    "print(df_credit.nunique())\n",
    "#Looking the data\n",
    "print(df_credit.head())"
   ]
  },
  {
   "cell_type": "markdown",
   "metadata": {
    "_cell_guid": "2c1da4dc-39d6-4f4a-9a3d-c7c31ddb5e57",
    "_uuid": "06a3ac5f2cc47753350a7d3dd8ad92873f03b16b"
   },
   "source": [
    "# **4. Some explorations:** <a id=\"Explorations\"></a> <br>\n",
    "\n",
    "- Starting by distribuition of column Age.\n",
    "- Some Seaborn graphical\n",
    "- Columns crossing\n",
    "\n"
   ]
  },
  {
   "cell_type": "code",
   "execution_count": 5,
   "metadata": {},
   "outputs": [
    {
     "name": "stdout",
     "output_type": "stream",
     "text": [
      "Requirement already satisfied: plotly in c:\\users\\harsshh wankhayday\\appdata\\local\\programs\\python\\python39\\lib\\site-packages (5.9.0)\n",
      "Requirement already satisfied: tenacity>=6.2.0 in c:\\users\\harsshh wankhayday\\appdata\\local\\programs\\python\\python39\\lib\\site-packages (from plotly) (8.0.1)\n"
     ]
    },
    {
     "name": "stderr",
     "output_type": "stream",
     "text": [
      "WARNING: You are using pip version 21.1.1; however, version 22.2.2 is available.\n",
      "You should consider upgrading via the 'c:\\users\\harsshh wankhayday\\appdata\\local\\programs\\python\\python39\\python.exe -m pip install --upgrade pip' command.\n"
     ]
    }
   ],
   "source": [
    "!pip install plotly"
   ]
  },
  {
   "cell_type": "markdown",
   "metadata": {
    "_cell_guid": "46bd5d63-dfe1-477a-8647-926471e7ee37",
    "_uuid": "71d1c34259be3ea63a76ac5010c96ccc90f17f40"
   },
   "source": [
    "<h2>Let's start looking through target variable and their distribuition</h2>"
   ]
  },
  {
   "cell_type": "code",
   "execution_count": 6,
   "metadata": {
    "_cell_guid": "6c974adc-9d98-4648-ada5-15ff5f1b615c",
    "_kg_hide-input": true,
    "_uuid": "31cd32f3d652470e6a1e3f371778cfc6f557e34a"
   },
   "outputs": [
    {
     "data": {
      "text/html": [
       "        <script type=\"text/javascript\">\n",
       "        window.PlotlyConfig = {MathJaxConfig: 'local'};\n",
       "        if (window.MathJax && window.MathJax.Hub && window.MathJax.Hub.Config) {window.MathJax.Hub.Config({SVG: {font: \"STIX-Web\"}});}\n",
       "        if (typeof require !== 'undefined') {\n",
       "        require.undef(\"plotly\");\n",
       "        requirejs.config({\n",
       "            paths: {\n",
       "                'plotly': ['https://cdn.plot.ly/plotly-2.12.1.min']\n",
       "            }\n",
       "        });\n",
       "        require(['plotly'], function(Plotly) {\n",
       "            window._Plotly = Plotly;\n",
       "        });\n",
       "        }\n",
       "        </script>\n",
       "        "
      ]
     },
     "metadata": {},
     "output_type": "display_data"
    },
    {
     "data": {
      "application/vnd.plotly.v1+json": {
       "config": {
        "linkText": "Export to plot.ly",
        "plotlyServerURL": "https://plot.ly",
        "showLink": false
       },
       "data": [
        {
         "name": "Good credit",
         "type": "bar",
         "x": [
          "good"
         ],
         "y": [
          700
         ]
        },
        {
         "name": "Bad credit",
         "type": "bar",
         "x": [
          "bad"
         ],
         "y": [
          300
         ]
        }
       ],
       "layout": {
        "template": {
         "data": {
          "bar": [
           {
            "error_x": {
             "color": "#2a3f5f"
            },
            "error_y": {
             "color": "#2a3f5f"
            },
            "marker": {
             "line": {
              "color": "#E5ECF6",
              "width": 0.5
             },
             "pattern": {
              "fillmode": "overlay",
              "size": 10,
              "solidity": 0.2
             }
            },
            "type": "bar"
           }
          ],
          "barpolar": [
           {
            "marker": {
             "line": {
              "color": "#E5ECF6",
              "width": 0.5
             },
             "pattern": {
              "fillmode": "overlay",
              "size": 10,
              "solidity": 0.2
             }
            },
            "type": "barpolar"
           }
          ],
          "carpet": [
           {
            "aaxis": {
             "endlinecolor": "#2a3f5f",
             "gridcolor": "white",
             "linecolor": "white",
             "minorgridcolor": "white",
             "startlinecolor": "#2a3f5f"
            },
            "baxis": {
             "endlinecolor": "#2a3f5f",
             "gridcolor": "white",
             "linecolor": "white",
             "minorgridcolor": "white",
             "startlinecolor": "#2a3f5f"
            },
            "type": "carpet"
           }
          ],
          "choropleth": [
           {
            "colorbar": {
             "outlinewidth": 0,
             "ticks": ""
            },
            "type": "choropleth"
           }
          ],
          "contour": [
           {
            "colorbar": {
             "outlinewidth": 0,
             "ticks": ""
            },
            "colorscale": [
             [
              0,
              "#0d0887"
             ],
             [
              0.1111111111111111,
              "#46039f"
             ],
             [
              0.2222222222222222,
              "#7201a8"
             ],
             [
              0.3333333333333333,
              "#9c179e"
             ],
             [
              0.4444444444444444,
              "#bd3786"
             ],
             [
              0.5555555555555556,
              "#d8576b"
             ],
             [
              0.6666666666666666,
              "#ed7953"
             ],
             [
              0.7777777777777778,
              "#fb9f3a"
             ],
             [
              0.8888888888888888,
              "#fdca26"
             ],
             [
              1,
              "#f0f921"
             ]
            ],
            "type": "contour"
           }
          ],
          "contourcarpet": [
           {
            "colorbar": {
             "outlinewidth": 0,
             "ticks": ""
            },
            "type": "contourcarpet"
           }
          ],
          "heatmap": [
           {
            "colorbar": {
             "outlinewidth": 0,
             "ticks": ""
            },
            "colorscale": [
             [
              0,
              "#0d0887"
             ],
             [
              0.1111111111111111,
              "#46039f"
             ],
             [
              0.2222222222222222,
              "#7201a8"
             ],
             [
              0.3333333333333333,
              "#9c179e"
             ],
             [
              0.4444444444444444,
              "#bd3786"
             ],
             [
              0.5555555555555556,
              "#d8576b"
             ],
             [
              0.6666666666666666,
              "#ed7953"
             ],
             [
              0.7777777777777778,
              "#fb9f3a"
             ],
             [
              0.8888888888888888,
              "#fdca26"
             ],
             [
              1,
              "#f0f921"
             ]
            ],
            "type": "heatmap"
           }
          ],
          "heatmapgl": [
           {
            "colorbar": {
             "outlinewidth": 0,
             "ticks": ""
            },
            "colorscale": [
             [
              0,
              "#0d0887"
             ],
             [
              0.1111111111111111,
              "#46039f"
             ],
             [
              0.2222222222222222,
              "#7201a8"
             ],
             [
              0.3333333333333333,
              "#9c179e"
             ],
             [
              0.4444444444444444,
              "#bd3786"
             ],
             [
              0.5555555555555556,
              "#d8576b"
             ],
             [
              0.6666666666666666,
              "#ed7953"
             ],
             [
              0.7777777777777778,
              "#fb9f3a"
             ],
             [
              0.8888888888888888,
              "#fdca26"
             ],
             [
              1,
              "#f0f921"
             ]
            ],
            "type": "heatmapgl"
           }
          ],
          "histogram": [
           {
            "marker": {
             "pattern": {
              "fillmode": "overlay",
              "size": 10,
              "solidity": 0.2
             }
            },
            "type": "histogram"
           }
          ],
          "histogram2d": [
           {
            "colorbar": {
             "outlinewidth": 0,
             "ticks": ""
            },
            "colorscale": [
             [
              0,
              "#0d0887"
             ],
             [
              0.1111111111111111,
              "#46039f"
             ],
             [
              0.2222222222222222,
              "#7201a8"
             ],
             [
              0.3333333333333333,
              "#9c179e"
             ],
             [
              0.4444444444444444,
              "#bd3786"
             ],
             [
              0.5555555555555556,
              "#d8576b"
             ],
             [
              0.6666666666666666,
              "#ed7953"
             ],
             [
              0.7777777777777778,
              "#fb9f3a"
             ],
             [
              0.8888888888888888,
              "#fdca26"
             ],
             [
              1,
              "#f0f921"
             ]
            ],
            "type": "histogram2d"
           }
          ],
          "histogram2dcontour": [
           {
            "colorbar": {
             "outlinewidth": 0,
             "ticks": ""
            },
            "colorscale": [
             [
              0,
              "#0d0887"
             ],
             [
              0.1111111111111111,
              "#46039f"
             ],
             [
              0.2222222222222222,
              "#7201a8"
             ],
             [
              0.3333333333333333,
              "#9c179e"
             ],
             [
              0.4444444444444444,
              "#bd3786"
             ],
             [
              0.5555555555555556,
              "#d8576b"
             ],
             [
              0.6666666666666666,
              "#ed7953"
             ],
             [
              0.7777777777777778,
              "#fb9f3a"
             ],
             [
              0.8888888888888888,
              "#fdca26"
             ],
             [
              1,
              "#f0f921"
             ]
            ],
            "type": "histogram2dcontour"
           }
          ],
          "mesh3d": [
           {
            "colorbar": {
             "outlinewidth": 0,
             "ticks": ""
            },
            "type": "mesh3d"
           }
          ],
          "parcoords": [
           {
            "line": {
             "colorbar": {
              "outlinewidth": 0,
              "ticks": ""
             }
            },
            "type": "parcoords"
           }
          ],
          "pie": [
           {
            "automargin": true,
            "type": "pie"
           }
          ],
          "scatter": [
           {
            "fillpattern": {
             "fillmode": "overlay",
             "size": 10,
             "solidity": 0.2
            },
            "type": "scatter"
           }
          ],
          "scatter3d": [
           {
            "line": {
             "colorbar": {
              "outlinewidth": 0,
              "ticks": ""
             }
            },
            "marker": {
             "colorbar": {
              "outlinewidth": 0,
              "ticks": ""
             }
            },
            "type": "scatter3d"
           }
          ],
          "scattercarpet": [
           {
            "marker": {
             "colorbar": {
              "outlinewidth": 0,
              "ticks": ""
             }
            },
            "type": "scattercarpet"
           }
          ],
          "scattergeo": [
           {
            "marker": {
             "colorbar": {
              "outlinewidth": 0,
              "ticks": ""
             }
            },
            "type": "scattergeo"
           }
          ],
          "scattergl": [
           {
            "marker": {
             "colorbar": {
              "outlinewidth": 0,
              "ticks": ""
             }
            },
            "type": "scattergl"
           }
          ],
          "scattermapbox": [
           {
            "marker": {
             "colorbar": {
              "outlinewidth": 0,
              "ticks": ""
             }
            },
            "type": "scattermapbox"
           }
          ],
          "scatterpolar": [
           {
            "marker": {
             "colorbar": {
              "outlinewidth": 0,
              "ticks": ""
             }
            },
            "type": "scatterpolar"
           }
          ],
          "scatterpolargl": [
           {
            "marker": {
             "colorbar": {
              "outlinewidth": 0,
              "ticks": ""
             }
            },
            "type": "scatterpolargl"
           }
          ],
          "scatterternary": [
           {
            "marker": {
             "colorbar": {
              "outlinewidth": 0,
              "ticks": ""
             }
            },
            "type": "scatterternary"
           }
          ],
          "surface": [
           {
            "colorbar": {
             "outlinewidth": 0,
             "ticks": ""
            },
            "colorscale": [
             [
              0,
              "#0d0887"
             ],
             [
              0.1111111111111111,
              "#46039f"
             ],
             [
              0.2222222222222222,
              "#7201a8"
             ],
             [
              0.3333333333333333,
              "#9c179e"
             ],
             [
              0.4444444444444444,
              "#bd3786"
             ],
             [
              0.5555555555555556,
              "#d8576b"
             ],
             [
              0.6666666666666666,
              "#ed7953"
             ],
             [
              0.7777777777777778,
              "#fb9f3a"
             ],
             [
              0.8888888888888888,
              "#fdca26"
             ],
             [
              1,
              "#f0f921"
             ]
            ],
            "type": "surface"
           }
          ],
          "table": [
           {
            "cells": {
             "fill": {
              "color": "#EBF0F8"
             },
             "line": {
              "color": "white"
             }
            },
            "header": {
             "fill": {
              "color": "#C8D4E3"
             },
             "line": {
              "color": "white"
             }
            },
            "type": "table"
           }
          ]
         },
         "layout": {
          "annotationdefaults": {
           "arrowcolor": "#2a3f5f",
           "arrowhead": 0,
           "arrowwidth": 1
          },
          "autotypenumbers": "strict",
          "coloraxis": {
           "colorbar": {
            "outlinewidth": 0,
            "ticks": ""
           }
          },
          "colorscale": {
           "diverging": [
            [
             0,
             "#8e0152"
            ],
            [
             0.1,
             "#c51b7d"
            ],
            [
             0.2,
             "#de77ae"
            ],
            [
             0.3,
             "#f1b6da"
            ],
            [
             0.4,
             "#fde0ef"
            ],
            [
             0.5,
             "#f7f7f7"
            ],
            [
             0.6,
             "#e6f5d0"
            ],
            [
             0.7,
             "#b8e186"
            ],
            [
             0.8,
             "#7fbc41"
            ],
            [
             0.9,
             "#4d9221"
            ],
            [
             1,
             "#276419"
            ]
           ],
           "sequential": [
            [
             0,
             "#0d0887"
            ],
            [
             0.1111111111111111,
             "#46039f"
            ],
            [
             0.2222222222222222,
             "#7201a8"
            ],
            [
             0.3333333333333333,
             "#9c179e"
            ],
            [
             0.4444444444444444,
             "#bd3786"
            ],
            [
             0.5555555555555556,
             "#d8576b"
            ],
            [
             0.6666666666666666,
             "#ed7953"
            ],
            [
             0.7777777777777778,
             "#fb9f3a"
            ],
            [
             0.8888888888888888,
             "#fdca26"
            ],
            [
             1,
             "#f0f921"
            ]
           ],
           "sequentialminus": [
            [
             0,
             "#0d0887"
            ],
            [
             0.1111111111111111,
             "#46039f"
            ],
            [
             0.2222222222222222,
             "#7201a8"
            ],
            [
             0.3333333333333333,
             "#9c179e"
            ],
            [
             0.4444444444444444,
             "#bd3786"
            ],
            [
             0.5555555555555556,
             "#d8576b"
            ],
            [
             0.6666666666666666,
             "#ed7953"
            ],
            [
             0.7777777777777778,
             "#fb9f3a"
            ],
            [
             0.8888888888888888,
             "#fdca26"
            ],
            [
             1,
             "#f0f921"
            ]
           ]
          },
          "colorway": [
           "#636efa",
           "#EF553B",
           "#00cc96",
           "#ab63fa",
           "#FFA15A",
           "#19d3f3",
           "#FF6692",
           "#B6E880",
           "#FF97FF",
           "#FECB52"
          ],
          "font": {
           "color": "#2a3f5f"
          },
          "geo": {
           "bgcolor": "white",
           "lakecolor": "white",
           "landcolor": "#E5ECF6",
           "showlakes": true,
           "showland": true,
           "subunitcolor": "white"
          },
          "hoverlabel": {
           "align": "left"
          },
          "hovermode": "closest",
          "mapbox": {
           "style": "light"
          },
          "paper_bgcolor": "white",
          "plot_bgcolor": "#E5ECF6",
          "polar": {
           "angularaxis": {
            "gridcolor": "white",
            "linecolor": "white",
            "ticks": ""
           },
           "bgcolor": "#E5ECF6",
           "radialaxis": {
            "gridcolor": "white",
            "linecolor": "white",
            "ticks": ""
           }
          },
          "scene": {
           "xaxis": {
            "backgroundcolor": "#E5ECF6",
            "gridcolor": "white",
            "gridwidth": 2,
            "linecolor": "white",
            "showbackground": true,
            "ticks": "",
            "zerolinecolor": "white"
           },
           "yaxis": {
            "backgroundcolor": "#E5ECF6",
            "gridcolor": "white",
            "gridwidth": 2,
            "linecolor": "white",
            "showbackground": true,
            "ticks": "",
            "zerolinecolor": "white"
           },
           "zaxis": {
            "backgroundcolor": "#E5ECF6",
            "gridcolor": "white",
            "gridwidth": 2,
            "linecolor": "white",
            "showbackground": true,
            "ticks": "",
            "zerolinecolor": "white"
           }
          },
          "shapedefaults": {
           "line": {
            "color": "#2a3f5f"
           }
          },
          "ternary": {
           "aaxis": {
            "gridcolor": "white",
            "linecolor": "white",
            "ticks": ""
           },
           "baxis": {
            "gridcolor": "white",
            "linecolor": "white",
            "ticks": ""
           },
           "bgcolor": "#E5ECF6",
           "caxis": {
            "gridcolor": "white",
            "linecolor": "white",
            "ticks": ""
           }
          },
          "title": {
           "x": 0.05
          },
          "xaxis": {
           "automargin": true,
           "gridcolor": "white",
           "linecolor": "white",
           "ticks": "",
           "title": {
            "standoff": 15
           },
           "zerolinecolor": "white",
           "zerolinewidth": 2
          },
          "yaxis": {
           "automargin": true,
           "gridcolor": "white",
           "linecolor": "white",
           "ticks": "",
           "title": {
            "standoff": 15
           },
           "zerolinecolor": "white",
           "zerolinewidth": 2
          }
         }
        },
        "title": {
         "text": "Target variable distribution"
        },
        "xaxis": {
         "title": {
          "text": "Risk Variable"
         }
        },
        "yaxis": {
         "title": {
          "text": "Count"
         }
        }
       }
      },
      "text/html": [
       "<div>                            <div id=\"4aecc680-448f-46a7-a37a-23ca4a78994b\" class=\"plotly-graph-div\" style=\"height:525px; width:100%;\"></div>            <script type=\"text/javascript\">                require([\"plotly\"], function(Plotly) {                    window.PLOTLYENV=window.PLOTLYENV || {};                                    if (document.getElementById(\"4aecc680-448f-46a7-a37a-23ca4a78994b\")) {                    Plotly.newPlot(                        \"4aecc680-448f-46a7-a37a-23ca4a78994b\",                        [{\"name\":\"Good credit\",\"x\":[\"good\"],\"y\":[700],\"type\":\"bar\"},{\"name\":\"Bad credit\",\"x\":[\"bad\"],\"y\":[300],\"type\":\"bar\"}],                        {\"template\":{\"data\":{\"barpolar\":[{\"marker\":{\"line\":{\"color\":\"#E5ECF6\",\"width\":0.5},\"pattern\":{\"fillmode\":\"overlay\",\"size\":10,\"solidity\":0.2}},\"type\":\"barpolar\"}],\"bar\":[{\"error_x\":{\"color\":\"#2a3f5f\"},\"error_y\":{\"color\":\"#2a3f5f\"},\"marker\":{\"line\":{\"color\":\"#E5ECF6\",\"width\":0.5},\"pattern\":{\"fillmode\":\"overlay\",\"size\":10,\"solidity\":0.2}},\"type\":\"bar\"}],\"carpet\":[{\"aaxis\":{\"endlinecolor\":\"#2a3f5f\",\"gridcolor\":\"white\",\"linecolor\":\"white\",\"minorgridcolor\":\"white\",\"startlinecolor\":\"#2a3f5f\"},\"baxis\":{\"endlinecolor\":\"#2a3f5f\",\"gridcolor\":\"white\",\"linecolor\":\"white\",\"minorgridcolor\":\"white\",\"startlinecolor\":\"#2a3f5f\"},\"type\":\"carpet\"}],\"choropleth\":[{\"colorbar\":{\"outlinewidth\":0,\"ticks\":\"\"},\"type\":\"choropleth\"}],\"contourcarpet\":[{\"colorbar\":{\"outlinewidth\":0,\"ticks\":\"\"},\"type\":\"contourcarpet\"}],\"contour\":[{\"colorbar\":{\"outlinewidth\":0,\"ticks\":\"\"},\"colorscale\":[[0.0,\"#0d0887\"],[0.1111111111111111,\"#46039f\"],[0.2222222222222222,\"#7201a8\"],[0.3333333333333333,\"#9c179e\"],[0.4444444444444444,\"#bd3786\"],[0.5555555555555556,\"#d8576b\"],[0.6666666666666666,\"#ed7953\"],[0.7777777777777778,\"#fb9f3a\"],[0.8888888888888888,\"#fdca26\"],[1.0,\"#f0f921\"]],\"type\":\"contour\"}],\"heatmapgl\":[{\"colorbar\":{\"outlinewidth\":0,\"ticks\":\"\"},\"colorscale\":[[0.0,\"#0d0887\"],[0.1111111111111111,\"#46039f\"],[0.2222222222222222,\"#7201a8\"],[0.3333333333333333,\"#9c179e\"],[0.4444444444444444,\"#bd3786\"],[0.5555555555555556,\"#d8576b\"],[0.6666666666666666,\"#ed7953\"],[0.7777777777777778,\"#fb9f3a\"],[0.8888888888888888,\"#fdca26\"],[1.0,\"#f0f921\"]],\"type\":\"heatmapgl\"}],\"heatmap\":[{\"colorbar\":{\"outlinewidth\":0,\"ticks\":\"\"},\"colorscale\":[[0.0,\"#0d0887\"],[0.1111111111111111,\"#46039f\"],[0.2222222222222222,\"#7201a8\"],[0.3333333333333333,\"#9c179e\"],[0.4444444444444444,\"#bd3786\"],[0.5555555555555556,\"#d8576b\"],[0.6666666666666666,\"#ed7953\"],[0.7777777777777778,\"#fb9f3a\"],[0.8888888888888888,\"#fdca26\"],[1.0,\"#f0f921\"]],\"type\":\"heatmap\"}],\"histogram2dcontour\":[{\"colorbar\":{\"outlinewidth\":0,\"ticks\":\"\"},\"colorscale\":[[0.0,\"#0d0887\"],[0.1111111111111111,\"#46039f\"],[0.2222222222222222,\"#7201a8\"],[0.3333333333333333,\"#9c179e\"],[0.4444444444444444,\"#bd3786\"],[0.5555555555555556,\"#d8576b\"],[0.6666666666666666,\"#ed7953\"],[0.7777777777777778,\"#fb9f3a\"],[0.8888888888888888,\"#fdca26\"],[1.0,\"#f0f921\"]],\"type\":\"histogram2dcontour\"}],\"histogram2d\":[{\"colorbar\":{\"outlinewidth\":0,\"ticks\":\"\"},\"colorscale\":[[0.0,\"#0d0887\"],[0.1111111111111111,\"#46039f\"],[0.2222222222222222,\"#7201a8\"],[0.3333333333333333,\"#9c179e\"],[0.4444444444444444,\"#bd3786\"],[0.5555555555555556,\"#d8576b\"],[0.6666666666666666,\"#ed7953\"],[0.7777777777777778,\"#fb9f3a\"],[0.8888888888888888,\"#fdca26\"],[1.0,\"#f0f921\"]],\"type\":\"histogram2d\"}],\"histogram\":[{\"marker\":{\"pattern\":{\"fillmode\":\"overlay\",\"size\":10,\"solidity\":0.2}},\"type\":\"histogram\"}],\"mesh3d\":[{\"colorbar\":{\"outlinewidth\":0,\"ticks\":\"\"},\"type\":\"mesh3d\"}],\"parcoords\":[{\"line\":{\"colorbar\":{\"outlinewidth\":0,\"ticks\":\"\"}},\"type\":\"parcoords\"}],\"pie\":[{\"automargin\":true,\"type\":\"pie\"}],\"scatter3d\":[{\"line\":{\"colorbar\":{\"outlinewidth\":0,\"ticks\":\"\"}},\"marker\":{\"colorbar\":{\"outlinewidth\":0,\"ticks\":\"\"}},\"type\":\"scatter3d\"}],\"scattercarpet\":[{\"marker\":{\"colorbar\":{\"outlinewidth\":0,\"ticks\":\"\"}},\"type\":\"scattercarpet\"}],\"scattergeo\":[{\"marker\":{\"colorbar\":{\"outlinewidth\":0,\"ticks\":\"\"}},\"type\":\"scattergeo\"}],\"scattergl\":[{\"marker\":{\"colorbar\":{\"outlinewidth\":0,\"ticks\":\"\"}},\"type\":\"scattergl\"}],\"scattermapbox\":[{\"marker\":{\"colorbar\":{\"outlinewidth\":0,\"ticks\":\"\"}},\"type\":\"scattermapbox\"}],\"scatterpolargl\":[{\"marker\":{\"colorbar\":{\"outlinewidth\":0,\"ticks\":\"\"}},\"type\":\"scatterpolargl\"}],\"scatterpolar\":[{\"marker\":{\"colorbar\":{\"outlinewidth\":0,\"ticks\":\"\"}},\"type\":\"scatterpolar\"}],\"scatter\":[{\"fillpattern\":{\"fillmode\":\"overlay\",\"size\":10,\"solidity\":0.2},\"type\":\"scatter\"}],\"scatterternary\":[{\"marker\":{\"colorbar\":{\"outlinewidth\":0,\"ticks\":\"\"}},\"type\":\"scatterternary\"}],\"surface\":[{\"colorbar\":{\"outlinewidth\":0,\"ticks\":\"\"},\"colorscale\":[[0.0,\"#0d0887\"],[0.1111111111111111,\"#46039f\"],[0.2222222222222222,\"#7201a8\"],[0.3333333333333333,\"#9c179e\"],[0.4444444444444444,\"#bd3786\"],[0.5555555555555556,\"#d8576b\"],[0.6666666666666666,\"#ed7953\"],[0.7777777777777778,\"#fb9f3a\"],[0.8888888888888888,\"#fdca26\"],[1.0,\"#f0f921\"]],\"type\":\"surface\"}],\"table\":[{\"cells\":{\"fill\":{\"color\":\"#EBF0F8\"},\"line\":{\"color\":\"white\"}},\"header\":{\"fill\":{\"color\":\"#C8D4E3\"},\"line\":{\"color\":\"white\"}},\"type\":\"table\"}]},\"layout\":{\"annotationdefaults\":{\"arrowcolor\":\"#2a3f5f\",\"arrowhead\":0,\"arrowwidth\":1},\"autotypenumbers\":\"strict\",\"coloraxis\":{\"colorbar\":{\"outlinewidth\":0,\"ticks\":\"\"}},\"colorscale\":{\"diverging\":[[0,\"#8e0152\"],[0.1,\"#c51b7d\"],[0.2,\"#de77ae\"],[0.3,\"#f1b6da\"],[0.4,\"#fde0ef\"],[0.5,\"#f7f7f7\"],[0.6,\"#e6f5d0\"],[0.7,\"#b8e186\"],[0.8,\"#7fbc41\"],[0.9,\"#4d9221\"],[1,\"#276419\"]],\"sequential\":[[0.0,\"#0d0887\"],[0.1111111111111111,\"#46039f\"],[0.2222222222222222,\"#7201a8\"],[0.3333333333333333,\"#9c179e\"],[0.4444444444444444,\"#bd3786\"],[0.5555555555555556,\"#d8576b\"],[0.6666666666666666,\"#ed7953\"],[0.7777777777777778,\"#fb9f3a\"],[0.8888888888888888,\"#fdca26\"],[1.0,\"#f0f921\"]],\"sequentialminus\":[[0.0,\"#0d0887\"],[0.1111111111111111,\"#46039f\"],[0.2222222222222222,\"#7201a8\"],[0.3333333333333333,\"#9c179e\"],[0.4444444444444444,\"#bd3786\"],[0.5555555555555556,\"#d8576b\"],[0.6666666666666666,\"#ed7953\"],[0.7777777777777778,\"#fb9f3a\"],[0.8888888888888888,\"#fdca26\"],[1.0,\"#f0f921\"]]},\"colorway\":[\"#636efa\",\"#EF553B\",\"#00cc96\",\"#ab63fa\",\"#FFA15A\",\"#19d3f3\",\"#FF6692\",\"#B6E880\",\"#FF97FF\",\"#FECB52\"],\"font\":{\"color\":\"#2a3f5f\"},\"geo\":{\"bgcolor\":\"white\",\"lakecolor\":\"white\",\"landcolor\":\"#E5ECF6\",\"showlakes\":true,\"showland\":true,\"subunitcolor\":\"white\"},\"hoverlabel\":{\"align\":\"left\"},\"hovermode\":\"closest\",\"mapbox\":{\"style\":\"light\"},\"paper_bgcolor\":\"white\",\"plot_bgcolor\":\"#E5ECF6\",\"polar\":{\"angularaxis\":{\"gridcolor\":\"white\",\"linecolor\":\"white\",\"ticks\":\"\"},\"bgcolor\":\"#E5ECF6\",\"radialaxis\":{\"gridcolor\":\"white\",\"linecolor\":\"white\",\"ticks\":\"\"}},\"scene\":{\"xaxis\":{\"backgroundcolor\":\"#E5ECF6\",\"gridcolor\":\"white\",\"gridwidth\":2,\"linecolor\":\"white\",\"showbackground\":true,\"ticks\":\"\",\"zerolinecolor\":\"white\"},\"yaxis\":{\"backgroundcolor\":\"#E5ECF6\",\"gridcolor\":\"white\",\"gridwidth\":2,\"linecolor\":\"white\",\"showbackground\":true,\"ticks\":\"\",\"zerolinecolor\":\"white\"},\"zaxis\":{\"backgroundcolor\":\"#E5ECF6\",\"gridcolor\":\"white\",\"gridwidth\":2,\"linecolor\":\"white\",\"showbackground\":true,\"ticks\":\"\",\"zerolinecolor\":\"white\"}},\"shapedefaults\":{\"line\":{\"color\":\"#2a3f5f\"}},\"ternary\":{\"aaxis\":{\"gridcolor\":\"white\",\"linecolor\":\"white\",\"ticks\":\"\"},\"baxis\":{\"gridcolor\":\"white\",\"linecolor\":\"white\",\"ticks\":\"\"},\"bgcolor\":\"#E5ECF6\",\"caxis\":{\"gridcolor\":\"white\",\"linecolor\":\"white\",\"ticks\":\"\"}},\"title\":{\"x\":0.05},\"xaxis\":{\"automargin\":true,\"gridcolor\":\"white\",\"linecolor\":\"white\",\"ticks\":\"\",\"title\":{\"standoff\":15},\"zerolinecolor\":\"white\",\"zerolinewidth\":2},\"yaxis\":{\"automargin\":true,\"gridcolor\":\"white\",\"linecolor\":\"white\",\"ticks\":\"\",\"title\":{\"standoff\":15},\"zerolinecolor\":\"white\",\"zerolinewidth\":2}}},\"title\":{\"text\":\"Target variable distribution\"},\"xaxis\":{\"title\":{\"text\":\"Risk Variable\"}},\"yaxis\":{\"title\":{\"text\":\"Count\"}}},                        {\"responsive\": true}                    ).then(function(){\n",
       "                            \n",
       "var gd = document.getElementById('4aecc680-448f-46a7-a37a-23ca4a78994b');\n",
       "var x = new MutationObserver(function (mutations, observer) {{\n",
       "        var display = window.getComputedStyle(gd).display;\n",
       "        if (!display || display === 'none') {{\n",
       "            console.log([gd, 'removed!']);\n",
       "            Plotly.purge(gd);\n",
       "            observer.disconnect();\n",
       "        }}\n",
       "}});\n",
       "\n",
       "// Listen for the removal of the full notebook cells\n",
       "var notebookContainer = gd.closest('#notebook-container');\n",
       "if (notebookContainer) {{\n",
       "    x.observe(notebookContainer, {childList: true});\n",
       "}}\n",
       "\n",
       "// Listen for the clearing of the current output cell\n",
       "var outputEl = gd.closest('.output');\n",
       "if (outputEl) {{\n",
       "    x.observe(outputEl, {childList: true});\n",
       "}}\n",
       "\n",
       "                        })                };                });            </script>        </div>"
      ]
     },
     "metadata": {},
     "output_type": "display_data"
    }
   ],
   "source": [
    "# it's a library that we work with plotly\n",
    "import plotly.offline as py \n",
    "py.init_notebook_mode(connected=True) # this code, allow us to work with offline plotly version\n",
    "import plotly.graph_objs as go # it's like \"plt\" of matplot\n",
    "import plotly.tools as tls # It's useful to we get some tools of plotly\n",
    "import warnings # This library will be used to ignore some warnings\n",
    "from collections import Counter # To do counter of some features\n",
    "\n",
    "trace0 = go.Bar(\n",
    "            x = df_credit[df_credit[\"Risk\"]== 'good'][\"Risk\"].value_counts().index.values,\n",
    "            y = df_credit[df_credit[\"Risk\"]== 'good'][\"Risk\"].value_counts().values,\n",
    "            name='Good credit'\n",
    "    )\n",
    "\n",
    "trace1 = go.Bar(\n",
    "            x = df_credit[df_credit[\"Risk\"]== 'bad'][\"Risk\"].value_counts().index.values,\n",
    "            y = df_credit[df_credit[\"Risk\"]== 'bad'][\"Risk\"].value_counts().values,\n",
    "            name='Bad credit'\n",
    "    )\n",
    "\n",
    "data = [trace0, trace1]\n",
    "\n",
    "layout = go.Layout(\n",
    "    \n",
    ")\n",
    "\n",
    "layout = go.Layout(\n",
    "    yaxis=dict(\n",
    "        title='Count'\n",
    "    ),\n",
    "    xaxis=dict(\n",
    "        title='Risk Variable'\n",
    "    ),\n",
    "    title='Target variable distribution'\n",
    ")\n",
    "\n",
    "fig = go.Figure(data=data, layout=layout)\n",
    "\n",
    "py.iplot(fig, filename='grouped-bar')"
   ]
  },
  {
   "cell_type": "markdown",
   "metadata": {
    "_cell_guid": "f8e02b71-7445-4124-925c-15178141c2af",
    "_uuid": "db83305148e0d597c7ec66899a770eeeeced6b33"
   },
   "source": [
    "I will try implement some interactive visuals in my Kernels, this will be the first, inspired in Alexader's Kernel and I will also continue implementing plotly and bokeh in my Kerne"
   ]
  },
  {
   "cell_type": "code",
   "execution_count": 7,
   "metadata": {
    "_cell_guid": "967e45bb-8518-49e0-afc3-2cb8ed424f4b",
    "_kg_hide-input": true,
    "_uuid": "d45ccf0ea0715be8421e05e69ddcc22bd611e814",
    "scrolled": false
   },
   "outputs": [
    {
     "name": "stderr",
     "output_type": "stream",
     "text": [
      "c:\\users\\harsshh wankhayday\\appdata\\local\\programs\\python\\python39\\lib\\site-packages\\plotly\\tools.py:460: DeprecationWarning:\n",
      "\n",
      "plotly.tools.make_subplots is deprecated, please use plotly.subplots.make_subplots instead\n",
      "\n"
     ]
    },
    {
     "data": {
      "application/vnd.plotly.v1+json": {
       "config": {
        "linkText": "Export to plot.ly",
        "plotlyServerURL": "https://plot.ly",
        "showLink": false
       },
       "data": [
        {
         "histnorm": "probability",
         "name": "Good Credit",
         "type": "histogram",
         "x": [
          67,
          49,
          45,
          35,
          53,
          35,
          61,
          22,
          28,
          53,
          25,
          31,
          48,
          44,
          48,
          44,
          26,
          36,
          39,
          42,
          34,
          36,
          27,
          30,
          57,
          33,
          31,
          37,
          24,
          30,
          26,
          44,
          24,
          35,
          39,
          23,
          39,
          28,
          29,
          30,
          25,
          31,
          26,
          31,
          23,
          27,
          50,
          26,
          48,
          29,
          22,
          25,
          30,
          46,
          51,
          41,
          66,
          51,
          39,
          22,
          47,
          24,
          58,
          52,
          29,
          27,
          30,
          56,
          54,
          20,
          54,
          61,
          34,
          36,
          36,
          41,
          24,
          24,
          35,
          26,
          32,
          30,
          35,
          31,
          23,
          28,
          35,
          47,
          27,
          36,
          41,
          24,
          63,
          30,
          40,
          34,
          24,
          27,
          47,
          21,
          38,
          27,
          35,
          44,
          27,
          30,
          27,
          23,
          30,
          39,
          51,
          28,
          46,
          42,
          38,
          24,
          29,
          36,
          48,
          45,
          38,
          34,
          36,
          30,
          36,
          70,
          36,
          32,
          20,
          25,
          26,
          33,
          42,
          52,
          31,
          65,
          50,
          31,
          68,
          33,
          29,
          28,
          36,
          52,
          27,
          26,
          38,
          38,
          43,
          26,
          21,
          55,
          33,
          45,
          51,
          39,
          31,
          23,
          24,
          64,
          26,
          23,
          30,
          32,
          30,
          27,
          22,
          51,
          35,
          25,
          42,
          35,
          39,
          51,
          27,
          35,
          25,
          52,
          35,
          26,
          39,
          46,
          35,
          24,
          27,
          35,
          23,
          57,
          27,
          55,
          36,
          57,
          32,
          36,
          38,
          25,
          32,
          37,
          36,
          32,
          26,
          49,
          29,
          23,
          50,
          49,
          63,
          37,
          35,
          26,
          31,
          49,
          26,
          44,
          56,
          46,
          20,
          45,
          43,
          32,
          54,
          49,
          33,
          24,
          22,
          40,
          25,
          26,
          29,
          38,
          48,
          32,
          27,
          34,
          28,
          36,
          39,
          49,
          34,
          31,
          28,
          75,
          23,
          28,
          31,
          24,
          26,
          25,
          33,
          37,
          43,
          23,
          23,
          34,
          23,
          38,
          46,
          49,
          28,
          61,
          37,
          36,
          21,
          36,
          27,
          22,
          40,
          36,
          33,
          23,
          63,
          34,
          36,
          52,
          39,
          25,
          26,
          26,
          25,
          21,
          40,
          27,
          27,
          30,
          19,
          39,
          31,
          31,
          32,
          55,
          46,
          43,
          39,
          28,
          27,
          43,
          43,
          27,
          26,
          20,
          35,
          40,
          35,
          23,
          31,
          20,
          30,
          47,
          34,
          21,
          29,
          46,
          20,
          74,
          36,
          33,
          25,
          23,
          37,
          65,
          39,
          30,
          29,
          41,
          35,
          55,
          30,
          29,
          34,
          35,
          29,
          36,
          27,
          32,
          37,
          36,
          34,
          38,
          34,
          63,
          32,
          26,
          35,
          36,
          24,
          25,
          39,
          44,
          23,
          26,
          57,
          30,
          44,
          52,
          62,
          35,
          26,
          26,
          27,
          38,
          39,
          40,
          32,
          28,
          42,
          49,
          36,
          28,
          45,
          32,
          26,
          20,
          54,
          37,
          40,
          43,
          36,
          44,
          23,
          26,
          30,
          31,
          42,
          41,
          32,
          41,
          26,
          25,
          75,
          37,
          45,
          60,
          61,
          37,
          32,
          35,
          23,
          45,
          27,
          67,
          49,
          29,
          37,
          23,
          34,
          41,
          38,
          26,
          22,
          27,
          24,
          27,
          33,
          27,
          49,
          26,
          52,
          36,
          21,
          58,
          42,
          36,
          32,
          45,
          23,
          22,
          74,
          33,
          45,
          29,
          22,
          48,
          27,
          37,
          49,
          27,
          22,
          35,
          41,
          36,
          64,
          28,
          23,
          47,
          28,
          21,
          34,
          38,
          33,
          32,
          32,
          50,
          35,
          22,
          37,
          28,
          41,
          23,
          50,
          35,
          50,
          27,
          34,
          27,
          47,
          27,
          31,
          42,
          24,
          26,
          33,
          64,
          26,
          56,
          37,
          33,
          47,
          31,
          34,
          27,
          30,
          35,
          31,
          25,
          25,
          29,
          44,
          28,
          50,
          29,
          38,
          24,
          40,
          47,
          41,
          32,
          35,
          25,
          37,
          32,
          46,
          25,
          63,
          40,
          32,
          31,
          31,
          66,
          41,
          47,
          36,
          33,
          44,
          28,
          37,
          29,
          35,
          45,
          32,
          23,
          41,
          22,
          30,
          28,
          23,
          26,
          33,
          49,
          23,
          25,
          74,
          31,
          59,
          24,
          27,
          40,
          31,
          28,
          63,
          26,
          36,
          52,
          66,
          37,
          25,
          38,
          67,
          60,
          31,
          60,
          35,
          40,
          38,
          41,
          27,
          51,
          32,
          22,
          22,
          54,
          35,
          54,
          48,
          24,
          35,
          24,
          26,
          65,
          55,
          26,
          28,
          54,
          62,
          24,
          43,
          27,
          24,
          47,
          35,
          30,
          38,
          44,
          42,
          21,
          23,
          63,
          46,
          28,
          50,
          47,
          35,
          28,
          59,
          43,
          35,
          45,
          33,
          40,
          28,
          26,
          27,
          32,
          20,
          27,
          42,
          37,
          24,
          40,
          46,
          26,
          24,
          29,
          40,
          36,
          28,
          36,
          38,
          48,
          36,
          65,
          34,
          34,
          40,
          43,
          46,
          38,
          34,
          29,
          31,
          28,
          35,
          33,
          44,
          42,
          40,
          36,
          20,
          24,
          27,
          46,
          33,
          34,
          25,
          28,
          32,
          28,
          37,
          30,
          21,
          58,
          43,
          24,
          30,
          42,
          23,
          30,
          46,
          45,
          31,
          31,
          42,
          46,
          30,
          38,
          40,
          29,
          57,
          49,
          37,
          30,
          30,
          47,
          29,
          22,
          26,
          54,
          29,
          40,
          22,
          43,
          33,
          57,
          64,
          42,
          28,
          30,
          25,
          33,
          64,
          29,
          48,
          37,
          34,
          23,
          30,
          50,
          31,
          40,
          38,
          27
         ],
         "xaxis": "x",
         "yaxis": "y"
        },
        {
         "histnorm": "probability",
         "name": "Bad Credit",
         "type": "histogram",
         "x": [
          22,
          53,
          28,
          25,
          24,
          60,
          32,
          44,
          63,
          25,
          37,
          58,
          57,
          52,
          23,
          61,
          25,
          37,
          40,
          34,
          44,
          47,
          28,
          33,
          58,
          39,
          39,
          25,
          30,
          23,
          25,
          27,
          30,
          29,
          29,
          66,
          22,
          20,
          33,
          31,
          33,
          34,
          26,
          53,
          28,
          30,
          40,
          36,
          74,
          20,
          54,
          34,
          36,
          21,
          34,
          27,
          40,
          21,
          50,
          66,
          27,
          53,
          22,
          26,
          30,
          23,
          61,
          29,
          24,
          22,
          24,
          29,
          37,
          45,
          28,
          34,
          32,
          48,
          28,
          26,
          42,
          37,
          44,
          33,
          24,
          25,
          31,
          28,
          32,
          30,
          24,
          24,
          23,
          44,
          24,
          32,
          29,
          28,
          23,
          26,
          23,
          25,
          42,
          60,
          37,
          57,
          38,
          46,
          27,
          22,
          28,
          42,
          35,
          33,
          33,
          25,
          55,
          29,
          25,
          26,
          41,
          30,
          34,
          61,
          31,
          35,
          29,
          22,
          23,
          28,
          33,
          26,
          47,
          42,
          20,
          29,
          27,
          38,
          24,
          27,
          34,
          26,
          23,
          24,
          53,
          31,
          28,
          33,
          42,
          23,
          31,
          34,
          43,
          24,
          34,
          22,
          28,
          29,
          27,
          31,
          24,
          37,
          36,
          31,
          23,
          27,
          30,
          33,
          20,
          47,
          60,
          20,
          40,
          32,
          23,
          36,
          31,
          30,
          34,
          28,
          50,
          22,
          48,
          22,
          21,
          32,
          38,
          65,
          29,
          44,
          19,
          25,
          26,
          27,
          40,
          27,
          26,
          38,
          40,
          37,
          45,
          42,
          41,
          23,
          43,
          41,
          24,
          29,
          46,
          24,
          25,
          35,
          27,
          34,
          24,
          24,
          21,
          25,
          59,
          21,
          23,
          26,
          37,
          23,
          55,
          32,
          39,
          35,
          24,
          30,
          31,
          25,
          25,
          25,
          23,
          50,
          27,
          39,
          51,
          24,
          26,
          24,
          54,
          46,
          26,
          41,
          33,
          36,
          47,
          23,
          29,
          25,
          48,
          29,
          23,
          68,
          57,
          33,
          32,
          29,
          28,
          35,
          25,
          27,
          43,
          53,
          23,
          42,
          43,
          25,
          31,
          32,
          68,
          33,
          39,
          22,
          55,
          46,
          39,
          22,
          30,
          28,
          42,
          30,
          43,
          31,
          24,
          28,
          26,
          45,
          35,
          23,
          29,
          36,
          47,
          25,
          49,
          33,
          26,
          23
         ],
         "xaxis": "x2",
         "yaxis": "y2"
        },
        {
         "histnorm": "probability",
         "name": "Overall Age",
         "type": "histogram",
         "x": [
          67,
          22,
          49,
          45,
          53,
          35,
          53,
          35,
          61,
          28,
          25,
          24,
          22,
          60,
          28,
          32,
          53,
          25,
          44,
          31,
          48,
          44,
          48,
          44,
          26,
          36,
          39,
          42,
          34,
          63,
          36,
          27,
          30,
          57,
          33,
          25,
          31,
          37,
          37,
          24,
          30,
          26,
          44,
          24,
          58,
          35,
          39,
          23,
          39,
          28,
          29,
          30,
          25,
          31,
          57,
          26,
          52,
          31,
          23,
          23,
          27,
          50,
          61,
          25,
          26,
          48,
          29,
          22,
          37,
          25,
          30,
          46,
          51,
          41,
          40,
          66,
          34,
          51,
          39,
          22,
          44,
          47,
          24,
          58,
          52,
          29,
          27,
          47,
          30,
          28,
          56,
          54,
          33,
          20,
          54,
          58,
          61,
          34,
          36,
          36,
          41,
          24,
          24,
          35,
          26,
          39,
          39,
          32,
          30,
          35,
          31,
          23,
          28,
          25,
          35,
          47,
          30,
          27,
          23,
          36,
          25,
          41,
          24,
          63,
          27,
          30,
          40,
          30,
          34,
          29,
          24,
          29,
          27,
          47,
          21,
          38,
          27,
          66,
          35,
          44,
          27,
          30,
          27,
          22,
          23,
          30,
          39,
          51,
          28,
          46,
          42,
          38,
          24,
          29,
          36,
          20,
          48,
          45,
          38,
          34,
          36,
          30,
          36,
          70,
          36,
          32,
          33,
          20,
          25,
          31,
          33,
          26,
          34,
          33,
          26,
          53,
          42,
          52,
          31,
          65,
          28,
          30,
          40,
          50,
          36,
          31,
          74,
          68,
          20,
          33,
          54,
          34,
          36,
          29,
          21,
          34,
          28,
          27,
          36,
          40,
          52,
          27,
          26,
          21,
          38,
          38,
          43,
          26,
          21,
          55,
          33,
          45,
          50,
          66,
          51,
          39,
          31,
          23,
          24,
          64,
          26,
          23,
          30,
          32,
          30,
          27,
          27,
          53,
          22,
          22,
          26,
          51,
          35,
          25,
          42,
          30,
          23,
          61,
          35,
          39,
          29,
          51,
          24,
          27,
          35,
          25,
          52,
          35,
          26,
          22,
          39,
          46,
          24,
          35,
          24,
          27,
          35,
          29,
          23,
          57,
          27,
          55,
          36,
          57,
          32,
          37,
          36,
          38,
          45,
          25,
          32,
          37,
          36,
          28,
          34,
          32,
          26,
          49,
          32,
          29,
          23,
          50,
          49,
          63,
          37,
          35,
          26,
          31,
          49,
          48,
          26,
          28,
          44,
          56,
          46,
          26,
          20,
          45,
          43,
          32,
          54,
          42,
          37,
          49,
          44,
          33,
          24,
          33,
          24,
          22,
          40,
          25,
          26,
          25,
          29,
          31,
          38,
          48,
          32,
          27,
          28,
          32,
          34,
          28,
          36,
          39,
          49,
          34,
          31,
          28,
          75,
          30,
          24,
          24,
          23,
          44,
          23,
          24,
          28,
          31,
          24,
          26,
          25,
          33,
          37,
          43,
          23,
          23,
          34,
          32,
          23,
          29,
          38,
          28,
          46,
          23,
          49,
          26,
          28,
          23,
          61,
          37,
          36,
          21,
          25,
          36,
          27,
          22,
          42,
          40,
          36,
          33,
          23,
          63,
          60,
          37,
          34,
          36,
          57,
          52,
          39,
          38,
          25,
          26,
          26,
          25,
          21,
          40,
          27,
          27,
          30,
          19,
          39,
          31,
          31,
          32,
          55,
          46,
          46,
          43,
          39,
          28,
          27,
          27,
          43,
          22,
          43,
          27,
          26,
          28,
          20,
          35,
          42,
          40,
          35,
          35,
          33,
          23,
          31,
          33,
          20,
          30,
          47,
          34,
          25,
          21,
          29,
          46,
          20,
          55,
          74,
          29,
          36,
          33,
          25,
          25,
          23,
          37,
          65,
          26,
          39,
          30,
          29,
          41,
          30,
          41,
          34,
          35,
          55,
          61,
          30,
          29,
          34,
          35,
          31,
          29,
          36,
          35,
          27,
          32,
          37,
          36,
          34,
          38,
          34,
          63,
          29,
          32,
          26,
          35,
          22,
          23,
          28,
          36,
          33,
          26,
          24,
          25,
          39,
          44,
          23,
          26,
          57,
          30,
          44,
          47,
          52,
          62,
          35,
          26,
          26,
          42,
          27,
          38,
          39,
          20,
          29,
          40,
          32,
          28,
          27,
          42,
          49,
          38,
          24,
          27,
          36,
          34,
          28,
          45,
          26,
          32,
          26,
          20,
          54,
          37,
          40,
          23,
          43,
          36,
          44,
          24,
          53,
          23,
          26,
          30,
          31,
          42,
          31,
          41,
          32,
          28,
          41,
          26,
          25,
          33,
          75,
          37,
          42,
          45,
          23,
          60,
          31,
          34,
          61,
          43,
          37,
          32,
          24,
          35,
          23,
          45,
          34,
          27,
          67,
          22,
          28,
          29,
          27,
          31,
          49,
          24,
          29,
          37,
          37,
          23,
          36,
          34,
          41,
          31,
          23,
          38,
          26,
          22,
          27,
          24,
          27,
          33,
          27,
          27,
          30,
          49,
          26,
          33,
          52,
          20,
          36,
          21,
          47,
          60,
          58,
          42,
          36,
          20,
          40,
          32,
          23,
          36,
          31,
          32,
          45,
          30,
          34,
          28,
          23,
          22,
          74,
          50,
          33,
          45,
          22,
          48,
          29,
          22,
          22,
          48,
          27,
          37,
          21,
          49,
          27,
          32,
          38,
          22,
          65,
          35,
          41,
          29,
          36,
          64,
          28,
          44,
          23,
          19,
          25,
          47,
          28,
          21,
          34,
          26,
          27,
          38,
          40,
          33,
          32,
          27,
          32,
          26,
          38,
          40,
          50,
          37,
          45,
          42,
          35,
          22,
          41,
          37,
          28,
          41,
          23,
          23,
          50,
          35,
          50,
          27,
          34,
          27,
          43,
          47,
          27,
          31,
          42,
          24,
          41,
          26,
          33,
          24,
          64,
          26,
          56,
          37,
          33,
          47,
          31,
          34,
          27,
          30,
          35,
          31,
          25,
          25,
          29,
          44,
          28,
          50,
          29,
          38,
          24,
          40,
          29,
          46,
          47,
          41,
          32,
          35,
          24,
          25,
          25,
          37,
          32,
          35,
          46,
          25,
          27,
          63,
          40,
          32,
          31,
          31,
          34,
          24,
          24,
          66,
          21,
          41,
          47,
          25,
          59,
          36,
          33,
          21,
          44,
          28,
          37,
          29,
          23,
          35,
          45,
          26,
          32,
          23,
          41,
          22,
          30,
          28,
          23,
          37,
          26,
          33,
          49,
          23,
          23,
          25,
          55,
          32,
          74,
          39,
          31,
          35,
          59,
          24,
          24,
          30,
          27,
          40,
          31,
          31,
          28,
          63,
          26,
          25,
          36,
          52,
          66,
          25,
          37,
          25,
          38,
          67,
          25,
          60,
          31,
          23,
          60,
          35,
          40,
          38,
          50,
          27,
          39,
          41,
          27,
          51,
          32,
          22,
          51,
          22,
          54,
          35,
          54,
          48,
          24,
          35,
          24,
          24,
          26,
          65,
          55,
          26,
          26,
          28,
          24,
          54,
          46,
          54,
          62,
          24,
          43,
          26,
          27,
          24,
          41,
          47,
          35,
          30,
          33,
          36,
          47,
          38,
          44,
          23,
          29,
          42,
          25,
          48,
          21,
          23,
          63,
          46,
          29,
          28,
          23,
          50,
          47,
          35,
          68,
          28,
          59,
          57,
          33,
          43,
          35,
          32,
          45,
          33,
          40,
          28,
          29,
          26,
          27,
          28,
          35,
          32,
          25,
          20,
          27,
          42,
          37,
          24,
          40,
          46,
          26,
          24,
          29,
          40,
          36,
          28,
          27,
          36,
          38,
          48,
          36,
          65,
          43,
          53,
          34,
          23,
          34,
          40,
          43,
          46,
          38,
          34,
          29,
          31,
          28,
          35,
          33,
          42,
          43,
          44,
          42,
          40,
          36,
          20,
          24,
          27,
          46,
          33,
          34,
          25,
          25,
          28,
          31,
          32,
          32,
          68,
          33,
          39,
          28,
          37,
          22,
          30,
          55,
          46,
          21,
          39,
          58,
          43,
          24,
          22,
          30,
          42,
          23,
          30,
          28,
          30,
          42,
          46,
          45,
          31,
          31,
          42,
          46,
          30,
          30,
          38,
          43,
          31,
          40,
          24,
          28,
          26,
          29,
          57,
          49,
          37,
          45,
          30,
          30,
          47,
          29,
          35,
          22,
          26,
          23,
          54,
          29,
          40,
          22,
          43,
          29,
          36,
          33,
          57,
          64,
          42,
          47,
          25,
          49,
          33,
          28,
          26,
          30,
          25,
          33,
          64,
          29,
          48,
          37,
          34,
          23,
          30,
          50,
          31,
          40,
          38,
          23,
          27
         ],
         "xaxis": "x3",
         "yaxis": "y3"
        }
       ],
       "layout": {
        "annotations": [
         {
          "font": {
           "size": 16
          },
          "showarrow": false,
          "text": "Good",
          "x": 0.225,
          "xanchor": "center",
          "xref": "paper",
          "y": 1,
          "yanchor": "bottom",
          "yref": "paper"
         },
         {
          "font": {
           "size": 16
          },
          "showarrow": false,
          "text": "Bad",
          "x": 0.775,
          "xanchor": "center",
          "xref": "paper",
          "y": 1,
          "yanchor": "bottom",
          "yref": "paper"
         },
         {
          "font": {
           "size": 16
          },
          "showarrow": false,
          "text": "General Distribuition",
          "x": 0.5,
          "xanchor": "center",
          "xref": "paper",
          "y": 0.375,
          "yanchor": "bottom",
          "yref": "paper"
         }
        ],
        "bargap": 0.05,
        "showlegend": true,
        "template": {
         "data": {
          "bar": [
           {
            "error_x": {
             "color": "#2a3f5f"
            },
            "error_y": {
             "color": "#2a3f5f"
            },
            "marker": {
             "line": {
              "color": "#E5ECF6",
              "width": 0.5
             },
             "pattern": {
              "fillmode": "overlay",
              "size": 10,
              "solidity": 0.2
             }
            },
            "type": "bar"
           }
          ],
          "barpolar": [
           {
            "marker": {
             "line": {
              "color": "#E5ECF6",
              "width": 0.5
             },
             "pattern": {
              "fillmode": "overlay",
              "size": 10,
              "solidity": 0.2
             }
            },
            "type": "barpolar"
           }
          ],
          "carpet": [
           {
            "aaxis": {
             "endlinecolor": "#2a3f5f",
             "gridcolor": "white",
             "linecolor": "white",
             "minorgridcolor": "white",
             "startlinecolor": "#2a3f5f"
            },
            "baxis": {
             "endlinecolor": "#2a3f5f",
             "gridcolor": "white",
             "linecolor": "white",
             "minorgridcolor": "white",
             "startlinecolor": "#2a3f5f"
            },
            "type": "carpet"
           }
          ],
          "choropleth": [
           {
            "colorbar": {
             "outlinewidth": 0,
             "ticks": ""
            },
            "type": "choropleth"
           }
          ],
          "contour": [
           {
            "colorbar": {
             "outlinewidth": 0,
             "ticks": ""
            },
            "colorscale": [
             [
              0,
              "#0d0887"
             ],
             [
              0.1111111111111111,
              "#46039f"
             ],
             [
              0.2222222222222222,
              "#7201a8"
             ],
             [
              0.3333333333333333,
              "#9c179e"
             ],
             [
              0.4444444444444444,
              "#bd3786"
             ],
             [
              0.5555555555555556,
              "#d8576b"
             ],
             [
              0.6666666666666666,
              "#ed7953"
             ],
             [
              0.7777777777777778,
              "#fb9f3a"
             ],
             [
              0.8888888888888888,
              "#fdca26"
             ],
             [
              1,
              "#f0f921"
             ]
            ],
            "type": "contour"
           }
          ],
          "contourcarpet": [
           {
            "colorbar": {
             "outlinewidth": 0,
             "ticks": ""
            },
            "type": "contourcarpet"
           }
          ],
          "heatmap": [
           {
            "colorbar": {
             "outlinewidth": 0,
             "ticks": ""
            },
            "colorscale": [
             [
              0,
              "#0d0887"
             ],
             [
              0.1111111111111111,
              "#46039f"
             ],
             [
              0.2222222222222222,
              "#7201a8"
             ],
             [
              0.3333333333333333,
              "#9c179e"
             ],
             [
              0.4444444444444444,
              "#bd3786"
             ],
             [
              0.5555555555555556,
              "#d8576b"
             ],
             [
              0.6666666666666666,
              "#ed7953"
             ],
             [
              0.7777777777777778,
              "#fb9f3a"
             ],
             [
              0.8888888888888888,
              "#fdca26"
             ],
             [
              1,
              "#f0f921"
             ]
            ],
            "type": "heatmap"
           }
          ],
          "heatmapgl": [
           {
            "colorbar": {
             "outlinewidth": 0,
             "ticks": ""
            },
            "colorscale": [
             [
              0,
              "#0d0887"
             ],
             [
              0.1111111111111111,
              "#46039f"
             ],
             [
              0.2222222222222222,
              "#7201a8"
             ],
             [
              0.3333333333333333,
              "#9c179e"
             ],
             [
              0.4444444444444444,
              "#bd3786"
             ],
             [
              0.5555555555555556,
              "#d8576b"
             ],
             [
              0.6666666666666666,
              "#ed7953"
             ],
             [
              0.7777777777777778,
              "#fb9f3a"
             ],
             [
              0.8888888888888888,
              "#fdca26"
             ],
             [
              1,
              "#f0f921"
             ]
            ],
            "type": "heatmapgl"
           }
          ],
          "histogram": [
           {
            "marker": {
             "pattern": {
              "fillmode": "overlay",
              "size": 10,
              "solidity": 0.2
             }
            },
            "type": "histogram"
           }
          ],
          "histogram2d": [
           {
            "colorbar": {
             "outlinewidth": 0,
             "ticks": ""
            },
            "colorscale": [
             [
              0,
              "#0d0887"
             ],
             [
              0.1111111111111111,
              "#46039f"
             ],
             [
              0.2222222222222222,
              "#7201a8"
             ],
             [
              0.3333333333333333,
              "#9c179e"
             ],
             [
              0.4444444444444444,
              "#bd3786"
             ],
             [
              0.5555555555555556,
              "#d8576b"
             ],
             [
              0.6666666666666666,
              "#ed7953"
             ],
             [
              0.7777777777777778,
              "#fb9f3a"
             ],
             [
              0.8888888888888888,
              "#fdca26"
             ],
             [
              1,
              "#f0f921"
             ]
            ],
            "type": "histogram2d"
           }
          ],
          "histogram2dcontour": [
           {
            "colorbar": {
             "outlinewidth": 0,
             "ticks": ""
            },
            "colorscale": [
             [
              0,
              "#0d0887"
             ],
             [
              0.1111111111111111,
              "#46039f"
             ],
             [
              0.2222222222222222,
              "#7201a8"
             ],
             [
              0.3333333333333333,
              "#9c179e"
             ],
             [
              0.4444444444444444,
              "#bd3786"
             ],
             [
              0.5555555555555556,
              "#d8576b"
             ],
             [
              0.6666666666666666,
              "#ed7953"
             ],
             [
              0.7777777777777778,
              "#fb9f3a"
             ],
             [
              0.8888888888888888,
              "#fdca26"
             ],
             [
              1,
              "#f0f921"
             ]
            ],
            "type": "histogram2dcontour"
           }
          ],
          "mesh3d": [
           {
            "colorbar": {
             "outlinewidth": 0,
             "ticks": ""
            },
            "type": "mesh3d"
           }
          ],
          "parcoords": [
           {
            "line": {
             "colorbar": {
              "outlinewidth": 0,
              "ticks": ""
             }
            },
            "type": "parcoords"
           }
          ],
          "pie": [
           {
            "automargin": true,
            "type": "pie"
           }
          ],
          "scatter": [
           {
            "fillpattern": {
             "fillmode": "overlay",
             "size": 10,
             "solidity": 0.2
            },
            "type": "scatter"
           }
          ],
          "scatter3d": [
           {
            "line": {
             "colorbar": {
              "outlinewidth": 0,
              "ticks": ""
             }
            },
            "marker": {
             "colorbar": {
              "outlinewidth": 0,
              "ticks": ""
             }
            },
            "type": "scatter3d"
           }
          ],
          "scattercarpet": [
           {
            "marker": {
             "colorbar": {
              "outlinewidth": 0,
              "ticks": ""
             }
            },
            "type": "scattercarpet"
           }
          ],
          "scattergeo": [
           {
            "marker": {
             "colorbar": {
              "outlinewidth": 0,
              "ticks": ""
             }
            },
            "type": "scattergeo"
           }
          ],
          "scattergl": [
           {
            "marker": {
             "colorbar": {
              "outlinewidth": 0,
              "ticks": ""
             }
            },
            "type": "scattergl"
           }
          ],
          "scattermapbox": [
           {
            "marker": {
             "colorbar": {
              "outlinewidth": 0,
              "ticks": ""
             }
            },
            "type": "scattermapbox"
           }
          ],
          "scatterpolar": [
           {
            "marker": {
             "colorbar": {
              "outlinewidth": 0,
              "ticks": ""
             }
            },
            "type": "scatterpolar"
           }
          ],
          "scatterpolargl": [
           {
            "marker": {
             "colorbar": {
              "outlinewidth": 0,
              "ticks": ""
             }
            },
            "type": "scatterpolargl"
           }
          ],
          "scatterternary": [
           {
            "marker": {
             "colorbar": {
              "outlinewidth": 0,
              "ticks": ""
             }
            },
            "type": "scatterternary"
           }
          ],
          "surface": [
           {
            "colorbar": {
             "outlinewidth": 0,
             "ticks": ""
            },
            "colorscale": [
             [
              0,
              "#0d0887"
             ],
             [
              0.1111111111111111,
              "#46039f"
             ],
             [
              0.2222222222222222,
              "#7201a8"
             ],
             [
              0.3333333333333333,
              "#9c179e"
             ],
             [
              0.4444444444444444,
              "#bd3786"
             ],
             [
              0.5555555555555556,
              "#d8576b"
             ],
             [
              0.6666666666666666,
              "#ed7953"
             ],
             [
              0.7777777777777778,
              "#fb9f3a"
             ],
             [
              0.8888888888888888,
              "#fdca26"
             ],
             [
              1,
              "#f0f921"
             ]
            ],
            "type": "surface"
           }
          ],
          "table": [
           {
            "cells": {
             "fill": {
              "color": "#EBF0F8"
             },
             "line": {
              "color": "white"
             }
            },
            "header": {
             "fill": {
              "color": "#C8D4E3"
             },
             "line": {
              "color": "white"
             }
            },
            "type": "table"
           }
          ]
         },
         "layout": {
          "annotationdefaults": {
           "arrowcolor": "#2a3f5f",
           "arrowhead": 0,
           "arrowwidth": 1
          },
          "autotypenumbers": "strict",
          "coloraxis": {
           "colorbar": {
            "outlinewidth": 0,
            "ticks": ""
           }
          },
          "colorscale": {
           "diverging": [
            [
             0,
             "#8e0152"
            ],
            [
             0.1,
             "#c51b7d"
            ],
            [
             0.2,
             "#de77ae"
            ],
            [
             0.3,
             "#f1b6da"
            ],
            [
             0.4,
             "#fde0ef"
            ],
            [
             0.5,
             "#f7f7f7"
            ],
            [
             0.6,
             "#e6f5d0"
            ],
            [
             0.7,
             "#b8e186"
            ],
            [
             0.8,
             "#7fbc41"
            ],
            [
             0.9,
             "#4d9221"
            ],
            [
             1,
             "#276419"
            ]
           ],
           "sequential": [
            [
             0,
             "#0d0887"
            ],
            [
             0.1111111111111111,
             "#46039f"
            ],
            [
             0.2222222222222222,
             "#7201a8"
            ],
            [
             0.3333333333333333,
             "#9c179e"
            ],
            [
             0.4444444444444444,
             "#bd3786"
            ],
            [
             0.5555555555555556,
             "#d8576b"
            ],
            [
             0.6666666666666666,
             "#ed7953"
            ],
            [
             0.7777777777777778,
             "#fb9f3a"
            ],
            [
             0.8888888888888888,
             "#fdca26"
            ],
            [
             1,
             "#f0f921"
            ]
           ],
           "sequentialminus": [
            [
             0,
             "#0d0887"
            ],
            [
             0.1111111111111111,
             "#46039f"
            ],
            [
             0.2222222222222222,
             "#7201a8"
            ],
            [
             0.3333333333333333,
             "#9c179e"
            ],
            [
             0.4444444444444444,
             "#bd3786"
            ],
            [
             0.5555555555555556,
             "#d8576b"
            ],
            [
             0.6666666666666666,
             "#ed7953"
            ],
            [
             0.7777777777777778,
             "#fb9f3a"
            ],
            [
             0.8888888888888888,
             "#fdca26"
            ],
            [
             1,
             "#f0f921"
            ]
           ]
          },
          "colorway": [
           "#636efa",
           "#EF553B",
           "#00cc96",
           "#ab63fa",
           "#FFA15A",
           "#19d3f3",
           "#FF6692",
           "#B6E880",
           "#FF97FF",
           "#FECB52"
          ],
          "font": {
           "color": "#2a3f5f"
          },
          "geo": {
           "bgcolor": "white",
           "lakecolor": "white",
           "landcolor": "#E5ECF6",
           "showlakes": true,
           "showland": true,
           "subunitcolor": "white"
          },
          "hoverlabel": {
           "align": "left"
          },
          "hovermode": "closest",
          "mapbox": {
           "style": "light"
          },
          "paper_bgcolor": "white",
          "plot_bgcolor": "#E5ECF6",
          "polar": {
           "angularaxis": {
            "gridcolor": "white",
            "linecolor": "white",
            "ticks": ""
           },
           "bgcolor": "#E5ECF6",
           "radialaxis": {
            "gridcolor": "white",
            "linecolor": "white",
            "ticks": ""
           }
          },
          "scene": {
           "xaxis": {
            "backgroundcolor": "#E5ECF6",
            "gridcolor": "white",
            "gridwidth": 2,
            "linecolor": "white",
            "showbackground": true,
            "ticks": "",
            "zerolinecolor": "white"
           },
           "yaxis": {
            "backgroundcolor": "#E5ECF6",
            "gridcolor": "white",
            "gridwidth": 2,
            "linecolor": "white",
            "showbackground": true,
            "ticks": "",
            "zerolinecolor": "white"
           },
           "zaxis": {
            "backgroundcolor": "#E5ECF6",
            "gridcolor": "white",
            "gridwidth": 2,
            "linecolor": "white",
            "showbackground": true,
            "ticks": "",
            "zerolinecolor": "white"
           }
          },
          "shapedefaults": {
           "line": {
            "color": "#2a3f5f"
           }
          },
          "ternary": {
           "aaxis": {
            "gridcolor": "white",
            "linecolor": "white",
            "ticks": ""
           },
           "baxis": {
            "gridcolor": "white",
            "linecolor": "white",
            "ticks": ""
           },
           "bgcolor": "#E5ECF6",
           "caxis": {
            "gridcolor": "white",
            "linecolor": "white",
            "ticks": ""
           }
          },
          "title": {
           "x": 0.05
          },
          "xaxis": {
           "automargin": true,
           "gridcolor": "white",
           "linecolor": "white",
           "ticks": "",
           "title": {
            "standoff": 15
           },
           "zerolinecolor": "white",
           "zerolinewidth": 2
          },
          "yaxis": {
           "automargin": true,
           "gridcolor": "white",
           "linecolor": "white",
           "ticks": "",
           "title": {
            "standoff": 15
           },
           "zerolinecolor": "white",
           "zerolinewidth": 2
          }
         }
        },
        "title": {
         "text": "Age Distribuition"
        },
        "xaxis": {
         "anchor": "y",
         "domain": [
          0,
          0.45
         ]
        },
        "xaxis2": {
         "anchor": "y2",
         "domain": [
          0.55,
          1
         ]
        },
        "xaxis3": {
         "anchor": "y3",
         "domain": [
          0,
          1
         ]
        },
        "yaxis": {
         "anchor": "x",
         "domain": [
          0.625,
          1
         ]
        },
        "yaxis2": {
         "anchor": "x2",
         "domain": [
          0.625,
          1
         ]
        },
        "yaxis3": {
         "anchor": "x3",
         "domain": [
          0,
          0.375
         ]
        }
       }
      },
      "text/html": [
       "<div>                            <div id=\"34bb4da6-4890-4b2b-852e-4faf4503ccf1\" class=\"plotly-graph-div\" style=\"height:525px; width:100%;\"></div>            <script type=\"text/javascript\">                require([\"plotly\"], function(Plotly) {                    window.PLOTLYENV=window.PLOTLYENV || {};                                    if (document.getElementById(\"34bb4da6-4890-4b2b-852e-4faf4503ccf1\")) {                    Plotly.newPlot(                        \"34bb4da6-4890-4b2b-852e-4faf4503ccf1\",                        [{\"histnorm\":\"probability\",\"name\":\"Good Credit\",\"x\":[67,49,45,35,53,35,61,22,28,53,25,31,48,44,48,44,26,36,39,42,34,36,27,30,57,33,31,37,24,30,26,44,24,35,39,23,39,28,29,30,25,31,26,31,23,27,50,26,48,29,22,25,30,46,51,41,66,51,39,22,47,24,58,52,29,27,30,56,54,20,54,61,34,36,36,41,24,24,35,26,32,30,35,31,23,28,35,47,27,36,41,24,63,30,40,34,24,27,47,21,38,27,35,44,27,30,27,23,30,39,51,28,46,42,38,24,29,36,48,45,38,34,36,30,36,70,36,32,20,25,26,33,42,52,31,65,50,31,68,33,29,28,36,52,27,26,38,38,43,26,21,55,33,45,51,39,31,23,24,64,26,23,30,32,30,27,22,51,35,25,42,35,39,51,27,35,25,52,35,26,39,46,35,24,27,35,23,57,27,55,36,57,32,36,38,25,32,37,36,32,26,49,29,23,50,49,63,37,35,26,31,49,26,44,56,46,20,45,43,32,54,49,33,24,22,40,25,26,29,38,48,32,27,34,28,36,39,49,34,31,28,75,23,28,31,24,26,25,33,37,43,23,23,34,23,38,46,49,28,61,37,36,21,36,27,22,40,36,33,23,63,34,36,52,39,25,26,26,25,21,40,27,27,30,19,39,31,31,32,55,46,43,39,28,27,43,43,27,26,20,35,40,35,23,31,20,30,47,34,21,29,46,20,74,36,33,25,23,37,65,39,30,29,41,35,55,30,29,34,35,29,36,27,32,37,36,34,38,34,63,32,26,35,36,24,25,39,44,23,26,57,30,44,52,62,35,26,26,27,38,39,40,32,28,42,49,36,28,45,32,26,20,54,37,40,43,36,44,23,26,30,31,42,41,32,41,26,25,75,37,45,60,61,37,32,35,23,45,27,67,49,29,37,23,34,41,38,26,22,27,24,27,33,27,49,26,52,36,21,58,42,36,32,45,23,22,74,33,45,29,22,48,27,37,49,27,22,35,41,36,64,28,23,47,28,21,34,38,33,32,32,50,35,22,37,28,41,23,50,35,50,27,34,27,47,27,31,42,24,26,33,64,26,56,37,33,47,31,34,27,30,35,31,25,25,29,44,28,50,29,38,24,40,47,41,32,35,25,37,32,46,25,63,40,32,31,31,66,41,47,36,33,44,28,37,29,35,45,32,23,41,22,30,28,23,26,33,49,23,25,74,31,59,24,27,40,31,28,63,26,36,52,66,37,25,38,67,60,31,60,35,40,38,41,27,51,32,22,22,54,35,54,48,24,35,24,26,65,55,26,28,54,62,24,43,27,24,47,35,30,38,44,42,21,23,63,46,28,50,47,35,28,59,43,35,45,33,40,28,26,27,32,20,27,42,37,24,40,46,26,24,29,40,36,28,36,38,48,36,65,34,34,40,43,46,38,34,29,31,28,35,33,44,42,40,36,20,24,27,46,33,34,25,28,32,28,37,30,21,58,43,24,30,42,23,30,46,45,31,31,42,46,30,38,40,29,57,49,37,30,30,47,29,22,26,54,29,40,22,43,33,57,64,42,28,30,25,33,64,29,48,37,34,23,30,50,31,40,38,27],\"xaxis\":\"x\",\"yaxis\":\"y\",\"type\":\"histogram\"},{\"histnorm\":\"probability\",\"name\":\"Bad Credit\",\"x\":[22,53,28,25,24,60,32,44,63,25,37,58,57,52,23,61,25,37,40,34,44,47,28,33,58,39,39,25,30,23,25,27,30,29,29,66,22,20,33,31,33,34,26,53,28,30,40,36,74,20,54,34,36,21,34,27,40,21,50,66,27,53,22,26,30,23,61,29,24,22,24,29,37,45,28,34,32,48,28,26,42,37,44,33,24,25,31,28,32,30,24,24,23,44,24,32,29,28,23,26,23,25,42,60,37,57,38,46,27,22,28,42,35,33,33,25,55,29,25,26,41,30,34,61,31,35,29,22,23,28,33,26,47,42,20,29,27,38,24,27,34,26,23,24,53,31,28,33,42,23,31,34,43,24,34,22,28,29,27,31,24,37,36,31,23,27,30,33,20,47,60,20,40,32,23,36,31,30,34,28,50,22,48,22,21,32,38,65,29,44,19,25,26,27,40,27,26,38,40,37,45,42,41,23,43,41,24,29,46,24,25,35,27,34,24,24,21,25,59,21,23,26,37,23,55,32,39,35,24,30,31,25,25,25,23,50,27,39,51,24,26,24,54,46,26,41,33,36,47,23,29,25,48,29,23,68,57,33,32,29,28,35,25,27,43,53,23,42,43,25,31,32,68,33,39,22,55,46,39,22,30,28,42,30,43,31,24,28,26,45,35,23,29,36,47,25,49,33,26,23],\"xaxis\":\"x2\",\"yaxis\":\"y2\",\"type\":\"histogram\"},{\"histnorm\":\"probability\",\"name\":\"Overall Age\",\"x\":[67,22,49,45,53,35,53,35,61,28,25,24,22,60,28,32,53,25,44,31,48,44,48,44,26,36,39,42,34,63,36,27,30,57,33,25,31,37,37,24,30,26,44,24,58,35,39,23,39,28,29,30,25,31,57,26,52,31,23,23,27,50,61,25,26,48,29,22,37,25,30,46,51,41,40,66,34,51,39,22,44,47,24,58,52,29,27,47,30,28,56,54,33,20,54,58,61,34,36,36,41,24,24,35,26,39,39,32,30,35,31,23,28,25,35,47,30,27,23,36,25,41,24,63,27,30,40,30,34,29,24,29,27,47,21,38,27,66,35,44,27,30,27,22,23,30,39,51,28,46,42,38,24,29,36,20,48,45,38,34,36,30,36,70,36,32,33,20,25,31,33,26,34,33,26,53,42,52,31,65,28,30,40,50,36,31,74,68,20,33,54,34,36,29,21,34,28,27,36,40,52,27,26,21,38,38,43,26,21,55,33,45,50,66,51,39,31,23,24,64,26,23,30,32,30,27,27,53,22,22,26,51,35,25,42,30,23,61,35,39,29,51,24,27,35,25,52,35,26,22,39,46,24,35,24,27,35,29,23,57,27,55,36,57,32,37,36,38,45,25,32,37,36,28,34,32,26,49,32,29,23,50,49,63,37,35,26,31,49,48,26,28,44,56,46,26,20,45,43,32,54,42,37,49,44,33,24,33,24,22,40,25,26,25,29,31,38,48,32,27,28,32,34,28,36,39,49,34,31,28,75,30,24,24,23,44,23,24,28,31,24,26,25,33,37,43,23,23,34,32,23,29,38,28,46,23,49,26,28,23,61,37,36,21,25,36,27,22,42,40,36,33,23,63,60,37,34,36,57,52,39,38,25,26,26,25,21,40,27,27,30,19,39,31,31,32,55,46,46,43,39,28,27,27,43,22,43,27,26,28,20,35,42,40,35,35,33,23,31,33,20,30,47,34,25,21,29,46,20,55,74,29,36,33,25,25,23,37,65,26,39,30,29,41,30,41,34,35,55,61,30,29,34,35,31,29,36,35,27,32,37,36,34,38,34,63,29,32,26,35,22,23,28,36,33,26,24,25,39,44,23,26,57,30,44,47,52,62,35,26,26,42,27,38,39,20,29,40,32,28,27,42,49,38,24,27,36,34,28,45,26,32,26,20,54,37,40,23,43,36,44,24,53,23,26,30,31,42,31,41,32,28,41,26,25,33,75,37,42,45,23,60,31,34,61,43,37,32,24,35,23,45,34,27,67,22,28,29,27,31,49,24,29,37,37,23,36,34,41,31,23,38,26,22,27,24,27,33,27,27,30,49,26,33,52,20,36,21,47,60,58,42,36,20,40,32,23,36,31,32,45,30,34,28,23,22,74,50,33,45,22,48,29,22,22,48,27,37,21,49,27,32,38,22,65,35,41,29,36,64,28,44,23,19,25,47,28,21,34,26,27,38,40,33,32,27,32,26,38,40,50,37,45,42,35,22,41,37,28,41,23,23,50,35,50,27,34,27,43,47,27,31,42,24,41,26,33,24,64,26,56,37,33,47,31,34,27,30,35,31,25,25,29,44,28,50,29,38,24,40,29,46,47,41,32,35,24,25,25,37,32,35,46,25,27,63,40,32,31,31,34,24,24,66,21,41,47,25,59,36,33,21,44,28,37,29,23,35,45,26,32,23,41,22,30,28,23,37,26,33,49,23,23,25,55,32,74,39,31,35,59,24,24,30,27,40,31,31,28,63,26,25,36,52,66,25,37,25,38,67,25,60,31,23,60,35,40,38,50,27,39,41,27,51,32,22,51,22,54,35,54,48,24,35,24,24,26,65,55,26,26,28,24,54,46,54,62,24,43,26,27,24,41,47,35,30,33,36,47,38,44,23,29,42,25,48,21,23,63,46,29,28,23,50,47,35,68,28,59,57,33,43,35,32,45,33,40,28,29,26,27,28,35,32,25,20,27,42,37,24,40,46,26,24,29,40,36,28,27,36,38,48,36,65,43,53,34,23,34,40,43,46,38,34,29,31,28,35,33,42,43,44,42,40,36,20,24,27,46,33,34,25,25,28,31,32,32,68,33,39,28,37,22,30,55,46,21,39,58,43,24,22,30,42,23,30,28,30,42,46,45,31,31,42,46,30,30,38,43,31,40,24,28,26,29,57,49,37,45,30,30,47,29,35,22,26,23,54,29,40,22,43,29,36,33,57,64,42,47,25,49,33,28,26,30,25,33,64,29,48,37,34,23,30,50,31,40,38,23,27],\"xaxis\":\"x3\",\"yaxis\":\"y3\",\"type\":\"histogram\"}],                        {\"annotations\":[{\"font\":{\"size\":16},\"showarrow\":false,\"text\":\"Good\",\"x\":0.225,\"xanchor\":\"center\",\"xref\":\"paper\",\"y\":1.0,\"yanchor\":\"bottom\",\"yref\":\"paper\"},{\"font\":{\"size\":16},\"showarrow\":false,\"text\":\"Bad\",\"x\":0.775,\"xanchor\":\"center\",\"xref\":\"paper\",\"y\":1.0,\"yanchor\":\"bottom\",\"yref\":\"paper\"},{\"font\":{\"size\":16},\"showarrow\":false,\"text\":\"General Distribuition\",\"x\":0.5,\"xanchor\":\"center\",\"xref\":\"paper\",\"y\":0.375,\"yanchor\":\"bottom\",\"yref\":\"paper\"}],\"bargap\":0.05,\"showlegend\":true,\"template\":{\"data\":{\"barpolar\":[{\"marker\":{\"line\":{\"color\":\"#E5ECF6\",\"width\":0.5},\"pattern\":{\"fillmode\":\"overlay\",\"size\":10,\"solidity\":0.2}},\"type\":\"barpolar\"}],\"bar\":[{\"error_x\":{\"color\":\"#2a3f5f\"},\"error_y\":{\"color\":\"#2a3f5f\"},\"marker\":{\"line\":{\"color\":\"#E5ECF6\",\"width\":0.5},\"pattern\":{\"fillmode\":\"overlay\",\"size\":10,\"solidity\":0.2}},\"type\":\"bar\"}],\"carpet\":[{\"aaxis\":{\"endlinecolor\":\"#2a3f5f\",\"gridcolor\":\"white\",\"linecolor\":\"white\",\"minorgridcolor\":\"white\",\"startlinecolor\":\"#2a3f5f\"},\"baxis\":{\"endlinecolor\":\"#2a3f5f\",\"gridcolor\":\"white\",\"linecolor\":\"white\",\"minorgridcolor\":\"white\",\"startlinecolor\":\"#2a3f5f\"},\"type\":\"carpet\"}],\"choropleth\":[{\"colorbar\":{\"outlinewidth\":0,\"ticks\":\"\"},\"type\":\"choropleth\"}],\"contourcarpet\":[{\"colorbar\":{\"outlinewidth\":0,\"ticks\":\"\"},\"type\":\"contourcarpet\"}],\"contour\":[{\"colorbar\":{\"outlinewidth\":0,\"ticks\":\"\"},\"colorscale\":[[0.0,\"#0d0887\"],[0.1111111111111111,\"#46039f\"],[0.2222222222222222,\"#7201a8\"],[0.3333333333333333,\"#9c179e\"],[0.4444444444444444,\"#bd3786\"],[0.5555555555555556,\"#d8576b\"],[0.6666666666666666,\"#ed7953\"],[0.7777777777777778,\"#fb9f3a\"],[0.8888888888888888,\"#fdca26\"],[1.0,\"#f0f921\"]],\"type\":\"contour\"}],\"heatmapgl\":[{\"colorbar\":{\"outlinewidth\":0,\"ticks\":\"\"},\"colorscale\":[[0.0,\"#0d0887\"],[0.1111111111111111,\"#46039f\"],[0.2222222222222222,\"#7201a8\"],[0.3333333333333333,\"#9c179e\"],[0.4444444444444444,\"#bd3786\"],[0.5555555555555556,\"#d8576b\"],[0.6666666666666666,\"#ed7953\"],[0.7777777777777778,\"#fb9f3a\"],[0.8888888888888888,\"#fdca26\"],[1.0,\"#f0f921\"]],\"type\":\"heatmapgl\"}],\"heatmap\":[{\"colorbar\":{\"outlinewidth\":0,\"ticks\":\"\"},\"colorscale\":[[0.0,\"#0d0887\"],[0.1111111111111111,\"#46039f\"],[0.2222222222222222,\"#7201a8\"],[0.3333333333333333,\"#9c179e\"],[0.4444444444444444,\"#bd3786\"],[0.5555555555555556,\"#d8576b\"],[0.6666666666666666,\"#ed7953\"],[0.7777777777777778,\"#fb9f3a\"],[0.8888888888888888,\"#fdca26\"],[1.0,\"#f0f921\"]],\"type\":\"heatmap\"}],\"histogram2dcontour\":[{\"colorbar\":{\"outlinewidth\":0,\"ticks\":\"\"},\"colorscale\":[[0.0,\"#0d0887\"],[0.1111111111111111,\"#46039f\"],[0.2222222222222222,\"#7201a8\"],[0.3333333333333333,\"#9c179e\"],[0.4444444444444444,\"#bd3786\"],[0.5555555555555556,\"#d8576b\"],[0.6666666666666666,\"#ed7953\"],[0.7777777777777778,\"#fb9f3a\"],[0.8888888888888888,\"#fdca26\"],[1.0,\"#f0f921\"]],\"type\":\"histogram2dcontour\"}],\"histogram2d\":[{\"colorbar\":{\"outlinewidth\":0,\"ticks\":\"\"},\"colorscale\":[[0.0,\"#0d0887\"],[0.1111111111111111,\"#46039f\"],[0.2222222222222222,\"#7201a8\"],[0.3333333333333333,\"#9c179e\"],[0.4444444444444444,\"#bd3786\"],[0.5555555555555556,\"#d8576b\"],[0.6666666666666666,\"#ed7953\"],[0.7777777777777778,\"#fb9f3a\"],[0.8888888888888888,\"#fdca26\"],[1.0,\"#f0f921\"]],\"type\":\"histogram2d\"}],\"histogram\":[{\"marker\":{\"pattern\":{\"fillmode\":\"overlay\",\"size\":10,\"solidity\":0.2}},\"type\":\"histogram\"}],\"mesh3d\":[{\"colorbar\":{\"outlinewidth\":0,\"ticks\":\"\"},\"type\":\"mesh3d\"}],\"parcoords\":[{\"line\":{\"colorbar\":{\"outlinewidth\":0,\"ticks\":\"\"}},\"type\":\"parcoords\"}],\"pie\":[{\"automargin\":true,\"type\":\"pie\"}],\"scatter3d\":[{\"line\":{\"colorbar\":{\"outlinewidth\":0,\"ticks\":\"\"}},\"marker\":{\"colorbar\":{\"outlinewidth\":0,\"ticks\":\"\"}},\"type\":\"scatter3d\"}],\"scattercarpet\":[{\"marker\":{\"colorbar\":{\"outlinewidth\":0,\"ticks\":\"\"}},\"type\":\"scattercarpet\"}],\"scattergeo\":[{\"marker\":{\"colorbar\":{\"outlinewidth\":0,\"ticks\":\"\"}},\"type\":\"scattergeo\"}],\"scattergl\":[{\"marker\":{\"colorbar\":{\"outlinewidth\":0,\"ticks\":\"\"}},\"type\":\"scattergl\"}],\"scattermapbox\":[{\"marker\":{\"colorbar\":{\"outlinewidth\":0,\"ticks\":\"\"}},\"type\":\"scattermapbox\"}],\"scatterpolargl\":[{\"marker\":{\"colorbar\":{\"outlinewidth\":0,\"ticks\":\"\"}},\"type\":\"scatterpolargl\"}],\"scatterpolar\":[{\"marker\":{\"colorbar\":{\"outlinewidth\":0,\"ticks\":\"\"}},\"type\":\"scatterpolar\"}],\"scatter\":[{\"fillpattern\":{\"fillmode\":\"overlay\",\"size\":10,\"solidity\":0.2},\"type\":\"scatter\"}],\"scatterternary\":[{\"marker\":{\"colorbar\":{\"outlinewidth\":0,\"ticks\":\"\"}},\"type\":\"scatterternary\"}],\"surface\":[{\"colorbar\":{\"outlinewidth\":0,\"ticks\":\"\"},\"colorscale\":[[0.0,\"#0d0887\"],[0.1111111111111111,\"#46039f\"],[0.2222222222222222,\"#7201a8\"],[0.3333333333333333,\"#9c179e\"],[0.4444444444444444,\"#bd3786\"],[0.5555555555555556,\"#d8576b\"],[0.6666666666666666,\"#ed7953\"],[0.7777777777777778,\"#fb9f3a\"],[0.8888888888888888,\"#fdca26\"],[1.0,\"#f0f921\"]],\"type\":\"surface\"}],\"table\":[{\"cells\":{\"fill\":{\"color\":\"#EBF0F8\"},\"line\":{\"color\":\"white\"}},\"header\":{\"fill\":{\"color\":\"#C8D4E3\"},\"line\":{\"color\":\"white\"}},\"type\":\"table\"}]},\"layout\":{\"annotationdefaults\":{\"arrowcolor\":\"#2a3f5f\",\"arrowhead\":0,\"arrowwidth\":1},\"autotypenumbers\":\"strict\",\"coloraxis\":{\"colorbar\":{\"outlinewidth\":0,\"ticks\":\"\"}},\"colorscale\":{\"diverging\":[[0,\"#8e0152\"],[0.1,\"#c51b7d\"],[0.2,\"#de77ae\"],[0.3,\"#f1b6da\"],[0.4,\"#fde0ef\"],[0.5,\"#f7f7f7\"],[0.6,\"#e6f5d0\"],[0.7,\"#b8e186\"],[0.8,\"#7fbc41\"],[0.9,\"#4d9221\"],[1,\"#276419\"]],\"sequential\":[[0.0,\"#0d0887\"],[0.1111111111111111,\"#46039f\"],[0.2222222222222222,\"#7201a8\"],[0.3333333333333333,\"#9c179e\"],[0.4444444444444444,\"#bd3786\"],[0.5555555555555556,\"#d8576b\"],[0.6666666666666666,\"#ed7953\"],[0.7777777777777778,\"#fb9f3a\"],[0.8888888888888888,\"#fdca26\"],[1.0,\"#f0f921\"]],\"sequentialminus\":[[0.0,\"#0d0887\"],[0.1111111111111111,\"#46039f\"],[0.2222222222222222,\"#7201a8\"],[0.3333333333333333,\"#9c179e\"],[0.4444444444444444,\"#bd3786\"],[0.5555555555555556,\"#d8576b\"],[0.6666666666666666,\"#ed7953\"],[0.7777777777777778,\"#fb9f3a\"],[0.8888888888888888,\"#fdca26\"],[1.0,\"#f0f921\"]]},\"colorway\":[\"#636efa\",\"#EF553B\",\"#00cc96\",\"#ab63fa\",\"#FFA15A\",\"#19d3f3\",\"#FF6692\",\"#B6E880\",\"#FF97FF\",\"#FECB52\"],\"font\":{\"color\":\"#2a3f5f\"},\"geo\":{\"bgcolor\":\"white\",\"lakecolor\":\"white\",\"landcolor\":\"#E5ECF6\",\"showlakes\":true,\"showland\":true,\"subunitcolor\":\"white\"},\"hoverlabel\":{\"align\":\"left\"},\"hovermode\":\"closest\",\"mapbox\":{\"style\":\"light\"},\"paper_bgcolor\":\"white\",\"plot_bgcolor\":\"#E5ECF6\",\"polar\":{\"angularaxis\":{\"gridcolor\":\"white\",\"linecolor\":\"white\",\"ticks\":\"\"},\"bgcolor\":\"#E5ECF6\",\"radialaxis\":{\"gridcolor\":\"white\",\"linecolor\":\"white\",\"ticks\":\"\"}},\"scene\":{\"xaxis\":{\"backgroundcolor\":\"#E5ECF6\",\"gridcolor\":\"white\",\"gridwidth\":2,\"linecolor\":\"white\",\"showbackground\":true,\"ticks\":\"\",\"zerolinecolor\":\"white\"},\"yaxis\":{\"backgroundcolor\":\"#E5ECF6\",\"gridcolor\":\"white\",\"gridwidth\":2,\"linecolor\":\"white\",\"showbackground\":true,\"ticks\":\"\",\"zerolinecolor\":\"white\"},\"zaxis\":{\"backgroundcolor\":\"#E5ECF6\",\"gridcolor\":\"white\",\"gridwidth\":2,\"linecolor\":\"white\",\"showbackground\":true,\"ticks\":\"\",\"zerolinecolor\":\"white\"}},\"shapedefaults\":{\"line\":{\"color\":\"#2a3f5f\"}},\"ternary\":{\"aaxis\":{\"gridcolor\":\"white\",\"linecolor\":\"white\",\"ticks\":\"\"},\"baxis\":{\"gridcolor\":\"white\",\"linecolor\":\"white\",\"ticks\":\"\"},\"bgcolor\":\"#E5ECF6\",\"caxis\":{\"gridcolor\":\"white\",\"linecolor\":\"white\",\"ticks\":\"\"}},\"title\":{\"x\":0.05},\"xaxis\":{\"automargin\":true,\"gridcolor\":\"white\",\"linecolor\":\"white\",\"ticks\":\"\",\"title\":{\"standoff\":15},\"zerolinecolor\":\"white\",\"zerolinewidth\":2},\"yaxis\":{\"automargin\":true,\"gridcolor\":\"white\",\"linecolor\":\"white\",\"ticks\":\"\",\"title\":{\"standoff\":15},\"zerolinecolor\":\"white\",\"zerolinewidth\":2}}},\"title\":{\"text\":\"Age Distribuition\"},\"xaxis\":{\"anchor\":\"y\",\"domain\":[0.0,0.45]},\"yaxis\":{\"anchor\":\"x\",\"domain\":[0.625,1.0]},\"xaxis2\":{\"anchor\":\"y2\",\"domain\":[0.55,1.0]},\"yaxis2\":{\"anchor\":\"x2\",\"domain\":[0.625,1.0]},\"xaxis3\":{\"anchor\":\"y3\",\"domain\":[0.0,1.0]},\"yaxis3\":{\"anchor\":\"x3\",\"domain\":[0.0,0.375]}},                        {\"responsive\": true}                    ).then(function(){\n",
       "                            \n",
       "var gd = document.getElementById('34bb4da6-4890-4b2b-852e-4faf4503ccf1');\n",
       "var x = new MutationObserver(function (mutations, observer) {{\n",
       "        var display = window.getComputedStyle(gd).display;\n",
       "        if (!display || display === 'none') {{\n",
       "            console.log([gd, 'removed!']);\n",
       "            Plotly.purge(gd);\n",
       "            observer.disconnect();\n",
       "        }}\n",
       "}});\n",
       "\n",
       "// Listen for the removal of the full notebook cells\n",
       "var notebookContainer = gd.closest('#notebook-container');\n",
       "if (notebookContainer) {{\n",
       "    x.observe(notebookContainer, {childList: true});\n",
       "}}\n",
       "\n",
       "// Listen for the clearing of the current output cell\n",
       "var outputEl = gd.closest('.output');\n",
       "if (outputEl) {{\n",
       "    x.observe(outputEl, {childList: true});\n",
       "}}\n",
       "\n",
       "                        })                };                });            </script>        </div>"
      ]
     },
     "metadata": {},
     "output_type": "display_data"
    }
   ],
   "source": [
    "df_good = df_credit.loc[df_credit[\"Risk\"] == 'good']['Age'].values.tolist()\n",
    "df_bad = df_credit.loc[df_credit[\"Risk\"] == 'bad']['Age'].values.tolist()\n",
    "df_age = df_credit['Age'].values.tolist()\n",
    "\n",
    "#First plot\n",
    "trace0 = go.Histogram(\n",
    "    x=df_good,\n",
    "    histnorm='probability',\n",
    "    name=\"Good Credit\"\n",
    ")\n",
    "#Second plot\n",
    "trace1 = go.Histogram(\n",
    "    x=df_bad,\n",
    "    histnorm='probability',\n",
    "    name=\"Bad Credit\"\n",
    ")\n",
    "#Third plot\n",
    "trace2 = go.Histogram(\n",
    "    x=df_age,\n",
    "    histnorm='probability',\n",
    "    name=\"Overall Age\"\n",
    ")\n",
    "\n",
    "#Creating the grid\n",
    "fig = tls.make_subplots(rows=2, cols=2, specs=[[{}, {}], [{'colspan': 2}, None]],\n",
    "                          subplot_titles=('Good','Bad', 'General Distribuition'))\n",
    "\n",
    "#setting the figs\n",
    "fig.append_trace(trace0, 1, 1)\n",
    "fig.append_trace(trace1, 1, 2)\n",
    "fig.append_trace(trace2, 2, 1)\n",
    "\n",
    "fig['layout'].update(showlegend=True, title='Age Distribuition', bargap=0.05)\n",
    "py.iplot(fig, filename='custom-sized-subplot-with-subplot-titles')"
   ]
  },
  {
   "cell_type": "markdown",
   "metadata": {
    "_cell_guid": "dcfd7a3b-d43d-4c35-8b7c-cd0a3184881f",
    "_uuid": "4eaf4a2da2ea133fcb227313c72ab69f0f1328fa"
   },
   "source": [
    "<h2>Creating an categorical variable to handle with the Age variable </h2>"
   ]
  },
  {
   "cell_type": "code",
   "execution_count": 9,
   "metadata": {
    "_cell_guid": "77674108-1042-4a9d-8820-decd3f4c04f6",
    "_kg_hide-input": false,
    "_kg_hide-output": false,
    "_uuid": "e834b43cb46b510ca9d352297620e92b3f0f6db7"
   },
   "outputs": [],
   "source": [
    "#Let's look the Credit Amount column\n",
    "interval = (18, 25, 35, 60, 120)\n",
    "\n",
    "cats = ['Student', 'Young', 'Adult', 'Senior']\n",
    "df_credit[\"Age_cat\"] = pd.cut(df_credit.Age, interval, labels=cats)\n",
    "\n",
    "\n",
    "df_good = df_credit[df_credit[\"Risk\"] == 'good']\n",
    "df_bad = df_credit[df_credit[\"Risk\"] == 'bad']"
   ]
  },
  {
   "cell_type": "markdown",
   "metadata": {
    "_cell_guid": "39066b14-b573-4254-bc61-8b265e7bae5f",
    "_uuid": "a5e8088cd21325c077fe92b68246add9cc7aeb7f"
   },
   "source": [
    "<h2>I will now Look the distribuition of Housing own and rent by Risk</h2>\n"
   ]
  },
  {
   "cell_type": "code",
   "execution_count": 10,
   "metadata": {
    "_cell_guid": "f04d566c-92f3-4745-84e8-63b87e6c4b4c",
    "_kg_hide-input": true,
    "_uuid": "e0b8b82f2090041fa13102caf82293e3e5bd015a"
   },
   "outputs": [
    {
     "data": {
      "application/vnd.plotly.v1+json": {
       "config": {
        "linkText": "Export to plot.ly",
        "plotlyServerURL": "https://plot.ly",
        "showLink": false
       },
       "data": [
        {
         "name": "Good credit",
         "type": "bar",
         "x": [
          "own",
          "rent",
          "free"
         ],
         "y": [
          527,
          109,
          64
         ]
        },
        {
         "name": "Bad Credit",
         "type": "bar",
         "x": [
          "own",
          "rent",
          "free"
         ],
         "y": [
          186,
          70,
          44
         ]
        }
       ],
       "layout": {
        "template": {
         "data": {
          "bar": [
           {
            "error_x": {
             "color": "#2a3f5f"
            },
            "error_y": {
             "color": "#2a3f5f"
            },
            "marker": {
             "line": {
              "color": "#E5ECF6",
              "width": 0.5
             },
             "pattern": {
              "fillmode": "overlay",
              "size": 10,
              "solidity": 0.2
             }
            },
            "type": "bar"
           }
          ],
          "barpolar": [
           {
            "marker": {
             "line": {
              "color": "#E5ECF6",
              "width": 0.5
             },
             "pattern": {
              "fillmode": "overlay",
              "size": 10,
              "solidity": 0.2
             }
            },
            "type": "barpolar"
           }
          ],
          "carpet": [
           {
            "aaxis": {
             "endlinecolor": "#2a3f5f",
             "gridcolor": "white",
             "linecolor": "white",
             "minorgridcolor": "white",
             "startlinecolor": "#2a3f5f"
            },
            "baxis": {
             "endlinecolor": "#2a3f5f",
             "gridcolor": "white",
             "linecolor": "white",
             "minorgridcolor": "white",
             "startlinecolor": "#2a3f5f"
            },
            "type": "carpet"
           }
          ],
          "choropleth": [
           {
            "colorbar": {
             "outlinewidth": 0,
             "ticks": ""
            },
            "type": "choropleth"
           }
          ],
          "contour": [
           {
            "colorbar": {
             "outlinewidth": 0,
             "ticks": ""
            },
            "colorscale": [
             [
              0,
              "#0d0887"
             ],
             [
              0.1111111111111111,
              "#46039f"
             ],
             [
              0.2222222222222222,
              "#7201a8"
             ],
             [
              0.3333333333333333,
              "#9c179e"
             ],
             [
              0.4444444444444444,
              "#bd3786"
             ],
             [
              0.5555555555555556,
              "#d8576b"
             ],
             [
              0.6666666666666666,
              "#ed7953"
             ],
             [
              0.7777777777777778,
              "#fb9f3a"
             ],
             [
              0.8888888888888888,
              "#fdca26"
             ],
             [
              1,
              "#f0f921"
             ]
            ],
            "type": "contour"
           }
          ],
          "contourcarpet": [
           {
            "colorbar": {
             "outlinewidth": 0,
             "ticks": ""
            },
            "type": "contourcarpet"
           }
          ],
          "heatmap": [
           {
            "colorbar": {
             "outlinewidth": 0,
             "ticks": ""
            },
            "colorscale": [
             [
              0,
              "#0d0887"
             ],
             [
              0.1111111111111111,
              "#46039f"
             ],
             [
              0.2222222222222222,
              "#7201a8"
             ],
             [
              0.3333333333333333,
              "#9c179e"
             ],
             [
              0.4444444444444444,
              "#bd3786"
             ],
             [
              0.5555555555555556,
              "#d8576b"
             ],
             [
              0.6666666666666666,
              "#ed7953"
             ],
             [
              0.7777777777777778,
              "#fb9f3a"
             ],
             [
              0.8888888888888888,
              "#fdca26"
             ],
             [
              1,
              "#f0f921"
             ]
            ],
            "type": "heatmap"
           }
          ],
          "heatmapgl": [
           {
            "colorbar": {
             "outlinewidth": 0,
             "ticks": ""
            },
            "colorscale": [
             [
              0,
              "#0d0887"
             ],
             [
              0.1111111111111111,
              "#46039f"
             ],
             [
              0.2222222222222222,
              "#7201a8"
             ],
             [
              0.3333333333333333,
              "#9c179e"
             ],
             [
              0.4444444444444444,
              "#bd3786"
             ],
             [
              0.5555555555555556,
              "#d8576b"
             ],
             [
              0.6666666666666666,
              "#ed7953"
             ],
             [
              0.7777777777777778,
              "#fb9f3a"
             ],
             [
              0.8888888888888888,
              "#fdca26"
             ],
             [
              1,
              "#f0f921"
             ]
            ],
            "type": "heatmapgl"
           }
          ],
          "histogram": [
           {
            "marker": {
             "pattern": {
              "fillmode": "overlay",
              "size": 10,
              "solidity": 0.2
             }
            },
            "type": "histogram"
           }
          ],
          "histogram2d": [
           {
            "colorbar": {
             "outlinewidth": 0,
             "ticks": ""
            },
            "colorscale": [
             [
              0,
              "#0d0887"
             ],
             [
              0.1111111111111111,
              "#46039f"
             ],
             [
              0.2222222222222222,
              "#7201a8"
             ],
             [
              0.3333333333333333,
              "#9c179e"
             ],
             [
              0.4444444444444444,
              "#bd3786"
             ],
             [
              0.5555555555555556,
              "#d8576b"
             ],
             [
              0.6666666666666666,
              "#ed7953"
             ],
             [
              0.7777777777777778,
              "#fb9f3a"
             ],
             [
              0.8888888888888888,
              "#fdca26"
             ],
             [
              1,
              "#f0f921"
             ]
            ],
            "type": "histogram2d"
           }
          ],
          "histogram2dcontour": [
           {
            "colorbar": {
             "outlinewidth": 0,
             "ticks": ""
            },
            "colorscale": [
             [
              0,
              "#0d0887"
             ],
             [
              0.1111111111111111,
              "#46039f"
             ],
             [
              0.2222222222222222,
              "#7201a8"
             ],
             [
              0.3333333333333333,
              "#9c179e"
             ],
             [
              0.4444444444444444,
              "#bd3786"
             ],
             [
              0.5555555555555556,
              "#d8576b"
             ],
             [
              0.6666666666666666,
              "#ed7953"
             ],
             [
              0.7777777777777778,
              "#fb9f3a"
             ],
             [
              0.8888888888888888,
              "#fdca26"
             ],
             [
              1,
              "#f0f921"
             ]
            ],
            "type": "histogram2dcontour"
           }
          ],
          "mesh3d": [
           {
            "colorbar": {
             "outlinewidth": 0,
             "ticks": ""
            },
            "type": "mesh3d"
           }
          ],
          "parcoords": [
           {
            "line": {
             "colorbar": {
              "outlinewidth": 0,
              "ticks": ""
             }
            },
            "type": "parcoords"
           }
          ],
          "pie": [
           {
            "automargin": true,
            "type": "pie"
           }
          ],
          "scatter": [
           {
            "fillpattern": {
             "fillmode": "overlay",
             "size": 10,
             "solidity": 0.2
            },
            "type": "scatter"
           }
          ],
          "scatter3d": [
           {
            "line": {
             "colorbar": {
              "outlinewidth": 0,
              "ticks": ""
             }
            },
            "marker": {
             "colorbar": {
              "outlinewidth": 0,
              "ticks": ""
             }
            },
            "type": "scatter3d"
           }
          ],
          "scattercarpet": [
           {
            "marker": {
             "colorbar": {
              "outlinewidth": 0,
              "ticks": ""
             }
            },
            "type": "scattercarpet"
           }
          ],
          "scattergeo": [
           {
            "marker": {
             "colorbar": {
              "outlinewidth": 0,
              "ticks": ""
             }
            },
            "type": "scattergeo"
           }
          ],
          "scattergl": [
           {
            "marker": {
             "colorbar": {
              "outlinewidth": 0,
              "ticks": ""
             }
            },
            "type": "scattergl"
           }
          ],
          "scattermapbox": [
           {
            "marker": {
             "colorbar": {
              "outlinewidth": 0,
              "ticks": ""
             }
            },
            "type": "scattermapbox"
           }
          ],
          "scatterpolar": [
           {
            "marker": {
             "colorbar": {
              "outlinewidth": 0,
              "ticks": ""
             }
            },
            "type": "scatterpolar"
           }
          ],
          "scatterpolargl": [
           {
            "marker": {
             "colorbar": {
              "outlinewidth": 0,
              "ticks": ""
             }
            },
            "type": "scatterpolargl"
           }
          ],
          "scatterternary": [
           {
            "marker": {
             "colorbar": {
              "outlinewidth": 0,
              "ticks": ""
             }
            },
            "type": "scatterternary"
           }
          ],
          "surface": [
           {
            "colorbar": {
             "outlinewidth": 0,
             "ticks": ""
            },
            "colorscale": [
             [
              0,
              "#0d0887"
             ],
             [
              0.1111111111111111,
              "#46039f"
             ],
             [
              0.2222222222222222,
              "#7201a8"
             ],
             [
              0.3333333333333333,
              "#9c179e"
             ],
             [
              0.4444444444444444,
              "#bd3786"
             ],
             [
              0.5555555555555556,
              "#d8576b"
             ],
             [
              0.6666666666666666,
              "#ed7953"
             ],
             [
              0.7777777777777778,
              "#fb9f3a"
             ],
             [
              0.8888888888888888,
              "#fdca26"
             ],
             [
              1,
              "#f0f921"
             ]
            ],
            "type": "surface"
           }
          ],
          "table": [
           {
            "cells": {
             "fill": {
              "color": "#EBF0F8"
             },
             "line": {
              "color": "white"
             }
            },
            "header": {
             "fill": {
              "color": "#C8D4E3"
             },
             "line": {
              "color": "white"
             }
            },
            "type": "table"
           }
          ]
         },
         "layout": {
          "annotationdefaults": {
           "arrowcolor": "#2a3f5f",
           "arrowhead": 0,
           "arrowwidth": 1
          },
          "autotypenumbers": "strict",
          "coloraxis": {
           "colorbar": {
            "outlinewidth": 0,
            "ticks": ""
           }
          },
          "colorscale": {
           "diverging": [
            [
             0,
             "#8e0152"
            ],
            [
             0.1,
             "#c51b7d"
            ],
            [
             0.2,
             "#de77ae"
            ],
            [
             0.3,
             "#f1b6da"
            ],
            [
             0.4,
             "#fde0ef"
            ],
            [
             0.5,
             "#f7f7f7"
            ],
            [
             0.6,
             "#e6f5d0"
            ],
            [
             0.7,
             "#b8e186"
            ],
            [
             0.8,
             "#7fbc41"
            ],
            [
             0.9,
             "#4d9221"
            ],
            [
             1,
             "#276419"
            ]
           ],
           "sequential": [
            [
             0,
             "#0d0887"
            ],
            [
             0.1111111111111111,
             "#46039f"
            ],
            [
             0.2222222222222222,
             "#7201a8"
            ],
            [
             0.3333333333333333,
             "#9c179e"
            ],
            [
             0.4444444444444444,
             "#bd3786"
            ],
            [
             0.5555555555555556,
             "#d8576b"
            ],
            [
             0.6666666666666666,
             "#ed7953"
            ],
            [
             0.7777777777777778,
             "#fb9f3a"
            ],
            [
             0.8888888888888888,
             "#fdca26"
            ],
            [
             1,
             "#f0f921"
            ]
           ],
           "sequentialminus": [
            [
             0,
             "#0d0887"
            ],
            [
             0.1111111111111111,
             "#46039f"
            ],
            [
             0.2222222222222222,
             "#7201a8"
            ],
            [
             0.3333333333333333,
             "#9c179e"
            ],
            [
             0.4444444444444444,
             "#bd3786"
            ],
            [
             0.5555555555555556,
             "#d8576b"
            ],
            [
             0.6666666666666666,
             "#ed7953"
            ],
            [
             0.7777777777777778,
             "#fb9f3a"
            ],
            [
             0.8888888888888888,
             "#fdca26"
            ],
            [
             1,
             "#f0f921"
            ]
           ]
          },
          "colorway": [
           "#636efa",
           "#EF553B",
           "#00cc96",
           "#ab63fa",
           "#FFA15A",
           "#19d3f3",
           "#FF6692",
           "#B6E880",
           "#FF97FF",
           "#FECB52"
          ],
          "font": {
           "color": "#2a3f5f"
          },
          "geo": {
           "bgcolor": "white",
           "lakecolor": "white",
           "landcolor": "#E5ECF6",
           "showlakes": true,
           "showland": true,
           "subunitcolor": "white"
          },
          "hoverlabel": {
           "align": "left"
          },
          "hovermode": "closest",
          "mapbox": {
           "style": "light"
          },
          "paper_bgcolor": "white",
          "plot_bgcolor": "#E5ECF6",
          "polar": {
           "angularaxis": {
            "gridcolor": "white",
            "linecolor": "white",
            "ticks": ""
           },
           "bgcolor": "#E5ECF6",
           "radialaxis": {
            "gridcolor": "white",
            "linecolor": "white",
            "ticks": ""
           }
          },
          "scene": {
           "xaxis": {
            "backgroundcolor": "#E5ECF6",
            "gridcolor": "white",
            "gridwidth": 2,
            "linecolor": "white",
            "showbackground": true,
            "ticks": "",
            "zerolinecolor": "white"
           },
           "yaxis": {
            "backgroundcolor": "#E5ECF6",
            "gridcolor": "white",
            "gridwidth": 2,
            "linecolor": "white",
            "showbackground": true,
            "ticks": "",
            "zerolinecolor": "white"
           },
           "zaxis": {
            "backgroundcolor": "#E5ECF6",
            "gridcolor": "white",
            "gridwidth": 2,
            "linecolor": "white",
            "showbackground": true,
            "ticks": "",
            "zerolinecolor": "white"
           }
          },
          "shapedefaults": {
           "line": {
            "color": "#2a3f5f"
           }
          },
          "ternary": {
           "aaxis": {
            "gridcolor": "white",
            "linecolor": "white",
            "ticks": ""
           },
           "baxis": {
            "gridcolor": "white",
            "linecolor": "white",
            "ticks": ""
           },
           "bgcolor": "#E5ECF6",
           "caxis": {
            "gridcolor": "white",
            "linecolor": "white",
            "ticks": ""
           }
          },
          "title": {
           "x": 0.05
          },
          "xaxis": {
           "automargin": true,
           "gridcolor": "white",
           "linecolor": "white",
           "ticks": "",
           "title": {
            "standoff": 15
           },
           "zerolinecolor": "white",
           "zerolinewidth": 2
          },
          "yaxis": {
           "automargin": true,
           "gridcolor": "white",
           "linecolor": "white",
           "ticks": "",
           "title": {
            "standoff": 15
           },
           "zerolinecolor": "white",
           "zerolinewidth": 2
          }
         }
        },
        "title": {
         "text": "Housing Distribuition"
        }
       }
      },
      "text/html": [
       "<div>                            <div id=\"50898250-ca5f-43ca-8d5c-97e229111665\" class=\"plotly-graph-div\" style=\"height:525px; width:100%;\"></div>            <script type=\"text/javascript\">                require([\"plotly\"], function(Plotly) {                    window.PLOTLYENV=window.PLOTLYENV || {};                                    if (document.getElementById(\"50898250-ca5f-43ca-8d5c-97e229111665\")) {                    Plotly.newPlot(                        \"50898250-ca5f-43ca-8d5c-97e229111665\",                        [{\"name\":\"Good credit\",\"x\":[\"own\",\"rent\",\"free\"],\"y\":[527,109,64],\"type\":\"bar\"},{\"name\":\"Bad Credit\",\"x\":[\"own\",\"rent\",\"free\"],\"y\":[186,70,44],\"type\":\"bar\"}],                        {\"template\":{\"data\":{\"barpolar\":[{\"marker\":{\"line\":{\"color\":\"#E5ECF6\",\"width\":0.5},\"pattern\":{\"fillmode\":\"overlay\",\"size\":10,\"solidity\":0.2}},\"type\":\"barpolar\"}],\"bar\":[{\"error_x\":{\"color\":\"#2a3f5f\"},\"error_y\":{\"color\":\"#2a3f5f\"},\"marker\":{\"line\":{\"color\":\"#E5ECF6\",\"width\":0.5},\"pattern\":{\"fillmode\":\"overlay\",\"size\":10,\"solidity\":0.2}},\"type\":\"bar\"}],\"carpet\":[{\"aaxis\":{\"endlinecolor\":\"#2a3f5f\",\"gridcolor\":\"white\",\"linecolor\":\"white\",\"minorgridcolor\":\"white\",\"startlinecolor\":\"#2a3f5f\"},\"baxis\":{\"endlinecolor\":\"#2a3f5f\",\"gridcolor\":\"white\",\"linecolor\":\"white\",\"minorgridcolor\":\"white\",\"startlinecolor\":\"#2a3f5f\"},\"type\":\"carpet\"}],\"choropleth\":[{\"colorbar\":{\"outlinewidth\":0,\"ticks\":\"\"},\"type\":\"choropleth\"}],\"contourcarpet\":[{\"colorbar\":{\"outlinewidth\":0,\"ticks\":\"\"},\"type\":\"contourcarpet\"}],\"contour\":[{\"colorbar\":{\"outlinewidth\":0,\"ticks\":\"\"},\"colorscale\":[[0.0,\"#0d0887\"],[0.1111111111111111,\"#46039f\"],[0.2222222222222222,\"#7201a8\"],[0.3333333333333333,\"#9c179e\"],[0.4444444444444444,\"#bd3786\"],[0.5555555555555556,\"#d8576b\"],[0.6666666666666666,\"#ed7953\"],[0.7777777777777778,\"#fb9f3a\"],[0.8888888888888888,\"#fdca26\"],[1.0,\"#f0f921\"]],\"type\":\"contour\"}],\"heatmapgl\":[{\"colorbar\":{\"outlinewidth\":0,\"ticks\":\"\"},\"colorscale\":[[0.0,\"#0d0887\"],[0.1111111111111111,\"#46039f\"],[0.2222222222222222,\"#7201a8\"],[0.3333333333333333,\"#9c179e\"],[0.4444444444444444,\"#bd3786\"],[0.5555555555555556,\"#d8576b\"],[0.6666666666666666,\"#ed7953\"],[0.7777777777777778,\"#fb9f3a\"],[0.8888888888888888,\"#fdca26\"],[1.0,\"#f0f921\"]],\"type\":\"heatmapgl\"}],\"heatmap\":[{\"colorbar\":{\"outlinewidth\":0,\"ticks\":\"\"},\"colorscale\":[[0.0,\"#0d0887\"],[0.1111111111111111,\"#46039f\"],[0.2222222222222222,\"#7201a8\"],[0.3333333333333333,\"#9c179e\"],[0.4444444444444444,\"#bd3786\"],[0.5555555555555556,\"#d8576b\"],[0.6666666666666666,\"#ed7953\"],[0.7777777777777778,\"#fb9f3a\"],[0.8888888888888888,\"#fdca26\"],[1.0,\"#f0f921\"]],\"type\":\"heatmap\"}],\"histogram2dcontour\":[{\"colorbar\":{\"outlinewidth\":0,\"ticks\":\"\"},\"colorscale\":[[0.0,\"#0d0887\"],[0.1111111111111111,\"#46039f\"],[0.2222222222222222,\"#7201a8\"],[0.3333333333333333,\"#9c179e\"],[0.4444444444444444,\"#bd3786\"],[0.5555555555555556,\"#d8576b\"],[0.6666666666666666,\"#ed7953\"],[0.7777777777777778,\"#fb9f3a\"],[0.8888888888888888,\"#fdca26\"],[1.0,\"#f0f921\"]],\"type\":\"histogram2dcontour\"}],\"histogram2d\":[{\"colorbar\":{\"outlinewidth\":0,\"ticks\":\"\"},\"colorscale\":[[0.0,\"#0d0887\"],[0.1111111111111111,\"#46039f\"],[0.2222222222222222,\"#7201a8\"],[0.3333333333333333,\"#9c179e\"],[0.4444444444444444,\"#bd3786\"],[0.5555555555555556,\"#d8576b\"],[0.6666666666666666,\"#ed7953\"],[0.7777777777777778,\"#fb9f3a\"],[0.8888888888888888,\"#fdca26\"],[1.0,\"#f0f921\"]],\"type\":\"histogram2d\"}],\"histogram\":[{\"marker\":{\"pattern\":{\"fillmode\":\"overlay\",\"size\":10,\"solidity\":0.2}},\"type\":\"histogram\"}],\"mesh3d\":[{\"colorbar\":{\"outlinewidth\":0,\"ticks\":\"\"},\"type\":\"mesh3d\"}],\"parcoords\":[{\"line\":{\"colorbar\":{\"outlinewidth\":0,\"ticks\":\"\"}},\"type\":\"parcoords\"}],\"pie\":[{\"automargin\":true,\"type\":\"pie\"}],\"scatter3d\":[{\"line\":{\"colorbar\":{\"outlinewidth\":0,\"ticks\":\"\"}},\"marker\":{\"colorbar\":{\"outlinewidth\":0,\"ticks\":\"\"}},\"type\":\"scatter3d\"}],\"scattercarpet\":[{\"marker\":{\"colorbar\":{\"outlinewidth\":0,\"ticks\":\"\"}},\"type\":\"scattercarpet\"}],\"scattergeo\":[{\"marker\":{\"colorbar\":{\"outlinewidth\":0,\"ticks\":\"\"}},\"type\":\"scattergeo\"}],\"scattergl\":[{\"marker\":{\"colorbar\":{\"outlinewidth\":0,\"ticks\":\"\"}},\"type\":\"scattergl\"}],\"scattermapbox\":[{\"marker\":{\"colorbar\":{\"outlinewidth\":0,\"ticks\":\"\"}},\"type\":\"scattermapbox\"}],\"scatterpolargl\":[{\"marker\":{\"colorbar\":{\"outlinewidth\":0,\"ticks\":\"\"}},\"type\":\"scatterpolargl\"}],\"scatterpolar\":[{\"marker\":{\"colorbar\":{\"outlinewidth\":0,\"ticks\":\"\"}},\"type\":\"scatterpolar\"}],\"scatter\":[{\"fillpattern\":{\"fillmode\":\"overlay\",\"size\":10,\"solidity\":0.2},\"type\":\"scatter\"}],\"scatterternary\":[{\"marker\":{\"colorbar\":{\"outlinewidth\":0,\"ticks\":\"\"}},\"type\":\"scatterternary\"}],\"surface\":[{\"colorbar\":{\"outlinewidth\":0,\"ticks\":\"\"},\"colorscale\":[[0.0,\"#0d0887\"],[0.1111111111111111,\"#46039f\"],[0.2222222222222222,\"#7201a8\"],[0.3333333333333333,\"#9c179e\"],[0.4444444444444444,\"#bd3786\"],[0.5555555555555556,\"#d8576b\"],[0.6666666666666666,\"#ed7953\"],[0.7777777777777778,\"#fb9f3a\"],[0.8888888888888888,\"#fdca26\"],[1.0,\"#f0f921\"]],\"type\":\"surface\"}],\"table\":[{\"cells\":{\"fill\":{\"color\":\"#EBF0F8\"},\"line\":{\"color\":\"white\"}},\"header\":{\"fill\":{\"color\":\"#C8D4E3\"},\"line\":{\"color\":\"white\"}},\"type\":\"table\"}]},\"layout\":{\"annotationdefaults\":{\"arrowcolor\":\"#2a3f5f\",\"arrowhead\":0,\"arrowwidth\":1},\"autotypenumbers\":\"strict\",\"coloraxis\":{\"colorbar\":{\"outlinewidth\":0,\"ticks\":\"\"}},\"colorscale\":{\"diverging\":[[0,\"#8e0152\"],[0.1,\"#c51b7d\"],[0.2,\"#de77ae\"],[0.3,\"#f1b6da\"],[0.4,\"#fde0ef\"],[0.5,\"#f7f7f7\"],[0.6,\"#e6f5d0\"],[0.7,\"#b8e186\"],[0.8,\"#7fbc41\"],[0.9,\"#4d9221\"],[1,\"#276419\"]],\"sequential\":[[0.0,\"#0d0887\"],[0.1111111111111111,\"#46039f\"],[0.2222222222222222,\"#7201a8\"],[0.3333333333333333,\"#9c179e\"],[0.4444444444444444,\"#bd3786\"],[0.5555555555555556,\"#d8576b\"],[0.6666666666666666,\"#ed7953\"],[0.7777777777777778,\"#fb9f3a\"],[0.8888888888888888,\"#fdca26\"],[1.0,\"#f0f921\"]],\"sequentialminus\":[[0.0,\"#0d0887\"],[0.1111111111111111,\"#46039f\"],[0.2222222222222222,\"#7201a8\"],[0.3333333333333333,\"#9c179e\"],[0.4444444444444444,\"#bd3786\"],[0.5555555555555556,\"#d8576b\"],[0.6666666666666666,\"#ed7953\"],[0.7777777777777778,\"#fb9f3a\"],[0.8888888888888888,\"#fdca26\"],[1.0,\"#f0f921\"]]},\"colorway\":[\"#636efa\",\"#EF553B\",\"#00cc96\",\"#ab63fa\",\"#FFA15A\",\"#19d3f3\",\"#FF6692\",\"#B6E880\",\"#FF97FF\",\"#FECB52\"],\"font\":{\"color\":\"#2a3f5f\"},\"geo\":{\"bgcolor\":\"white\",\"lakecolor\":\"white\",\"landcolor\":\"#E5ECF6\",\"showlakes\":true,\"showland\":true,\"subunitcolor\":\"white\"},\"hoverlabel\":{\"align\":\"left\"},\"hovermode\":\"closest\",\"mapbox\":{\"style\":\"light\"},\"paper_bgcolor\":\"white\",\"plot_bgcolor\":\"#E5ECF6\",\"polar\":{\"angularaxis\":{\"gridcolor\":\"white\",\"linecolor\":\"white\",\"ticks\":\"\"},\"bgcolor\":\"#E5ECF6\",\"radialaxis\":{\"gridcolor\":\"white\",\"linecolor\":\"white\",\"ticks\":\"\"}},\"scene\":{\"xaxis\":{\"backgroundcolor\":\"#E5ECF6\",\"gridcolor\":\"white\",\"gridwidth\":2,\"linecolor\":\"white\",\"showbackground\":true,\"ticks\":\"\",\"zerolinecolor\":\"white\"},\"yaxis\":{\"backgroundcolor\":\"#E5ECF6\",\"gridcolor\":\"white\",\"gridwidth\":2,\"linecolor\":\"white\",\"showbackground\":true,\"ticks\":\"\",\"zerolinecolor\":\"white\"},\"zaxis\":{\"backgroundcolor\":\"#E5ECF6\",\"gridcolor\":\"white\",\"gridwidth\":2,\"linecolor\":\"white\",\"showbackground\":true,\"ticks\":\"\",\"zerolinecolor\":\"white\"}},\"shapedefaults\":{\"line\":{\"color\":\"#2a3f5f\"}},\"ternary\":{\"aaxis\":{\"gridcolor\":\"white\",\"linecolor\":\"white\",\"ticks\":\"\"},\"baxis\":{\"gridcolor\":\"white\",\"linecolor\":\"white\",\"ticks\":\"\"},\"bgcolor\":\"#E5ECF6\",\"caxis\":{\"gridcolor\":\"white\",\"linecolor\":\"white\",\"ticks\":\"\"}},\"title\":{\"x\":0.05},\"xaxis\":{\"automargin\":true,\"gridcolor\":\"white\",\"linecolor\":\"white\",\"ticks\":\"\",\"title\":{\"standoff\":15},\"zerolinecolor\":\"white\",\"zerolinewidth\":2},\"yaxis\":{\"automargin\":true,\"gridcolor\":\"white\",\"linecolor\":\"white\",\"ticks\":\"\",\"title\":{\"standoff\":15},\"zerolinecolor\":\"white\",\"zerolinewidth\":2}}},\"title\":{\"text\":\"Housing Distribuition\"}},                        {\"responsive\": true}                    ).then(function(){\n",
       "                            \n",
       "var gd = document.getElementById('50898250-ca5f-43ca-8d5c-97e229111665');\n",
       "var x = new MutationObserver(function (mutations, observer) {{\n",
       "        var display = window.getComputedStyle(gd).display;\n",
       "        if (!display || display === 'none') {{\n",
       "            console.log([gd, 'removed!']);\n",
       "            Plotly.purge(gd);\n",
       "            observer.disconnect();\n",
       "        }}\n",
       "}});\n",
       "\n",
       "// Listen for the removal of the full notebook cells\n",
       "var notebookContainer = gd.closest('#notebook-container');\n",
       "if (notebookContainer) {{\n",
       "    x.observe(notebookContainer, {childList: true});\n",
       "}}\n",
       "\n",
       "// Listen for the clearing of the current output cell\n",
       "var outputEl = gd.closest('.output');\n",
       "if (outputEl) {{\n",
       "    x.observe(outputEl, {childList: true});\n",
       "}}\n",
       "\n",
       "                        })                };                });            </script>        </div>"
      ]
     },
     "metadata": {},
     "output_type": "display_data"
    }
   ],
   "source": [
    "#First plot\n",
    "trace0 = go.Bar(\n",
    "    x = df_credit[df_credit[\"Risk\"]== 'good'][\"Housing\"].value_counts().index.values,\n",
    "    y = df_credit[df_credit[\"Risk\"]== 'good'][\"Housing\"].value_counts().values,\n",
    "    name='Good credit'\n",
    ")\n",
    "\n",
    "#Second plot\n",
    "trace1 = go.Bar(\n",
    "    x = df_credit[df_credit[\"Risk\"]== 'bad'][\"Housing\"].value_counts().index.values,\n",
    "    y = df_credit[df_credit[\"Risk\"]== 'bad'][\"Housing\"].value_counts().values,\n",
    "    name=\"Bad Credit\"\n",
    ")\n",
    "\n",
    "data = [trace0, trace1]\n",
    "\n",
    "layout = go.Layout(\n",
    "    title='Housing Distribuition'\n",
    ")\n",
    "\n",
    "\n",
    "fig = go.Figure(data=data, layout=layout)\n",
    "\n",
    "py.iplot(fig, filename='Housing-Grouped')"
   ]
  },
  {
   "cell_type": "markdown",
   "metadata": {
    "_cell_guid": "85a1de27-ac07-4317-b2cb-f0ef0fc50263",
    "_uuid": "f0bbbfef78b2172aed6eec91a0082fb24a6b6652"
   },
   "source": [
    "we can see that the own and good risk have a high correlation"
   ]
  },
  {
   "cell_type": "markdown",
   "metadata": {
    "_cell_guid": "2ee9d053-57a7-4448-b00d-52f85b4b7435",
    "_uuid": "e14a1b38effd533bf963fce312ff5afde85d4e46"
   },
   "source": [
    "<h3>Distribuition of Credit Amount by Housing</h3>"
   ]
  },
  {
   "cell_type": "markdown",
   "metadata": {
    "_cell_guid": "c4b74894-53b4-4a93-83e1-761d3c7feb3a",
    "_uuid": "1cfb55b3552be9e7dd67de9ed24c72af973cbe4b"
   },
   "source": [
    "Interesting moviments! Highest values come from category \"free\" and we have a different distribuition by Risk"
   ]
  },
  {
   "cell_type": "markdown",
   "metadata": {
    "_cell_guid": "bb043f80-4948-476b-a9ed-4d5850a08c2e",
    "_uuid": "a4b29db97c9da81196b5ef63dae3bc7dd5c18c48"
   },
   "source": [
    "<h2>Looking the diference by Sex</h2>"
   ]
  },
  {
   "cell_type": "code",
   "execution_count": 11,
   "metadata": {
    "_cell_guid": "be4c6440-bdf4-4051-acef-f6db9c43c7de",
    "_kg_hide-input": true,
    "_uuid": "7baf9501935c7ff1eee9cf519cea74ab3e858f98"
   },
   "outputs": [
    {
     "name": "stderr",
     "output_type": "stream",
     "text": [
      "c:\\users\\harsshh wankhayday\\appdata\\local\\programs\\python\\python39\\lib\\site-packages\\plotly\\tools.py:460: DeprecationWarning:\n",
      "\n",
      "plotly.tools.make_subplots is deprecated, please use plotly.subplots.make_subplots instead\n",
      "\n"
     ]
    },
    {
     "data": {
      "application/vnd.plotly.v1+json": {
       "config": {
        "linkText": "Export to plot.ly",
        "plotlyServerURL": "https://plot.ly",
        "showLink": false
       },
       "data": [
        {
         "name": "Good credit",
         "type": "bar",
         "x": [
          "male",
          "female"
         ],
         "xaxis": "x",
         "y": [
          499,
          201
         ],
         "yaxis": "y"
        },
        {
         "name": "Bad Credit",
         "type": "bar",
         "x": [
          "male",
          "female"
         ],
         "xaxis": "x",
         "y": [
          191,
          109
         ],
         "yaxis": "y"
        },
        {
         "name": "Good credit",
         "type": "box",
         "x": [
          "male",
          "male",
          "male",
          "male",
          "male",
          "male",
          "male",
          "female",
          "female",
          "male",
          "male",
          "male",
          "male",
          "male",
          "male",
          "male",
          "male",
          "male",
          "male",
          "female",
          "male",
          "male",
          "male",
          "male",
          "male",
          "female",
          "male",
          "male",
          "male",
          "male",
          "male",
          "male",
          "male",
          "female",
          "male",
          "female",
          "male",
          "female",
          "male",
          "male",
          "male",
          "male",
          "male",
          "female",
          "female",
          "male",
          "male",
          "female",
          "male",
          "female",
          "male",
          "female",
          "female",
          "male",
          "male",
          "female",
          "male",
          "male",
          "male",
          "male",
          "male",
          "female",
          "female",
          "male",
          "female",
          "female",
          "male",
          "male",
          "male",
          "male",
          "male",
          "female",
          "male",
          "male",
          "male",
          "male",
          "male",
          "female",
          "male",
          "male",
          "male",
          "female",
          "male",
          "male",
          "female",
          "male",
          "male",
          "male",
          "female",
          "male",
          "female",
          "male",
          "male",
          "male",
          "male",
          "male",
          "female",
          "male",
          "male",
          "female",
          "female",
          "male",
          "male",
          "female",
          "male",
          "female",
          "male",
          "female",
          "male",
          "female",
          "female",
          "male",
          "male",
          "male",
          "male",
          "male",
          "female",
          "male",
          "male",
          "male",
          "male",
          "male",
          "male",
          "female",
          "male",
          "male",
          "male",
          "male",
          "female",
          "female",
          "female",
          "male",
          "male",
          "male",
          "male",
          "male",
          "male",
          "male",
          "male",
          "female",
          "male",
          "female",
          "male",
          "male",
          "male",
          "male",
          "male",
          "male",
          "male",
          "male",
          "male",
          "male",
          "male",
          "female",
          "male",
          "female",
          "male",
          "male",
          "male",
          "female",
          "male",
          "female",
          "male",
          "male",
          "male",
          "male",
          "male",
          "male",
          "male",
          "male",
          "male",
          "female",
          "male",
          "male",
          "female",
          "female",
          "male",
          "male",
          "male",
          "male",
          "female",
          "female",
          "male",
          "male",
          "male",
          "male",
          "female",
          "female",
          "male",
          "female",
          "male",
          "female",
          "male",
          "male",
          "female",
          "male",
          "male",
          "female",
          "male",
          "male",
          "female",
          "male",
          "male",
          "male",
          "male",
          "male",
          "male",
          "male",
          "female",
          "male",
          "male",
          "female",
          "male",
          "female",
          "male",
          "male",
          "female",
          "male",
          "male",
          "male",
          "female",
          "male",
          "male",
          "female",
          "male",
          "male",
          "male",
          "female",
          "male",
          "male",
          "female",
          "male",
          "female",
          "male",
          "male",
          "female",
          "male",
          "male",
          "female",
          "male",
          "male",
          "male",
          "female",
          "male",
          "male",
          "female",
          "female",
          "male",
          "male",
          "male",
          "female",
          "male",
          "female",
          "male",
          "female",
          "male",
          "male",
          "male",
          "male",
          "male",
          "male",
          "female",
          "male",
          "male",
          "male",
          "female",
          "female",
          "male",
          "male",
          "female",
          "male",
          "male",
          "male",
          "female",
          "male",
          "female",
          "male",
          "male",
          "female",
          "female",
          "male",
          "male",
          "female",
          "male",
          "female",
          "male",
          "female",
          "male",
          "male",
          "female",
          "male",
          "female",
          "male",
          "male",
          "male",
          "male",
          "male",
          "male",
          "male",
          "female",
          "male",
          "male",
          "male",
          "female",
          "female",
          "female",
          "male",
          "male",
          "male",
          "male",
          "male",
          "male",
          "male",
          "male",
          "male",
          "male",
          "male",
          "male",
          "female",
          "male",
          "male",
          "female",
          "male",
          "female",
          "male",
          "female",
          "male",
          "female",
          "male",
          "male",
          "female",
          "male",
          "female",
          "male",
          "male",
          "male",
          "female",
          "male",
          "male",
          "male",
          "male",
          "female",
          "male",
          "male",
          "male",
          "male",
          "male",
          "male",
          "female",
          "male",
          "female",
          "female",
          "male",
          "male",
          "female",
          "male",
          "male",
          "male",
          "female",
          "male",
          "male",
          "male",
          "male",
          "male",
          "male",
          "male",
          "male",
          "male",
          "male",
          "male",
          "male",
          "male",
          "male",
          "female",
          "male",
          "male",
          "male",
          "male",
          "female",
          "female",
          "male",
          "female",
          "male",
          "male",
          "male",
          "male",
          "male",
          "male",
          "female",
          "female",
          "female",
          "male",
          "male",
          "female",
          "male",
          "male",
          "female",
          "male",
          "male",
          "female",
          "male",
          "female",
          "male",
          "female",
          "male",
          "male",
          "male",
          "female",
          "female",
          "male",
          "female",
          "female",
          "female",
          "male",
          "male",
          "female",
          "female",
          "male",
          "male",
          "female",
          "female",
          "female",
          "male",
          "female",
          "female",
          "male",
          "male",
          "male",
          "male",
          "female",
          "female",
          "male",
          "male",
          "male",
          "male",
          "male",
          "female",
          "male",
          "male",
          "male",
          "male",
          "female",
          "male",
          "male",
          "female",
          "male",
          "female",
          "male",
          "male",
          "male",
          "male",
          "male",
          "male",
          "male",
          "male",
          "female",
          "male",
          "male",
          "male",
          "male",
          "female",
          "male",
          "male",
          "female",
          "male",
          "male",
          "male",
          "male",
          "male",
          "female",
          "male",
          "male",
          "female",
          "female",
          "male",
          "male",
          "male",
          "male",
          "male",
          "male",
          "male",
          "male",
          "male",
          "male",
          "female",
          "male",
          "male",
          "male",
          "male",
          "male",
          "female",
          "male",
          "male",
          "female",
          "male",
          "female",
          "female",
          "female",
          "male",
          "male",
          "male",
          "male",
          "male",
          "male",
          "male",
          "male",
          "male",
          "female",
          "female",
          "male",
          "male",
          "male",
          "female",
          "female",
          "female",
          "female",
          "male",
          "male",
          "male",
          "male",
          "male",
          "male",
          "male",
          "male",
          "female",
          "male",
          "male",
          "female",
          "female",
          "female",
          "male",
          "male",
          "female",
          "male",
          "male",
          "male",
          "female",
          "male",
          "male",
          "female",
          "male",
          "male",
          "male",
          "male",
          "female",
          "male",
          "female",
          "male",
          "male",
          "male",
          "male",
          "male",
          "male",
          "male",
          "male",
          "male",
          "male",
          "female",
          "female",
          "male",
          "male",
          "male",
          "female",
          "female",
          "male",
          "female",
          "male",
          "male",
          "male",
          "male",
          "male",
          "female",
          "male",
          "female",
          "male",
          "male",
          "male",
          "male",
          "male",
          "male",
          "male",
          "male",
          "female",
          "female",
          "female",
          "male",
          "male",
          "male",
          "male",
          "male",
          "male",
          "male",
          "male",
          "male",
          "male",
          "male",
          "male",
          "female",
          "male",
          "male",
          "male",
          "male",
          "female",
          "female",
          "male",
          "male",
          "female",
          "female",
          "male",
          "male",
          "female",
          "male",
          "female",
          "male",
          "male",
          "male",
          "male",
          "male",
          "male",
          "female",
          "male",
          "male",
          "male",
          "male",
          "male",
          "male",
          "male",
          "male",
          "male",
          "female",
          "female",
          "female",
          "male",
          "male",
          "male",
          "male",
          "male",
          "male",
          "male",
          "female",
          "female",
          "female",
          "female",
          "male",
          "male",
          "female",
          "male",
          "male",
          "female",
          "male",
          "male",
          "male",
          "male",
          "male",
          "female",
          "male",
          "male",
          "male",
          "male",
          "male",
          "male",
          "female",
          "female",
          "male",
          "male",
          "female",
          "female",
          "male",
          "male",
          "male",
          "male",
          "male",
          "male",
          "male",
          "female",
          "female",
          "male",
          "male",
          "male",
          "male",
          "female",
          "female",
          "female",
          "male",
          "female",
          "male",
          "female",
          "male",
          "female",
          "male",
          "male",
          "male",
          "male",
          "male",
          "male",
          "male",
          "female",
          "male",
          "male",
          "male"
         ],
         "xaxis": "x2",
         "y": [
          1169,
          2096,
          7882,
          9055,
          2835,
          6948,
          3059,
          1567,
          1403,
          2424,
          8072,
          3430,
          2134,
          2647,
          2241,
          1804,
          2069,
          1374,
          426,
          409,
          2415,
          1913,
          4020,
          5866,
          1264,
          1474,
          6110,
          1225,
          458,
          2333,
          1158,
          6204,
          6187,
          1393,
          2299,
          1352,
          7228,
          2073,
          2333,
          5965,
          1262,
          3378,
          783,
          9566,
          1961,
          1391,
          1537,
          3181,
          5190,
          2171,
          1007,
          2394,
          8133,
          730,
          1164,
          5954,
          1526,
          4771,
          9436,
          3832,
          1213,
          1568,
          1755,
          2315,
          1412,
          1295,
          2249,
          618,
          1409,
          3617,
          1318,
          2012,
          2622,
          2337,
          7057,
          1469,
          2323,
          932,
          1919,
          2445,
          6078,
          7721,
          1410,
          1449,
          392,
          6260,
          1680,
          3578,
          2132,
          2366,
          3868,
          1768,
          781,
          2121,
          701,
          1860,
          8487,
          2708,
          1984,
          10144,
          1240,
          8613,
          2728,
          1881,
          709,
          4795,
          3416,
          2288,
          3566,
          860,
          682,
          5371,
          1582,
          1346,
          1924,
          5848,
          7758,
          6967,
          1288,
          339,
          3512,
          1898,
          2872,
          1055,
          1262,
          7308,
          909,
          2978,
          1577,
          3972,
          763,
          1414,
          2577,
          338,
          1963,
          571,
          3777,
          1360,
          1175,
          3244,
          2108,
          1382,
          2760,
          936,
          1168,
          5117,
          1495,
          10623,
          1935,
          1424,
          6568,
          1413,
          3074,
          3835,
          3342,
          932,
          3104,
          3913,
          3021,
          1364,
          625,
          1200,
          707,
          2978,
          4657,
          2613,
          3149,
          2507,
          2141,
          866,
          1544,
          1291,
          2522,
          1595,
          1185,
          3447,
          1258,
          717,
          1204,
          1925,
          666,
          2251,
          4151,
          2030,
          7418,
          2684,
          3812,
          1154,
          1657,
          1603,
          5302,
          2748,
          1231,
          6304,
          1533,
          999,
          2662,
          1402,
          12169,
          2697,
          2404,
          1262,
          1901,
          3368,
          1574,
          1445,
          1520,
          3878,
          10722,
          4788,
          7582,
          1092,
          1076,
          6419,
          4796,
          7629,
          4675,
          1287,
          2515,
          2745,
          672,
          1038,
          1543,
          4811,
          276,
          5381,
          5511,
          3749,
          1494,
          708,
          4351,
          701,
          3643,
          2910,
          2659,
          1028,
          3398,
          5801,
          1525,
          4473,
          1068,
          6615,
          2101,
          4169,
          1521,
          5743,
          3599,
          3213,
          4439,
          3949,
          1459,
          882,
          3758,
          1743,
          1236,
          3229,
          727,
          2331,
          776,
          1239,
          3399,
          2247,
          1766,
          1542,
          3850,
          3650,
          3001,
          3079,
          6070,
          2146,
          13756,
          2320,
          846,
          362,
          2212,
          1283,
          1330,
          4272,
          2238,
          1126,
          7374,
          2326,
          1449,
          1820,
          983,
          3249,
          1957,
          2406,
          11760,
          2578,
          2348,
          1516,
          1473,
          1887,
          802,
          2899,
          2197,
          1053,
          3235,
          1967,
          7253,
          1597,
          5842,
          8471,
          2782,
          3186,
          2028,
          958,
          1591,
          2779,
          2743,
          1149,
          1313,
          3448,
          1872,
          2058,
          2136,
          660,
          1287,
          3394,
          1884,
          1620,
          2629,
          1244,
          2576,
          1424,
          11054,
          518,
          2759,
          2670,
          2679,
          3905,
          343,
          4594,
          3620,
          1721,
          3017,
          754,
          1950,
          2924,
          7238,
          2764,
          4679,
          1238,
          2569,
          5152,
          1037,
          1478,
          3573,
          1201,
          3622,
          960,
          1163,
          3077,
          3757,
          1418,
          3518,
          1934,
          1237,
          368,
          2122,
          1585,
          1301,
          1323,
          5493,
          1126,
          2360,
          1413,
          8588,
          4686,
          2687,
          585,
          2255,
          609,
          1361,
          1203,
          700,
          5507,
          3488,
          1113,
          7966,
          1532,
          1503,
          662,
          2273,
          1503,
          1311,
          3105,
          1374,
          3612,
          3049,
          2032,
          1255,
          2022,
          1552,
          8858,
          996,
          1750,
          1995,
          1199,
          2964,
          683,
          4712,
          1553,
          2578,
          3979,
          5954,
          5433,
          806,
          1082,
          2788,
          2930,
          1927,
          937,
          3124,
          1388,
          2133,
          2799,
          1289,
          385,
          1965,
          1572,
          3863,
          2329,
          1275,
          2828,
          4526,
          2051,
          1300,
          3357,
          3632,
          12204,
          9157,
          3676,
          640,
          3652,
          1858,
          1979,
          2116,
          4042,
          3832,
          3660,
          1444,
          1393,
          1376,
          15653,
          1493,
          1308,
          1851,
          1880,
          4583,
          7476,
          2346,
          3973,
          10222,
          4221,
          6361,
          1297,
          2241,
          1050,
          1047,
          6314,
          3496,
          3609,
          3017,
          4139,
          5742,
          10366,
          2080,
          4530,
          5150,
          2384,
          1453,
          1538,
          2279,
          1478,
          5103,
          9857,
          6527,
          1347,
          2862,
          2753,
          3651,
          975,
          2631,
          2896,
          4716,
          2284,
          1236,
          1103,
          926,
          1800,
          1905,
          1377,
          2503,
          2528,
          5324,
          1206,
          2118,
          629,
          2476,
          1138,
          7596,
          3077,
          1505,
          3148,
          6148,
          790,
          250,
          1316,
          1275,
          6403,
          760,
          2603,
          3380,
          3990,
          4380,
          6761,
          2325,
          1048,
          3160,
          2483,
          14179,
          1797,
          2511,
          5248,
          3029,
          428,
          841,
          5771,
          1299,
          1393,
          5045,
          2214,
          2463,
          1155,
          2901,
          3617,
          1655,
          2812,
          3275,
          2223,
          1480,
          3535,
          3509,
          5711,
          3872,
          1940,
          1410,
          6468,
          1941,
          2675,
          2751,
          6313,
          1221,
          2892,
          3062,
          2301,
          1258,
          717,
          1549,
          1597,
          1795,
          4272,
          976,
          7472,
          590,
          930,
          9283,
          907,
          484,
          7432,
          1338,
          1554,
          15857,
          1101,
          3016,
          731,
          3780,
          1602,
          6681,
          2375,
          5084,
          886,
          601,
          2957,
          2611,
          2993,
          1559,
          3422,
          3976,
          1249,
          1364,
          4042,
          1471,
          10875,
          1474,
          894,
          3343,
          3577,
          5804,
          4526,
          2221,
          2389,
          3331,
          7409,
          652,
          7678,
          1343,
          1382,
          874,
          3590,
          1322,
          1940,
          3595,
          6742,
          7814,
          9277,
          2181,
          1098,
          2825,
          6614,
          7824,
          2442,
          1829,
          2171,
          5800,
          1169,
          8947,
          2606,
          1592,
          2186,
          3485,
          10477,
          1386,
          1278,
          1107,
          3763,
          3711,
          3594,
          3195,
          4454,
          2991,
          2142,
          2848,
          1817,
          12749,
          2002,
          1049,
          1867,
          1344,
          1747,
          1224,
          522,
          1498,
          2063,
          6842,
          3527,
          1546,
          929,
          1455,
          1845,
          8358,
          2859,
          3590,
          1893,
          1231,
          3656,
          1154,
          3069,
          1740,
          2353,
          3556,
          454,
          1715,
          3568,
          7166,
          3939,
          1514,
          7393,
          2831,
          1258,
          753,
          2427,
          2923,
          2028,
          1433,
          6289,
          1409,
          6579,
          1743,
          3565,
          1569,
          1936,
          3959,
          2390,
          1736,
          3857,
          804,
          4576
         ],
         "yaxis": "y2"
        },
        {
         "name": "Bad Credit",
         "type": "box",
         "x": [
          "female",
          "male",
          "male",
          "female",
          "female",
          "male",
          "female",
          "female",
          "male",
          "male",
          "male",
          "female",
          "male",
          "male",
          "female",
          "male",
          "male",
          "male",
          "male",
          "male",
          "female",
          "male",
          "male",
          "female",
          "male",
          "male",
          "male",
          "female",
          "female",
          "female",
          "female",
          "female",
          "male",
          "female",
          "male",
          "male",
          "male",
          "female",
          "female",
          "male",
          "male",
          "female",
          "male",
          "female",
          "male",
          "male",
          "male",
          "male",
          "female",
          "male",
          "male",
          "male",
          "male",
          "male",
          "female",
          "female",
          "male",
          "male",
          "male",
          "male",
          "male",
          "male",
          "male",
          "male",
          "male",
          "male",
          "male",
          "female",
          "male",
          "female",
          "female",
          "male",
          "male",
          "male",
          "male",
          "male",
          "female",
          "male",
          "male",
          "female",
          "female",
          "male",
          "male",
          "male",
          "female",
          "male",
          "male",
          "male",
          "male",
          "female",
          "female",
          "female",
          "male",
          "male",
          "female",
          "male",
          "female",
          "male",
          "male",
          "male",
          "female",
          "male",
          "male",
          "female",
          "female",
          "male",
          "female",
          "male",
          "male",
          "male",
          "male",
          "male",
          "female",
          "male",
          "female",
          "female",
          "female",
          "male",
          "male",
          "female",
          "male",
          "female",
          "female",
          "male",
          "male",
          "male",
          "female",
          "male",
          "female",
          "male",
          "male",
          "female",
          "male",
          "female",
          "male",
          "male",
          "female",
          "male",
          "female",
          "male",
          "male",
          "male",
          "female",
          "female",
          "male",
          "male",
          "female",
          "male",
          "male",
          "male",
          "male",
          "male",
          "male",
          "female",
          "male",
          "male",
          "female",
          "female",
          "male",
          "male",
          "male",
          "male",
          "male",
          "female",
          "female",
          "male",
          "male",
          "male",
          "female",
          "male",
          "male",
          "female",
          "male",
          "female",
          "female",
          "male",
          "male",
          "female",
          "female",
          "female",
          "female",
          "female",
          "female",
          "female",
          "female",
          "male",
          "male",
          "male",
          "male",
          "male",
          "female",
          "female",
          "male",
          "female",
          "male",
          "male",
          "female",
          "male",
          "male",
          "male",
          "male",
          "male",
          "male",
          "male",
          "male",
          "male",
          "male",
          "female",
          "male",
          "male",
          "female",
          "female",
          "male",
          "male",
          "female",
          "female",
          "female",
          "female",
          "female",
          "male",
          "female",
          "female",
          "female",
          "female",
          "male",
          "female",
          "male",
          "male",
          "female",
          "male",
          "male",
          "female",
          "female",
          "male",
          "female",
          "male",
          "male",
          "female",
          "male",
          "male",
          "female",
          "male",
          "male",
          "male",
          "male",
          "male",
          "female",
          "male",
          "male",
          "female",
          "male",
          "female",
          "male",
          "male",
          "female",
          "male",
          "male",
          "male",
          "male",
          "female",
          "male",
          "female",
          "male",
          "male",
          "male",
          "female",
          "male",
          "male",
          "male",
          "female",
          "male",
          "female",
          "male",
          "male",
          "male",
          "female",
          "male",
          "male",
          "male",
          "female",
          "male",
          "female",
          "male",
          "male",
          "male",
          "male",
          "male",
          "female",
          "female",
          "male",
          "male",
          "male",
          "female",
          "male",
          "male",
          "male",
          "male",
          "male",
          "male",
          "male"
         ],
         "xaxis": "x2",
         "y": [
          5951,
          4870,
          5234,
          1295,
          4308,
          1199,
          1282,
          12579,
          6836,
          4746,
          2100,
          6143,
          2225,
          6468,
          6229,
          1953,
          14421,
          1819,
          1977,
          3965,
          5943,
          12612,
          1108,
          797,
          15945,
          11938,
          6458,
          7855,
          7174,
          4281,
          1835,
          1924,
          639,
          3499,
          6887,
          766,
          2462,
          1282,
          1131,
          1935,
          950,
          2064,
          3414,
          7485,
          9572,
          4455,
          1647,
          884,
          5129,
          674,
          4591,
          3844,
          3915,
          3031,
          1501,
          951,
          4297,
          902,
          5293,
          1908,
          10961,
          7865,
          1478,
          4210,
          1823,
          14555,
          2767,
          915,
          4605,
          433,
          2150,
          2149,
          802,
          8978,
          3060,
          11998,
          4611,
          1024,
          9398,
          9960,
          3804,
          1344,
          10127,
          727,
          1237,
          685,
          2746,
          4249,
          1938,
          1864,
          7408,
          11590,
          4110,
          3384,
          1275,
          1136,
          959,
          6199,
          1246,
          4463,
          2406,
          2473,
          3446,
          14782,
          7685,
          14318,
          12976,
          1223,
          8648,
          2039,
          939,
          2292,
          1381,
          2579,
          1042,
          2762,
          1190,
          11328,
          1484,
          609,
          719,
          5096,
          1842,
          1512,
          4817,
          3386,
          1659,
          3092,
          448,
          654,
          1245,
          3114,
          1209,
          8318,
          2996,
          9034,
          3123,
          1216,
          1207,
          1309,
          6850,
          759,
          7127,
          3190,
          7119,
          2302,
          2631,
          2319,
          7763,
          1534,
          6350,
          2864,
          1333,
          626,
          6999,
          1331,
          2278,
          5003,
          3552,
          1928,
          1546,
          12389,
          1372,
          6758,
          3234,
          2820,
          1056,
          2384,
          2039,
          1217,
          2246,
          2718,
          1358,
          931,
          1442,
          4241,
          2775,
          918,
          1837,
          3349,
          2671,
          741,
          1240,
          1808,
          3441,
          1530,
          3914,
          2600,
          1437,
          1553,
          1980,
          1355,
          4370,
          750,
          4623,
          7980,
          1386,
          947,
          684,
          1922,
          2303,
          8086,
          888,
          900,
          4843,
          2580,
          5595,
          1123,
          6331,
          6560,
          2969,
          1198,
          14027,
          1337,
          433,
          1228,
          2570,
          1882,
          6416,
          1987,
          11560,
          4280,
          1274,
          976,
          1555,
          1285,
          1271,
          691,
          2124,
          12680,
          3108,
          8065,
          1371,
          4933,
          836,
          6224,
          5998,
          1188,
          7511,
          9271,
          1778,
          9629,
          3051,
          3931,
          1345,
          2712,
          3966,
          4165,
          8335,
          1216,
          11816,
          2327,
          1082,
          5179,
          1943,
          6761,
          709,
          2235,
          1442,
          3959,
          2169,
          2439,
          2210,
          1422,
          4057,
          795,
          15672,
          4153,
          2625,
          4736,
          3161,
          18424,
          14896,
          2359,
          3345,
          1366,
          6872,
          697,
          10297,
          1670,
          1919,
          745,
          6288,
          3349,
          1533,
          3621,
          2145,
          4113,
          10974,
          4006,
          2397,
          2520,
          1193,
          7297,
          2538,
          1264,
          8386,
          4844,
          8229,
          1845
         ],
         "yaxis": "y2"
        }
       ],
       "layout": {
        "annotations": [
         {
          "font": {
           "size": 16
          },
          "showarrow": false,
          "text": "Sex Count",
          "x": 0.225,
          "xanchor": "center",
          "xref": "paper",
          "y": 1,
          "yanchor": "bottom",
          "yref": "paper"
         },
         {
          "font": {
           "size": 16
          },
          "showarrow": false,
          "text": "Credit Amount by Sex",
          "x": 0.775,
          "xanchor": "center",
          "xref": "paper",
          "y": 1,
          "yanchor": "bottom",
          "yref": "paper"
         }
        ],
        "boxmode": "group",
        "height": 400,
        "template": {
         "data": {
          "bar": [
           {
            "error_x": {
             "color": "#2a3f5f"
            },
            "error_y": {
             "color": "#2a3f5f"
            },
            "marker": {
             "line": {
              "color": "#E5ECF6",
              "width": 0.5
             },
             "pattern": {
              "fillmode": "overlay",
              "size": 10,
              "solidity": 0.2
             }
            },
            "type": "bar"
           }
          ],
          "barpolar": [
           {
            "marker": {
             "line": {
              "color": "#E5ECF6",
              "width": 0.5
             },
             "pattern": {
              "fillmode": "overlay",
              "size": 10,
              "solidity": 0.2
             }
            },
            "type": "barpolar"
           }
          ],
          "carpet": [
           {
            "aaxis": {
             "endlinecolor": "#2a3f5f",
             "gridcolor": "white",
             "linecolor": "white",
             "minorgridcolor": "white",
             "startlinecolor": "#2a3f5f"
            },
            "baxis": {
             "endlinecolor": "#2a3f5f",
             "gridcolor": "white",
             "linecolor": "white",
             "minorgridcolor": "white",
             "startlinecolor": "#2a3f5f"
            },
            "type": "carpet"
           }
          ],
          "choropleth": [
           {
            "colorbar": {
             "outlinewidth": 0,
             "ticks": ""
            },
            "type": "choropleth"
           }
          ],
          "contour": [
           {
            "colorbar": {
             "outlinewidth": 0,
             "ticks": ""
            },
            "colorscale": [
             [
              0,
              "#0d0887"
             ],
             [
              0.1111111111111111,
              "#46039f"
             ],
             [
              0.2222222222222222,
              "#7201a8"
             ],
             [
              0.3333333333333333,
              "#9c179e"
             ],
             [
              0.4444444444444444,
              "#bd3786"
             ],
             [
              0.5555555555555556,
              "#d8576b"
             ],
             [
              0.6666666666666666,
              "#ed7953"
             ],
             [
              0.7777777777777778,
              "#fb9f3a"
             ],
             [
              0.8888888888888888,
              "#fdca26"
             ],
             [
              1,
              "#f0f921"
             ]
            ],
            "type": "contour"
           }
          ],
          "contourcarpet": [
           {
            "colorbar": {
             "outlinewidth": 0,
             "ticks": ""
            },
            "type": "contourcarpet"
           }
          ],
          "heatmap": [
           {
            "colorbar": {
             "outlinewidth": 0,
             "ticks": ""
            },
            "colorscale": [
             [
              0,
              "#0d0887"
             ],
             [
              0.1111111111111111,
              "#46039f"
             ],
             [
              0.2222222222222222,
              "#7201a8"
             ],
             [
              0.3333333333333333,
              "#9c179e"
             ],
             [
              0.4444444444444444,
              "#bd3786"
             ],
             [
              0.5555555555555556,
              "#d8576b"
             ],
             [
              0.6666666666666666,
              "#ed7953"
             ],
             [
              0.7777777777777778,
              "#fb9f3a"
             ],
             [
              0.8888888888888888,
              "#fdca26"
             ],
             [
              1,
              "#f0f921"
             ]
            ],
            "type": "heatmap"
           }
          ],
          "heatmapgl": [
           {
            "colorbar": {
             "outlinewidth": 0,
             "ticks": ""
            },
            "colorscale": [
             [
              0,
              "#0d0887"
             ],
             [
              0.1111111111111111,
              "#46039f"
             ],
             [
              0.2222222222222222,
              "#7201a8"
             ],
             [
              0.3333333333333333,
              "#9c179e"
             ],
             [
              0.4444444444444444,
              "#bd3786"
             ],
             [
              0.5555555555555556,
              "#d8576b"
             ],
             [
              0.6666666666666666,
              "#ed7953"
             ],
             [
              0.7777777777777778,
              "#fb9f3a"
             ],
             [
              0.8888888888888888,
              "#fdca26"
             ],
             [
              1,
              "#f0f921"
             ]
            ],
            "type": "heatmapgl"
           }
          ],
          "histogram": [
           {
            "marker": {
             "pattern": {
              "fillmode": "overlay",
              "size": 10,
              "solidity": 0.2
             }
            },
            "type": "histogram"
           }
          ],
          "histogram2d": [
           {
            "colorbar": {
             "outlinewidth": 0,
             "ticks": ""
            },
            "colorscale": [
             [
              0,
              "#0d0887"
             ],
             [
              0.1111111111111111,
              "#46039f"
             ],
             [
              0.2222222222222222,
              "#7201a8"
             ],
             [
              0.3333333333333333,
              "#9c179e"
             ],
             [
              0.4444444444444444,
              "#bd3786"
             ],
             [
              0.5555555555555556,
              "#d8576b"
             ],
             [
              0.6666666666666666,
              "#ed7953"
             ],
             [
              0.7777777777777778,
              "#fb9f3a"
             ],
             [
              0.8888888888888888,
              "#fdca26"
             ],
             [
              1,
              "#f0f921"
             ]
            ],
            "type": "histogram2d"
           }
          ],
          "histogram2dcontour": [
           {
            "colorbar": {
             "outlinewidth": 0,
             "ticks": ""
            },
            "colorscale": [
             [
              0,
              "#0d0887"
             ],
             [
              0.1111111111111111,
              "#46039f"
             ],
             [
              0.2222222222222222,
              "#7201a8"
             ],
             [
              0.3333333333333333,
              "#9c179e"
             ],
             [
              0.4444444444444444,
              "#bd3786"
             ],
             [
              0.5555555555555556,
              "#d8576b"
             ],
             [
              0.6666666666666666,
              "#ed7953"
             ],
             [
              0.7777777777777778,
              "#fb9f3a"
             ],
             [
              0.8888888888888888,
              "#fdca26"
             ],
             [
              1,
              "#f0f921"
             ]
            ],
            "type": "histogram2dcontour"
           }
          ],
          "mesh3d": [
           {
            "colorbar": {
             "outlinewidth": 0,
             "ticks": ""
            },
            "type": "mesh3d"
           }
          ],
          "parcoords": [
           {
            "line": {
             "colorbar": {
              "outlinewidth": 0,
              "ticks": ""
             }
            },
            "type": "parcoords"
           }
          ],
          "pie": [
           {
            "automargin": true,
            "type": "pie"
           }
          ],
          "scatter": [
           {
            "fillpattern": {
             "fillmode": "overlay",
             "size": 10,
             "solidity": 0.2
            },
            "type": "scatter"
           }
          ],
          "scatter3d": [
           {
            "line": {
             "colorbar": {
              "outlinewidth": 0,
              "ticks": ""
             }
            },
            "marker": {
             "colorbar": {
              "outlinewidth": 0,
              "ticks": ""
             }
            },
            "type": "scatter3d"
           }
          ],
          "scattercarpet": [
           {
            "marker": {
             "colorbar": {
              "outlinewidth": 0,
              "ticks": ""
             }
            },
            "type": "scattercarpet"
           }
          ],
          "scattergeo": [
           {
            "marker": {
             "colorbar": {
              "outlinewidth": 0,
              "ticks": ""
             }
            },
            "type": "scattergeo"
           }
          ],
          "scattergl": [
           {
            "marker": {
             "colorbar": {
              "outlinewidth": 0,
              "ticks": ""
             }
            },
            "type": "scattergl"
           }
          ],
          "scattermapbox": [
           {
            "marker": {
             "colorbar": {
              "outlinewidth": 0,
              "ticks": ""
             }
            },
            "type": "scattermapbox"
           }
          ],
          "scatterpolar": [
           {
            "marker": {
             "colorbar": {
              "outlinewidth": 0,
              "ticks": ""
             }
            },
            "type": "scatterpolar"
           }
          ],
          "scatterpolargl": [
           {
            "marker": {
             "colorbar": {
              "outlinewidth": 0,
              "ticks": ""
             }
            },
            "type": "scatterpolargl"
           }
          ],
          "scatterternary": [
           {
            "marker": {
             "colorbar": {
              "outlinewidth": 0,
              "ticks": ""
             }
            },
            "type": "scatterternary"
           }
          ],
          "surface": [
           {
            "colorbar": {
             "outlinewidth": 0,
             "ticks": ""
            },
            "colorscale": [
             [
              0,
              "#0d0887"
             ],
             [
              0.1111111111111111,
              "#46039f"
             ],
             [
              0.2222222222222222,
              "#7201a8"
             ],
             [
              0.3333333333333333,
              "#9c179e"
             ],
             [
              0.4444444444444444,
              "#bd3786"
             ],
             [
              0.5555555555555556,
              "#d8576b"
             ],
             [
              0.6666666666666666,
              "#ed7953"
             ],
             [
              0.7777777777777778,
              "#fb9f3a"
             ],
             [
              0.8888888888888888,
              "#fdca26"
             ],
             [
              1,
              "#f0f921"
             ]
            ],
            "type": "surface"
           }
          ],
          "table": [
           {
            "cells": {
             "fill": {
              "color": "#EBF0F8"
             },
             "line": {
              "color": "white"
             }
            },
            "header": {
             "fill": {
              "color": "#C8D4E3"
             },
             "line": {
              "color": "white"
             }
            },
            "type": "table"
           }
          ]
         },
         "layout": {
          "annotationdefaults": {
           "arrowcolor": "#2a3f5f",
           "arrowhead": 0,
           "arrowwidth": 1
          },
          "autotypenumbers": "strict",
          "coloraxis": {
           "colorbar": {
            "outlinewidth": 0,
            "ticks": ""
           }
          },
          "colorscale": {
           "diverging": [
            [
             0,
             "#8e0152"
            ],
            [
             0.1,
             "#c51b7d"
            ],
            [
             0.2,
             "#de77ae"
            ],
            [
             0.3,
             "#f1b6da"
            ],
            [
             0.4,
             "#fde0ef"
            ],
            [
             0.5,
             "#f7f7f7"
            ],
            [
             0.6,
             "#e6f5d0"
            ],
            [
             0.7,
             "#b8e186"
            ],
            [
             0.8,
             "#7fbc41"
            ],
            [
             0.9,
             "#4d9221"
            ],
            [
             1,
             "#276419"
            ]
           ],
           "sequential": [
            [
             0,
             "#0d0887"
            ],
            [
             0.1111111111111111,
             "#46039f"
            ],
            [
             0.2222222222222222,
             "#7201a8"
            ],
            [
             0.3333333333333333,
             "#9c179e"
            ],
            [
             0.4444444444444444,
             "#bd3786"
            ],
            [
             0.5555555555555556,
             "#d8576b"
            ],
            [
             0.6666666666666666,
             "#ed7953"
            ],
            [
             0.7777777777777778,
             "#fb9f3a"
            ],
            [
             0.8888888888888888,
             "#fdca26"
            ],
            [
             1,
             "#f0f921"
            ]
           ],
           "sequentialminus": [
            [
             0,
             "#0d0887"
            ],
            [
             0.1111111111111111,
             "#46039f"
            ],
            [
             0.2222222222222222,
             "#7201a8"
            ],
            [
             0.3333333333333333,
             "#9c179e"
            ],
            [
             0.4444444444444444,
             "#bd3786"
            ],
            [
             0.5555555555555556,
             "#d8576b"
            ],
            [
             0.6666666666666666,
             "#ed7953"
            ],
            [
             0.7777777777777778,
             "#fb9f3a"
            ],
            [
             0.8888888888888888,
             "#fdca26"
            ],
            [
             1,
             "#f0f921"
            ]
           ]
          },
          "colorway": [
           "#636efa",
           "#EF553B",
           "#00cc96",
           "#ab63fa",
           "#FFA15A",
           "#19d3f3",
           "#FF6692",
           "#B6E880",
           "#FF97FF",
           "#FECB52"
          ],
          "font": {
           "color": "#2a3f5f"
          },
          "geo": {
           "bgcolor": "white",
           "lakecolor": "white",
           "landcolor": "#E5ECF6",
           "showlakes": true,
           "showland": true,
           "subunitcolor": "white"
          },
          "hoverlabel": {
           "align": "left"
          },
          "hovermode": "closest",
          "mapbox": {
           "style": "light"
          },
          "paper_bgcolor": "white",
          "plot_bgcolor": "#E5ECF6",
          "polar": {
           "angularaxis": {
            "gridcolor": "white",
            "linecolor": "white",
            "ticks": ""
           },
           "bgcolor": "#E5ECF6",
           "radialaxis": {
            "gridcolor": "white",
            "linecolor": "white",
            "ticks": ""
           }
          },
          "scene": {
           "xaxis": {
            "backgroundcolor": "#E5ECF6",
            "gridcolor": "white",
            "gridwidth": 2,
            "linecolor": "white",
            "showbackground": true,
            "ticks": "",
            "zerolinecolor": "white"
           },
           "yaxis": {
            "backgroundcolor": "#E5ECF6",
            "gridcolor": "white",
            "gridwidth": 2,
            "linecolor": "white",
            "showbackground": true,
            "ticks": "",
            "zerolinecolor": "white"
           },
           "zaxis": {
            "backgroundcolor": "#E5ECF6",
            "gridcolor": "white",
            "gridwidth": 2,
            "linecolor": "white",
            "showbackground": true,
            "ticks": "",
            "zerolinecolor": "white"
           }
          },
          "shapedefaults": {
           "line": {
            "color": "#2a3f5f"
           }
          },
          "ternary": {
           "aaxis": {
            "gridcolor": "white",
            "linecolor": "white",
            "ticks": ""
           },
           "baxis": {
            "gridcolor": "white",
            "linecolor": "white",
            "ticks": ""
           },
           "bgcolor": "#E5ECF6",
           "caxis": {
            "gridcolor": "white",
            "linecolor": "white",
            "ticks": ""
           }
          },
          "title": {
           "x": 0.05
          },
          "xaxis": {
           "automargin": true,
           "gridcolor": "white",
           "linecolor": "white",
           "ticks": "",
           "title": {
            "standoff": 15
           },
           "zerolinecolor": "white",
           "zerolinewidth": 2
          },
          "yaxis": {
           "automargin": true,
           "gridcolor": "white",
           "linecolor": "white",
           "ticks": "",
           "title": {
            "standoff": 15
           },
           "zerolinecolor": "white",
           "zerolinewidth": 2
          }
         }
        },
        "title": {
         "text": "Sex Distribuition"
        },
        "width": 800,
        "xaxis": {
         "anchor": "y",
         "domain": [
          0,
          0.45
         ]
        },
        "xaxis2": {
         "anchor": "y2",
         "domain": [
          0.55,
          1
         ]
        },
        "yaxis": {
         "anchor": "x",
         "domain": [
          0,
          1
         ]
        },
        "yaxis2": {
         "anchor": "x2",
         "domain": [
          0,
          1
         ]
        }
       }
      },
      "text/html": [
       "<div>                            <div id=\"df032915-8808-4fb6-b9da-ba0145396e02\" class=\"plotly-graph-div\" style=\"height:400px; width:800px;\"></div>            <script type=\"text/javascript\">                require([\"plotly\"], function(Plotly) {                    window.PLOTLYENV=window.PLOTLYENV || {};                                    if (document.getElementById(\"df032915-8808-4fb6-b9da-ba0145396e02\")) {                    Plotly.newPlot(                        \"df032915-8808-4fb6-b9da-ba0145396e02\",                        [{\"name\":\"Good credit\",\"x\":[\"male\",\"female\"],\"xaxis\":\"x\",\"y\":[499,201],\"yaxis\":\"y\",\"type\":\"bar\"},{\"name\":\"Bad Credit\",\"x\":[\"male\",\"female\"],\"xaxis\":\"x\",\"y\":[191,109],\"yaxis\":\"y\",\"type\":\"bar\"},{\"name\":\"Good credit\",\"x\":[\"male\",\"male\",\"male\",\"male\",\"male\",\"male\",\"male\",\"female\",\"female\",\"male\",\"male\",\"male\",\"male\",\"male\",\"male\",\"male\",\"male\",\"male\",\"male\",\"female\",\"male\",\"male\",\"male\",\"male\",\"male\",\"female\",\"male\",\"male\",\"male\",\"male\",\"male\",\"male\",\"male\",\"female\",\"male\",\"female\",\"male\",\"female\",\"male\",\"male\",\"male\",\"male\",\"male\",\"female\",\"female\",\"male\",\"male\",\"female\",\"male\",\"female\",\"male\",\"female\",\"female\",\"male\",\"male\",\"female\",\"male\",\"male\",\"male\",\"male\",\"male\",\"female\",\"female\",\"male\",\"female\",\"female\",\"male\",\"male\",\"male\",\"male\",\"male\",\"female\",\"male\",\"male\",\"male\",\"male\",\"male\",\"female\",\"male\",\"male\",\"male\",\"female\",\"male\",\"male\",\"female\",\"male\",\"male\",\"male\",\"female\",\"male\",\"female\",\"male\",\"male\",\"male\",\"male\",\"male\",\"female\",\"male\",\"male\",\"female\",\"female\",\"male\",\"male\",\"female\",\"male\",\"female\",\"male\",\"female\",\"male\",\"female\",\"female\",\"male\",\"male\",\"male\",\"male\",\"male\",\"female\",\"male\",\"male\",\"male\",\"male\",\"male\",\"male\",\"female\",\"male\",\"male\",\"male\",\"male\",\"female\",\"female\",\"female\",\"male\",\"male\",\"male\",\"male\",\"male\",\"male\",\"male\",\"male\",\"female\",\"male\",\"female\",\"male\",\"male\",\"male\",\"male\",\"male\",\"male\",\"male\",\"male\",\"male\",\"male\",\"male\",\"female\",\"male\",\"female\",\"male\",\"male\",\"male\",\"female\",\"male\",\"female\",\"male\",\"male\",\"male\",\"male\",\"male\",\"male\",\"male\",\"male\",\"male\",\"female\",\"male\",\"male\",\"female\",\"female\",\"male\",\"male\",\"male\",\"male\",\"female\",\"female\",\"male\",\"male\",\"male\",\"male\",\"female\",\"female\",\"male\",\"female\",\"male\",\"female\",\"male\",\"male\",\"female\",\"male\",\"male\",\"female\",\"male\",\"male\",\"female\",\"male\",\"male\",\"male\",\"male\",\"male\",\"male\",\"male\",\"female\",\"male\",\"male\",\"female\",\"male\",\"female\",\"male\",\"male\",\"female\",\"male\",\"male\",\"male\",\"female\",\"male\",\"male\",\"female\",\"male\",\"male\",\"male\",\"female\",\"male\",\"male\",\"female\",\"male\",\"female\",\"male\",\"male\",\"female\",\"male\",\"male\",\"female\",\"male\",\"male\",\"male\",\"female\",\"male\",\"male\",\"female\",\"female\",\"male\",\"male\",\"male\",\"female\",\"male\",\"female\",\"male\",\"female\",\"male\",\"male\",\"male\",\"male\",\"male\",\"male\",\"female\",\"male\",\"male\",\"male\",\"female\",\"female\",\"male\",\"male\",\"female\",\"male\",\"male\",\"male\",\"female\",\"male\",\"female\",\"male\",\"male\",\"female\",\"female\",\"male\",\"male\",\"female\",\"male\",\"female\",\"male\",\"female\",\"male\",\"male\",\"female\",\"male\",\"female\",\"male\",\"male\",\"male\",\"male\",\"male\",\"male\",\"male\",\"female\",\"male\",\"male\",\"male\",\"female\",\"female\",\"female\",\"male\",\"male\",\"male\",\"male\",\"male\",\"male\",\"male\",\"male\",\"male\",\"male\",\"male\",\"male\",\"female\",\"male\",\"male\",\"female\",\"male\",\"female\",\"male\",\"female\",\"male\",\"female\",\"male\",\"male\",\"female\",\"male\",\"female\",\"male\",\"male\",\"male\",\"female\",\"male\",\"male\",\"male\",\"male\",\"female\",\"male\",\"male\",\"male\",\"male\",\"male\",\"male\",\"female\",\"male\",\"female\",\"female\",\"male\",\"male\",\"female\",\"male\",\"male\",\"male\",\"female\",\"male\",\"male\",\"male\",\"male\",\"male\",\"male\",\"male\",\"male\",\"male\",\"male\",\"male\",\"male\",\"male\",\"male\",\"female\",\"male\",\"male\",\"male\",\"male\",\"female\",\"female\",\"male\",\"female\",\"male\",\"male\",\"male\",\"male\",\"male\",\"male\",\"female\",\"female\",\"female\",\"male\",\"male\",\"female\",\"male\",\"male\",\"female\",\"male\",\"male\",\"female\",\"male\",\"female\",\"male\",\"female\",\"male\",\"male\",\"male\",\"female\",\"female\",\"male\",\"female\",\"female\",\"female\",\"male\",\"male\",\"female\",\"female\",\"male\",\"male\",\"female\",\"female\",\"female\",\"male\",\"female\",\"female\",\"male\",\"male\",\"male\",\"male\",\"female\",\"female\",\"male\",\"male\",\"male\",\"male\",\"male\",\"female\",\"male\",\"male\",\"male\",\"male\",\"female\",\"male\",\"male\",\"female\",\"male\",\"female\",\"male\",\"male\",\"male\",\"male\",\"male\",\"male\",\"male\",\"male\",\"female\",\"male\",\"male\",\"male\",\"male\",\"female\",\"male\",\"male\",\"female\",\"male\",\"male\",\"male\",\"male\",\"male\",\"female\",\"male\",\"male\",\"female\",\"female\",\"male\",\"male\",\"male\",\"male\",\"male\",\"male\",\"male\",\"male\",\"male\",\"male\",\"female\",\"male\",\"male\",\"male\",\"male\",\"male\",\"female\",\"male\",\"male\",\"female\",\"male\",\"female\",\"female\",\"female\",\"male\",\"male\",\"male\",\"male\",\"male\",\"male\",\"male\",\"male\",\"male\",\"female\",\"female\",\"male\",\"male\",\"male\",\"female\",\"female\",\"female\",\"female\",\"male\",\"male\",\"male\",\"male\",\"male\",\"male\",\"male\",\"male\",\"female\",\"male\",\"male\",\"female\",\"female\",\"female\",\"male\",\"male\",\"female\",\"male\",\"male\",\"male\",\"female\",\"male\",\"male\",\"female\",\"male\",\"male\",\"male\",\"male\",\"female\",\"male\",\"female\",\"male\",\"male\",\"male\",\"male\",\"male\",\"male\",\"male\",\"male\",\"male\",\"male\",\"female\",\"female\",\"male\",\"male\",\"male\",\"female\",\"female\",\"male\",\"female\",\"male\",\"male\",\"male\",\"male\",\"male\",\"female\",\"male\",\"female\",\"male\",\"male\",\"male\",\"male\",\"male\",\"male\",\"male\",\"male\",\"female\",\"female\",\"female\",\"male\",\"male\",\"male\",\"male\",\"male\",\"male\",\"male\",\"male\",\"male\",\"male\",\"male\",\"male\",\"female\",\"male\",\"male\",\"male\",\"male\",\"female\",\"female\",\"male\",\"male\",\"female\",\"female\",\"male\",\"male\",\"female\",\"male\",\"female\",\"male\",\"male\",\"male\",\"male\",\"male\",\"male\",\"female\",\"male\",\"male\",\"male\",\"male\",\"male\",\"male\",\"male\",\"male\",\"male\",\"female\",\"female\",\"female\",\"male\",\"male\",\"male\",\"male\",\"male\",\"male\",\"male\",\"female\",\"female\",\"female\",\"female\",\"male\",\"male\",\"female\",\"male\",\"male\",\"female\",\"male\",\"male\",\"male\",\"male\",\"male\",\"female\",\"male\",\"male\",\"male\",\"male\",\"male\",\"male\",\"female\",\"female\",\"male\",\"male\",\"female\",\"female\",\"male\",\"male\",\"male\",\"male\",\"male\",\"male\",\"male\",\"female\",\"female\",\"male\",\"male\",\"male\",\"male\",\"female\",\"female\",\"female\",\"male\",\"female\",\"male\",\"female\",\"male\",\"female\",\"male\",\"male\",\"male\",\"male\",\"male\",\"male\",\"male\",\"female\",\"male\",\"male\",\"male\"],\"xaxis\":\"x2\",\"y\":[1169,2096,7882,9055,2835,6948,3059,1567,1403,2424,8072,3430,2134,2647,2241,1804,2069,1374,426,409,2415,1913,4020,5866,1264,1474,6110,1225,458,2333,1158,6204,6187,1393,2299,1352,7228,2073,2333,5965,1262,3378,783,9566,1961,1391,1537,3181,5190,2171,1007,2394,8133,730,1164,5954,1526,4771,9436,3832,1213,1568,1755,2315,1412,1295,2249,618,1409,3617,1318,2012,2622,2337,7057,1469,2323,932,1919,2445,6078,7721,1410,1449,392,6260,1680,3578,2132,2366,3868,1768,781,2121,701,1860,8487,2708,1984,10144,1240,8613,2728,1881,709,4795,3416,2288,3566,860,682,5371,1582,1346,1924,5848,7758,6967,1288,339,3512,1898,2872,1055,1262,7308,909,2978,1577,3972,763,1414,2577,338,1963,571,3777,1360,1175,3244,2108,1382,2760,936,1168,5117,1495,10623,1935,1424,6568,1413,3074,3835,3342,932,3104,3913,3021,1364,625,1200,707,2978,4657,2613,3149,2507,2141,866,1544,1291,2522,1595,1185,3447,1258,717,1204,1925,666,2251,4151,2030,7418,2684,3812,1154,1657,1603,5302,2748,1231,6304,1533,999,2662,1402,12169,2697,2404,1262,1901,3368,1574,1445,1520,3878,10722,4788,7582,1092,1076,6419,4796,7629,4675,1287,2515,2745,672,1038,1543,4811,276,5381,5511,3749,1494,708,4351,701,3643,2910,2659,1028,3398,5801,1525,4473,1068,6615,2101,4169,1521,5743,3599,3213,4439,3949,1459,882,3758,1743,1236,3229,727,2331,776,1239,3399,2247,1766,1542,3850,3650,3001,3079,6070,2146,13756,2320,846,362,2212,1283,1330,4272,2238,1126,7374,2326,1449,1820,983,3249,1957,2406,11760,2578,2348,1516,1473,1887,802,2899,2197,1053,3235,1967,7253,1597,5842,8471,2782,3186,2028,958,1591,2779,2743,1149,1313,3448,1872,2058,2136,660,1287,3394,1884,1620,2629,1244,2576,1424,11054,518,2759,2670,2679,3905,343,4594,3620,1721,3017,754,1950,2924,7238,2764,4679,1238,2569,5152,1037,1478,3573,1201,3622,960,1163,3077,3757,1418,3518,1934,1237,368,2122,1585,1301,1323,5493,1126,2360,1413,8588,4686,2687,585,2255,609,1361,1203,700,5507,3488,1113,7966,1532,1503,662,2273,1503,1311,3105,1374,3612,3049,2032,1255,2022,1552,8858,996,1750,1995,1199,2964,683,4712,1553,2578,3979,5954,5433,806,1082,2788,2930,1927,937,3124,1388,2133,2799,1289,385,1965,1572,3863,2329,1275,2828,4526,2051,1300,3357,3632,12204,9157,3676,640,3652,1858,1979,2116,4042,3832,3660,1444,1393,1376,15653,1493,1308,1851,1880,4583,7476,2346,3973,10222,4221,6361,1297,2241,1050,1047,6314,3496,3609,3017,4139,5742,10366,2080,4530,5150,2384,1453,1538,2279,1478,5103,9857,6527,1347,2862,2753,3651,975,2631,2896,4716,2284,1236,1103,926,1800,1905,1377,2503,2528,5324,1206,2118,629,2476,1138,7596,3077,1505,3148,6148,790,250,1316,1275,6403,760,2603,3380,3990,4380,6761,2325,1048,3160,2483,14179,1797,2511,5248,3029,428,841,5771,1299,1393,5045,2214,2463,1155,2901,3617,1655,2812,3275,2223,1480,3535,3509,5711,3872,1940,1410,6468,1941,2675,2751,6313,1221,2892,3062,2301,1258,717,1549,1597,1795,4272,976,7472,590,930,9283,907,484,7432,1338,1554,15857,1101,3016,731,3780,1602,6681,2375,5084,886,601,2957,2611,2993,1559,3422,3976,1249,1364,4042,1471,10875,1474,894,3343,3577,5804,4526,2221,2389,3331,7409,652,7678,1343,1382,874,3590,1322,1940,3595,6742,7814,9277,2181,1098,2825,6614,7824,2442,1829,2171,5800,1169,8947,2606,1592,2186,3485,10477,1386,1278,1107,3763,3711,3594,3195,4454,2991,2142,2848,1817,12749,2002,1049,1867,1344,1747,1224,522,1498,2063,6842,3527,1546,929,1455,1845,8358,2859,3590,1893,1231,3656,1154,3069,1740,2353,3556,454,1715,3568,7166,3939,1514,7393,2831,1258,753,2427,2923,2028,1433,6289,1409,6579,1743,3565,1569,1936,3959,2390,1736,3857,804,4576],\"yaxis\":\"y2\",\"type\":\"box\"},{\"name\":\"Bad Credit\",\"x\":[\"female\",\"male\",\"male\",\"female\",\"female\",\"male\",\"female\",\"female\",\"male\",\"male\",\"male\",\"female\",\"male\",\"male\",\"female\",\"male\",\"male\",\"male\",\"male\",\"male\",\"female\",\"male\",\"male\",\"female\",\"male\",\"male\",\"male\",\"female\",\"female\",\"female\",\"female\",\"female\",\"male\",\"female\",\"male\",\"male\",\"male\",\"female\",\"female\",\"male\",\"male\",\"female\",\"male\",\"female\",\"male\",\"male\",\"male\",\"male\",\"female\",\"male\",\"male\",\"male\",\"male\",\"male\",\"female\",\"female\",\"male\",\"male\",\"male\",\"male\",\"male\",\"male\",\"male\",\"male\",\"male\",\"male\",\"male\",\"female\",\"male\",\"female\",\"female\",\"male\",\"male\",\"male\",\"male\",\"male\",\"female\",\"male\",\"male\",\"female\",\"female\",\"male\",\"male\",\"male\",\"female\",\"male\",\"male\",\"male\",\"male\",\"female\",\"female\",\"female\",\"male\",\"male\",\"female\",\"male\",\"female\",\"male\",\"male\",\"male\",\"female\",\"male\",\"male\",\"female\",\"female\",\"male\",\"female\",\"male\",\"male\",\"male\",\"male\",\"male\",\"female\",\"male\",\"female\",\"female\",\"female\",\"male\",\"male\",\"female\",\"male\",\"female\",\"female\",\"male\",\"male\",\"male\",\"female\",\"male\",\"female\",\"male\",\"male\",\"female\",\"male\",\"female\",\"male\",\"male\",\"female\",\"male\",\"female\",\"male\",\"male\",\"male\",\"female\",\"female\",\"male\",\"male\",\"female\",\"male\",\"male\",\"male\",\"male\",\"male\",\"male\",\"female\",\"male\",\"male\",\"female\",\"female\",\"male\",\"male\",\"male\",\"male\",\"male\",\"female\",\"female\",\"male\",\"male\",\"male\",\"female\",\"male\",\"male\",\"female\",\"male\",\"female\",\"female\",\"male\",\"male\",\"female\",\"female\",\"female\",\"female\",\"female\",\"female\",\"female\",\"female\",\"male\",\"male\",\"male\",\"male\",\"male\",\"female\",\"female\",\"male\",\"female\",\"male\",\"male\",\"female\",\"male\",\"male\",\"male\",\"male\",\"male\",\"male\",\"male\",\"male\",\"male\",\"male\",\"female\",\"male\",\"male\",\"female\",\"female\",\"male\",\"male\",\"female\",\"female\",\"female\",\"female\",\"female\",\"male\",\"female\",\"female\",\"female\",\"female\",\"male\",\"female\",\"male\",\"male\",\"female\",\"male\",\"male\",\"female\",\"female\",\"male\",\"female\",\"male\",\"male\",\"female\",\"male\",\"male\",\"female\",\"male\",\"male\",\"male\",\"male\",\"male\",\"female\",\"male\",\"male\",\"female\",\"male\",\"female\",\"male\",\"male\",\"female\",\"male\",\"male\",\"male\",\"male\",\"female\",\"male\",\"female\",\"male\",\"male\",\"male\",\"female\",\"male\",\"male\",\"male\",\"female\",\"male\",\"female\",\"male\",\"male\",\"male\",\"female\",\"male\",\"male\",\"male\",\"female\",\"male\",\"female\",\"male\",\"male\",\"male\",\"male\",\"male\",\"female\",\"female\",\"male\",\"male\",\"male\",\"female\",\"male\",\"male\",\"male\",\"male\",\"male\",\"male\",\"male\"],\"xaxis\":\"x2\",\"y\":[5951,4870,5234,1295,4308,1199,1282,12579,6836,4746,2100,6143,2225,6468,6229,1953,14421,1819,1977,3965,5943,12612,1108,797,15945,11938,6458,7855,7174,4281,1835,1924,639,3499,6887,766,2462,1282,1131,1935,950,2064,3414,7485,9572,4455,1647,884,5129,674,4591,3844,3915,3031,1501,951,4297,902,5293,1908,10961,7865,1478,4210,1823,14555,2767,915,4605,433,2150,2149,802,8978,3060,11998,4611,1024,9398,9960,3804,1344,10127,727,1237,685,2746,4249,1938,1864,7408,11590,4110,3384,1275,1136,959,6199,1246,4463,2406,2473,3446,14782,7685,14318,12976,1223,8648,2039,939,2292,1381,2579,1042,2762,1190,11328,1484,609,719,5096,1842,1512,4817,3386,1659,3092,448,654,1245,3114,1209,8318,2996,9034,3123,1216,1207,1309,6850,759,7127,3190,7119,2302,2631,2319,7763,1534,6350,2864,1333,626,6999,1331,2278,5003,3552,1928,1546,12389,1372,6758,3234,2820,1056,2384,2039,1217,2246,2718,1358,931,1442,4241,2775,918,1837,3349,2671,741,1240,1808,3441,1530,3914,2600,1437,1553,1980,1355,4370,750,4623,7980,1386,947,684,1922,2303,8086,888,900,4843,2580,5595,1123,6331,6560,2969,1198,14027,1337,433,1228,2570,1882,6416,1987,11560,4280,1274,976,1555,1285,1271,691,2124,12680,3108,8065,1371,4933,836,6224,5998,1188,7511,9271,1778,9629,3051,3931,1345,2712,3966,4165,8335,1216,11816,2327,1082,5179,1943,6761,709,2235,1442,3959,2169,2439,2210,1422,4057,795,15672,4153,2625,4736,3161,18424,14896,2359,3345,1366,6872,697,10297,1670,1919,745,6288,3349,1533,3621,2145,4113,10974,4006,2397,2520,1193,7297,2538,1264,8386,4844,8229,1845],\"yaxis\":\"y2\",\"type\":\"box\"}],                        {\"annotations\":[{\"font\":{\"size\":16},\"showarrow\":false,\"text\":\"Sex Count\",\"x\":0.225,\"xanchor\":\"center\",\"xref\":\"paper\",\"y\":1.0,\"yanchor\":\"bottom\",\"yref\":\"paper\"},{\"font\":{\"size\":16},\"showarrow\":false,\"text\":\"Credit Amount by Sex\",\"x\":0.775,\"xanchor\":\"center\",\"xref\":\"paper\",\"y\":1.0,\"yanchor\":\"bottom\",\"yref\":\"paper\"}],\"boxmode\":\"group\",\"height\":400,\"template\":{\"data\":{\"barpolar\":[{\"marker\":{\"line\":{\"color\":\"#E5ECF6\",\"width\":0.5},\"pattern\":{\"fillmode\":\"overlay\",\"size\":10,\"solidity\":0.2}},\"type\":\"barpolar\"}],\"bar\":[{\"error_x\":{\"color\":\"#2a3f5f\"},\"error_y\":{\"color\":\"#2a3f5f\"},\"marker\":{\"line\":{\"color\":\"#E5ECF6\",\"width\":0.5},\"pattern\":{\"fillmode\":\"overlay\",\"size\":10,\"solidity\":0.2}},\"type\":\"bar\"}],\"carpet\":[{\"aaxis\":{\"endlinecolor\":\"#2a3f5f\",\"gridcolor\":\"white\",\"linecolor\":\"white\",\"minorgridcolor\":\"white\",\"startlinecolor\":\"#2a3f5f\"},\"baxis\":{\"endlinecolor\":\"#2a3f5f\",\"gridcolor\":\"white\",\"linecolor\":\"white\",\"minorgridcolor\":\"white\",\"startlinecolor\":\"#2a3f5f\"},\"type\":\"carpet\"}],\"choropleth\":[{\"colorbar\":{\"outlinewidth\":0,\"ticks\":\"\"},\"type\":\"choropleth\"}],\"contourcarpet\":[{\"colorbar\":{\"outlinewidth\":0,\"ticks\":\"\"},\"type\":\"contourcarpet\"}],\"contour\":[{\"colorbar\":{\"outlinewidth\":0,\"ticks\":\"\"},\"colorscale\":[[0.0,\"#0d0887\"],[0.1111111111111111,\"#46039f\"],[0.2222222222222222,\"#7201a8\"],[0.3333333333333333,\"#9c179e\"],[0.4444444444444444,\"#bd3786\"],[0.5555555555555556,\"#d8576b\"],[0.6666666666666666,\"#ed7953\"],[0.7777777777777778,\"#fb9f3a\"],[0.8888888888888888,\"#fdca26\"],[1.0,\"#f0f921\"]],\"type\":\"contour\"}],\"heatmapgl\":[{\"colorbar\":{\"outlinewidth\":0,\"ticks\":\"\"},\"colorscale\":[[0.0,\"#0d0887\"],[0.1111111111111111,\"#46039f\"],[0.2222222222222222,\"#7201a8\"],[0.3333333333333333,\"#9c179e\"],[0.4444444444444444,\"#bd3786\"],[0.5555555555555556,\"#d8576b\"],[0.6666666666666666,\"#ed7953\"],[0.7777777777777778,\"#fb9f3a\"],[0.8888888888888888,\"#fdca26\"],[1.0,\"#f0f921\"]],\"type\":\"heatmapgl\"}],\"heatmap\":[{\"colorbar\":{\"outlinewidth\":0,\"ticks\":\"\"},\"colorscale\":[[0.0,\"#0d0887\"],[0.1111111111111111,\"#46039f\"],[0.2222222222222222,\"#7201a8\"],[0.3333333333333333,\"#9c179e\"],[0.4444444444444444,\"#bd3786\"],[0.5555555555555556,\"#d8576b\"],[0.6666666666666666,\"#ed7953\"],[0.7777777777777778,\"#fb9f3a\"],[0.8888888888888888,\"#fdca26\"],[1.0,\"#f0f921\"]],\"type\":\"heatmap\"}],\"histogram2dcontour\":[{\"colorbar\":{\"outlinewidth\":0,\"ticks\":\"\"},\"colorscale\":[[0.0,\"#0d0887\"],[0.1111111111111111,\"#46039f\"],[0.2222222222222222,\"#7201a8\"],[0.3333333333333333,\"#9c179e\"],[0.4444444444444444,\"#bd3786\"],[0.5555555555555556,\"#d8576b\"],[0.6666666666666666,\"#ed7953\"],[0.7777777777777778,\"#fb9f3a\"],[0.8888888888888888,\"#fdca26\"],[1.0,\"#f0f921\"]],\"type\":\"histogram2dcontour\"}],\"histogram2d\":[{\"colorbar\":{\"outlinewidth\":0,\"ticks\":\"\"},\"colorscale\":[[0.0,\"#0d0887\"],[0.1111111111111111,\"#46039f\"],[0.2222222222222222,\"#7201a8\"],[0.3333333333333333,\"#9c179e\"],[0.4444444444444444,\"#bd3786\"],[0.5555555555555556,\"#d8576b\"],[0.6666666666666666,\"#ed7953\"],[0.7777777777777778,\"#fb9f3a\"],[0.8888888888888888,\"#fdca26\"],[1.0,\"#f0f921\"]],\"type\":\"histogram2d\"}],\"histogram\":[{\"marker\":{\"pattern\":{\"fillmode\":\"overlay\",\"size\":10,\"solidity\":0.2}},\"type\":\"histogram\"}],\"mesh3d\":[{\"colorbar\":{\"outlinewidth\":0,\"ticks\":\"\"},\"type\":\"mesh3d\"}],\"parcoords\":[{\"line\":{\"colorbar\":{\"outlinewidth\":0,\"ticks\":\"\"}},\"type\":\"parcoords\"}],\"pie\":[{\"automargin\":true,\"type\":\"pie\"}],\"scatter3d\":[{\"line\":{\"colorbar\":{\"outlinewidth\":0,\"ticks\":\"\"}},\"marker\":{\"colorbar\":{\"outlinewidth\":0,\"ticks\":\"\"}},\"type\":\"scatter3d\"}],\"scattercarpet\":[{\"marker\":{\"colorbar\":{\"outlinewidth\":0,\"ticks\":\"\"}},\"type\":\"scattercarpet\"}],\"scattergeo\":[{\"marker\":{\"colorbar\":{\"outlinewidth\":0,\"ticks\":\"\"}},\"type\":\"scattergeo\"}],\"scattergl\":[{\"marker\":{\"colorbar\":{\"outlinewidth\":0,\"ticks\":\"\"}},\"type\":\"scattergl\"}],\"scattermapbox\":[{\"marker\":{\"colorbar\":{\"outlinewidth\":0,\"ticks\":\"\"}},\"type\":\"scattermapbox\"}],\"scatterpolargl\":[{\"marker\":{\"colorbar\":{\"outlinewidth\":0,\"ticks\":\"\"}},\"type\":\"scatterpolargl\"}],\"scatterpolar\":[{\"marker\":{\"colorbar\":{\"outlinewidth\":0,\"ticks\":\"\"}},\"type\":\"scatterpolar\"}],\"scatter\":[{\"fillpattern\":{\"fillmode\":\"overlay\",\"size\":10,\"solidity\":0.2},\"type\":\"scatter\"}],\"scatterternary\":[{\"marker\":{\"colorbar\":{\"outlinewidth\":0,\"ticks\":\"\"}},\"type\":\"scatterternary\"}],\"surface\":[{\"colorbar\":{\"outlinewidth\":0,\"ticks\":\"\"},\"colorscale\":[[0.0,\"#0d0887\"],[0.1111111111111111,\"#46039f\"],[0.2222222222222222,\"#7201a8\"],[0.3333333333333333,\"#9c179e\"],[0.4444444444444444,\"#bd3786\"],[0.5555555555555556,\"#d8576b\"],[0.6666666666666666,\"#ed7953\"],[0.7777777777777778,\"#fb9f3a\"],[0.8888888888888888,\"#fdca26\"],[1.0,\"#f0f921\"]],\"type\":\"surface\"}],\"table\":[{\"cells\":{\"fill\":{\"color\":\"#EBF0F8\"},\"line\":{\"color\":\"white\"}},\"header\":{\"fill\":{\"color\":\"#C8D4E3\"},\"line\":{\"color\":\"white\"}},\"type\":\"table\"}]},\"layout\":{\"annotationdefaults\":{\"arrowcolor\":\"#2a3f5f\",\"arrowhead\":0,\"arrowwidth\":1},\"autotypenumbers\":\"strict\",\"coloraxis\":{\"colorbar\":{\"outlinewidth\":0,\"ticks\":\"\"}},\"colorscale\":{\"diverging\":[[0,\"#8e0152\"],[0.1,\"#c51b7d\"],[0.2,\"#de77ae\"],[0.3,\"#f1b6da\"],[0.4,\"#fde0ef\"],[0.5,\"#f7f7f7\"],[0.6,\"#e6f5d0\"],[0.7,\"#b8e186\"],[0.8,\"#7fbc41\"],[0.9,\"#4d9221\"],[1,\"#276419\"]],\"sequential\":[[0.0,\"#0d0887\"],[0.1111111111111111,\"#46039f\"],[0.2222222222222222,\"#7201a8\"],[0.3333333333333333,\"#9c179e\"],[0.4444444444444444,\"#bd3786\"],[0.5555555555555556,\"#d8576b\"],[0.6666666666666666,\"#ed7953\"],[0.7777777777777778,\"#fb9f3a\"],[0.8888888888888888,\"#fdca26\"],[1.0,\"#f0f921\"]],\"sequentialminus\":[[0.0,\"#0d0887\"],[0.1111111111111111,\"#46039f\"],[0.2222222222222222,\"#7201a8\"],[0.3333333333333333,\"#9c179e\"],[0.4444444444444444,\"#bd3786\"],[0.5555555555555556,\"#d8576b\"],[0.6666666666666666,\"#ed7953\"],[0.7777777777777778,\"#fb9f3a\"],[0.8888888888888888,\"#fdca26\"],[1.0,\"#f0f921\"]]},\"colorway\":[\"#636efa\",\"#EF553B\",\"#00cc96\",\"#ab63fa\",\"#FFA15A\",\"#19d3f3\",\"#FF6692\",\"#B6E880\",\"#FF97FF\",\"#FECB52\"],\"font\":{\"color\":\"#2a3f5f\"},\"geo\":{\"bgcolor\":\"white\",\"lakecolor\":\"white\",\"landcolor\":\"#E5ECF6\",\"showlakes\":true,\"showland\":true,\"subunitcolor\":\"white\"},\"hoverlabel\":{\"align\":\"left\"},\"hovermode\":\"closest\",\"mapbox\":{\"style\":\"light\"},\"paper_bgcolor\":\"white\",\"plot_bgcolor\":\"#E5ECF6\",\"polar\":{\"angularaxis\":{\"gridcolor\":\"white\",\"linecolor\":\"white\",\"ticks\":\"\"},\"bgcolor\":\"#E5ECF6\",\"radialaxis\":{\"gridcolor\":\"white\",\"linecolor\":\"white\",\"ticks\":\"\"}},\"scene\":{\"xaxis\":{\"backgroundcolor\":\"#E5ECF6\",\"gridcolor\":\"white\",\"gridwidth\":2,\"linecolor\":\"white\",\"showbackground\":true,\"ticks\":\"\",\"zerolinecolor\":\"white\"},\"yaxis\":{\"backgroundcolor\":\"#E5ECF6\",\"gridcolor\":\"white\",\"gridwidth\":2,\"linecolor\":\"white\",\"showbackground\":true,\"ticks\":\"\",\"zerolinecolor\":\"white\"},\"zaxis\":{\"backgroundcolor\":\"#E5ECF6\",\"gridcolor\":\"white\",\"gridwidth\":2,\"linecolor\":\"white\",\"showbackground\":true,\"ticks\":\"\",\"zerolinecolor\":\"white\"}},\"shapedefaults\":{\"line\":{\"color\":\"#2a3f5f\"}},\"ternary\":{\"aaxis\":{\"gridcolor\":\"white\",\"linecolor\":\"white\",\"ticks\":\"\"},\"baxis\":{\"gridcolor\":\"white\",\"linecolor\":\"white\",\"ticks\":\"\"},\"bgcolor\":\"#E5ECF6\",\"caxis\":{\"gridcolor\":\"white\",\"linecolor\":\"white\",\"ticks\":\"\"}},\"title\":{\"x\":0.05},\"xaxis\":{\"automargin\":true,\"gridcolor\":\"white\",\"linecolor\":\"white\",\"ticks\":\"\",\"title\":{\"standoff\":15},\"zerolinecolor\":\"white\",\"zerolinewidth\":2},\"yaxis\":{\"automargin\":true,\"gridcolor\":\"white\",\"linecolor\":\"white\",\"ticks\":\"\",\"title\":{\"standoff\":15},\"zerolinecolor\":\"white\",\"zerolinewidth\":2}}},\"title\":{\"text\":\"Sex Distribuition\"},\"width\":800,\"xaxis\":{\"anchor\":\"y\",\"domain\":[0.0,0.45]},\"yaxis\":{\"anchor\":\"x\",\"domain\":[0.0,1.0]},\"xaxis2\":{\"anchor\":\"y2\",\"domain\":[0.55,1.0]},\"yaxis2\":{\"anchor\":\"x2\",\"domain\":[0.0,1.0]}},                        {\"responsive\": true}                    ).then(function(){\n",
       "                            \n",
       "var gd = document.getElementById('df032915-8808-4fb6-b9da-ba0145396e02');\n",
       "var x = new MutationObserver(function (mutations, observer) {{\n",
       "        var display = window.getComputedStyle(gd).display;\n",
       "        if (!display || display === 'none') {{\n",
       "            console.log([gd, 'removed!']);\n",
       "            Plotly.purge(gd);\n",
       "            observer.disconnect();\n",
       "        }}\n",
       "}});\n",
       "\n",
       "// Listen for the removal of the full notebook cells\n",
       "var notebookContainer = gd.closest('#notebook-container');\n",
       "if (notebookContainer) {{\n",
       "    x.observe(notebookContainer, {childList: true});\n",
       "}}\n",
       "\n",
       "// Listen for the clearing of the current output cell\n",
       "var outputEl = gd.closest('.output');\n",
       "if (outputEl) {{\n",
       "    x.observe(outputEl, {childList: true});\n",
       "}}\n",
       "\n",
       "                        })                };                });            </script>        </div>"
      ]
     },
     "metadata": {},
     "output_type": "display_data"
    }
   ],
   "source": [
    "#First plot\n",
    "trace0 = go.Bar(\n",
    "    x = df_credit[df_credit[\"Risk\"]== 'good'][\"Sex\"].value_counts().index.values,\n",
    "    y = df_credit[df_credit[\"Risk\"]== 'good'][\"Sex\"].value_counts().values,\n",
    "    name='Good credit'\n",
    ")\n",
    "\n",
    "#First plot 2\n",
    "trace1 = go.Bar(\n",
    "    x = df_credit[df_credit[\"Risk\"]== 'bad'][\"Sex\"].value_counts().index.values,\n",
    "    y = df_credit[df_credit[\"Risk\"]== 'bad'][\"Sex\"].value_counts().values,\n",
    "    name=\"Bad Credit\"\n",
    ")\n",
    "\n",
    "#Second plot\n",
    "trace2 = go.Box(\n",
    "    x = df_credit[df_credit[\"Risk\"]== 'good'][\"Sex\"],\n",
    "    y = df_credit[df_credit[\"Risk\"]== 'good'][\"Credit amount\"],\n",
    "    name=trace0.name\n",
    ")\n",
    "\n",
    "#Second plot 2\n",
    "trace3 = go.Box(\n",
    "    x = df_credit[df_credit[\"Risk\"]== 'bad'][\"Sex\"],\n",
    "    y = df_credit[df_credit[\"Risk\"]== 'bad'][\"Credit amount\"],\n",
    "    name=trace1.name\n",
    ")\n",
    "\n",
    "data = [trace0, trace1, trace2,trace3]\n",
    "\n",
    "\n",
    "fig = tls.make_subplots(rows=1, cols=2, \n",
    "                        subplot_titles=('Sex Count', 'Credit Amount by Sex'))\n",
    "\n",
    "fig.append_trace(trace0, 1, 1)\n",
    "fig.append_trace(trace1, 1, 1)\n",
    "fig.append_trace(trace2, 1, 2)\n",
    "fig.append_trace(trace3, 1, 2)\n",
    "\n",
    "fig['layout'].update(height=400, width=800, title='Sex Distribuition', boxmode='group')\n",
    "py.iplot(fig, filename='sex-subplot')"
   ]
  },
  {
   "cell_type": "markdown",
   "metadata": {
    "_cell_guid": "6bb67a05-9d3a-4098-adce-44a5fb8daed1",
    "_uuid": "8bd5867db79d8b3fa561e84c02ab7694bdb23b04"
   },
   "source": [
    "<b> How can I set the boxplots in different places? how can I use the same legend to both graphs?</b>"
   ]
  },
  {
   "cell_type": "markdown",
   "metadata": {
    "_cell_guid": "b8cf27c8-2170-401f-839d-a732108933e4",
    "_uuid": "f5a6c2dea040a31289910da2ae36c296559d5997"
   },
   "source": [
    "I will create categories of Age and look the distribuition of Credit Amount by Risk...\n"
   ]
  },
  {
   "cell_type": "markdown",
   "metadata": {
    "_cell_guid": "76dfaeb3-39ac-4777-8966-b854d2a66fdb",
    "_uuid": "8345789033140b6b9f9f5a40ba8fd5426ee823e4"
   },
   "source": [
    "I will do some explorations through the Job\n",
    "- Distribuition\n",
    "- Crossed by Credit amount\n",
    "- Crossed by Age"
   ]
  },
  {
   "cell_type": "code",
   "execution_count": 12,
   "metadata": {
    "_cell_guid": "78075d47-5299-419c-b061-3bc4b17597e8",
    "_kg_hide-input": true,
    "_uuid": "bd5a104e256f8b1f567c12537a39662de6288db0"
   },
   "outputs": [
    {
     "data": {
      "application/vnd.plotly.v1+json": {
       "config": {
        "linkText": "Export to plot.ly",
        "plotlyServerURL": "https://plot.ly",
        "showLink": false
       },
       "data": [
        {
         "name": "Good credit Distribuition",
         "type": "bar",
         "x": [
          2,
          1,
          3,
          0
         ],
         "y": [
          444,
          144,
          97,
          15
         ]
        },
        {
         "name": "Bad Credit Distribuition",
         "type": "bar",
         "x": [
          2,
          1,
          3,
          0
         ],
         "y": [
          186,
          56,
          51,
          7
         ]
        }
       ],
       "layout": {
        "template": {
         "data": {
          "bar": [
           {
            "error_x": {
             "color": "#2a3f5f"
            },
            "error_y": {
             "color": "#2a3f5f"
            },
            "marker": {
             "line": {
              "color": "#E5ECF6",
              "width": 0.5
             },
             "pattern": {
              "fillmode": "overlay",
              "size": 10,
              "solidity": 0.2
             }
            },
            "type": "bar"
           }
          ],
          "barpolar": [
           {
            "marker": {
             "line": {
              "color": "#E5ECF6",
              "width": 0.5
             },
             "pattern": {
              "fillmode": "overlay",
              "size": 10,
              "solidity": 0.2
             }
            },
            "type": "barpolar"
           }
          ],
          "carpet": [
           {
            "aaxis": {
             "endlinecolor": "#2a3f5f",
             "gridcolor": "white",
             "linecolor": "white",
             "minorgridcolor": "white",
             "startlinecolor": "#2a3f5f"
            },
            "baxis": {
             "endlinecolor": "#2a3f5f",
             "gridcolor": "white",
             "linecolor": "white",
             "minorgridcolor": "white",
             "startlinecolor": "#2a3f5f"
            },
            "type": "carpet"
           }
          ],
          "choropleth": [
           {
            "colorbar": {
             "outlinewidth": 0,
             "ticks": ""
            },
            "type": "choropleth"
           }
          ],
          "contour": [
           {
            "colorbar": {
             "outlinewidth": 0,
             "ticks": ""
            },
            "colorscale": [
             [
              0,
              "#0d0887"
             ],
             [
              0.1111111111111111,
              "#46039f"
             ],
             [
              0.2222222222222222,
              "#7201a8"
             ],
             [
              0.3333333333333333,
              "#9c179e"
             ],
             [
              0.4444444444444444,
              "#bd3786"
             ],
             [
              0.5555555555555556,
              "#d8576b"
             ],
             [
              0.6666666666666666,
              "#ed7953"
             ],
             [
              0.7777777777777778,
              "#fb9f3a"
             ],
             [
              0.8888888888888888,
              "#fdca26"
             ],
             [
              1,
              "#f0f921"
             ]
            ],
            "type": "contour"
           }
          ],
          "contourcarpet": [
           {
            "colorbar": {
             "outlinewidth": 0,
             "ticks": ""
            },
            "type": "contourcarpet"
           }
          ],
          "heatmap": [
           {
            "colorbar": {
             "outlinewidth": 0,
             "ticks": ""
            },
            "colorscale": [
             [
              0,
              "#0d0887"
             ],
             [
              0.1111111111111111,
              "#46039f"
             ],
             [
              0.2222222222222222,
              "#7201a8"
             ],
             [
              0.3333333333333333,
              "#9c179e"
             ],
             [
              0.4444444444444444,
              "#bd3786"
             ],
             [
              0.5555555555555556,
              "#d8576b"
             ],
             [
              0.6666666666666666,
              "#ed7953"
             ],
             [
              0.7777777777777778,
              "#fb9f3a"
             ],
             [
              0.8888888888888888,
              "#fdca26"
             ],
             [
              1,
              "#f0f921"
             ]
            ],
            "type": "heatmap"
           }
          ],
          "heatmapgl": [
           {
            "colorbar": {
             "outlinewidth": 0,
             "ticks": ""
            },
            "colorscale": [
             [
              0,
              "#0d0887"
             ],
             [
              0.1111111111111111,
              "#46039f"
             ],
             [
              0.2222222222222222,
              "#7201a8"
             ],
             [
              0.3333333333333333,
              "#9c179e"
             ],
             [
              0.4444444444444444,
              "#bd3786"
             ],
             [
              0.5555555555555556,
              "#d8576b"
             ],
             [
              0.6666666666666666,
              "#ed7953"
             ],
             [
              0.7777777777777778,
              "#fb9f3a"
             ],
             [
              0.8888888888888888,
              "#fdca26"
             ],
             [
              1,
              "#f0f921"
             ]
            ],
            "type": "heatmapgl"
           }
          ],
          "histogram": [
           {
            "marker": {
             "pattern": {
              "fillmode": "overlay",
              "size": 10,
              "solidity": 0.2
             }
            },
            "type": "histogram"
           }
          ],
          "histogram2d": [
           {
            "colorbar": {
             "outlinewidth": 0,
             "ticks": ""
            },
            "colorscale": [
             [
              0,
              "#0d0887"
             ],
             [
              0.1111111111111111,
              "#46039f"
             ],
             [
              0.2222222222222222,
              "#7201a8"
             ],
             [
              0.3333333333333333,
              "#9c179e"
             ],
             [
              0.4444444444444444,
              "#bd3786"
             ],
             [
              0.5555555555555556,
              "#d8576b"
             ],
             [
              0.6666666666666666,
              "#ed7953"
             ],
             [
              0.7777777777777778,
              "#fb9f3a"
             ],
             [
              0.8888888888888888,
              "#fdca26"
             ],
             [
              1,
              "#f0f921"
             ]
            ],
            "type": "histogram2d"
           }
          ],
          "histogram2dcontour": [
           {
            "colorbar": {
             "outlinewidth": 0,
             "ticks": ""
            },
            "colorscale": [
             [
              0,
              "#0d0887"
             ],
             [
              0.1111111111111111,
              "#46039f"
             ],
             [
              0.2222222222222222,
              "#7201a8"
             ],
             [
              0.3333333333333333,
              "#9c179e"
             ],
             [
              0.4444444444444444,
              "#bd3786"
             ],
             [
              0.5555555555555556,
              "#d8576b"
             ],
             [
              0.6666666666666666,
              "#ed7953"
             ],
             [
              0.7777777777777778,
              "#fb9f3a"
             ],
             [
              0.8888888888888888,
              "#fdca26"
             ],
             [
              1,
              "#f0f921"
             ]
            ],
            "type": "histogram2dcontour"
           }
          ],
          "mesh3d": [
           {
            "colorbar": {
             "outlinewidth": 0,
             "ticks": ""
            },
            "type": "mesh3d"
           }
          ],
          "parcoords": [
           {
            "line": {
             "colorbar": {
              "outlinewidth": 0,
              "ticks": ""
             }
            },
            "type": "parcoords"
           }
          ],
          "pie": [
           {
            "automargin": true,
            "type": "pie"
           }
          ],
          "scatter": [
           {
            "fillpattern": {
             "fillmode": "overlay",
             "size": 10,
             "solidity": 0.2
            },
            "type": "scatter"
           }
          ],
          "scatter3d": [
           {
            "line": {
             "colorbar": {
              "outlinewidth": 0,
              "ticks": ""
             }
            },
            "marker": {
             "colorbar": {
              "outlinewidth": 0,
              "ticks": ""
             }
            },
            "type": "scatter3d"
           }
          ],
          "scattercarpet": [
           {
            "marker": {
             "colorbar": {
              "outlinewidth": 0,
              "ticks": ""
             }
            },
            "type": "scattercarpet"
           }
          ],
          "scattergeo": [
           {
            "marker": {
             "colorbar": {
              "outlinewidth": 0,
              "ticks": ""
             }
            },
            "type": "scattergeo"
           }
          ],
          "scattergl": [
           {
            "marker": {
             "colorbar": {
              "outlinewidth": 0,
              "ticks": ""
             }
            },
            "type": "scattergl"
           }
          ],
          "scattermapbox": [
           {
            "marker": {
             "colorbar": {
              "outlinewidth": 0,
              "ticks": ""
             }
            },
            "type": "scattermapbox"
           }
          ],
          "scatterpolar": [
           {
            "marker": {
             "colorbar": {
              "outlinewidth": 0,
              "ticks": ""
             }
            },
            "type": "scatterpolar"
           }
          ],
          "scatterpolargl": [
           {
            "marker": {
             "colorbar": {
              "outlinewidth": 0,
              "ticks": ""
             }
            },
            "type": "scatterpolargl"
           }
          ],
          "scatterternary": [
           {
            "marker": {
             "colorbar": {
              "outlinewidth": 0,
              "ticks": ""
             }
            },
            "type": "scatterternary"
           }
          ],
          "surface": [
           {
            "colorbar": {
             "outlinewidth": 0,
             "ticks": ""
            },
            "colorscale": [
             [
              0,
              "#0d0887"
             ],
             [
              0.1111111111111111,
              "#46039f"
             ],
             [
              0.2222222222222222,
              "#7201a8"
             ],
             [
              0.3333333333333333,
              "#9c179e"
             ],
             [
              0.4444444444444444,
              "#bd3786"
             ],
             [
              0.5555555555555556,
              "#d8576b"
             ],
             [
              0.6666666666666666,
              "#ed7953"
             ],
             [
              0.7777777777777778,
              "#fb9f3a"
             ],
             [
              0.8888888888888888,
              "#fdca26"
             ],
             [
              1,
              "#f0f921"
             ]
            ],
            "type": "surface"
           }
          ],
          "table": [
           {
            "cells": {
             "fill": {
              "color": "#EBF0F8"
             },
             "line": {
              "color": "white"
             }
            },
            "header": {
             "fill": {
              "color": "#C8D4E3"
             },
             "line": {
              "color": "white"
             }
            },
            "type": "table"
           }
          ]
         },
         "layout": {
          "annotationdefaults": {
           "arrowcolor": "#2a3f5f",
           "arrowhead": 0,
           "arrowwidth": 1
          },
          "autotypenumbers": "strict",
          "coloraxis": {
           "colorbar": {
            "outlinewidth": 0,
            "ticks": ""
           }
          },
          "colorscale": {
           "diverging": [
            [
             0,
             "#8e0152"
            ],
            [
             0.1,
             "#c51b7d"
            ],
            [
             0.2,
             "#de77ae"
            ],
            [
             0.3,
             "#f1b6da"
            ],
            [
             0.4,
             "#fde0ef"
            ],
            [
             0.5,
             "#f7f7f7"
            ],
            [
             0.6,
             "#e6f5d0"
            ],
            [
             0.7,
             "#b8e186"
            ],
            [
             0.8,
             "#7fbc41"
            ],
            [
             0.9,
             "#4d9221"
            ],
            [
             1,
             "#276419"
            ]
           ],
           "sequential": [
            [
             0,
             "#0d0887"
            ],
            [
             0.1111111111111111,
             "#46039f"
            ],
            [
             0.2222222222222222,
             "#7201a8"
            ],
            [
             0.3333333333333333,
             "#9c179e"
            ],
            [
             0.4444444444444444,
             "#bd3786"
            ],
            [
             0.5555555555555556,
             "#d8576b"
            ],
            [
             0.6666666666666666,
             "#ed7953"
            ],
            [
             0.7777777777777778,
             "#fb9f3a"
            ],
            [
             0.8888888888888888,
             "#fdca26"
            ],
            [
             1,
             "#f0f921"
            ]
           ],
           "sequentialminus": [
            [
             0,
             "#0d0887"
            ],
            [
             0.1111111111111111,
             "#46039f"
            ],
            [
             0.2222222222222222,
             "#7201a8"
            ],
            [
             0.3333333333333333,
             "#9c179e"
            ],
            [
             0.4444444444444444,
             "#bd3786"
            ],
            [
             0.5555555555555556,
             "#d8576b"
            ],
            [
             0.6666666666666666,
             "#ed7953"
            ],
            [
             0.7777777777777778,
             "#fb9f3a"
            ],
            [
             0.8888888888888888,
             "#fdca26"
            ],
            [
             1,
             "#f0f921"
            ]
           ]
          },
          "colorway": [
           "#636efa",
           "#EF553B",
           "#00cc96",
           "#ab63fa",
           "#FFA15A",
           "#19d3f3",
           "#FF6692",
           "#B6E880",
           "#FF97FF",
           "#FECB52"
          ],
          "font": {
           "color": "#2a3f5f"
          },
          "geo": {
           "bgcolor": "white",
           "lakecolor": "white",
           "landcolor": "#E5ECF6",
           "showlakes": true,
           "showland": true,
           "subunitcolor": "white"
          },
          "hoverlabel": {
           "align": "left"
          },
          "hovermode": "closest",
          "mapbox": {
           "style": "light"
          },
          "paper_bgcolor": "white",
          "plot_bgcolor": "#E5ECF6",
          "polar": {
           "angularaxis": {
            "gridcolor": "white",
            "linecolor": "white",
            "ticks": ""
           },
           "bgcolor": "#E5ECF6",
           "radialaxis": {
            "gridcolor": "white",
            "linecolor": "white",
            "ticks": ""
           }
          },
          "scene": {
           "xaxis": {
            "backgroundcolor": "#E5ECF6",
            "gridcolor": "white",
            "gridwidth": 2,
            "linecolor": "white",
            "showbackground": true,
            "ticks": "",
            "zerolinecolor": "white"
           },
           "yaxis": {
            "backgroundcolor": "#E5ECF6",
            "gridcolor": "white",
            "gridwidth": 2,
            "linecolor": "white",
            "showbackground": true,
            "ticks": "",
            "zerolinecolor": "white"
           },
           "zaxis": {
            "backgroundcolor": "#E5ECF6",
            "gridcolor": "white",
            "gridwidth": 2,
            "linecolor": "white",
            "showbackground": true,
            "ticks": "",
            "zerolinecolor": "white"
           }
          },
          "shapedefaults": {
           "line": {
            "color": "#2a3f5f"
           }
          },
          "ternary": {
           "aaxis": {
            "gridcolor": "white",
            "linecolor": "white",
            "ticks": ""
           },
           "baxis": {
            "gridcolor": "white",
            "linecolor": "white",
            "ticks": ""
           },
           "bgcolor": "#E5ECF6",
           "caxis": {
            "gridcolor": "white",
            "linecolor": "white",
            "ticks": ""
           }
          },
          "title": {
           "x": 0.05
          },
          "xaxis": {
           "automargin": true,
           "gridcolor": "white",
           "linecolor": "white",
           "ticks": "",
           "title": {
            "standoff": 15
           },
           "zerolinecolor": "white",
           "zerolinewidth": 2
          },
          "yaxis": {
           "automargin": true,
           "gridcolor": "white",
           "linecolor": "white",
           "ticks": "",
           "title": {
            "standoff": 15
           },
           "zerolinecolor": "white",
           "zerolinewidth": 2
          }
         }
        },
        "title": {
         "text": "Job Distribuition"
        }
       }
      },
      "text/html": [
       "<div>                            <div id=\"89410a40-cba5-4d41-980a-b35c81a31673\" class=\"plotly-graph-div\" style=\"height:525px; width:100%;\"></div>            <script type=\"text/javascript\">                require([\"plotly\"], function(Plotly) {                    window.PLOTLYENV=window.PLOTLYENV || {};                                    if (document.getElementById(\"89410a40-cba5-4d41-980a-b35c81a31673\")) {                    Plotly.newPlot(                        \"89410a40-cba5-4d41-980a-b35c81a31673\",                        [{\"name\":\"Good credit Distribuition\",\"x\":[2,1,3,0],\"y\":[444,144,97,15],\"type\":\"bar\"},{\"name\":\"Bad Credit Distribuition\",\"x\":[2,1,3,0],\"y\":[186,56,51,7],\"type\":\"bar\"}],                        {\"template\":{\"data\":{\"barpolar\":[{\"marker\":{\"line\":{\"color\":\"#E5ECF6\",\"width\":0.5},\"pattern\":{\"fillmode\":\"overlay\",\"size\":10,\"solidity\":0.2}},\"type\":\"barpolar\"}],\"bar\":[{\"error_x\":{\"color\":\"#2a3f5f\"},\"error_y\":{\"color\":\"#2a3f5f\"},\"marker\":{\"line\":{\"color\":\"#E5ECF6\",\"width\":0.5},\"pattern\":{\"fillmode\":\"overlay\",\"size\":10,\"solidity\":0.2}},\"type\":\"bar\"}],\"carpet\":[{\"aaxis\":{\"endlinecolor\":\"#2a3f5f\",\"gridcolor\":\"white\",\"linecolor\":\"white\",\"minorgridcolor\":\"white\",\"startlinecolor\":\"#2a3f5f\"},\"baxis\":{\"endlinecolor\":\"#2a3f5f\",\"gridcolor\":\"white\",\"linecolor\":\"white\",\"minorgridcolor\":\"white\",\"startlinecolor\":\"#2a3f5f\"},\"type\":\"carpet\"}],\"choropleth\":[{\"colorbar\":{\"outlinewidth\":0,\"ticks\":\"\"},\"type\":\"choropleth\"}],\"contourcarpet\":[{\"colorbar\":{\"outlinewidth\":0,\"ticks\":\"\"},\"type\":\"contourcarpet\"}],\"contour\":[{\"colorbar\":{\"outlinewidth\":0,\"ticks\":\"\"},\"colorscale\":[[0.0,\"#0d0887\"],[0.1111111111111111,\"#46039f\"],[0.2222222222222222,\"#7201a8\"],[0.3333333333333333,\"#9c179e\"],[0.4444444444444444,\"#bd3786\"],[0.5555555555555556,\"#d8576b\"],[0.6666666666666666,\"#ed7953\"],[0.7777777777777778,\"#fb9f3a\"],[0.8888888888888888,\"#fdca26\"],[1.0,\"#f0f921\"]],\"type\":\"contour\"}],\"heatmapgl\":[{\"colorbar\":{\"outlinewidth\":0,\"ticks\":\"\"},\"colorscale\":[[0.0,\"#0d0887\"],[0.1111111111111111,\"#46039f\"],[0.2222222222222222,\"#7201a8\"],[0.3333333333333333,\"#9c179e\"],[0.4444444444444444,\"#bd3786\"],[0.5555555555555556,\"#d8576b\"],[0.6666666666666666,\"#ed7953\"],[0.7777777777777778,\"#fb9f3a\"],[0.8888888888888888,\"#fdca26\"],[1.0,\"#f0f921\"]],\"type\":\"heatmapgl\"}],\"heatmap\":[{\"colorbar\":{\"outlinewidth\":0,\"ticks\":\"\"},\"colorscale\":[[0.0,\"#0d0887\"],[0.1111111111111111,\"#46039f\"],[0.2222222222222222,\"#7201a8\"],[0.3333333333333333,\"#9c179e\"],[0.4444444444444444,\"#bd3786\"],[0.5555555555555556,\"#d8576b\"],[0.6666666666666666,\"#ed7953\"],[0.7777777777777778,\"#fb9f3a\"],[0.8888888888888888,\"#fdca26\"],[1.0,\"#f0f921\"]],\"type\":\"heatmap\"}],\"histogram2dcontour\":[{\"colorbar\":{\"outlinewidth\":0,\"ticks\":\"\"},\"colorscale\":[[0.0,\"#0d0887\"],[0.1111111111111111,\"#46039f\"],[0.2222222222222222,\"#7201a8\"],[0.3333333333333333,\"#9c179e\"],[0.4444444444444444,\"#bd3786\"],[0.5555555555555556,\"#d8576b\"],[0.6666666666666666,\"#ed7953\"],[0.7777777777777778,\"#fb9f3a\"],[0.8888888888888888,\"#fdca26\"],[1.0,\"#f0f921\"]],\"type\":\"histogram2dcontour\"}],\"histogram2d\":[{\"colorbar\":{\"outlinewidth\":0,\"ticks\":\"\"},\"colorscale\":[[0.0,\"#0d0887\"],[0.1111111111111111,\"#46039f\"],[0.2222222222222222,\"#7201a8\"],[0.3333333333333333,\"#9c179e\"],[0.4444444444444444,\"#bd3786\"],[0.5555555555555556,\"#d8576b\"],[0.6666666666666666,\"#ed7953\"],[0.7777777777777778,\"#fb9f3a\"],[0.8888888888888888,\"#fdca26\"],[1.0,\"#f0f921\"]],\"type\":\"histogram2d\"}],\"histogram\":[{\"marker\":{\"pattern\":{\"fillmode\":\"overlay\",\"size\":10,\"solidity\":0.2}},\"type\":\"histogram\"}],\"mesh3d\":[{\"colorbar\":{\"outlinewidth\":0,\"ticks\":\"\"},\"type\":\"mesh3d\"}],\"parcoords\":[{\"line\":{\"colorbar\":{\"outlinewidth\":0,\"ticks\":\"\"}},\"type\":\"parcoords\"}],\"pie\":[{\"automargin\":true,\"type\":\"pie\"}],\"scatter3d\":[{\"line\":{\"colorbar\":{\"outlinewidth\":0,\"ticks\":\"\"}},\"marker\":{\"colorbar\":{\"outlinewidth\":0,\"ticks\":\"\"}},\"type\":\"scatter3d\"}],\"scattercarpet\":[{\"marker\":{\"colorbar\":{\"outlinewidth\":0,\"ticks\":\"\"}},\"type\":\"scattercarpet\"}],\"scattergeo\":[{\"marker\":{\"colorbar\":{\"outlinewidth\":0,\"ticks\":\"\"}},\"type\":\"scattergeo\"}],\"scattergl\":[{\"marker\":{\"colorbar\":{\"outlinewidth\":0,\"ticks\":\"\"}},\"type\":\"scattergl\"}],\"scattermapbox\":[{\"marker\":{\"colorbar\":{\"outlinewidth\":0,\"ticks\":\"\"}},\"type\":\"scattermapbox\"}],\"scatterpolargl\":[{\"marker\":{\"colorbar\":{\"outlinewidth\":0,\"ticks\":\"\"}},\"type\":\"scatterpolargl\"}],\"scatterpolar\":[{\"marker\":{\"colorbar\":{\"outlinewidth\":0,\"ticks\":\"\"}},\"type\":\"scatterpolar\"}],\"scatter\":[{\"fillpattern\":{\"fillmode\":\"overlay\",\"size\":10,\"solidity\":0.2},\"type\":\"scatter\"}],\"scatterternary\":[{\"marker\":{\"colorbar\":{\"outlinewidth\":0,\"ticks\":\"\"}},\"type\":\"scatterternary\"}],\"surface\":[{\"colorbar\":{\"outlinewidth\":0,\"ticks\":\"\"},\"colorscale\":[[0.0,\"#0d0887\"],[0.1111111111111111,\"#46039f\"],[0.2222222222222222,\"#7201a8\"],[0.3333333333333333,\"#9c179e\"],[0.4444444444444444,\"#bd3786\"],[0.5555555555555556,\"#d8576b\"],[0.6666666666666666,\"#ed7953\"],[0.7777777777777778,\"#fb9f3a\"],[0.8888888888888888,\"#fdca26\"],[1.0,\"#f0f921\"]],\"type\":\"surface\"}],\"table\":[{\"cells\":{\"fill\":{\"color\":\"#EBF0F8\"},\"line\":{\"color\":\"white\"}},\"header\":{\"fill\":{\"color\":\"#C8D4E3\"},\"line\":{\"color\":\"white\"}},\"type\":\"table\"}]},\"layout\":{\"annotationdefaults\":{\"arrowcolor\":\"#2a3f5f\",\"arrowhead\":0,\"arrowwidth\":1},\"autotypenumbers\":\"strict\",\"coloraxis\":{\"colorbar\":{\"outlinewidth\":0,\"ticks\":\"\"}},\"colorscale\":{\"diverging\":[[0,\"#8e0152\"],[0.1,\"#c51b7d\"],[0.2,\"#de77ae\"],[0.3,\"#f1b6da\"],[0.4,\"#fde0ef\"],[0.5,\"#f7f7f7\"],[0.6,\"#e6f5d0\"],[0.7,\"#b8e186\"],[0.8,\"#7fbc41\"],[0.9,\"#4d9221\"],[1,\"#276419\"]],\"sequential\":[[0.0,\"#0d0887\"],[0.1111111111111111,\"#46039f\"],[0.2222222222222222,\"#7201a8\"],[0.3333333333333333,\"#9c179e\"],[0.4444444444444444,\"#bd3786\"],[0.5555555555555556,\"#d8576b\"],[0.6666666666666666,\"#ed7953\"],[0.7777777777777778,\"#fb9f3a\"],[0.8888888888888888,\"#fdca26\"],[1.0,\"#f0f921\"]],\"sequentialminus\":[[0.0,\"#0d0887\"],[0.1111111111111111,\"#46039f\"],[0.2222222222222222,\"#7201a8\"],[0.3333333333333333,\"#9c179e\"],[0.4444444444444444,\"#bd3786\"],[0.5555555555555556,\"#d8576b\"],[0.6666666666666666,\"#ed7953\"],[0.7777777777777778,\"#fb9f3a\"],[0.8888888888888888,\"#fdca26\"],[1.0,\"#f0f921\"]]},\"colorway\":[\"#636efa\",\"#EF553B\",\"#00cc96\",\"#ab63fa\",\"#FFA15A\",\"#19d3f3\",\"#FF6692\",\"#B6E880\",\"#FF97FF\",\"#FECB52\"],\"font\":{\"color\":\"#2a3f5f\"},\"geo\":{\"bgcolor\":\"white\",\"lakecolor\":\"white\",\"landcolor\":\"#E5ECF6\",\"showlakes\":true,\"showland\":true,\"subunitcolor\":\"white\"},\"hoverlabel\":{\"align\":\"left\"},\"hovermode\":\"closest\",\"mapbox\":{\"style\":\"light\"},\"paper_bgcolor\":\"white\",\"plot_bgcolor\":\"#E5ECF6\",\"polar\":{\"angularaxis\":{\"gridcolor\":\"white\",\"linecolor\":\"white\",\"ticks\":\"\"},\"bgcolor\":\"#E5ECF6\",\"radialaxis\":{\"gridcolor\":\"white\",\"linecolor\":\"white\",\"ticks\":\"\"}},\"scene\":{\"xaxis\":{\"backgroundcolor\":\"#E5ECF6\",\"gridcolor\":\"white\",\"gridwidth\":2,\"linecolor\":\"white\",\"showbackground\":true,\"ticks\":\"\",\"zerolinecolor\":\"white\"},\"yaxis\":{\"backgroundcolor\":\"#E5ECF6\",\"gridcolor\":\"white\",\"gridwidth\":2,\"linecolor\":\"white\",\"showbackground\":true,\"ticks\":\"\",\"zerolinecolor\":\"white\"},\"zaxis\":{\"backgroundcolor\":\"#E5ECF6\",\"gridcolor\":\"white\",\"gridwidth\":2,\"linecolor\":\"white\",\"showbackground\":true,\"ticks\":\"\",\"zerolinecolor\":\"white\"}},\"shapedefaults\":{\"line\":{\"color\":\"#2a3f5f\"}},\"ternary\":{\"aaxis\":{\"gridcolor\":\"white\",\"linecolor\":\"white\",\"ticks\":\"\"},\"baxis\":{\"gridcolor\":\"white\",\"linecolor\":\"white\",\"ticks\":\"\"},\"bgcolor\":\"#E5ECF6\",\"caxis\":{\"gridcolor\":\"white\",\"linecolor\":\"white\",\"ticks\":\"\"}},\"title\":{\"x\":0.05},\"xaxis\":{\"automargin\":true,\"gridcolor\":\"white\",\"linecolor\":\"white\",\"ticks\":\"\",\"title\":{\"standoff\":15},\"zerolinecolor\":\"white\",\"zerolinewidth\":2},\"yaxis\":{\"automargin\":true,\"gridcolor\":\"white\",\"linecolor\":\"white\",\"ticks\":\"\",\"title\":{\"standoff\":15},\"zerolinecolor\":\"white\",\"zerolinewidth\":2}}},\"title\":{\"text\":\"Job Distribuition\"}},                        {\"responsive\": true}                    ).then(function(){\n",
       "                            \n",
       "var gd = document.getElementById('89410a40-cba5-4d41-980a-b35c81a31673');\n",
       "var x = new MutationObserver(function (mutations, observer) {{\n",
       "        var display = window.getComputedStyle(gd).display;\n",
       "        if (!display || display === 'none') {{\n",
       "            console.log([gd, 'removed!']);\n",
       "            Plotly.purge(gd);\n",
       "            observer.disconnect();\n",
       "        }}\n",
       "}});\n",
       "\n",
       "// Listen for the removal of the full notebook cells\n",
       "var notebookContainer = gd.closest('#notebook-container');\n",
       "if (notebookContainer) {{\n",
       "    x.observe(notebookContainer, {childList: true});\n",
       "}}\n",
       "\n",
       "// Listen for the clearing of the current output cell\n",
       "var outputEl = gd.closest('.output');\n",
       "if (outputEl) {{\n",
       "    x.observe(outputEl, {childList: true});\n",
       "}}\n",
       "\n",
       "                        })                };                });            </script>        </div>"
      ]
     },
     "metadata": {},
     "output_type": "display_data"
    }
   ],
   "source": [
    "#First plot\n",
    "trace0 = go.Bar(\n",
    "    x = df_credit[df_credit[\"Risk\"]== 'good'][\"Job\"].value_counts().index.values,\n",
    "    y = df_credit[df_credit[\"Risk\"]== 'good'][\"Job\"].value_counts().values,\n",
    "    name='Good credit Distribuition'\n",
    ")\n",
    "\n",
    "#Second plot\n",
    "trace1 = go.Bar(\n",
    "    x = df_credit[df_credit[\"Risk\"]== 'bad'][\"Job\"].value_counts().index.values,\n",
    "    y = df_credit[df_credit[\"Risk\"]== 'bad'][\"Job\"].value_counts().values,\n",
    "    name=\"Bad Credit Distribuition\"\n",
    ")\n",
    "\n",
    "data = [trace0, trace1]\n",
    "\n",
    "layout = go.Layout(\n",
    "    title='Job Distribuition'\n",
    ")\n",
    "\n",
    "fig = go.Figure(data=data, layout=layout)\n",
    "\n",
    "py.iplot(fig, filename='grouped-bar')"
   ]
  },
  {
   "cell_type": "markdown",
   "metadata": {
    "_cell_guid": "5ddc12f0-61c9-46fd-9ac5-72054b7e65b3",
    "_uuid": "c120123985f2f09dbab5d1be70e400ca55fe5b15"
   },
   "source": [
    "Looking the distribuition of Credit Amont"
   ]
  },
  {
   "cell_type": "code",
   "execution_count": 13,
   "metadata": {
    "_cell_guid": "08186a5c-7f62-4f92-b2c0-7040143d63d1",
    "_kg_hide-input": true,
    "_kg_hide-output": false,
    "_uuid": "e9820ae878fa287084608d982b26b0f0eb3925d2",
    "scrolled": false
   },
   "outputs": [
    {
     "data": {
      "application/vnd.plotly.v1+json": {
       "config": {
        "linkText": "Export to plot.ly",
        "plotlyServerURL": "https://plot.ly",
        "showLink": false
       },
       "data": [
        {
         "autobinx": false,
         "histnorm": "probability density",
         "legendgroup": "Good Credit",
         "marker": {
          "color": "rgb(31, 119, 180)"
         },
         "name": "Good Credit",
         "opacity": 0.7,
         "type": "histogram",
         "x": [
          7.063903961472068,
          7.647786045440933,
          8.97233695775495,
          9.111072370317514,
          7.949797216161852,
          8.846209127360996,
          8.025843344150903,
          7.356918242356021,
          7.246368080102461,
          7.793174347189205,
          8.996156562033445,
          8.140315540159985,
          7.665753431861699,
          7.881182202227102,
          7.714677473800927,
          7.4977617006225685,
          7.634820677745543,
          7.2254814727822945,
          6.054439346269371,
          6.013715156042802,
          7.789454566086673,
          7.556427969440253,
          8.299037181613066,
          8.676928249537397,
          7.142036574706803,
          7.295735072749282,
          8.71768205216564,
          7.110696122978827,
          6.126869184114185,
          7.75491027202143,
          7.05444965813294,
          8.73294952429643,
          8.73020559553099,
          7.239214973779806,
          7.740229524763182,
          7.20934025660291,
          8.885717651712119,
          7.636752112435779,
          7.75491027202143,
          8.693664334532016,
          7.140453043101158,
          8.125039097367745,
          6.663132695990803,
          9.165970424240243,
          7.581209826196346,
          7.237778191923443,
          7.337587743538596,
          8.064950891749143,
          8.554488976159934,
          7.682943169878292,
          6.914730892718563,
          7.780720886117918,
          9.003685138166775,
          6.593044534142437,
          7.059617628291383,
          8.691818541575723,
          7.330405211844402,
          8.470311205516108,
          9.152287440527566,
          8.251142139090751,
          7.10085190894405,
          7.357556200910353,
          7.470224135899966,
          7.747164966520335,
          7.252762418053187,
          7.166265974133638,
          7.718240951959316,
          6.42648845745769,
          7.25063551189868,
          8.193400231952097,
          7.183870715062453,
          7.60688453121963,
          7.871692664323645,
          7.756623334538858,
          8.86177531100083,
          7.292337176173877,
          7.750614732770409,
          6.837332814685591,
          7.5595594960077,
          7.801800401908973,
          8.712430973476739,
          8.951699168308815,
          7.251344983372214,
          7.278628942320682,
          5.971261839790462,
          8.741935464094144,
          7.426549072397305,
          8.182559264068665,
          7.664815785285735,
          7.768956044538332,
          8.260492856573185,
          7.477604243197589,
          6.660575149839686,
          7.659642954564682,
          6.55250788703459,
          7.528331766707247,
          9.046290859969677,
          7.903965634032166,
          7.592870287844818,
          9.224637676677007,
          7.122866658599083,
          9.061027968789174,
          7.911324018963353,
          7.53955882930103,
          6.5638555265321274,
          8.475328987317539,
          8.13622555490846,
          7.7354333524996886,
          8.179199798423086,
          6.756932389247553,
          6.525029657843462,
          8.58876938990546,
          7.366445148327599,
          7.204892510204673,
          7.562161631225652,
          8.673855001429615,
          8.956479847999912,
          8.848939995030118,
          7.160845906664299,
          5.82600010738045,
          8.163940954755008,
          7.5485559791698735,
          7.962763930168115,
          6.961296045910167,
          7.140453043101158,
          8.896724917497897,
          6.812345094177479,
          7.999007213243955,
          7.3632795869630385,
          8.287025025165063,
          6.637258031284457,
          7.254177846456518,
          7.854381210652365,
          5.823045895483019,
          7.5822291942764615,
          6.3473892096560105,
          8.236685322712457,
          7.215239978730097,
          7.069023426578259,
          8.084562415235304,
          7.653494909661253,
          7.231287004327616,
          7.9229859587111955,
          6.841615476477592,
          7.0630481633881725,
          8.540323608805092,
          7.3098814858247865,
          9.270776740780013,
          7.5678626054638825,
          7.261225091971921,
          8.789964651132264,
          7.253470382684528,
          8.03073492409854,
          8.251924713801357,
          8.114324709155339,
          6.837332814685591,
          8.04044688130311,
          8.272059622210412,
          8.013343181386672,
          7.218176838403408,
          6.437751649736401,
          7.090076835776092,
          6.561030665896573,
          7.999007213243955,
          8.446126742982377,
          7.868254265520613,
          8.054840221101024,
          7.826842098158293,
          7.669028288589683,
          6.763884908562435,
          7.342131730584722,
          7.1631723908466425,
          7.8328075165248645,
          7.374629015218945,
          7.077498053569231,
          8.145259566516865,
          7.1372784372603855,
          6.57507584059962,
          7.093404625868766,
          7.562681246721884,
          6.501289670540389,
          7.719129840906732,
          8.33110454805304,
          7.615791072035833,
          8.911664758049536,
          7.895063498091573,
          8.245909264774093,
          7.050989447068045,
          7.4127640174265625,
          7.3796321526095525,
          8.57583938684897,
          7.91862865334224,
          7.115582126184454,
          8.748939631537715,
          7.334981878871814,
          6.906754778648554,
          7.8868329989550565,
          7.2456550675945355,
          9.4066470133368,
          7.89989532313973,
          7.784889295655098,
          7.140453043101158,
          7.550135342488429,
          8.122074375362217,
          7.3613754289773485,
          7.275864600546533,
          7.326465613840322,
          8.263074835802596,
          9.280052984387483,
          8.473868066677865,
          8.93353229607628,
          6.9957661563048505,
          6.98100574072173,
          8.767017621311778,
          8.475537516147405,
          8.93971205409023,
          8.449984441722787,
          7.160069207596127,
          7.83002808253384,
          7.917536353943631,
          6.51025834052315,
          6.945051063725834,
          7.341483852363161,
          8.478660241699453,
          5.62040086571715,
          8.59062950948942,
          8.614501373883236,
          8.229244416735913,
          7.309212365692763,
          6.56244409369372,
          8.37816098272068,
          6.55250788703459,
          8.200562797008564,
          7.975908360165538,
          7.88570539124302,
          6.93537044601511,
          8.130942302231878,
          8.665785595466064,
          7.329749689041512,
          8.405814603432848,
          6.97354301952014,
          8.797095076549056,
          7.650168700845001,
          8.335431477880796,
          7.327123292259293,
          8.655737000864297,
          8.188411308079031,
          8.074960359115858,
          8.398184404834035,
          8.28121766128665,
          7.285506548522785,
          6.782192056006791,
          8.231642179973411,
          7.463363045520021,
          7.119635638017636,
          8.079927770758275,
          6.588926477533519,
          7.754052639035757,
          6.654152520183219,
          7.122059881629142,
          8.131236549696116,
          7.717351272185329,
          7.476472381163905,
          7.340835554123275,
          8.25582842728183,
          8.202482446576537,
          8.006700845440367,
          8.0323601479245,
          8.711113884053544,
          7.671360923190644,
          9.529230371552156,
          7.749322464660356,
          6.740519359606223,
          5.8916442118257715,
          7.701652362642226,
          7.1569563646156364,
          7.1929342212158,
          8.35983738064003,
          7.71333788887187,
          7.026426808699636,
          8.90571557879409,
          7.75190533307861,
          7.278628942320682,
          7.506591780070841,
          6.890609120147166,
          8.0861025356691,
          7.579167967396076,
          7.785720896534624,
          9.372459221452617,
          7.8547691834991324,
          7.761319180947987,
          7.323830566202317,
          7.29505641646263,
          7.54274354536855,
          6.687108607866515,
          7.972121128921655,
          7.69484807238461,
          6.959398512133975,
          8.081784206935001,
          7.584264818389059,
          8.889170455363413,
          7.3758821482150125,
          8.672828482947686,
          9.044403844431551,
          7.930925372483388,
          8.066521490469993,
          7.614805364711073,
          6.86484777797086,
          7.372118028337787,
          7.929846429742503,
          7.916807490937603,
          7.046647277848756,
          7.180069874302796,
          8.145549631783584,
          7.534762657037537,
          7.629489916393995,
          7.666690200080086,
          6.492239835020471,
          7.160069207596127,
          8.129764445794171,
          7.5411524551363085,
          7.3901814282264295,
          7.874358824729881,
          7.126087273299125,
          7.853993087224244,
          7.261225091971921,
          9.310547632393208,
          6.249975242259483,
          7.922623574217286,
          7.8898337513942955,
          7.893198869544609,
          8.270013062273787,
          5.8377304471659395,
          8.432506383249043,
          8.194229304819817,
          7.450660796211539,
          8.012018239159062,
          6.625392368007956,
          7.575584651557793,
          7.980707820869669,
          8.887100204123687,
          7.92443418488756,
          8.450839690866216,
          7.121252453244542,
          7.851271997109883,
          8.54714026778419,
          6.9440872082295275,
          7.298445101508147,
          8.181160858023409,
          7.0909098220799835,
          8.19478163844336,
          6.866933284461882,
          7.0587581525186645,
          8.031710375322042,
          8.231376045573969,
          7.257002707092073,
          8.165647925297504,
          7.56734567601324,
          7.1204443723924875,
          5.908082938168931,
          7.660114319173928,
          7.368339686311381,
          7.170888478512505,
          7.187657164114956,
          8.61122983334262,
          7.026426808699636,
          7.7664168980196555,
          7.253470382684528,
          9.058121158998672,
          8.452334619067742,
          7.8961806086154915,
          6.371611847231857,
          7.720905251936779,
          6.411818267709897,
          7.215975002651466,
          7.0925737159746784,
          6.551080335043404,
          8.613775289262481,
          8.15708378502887,
          7.014814351275545,
          8.982937763741589,
          7.3343293503005365,
          7.315218389752975,
          6.495265555937008,
          7.728855823852543,
          7.315218389752975,
          7.1785454837637,
          8.040768994367578,
          7.2254814727822945,
          8.192016914536875,
          8.022568946988255,
          7.616775808698373,
          7.134890851565884,
          7.611842399580417,
          7.347299700743164,
          9.089076284483143,
          6.903747257584598,
          7.4673710669175595,
          7.598399329323964,
          7.089243155027514,
          7.994294986415977,
          6.52649485957079,
          8.457867725331422,
          7.347943823148687,
          7.8547691834991324,
          8.288785810426928,
          8.691818541575723,
          8.600246746551523,
          6.692083742506628,
          6.9865664594064265,
          7.933079771880415,
          7.982757702011113,
          7.563719668414366,
          6.842683282238422,
          8.046869510959576,
          7.23561914106675,
          7.665284718471351,
          7.937017489515454,
          7.161622002939187,
          5.953243334287785,
          7.583247524303362,
          7.360103972989152,
          8.259199362666282,
          7.753194269884341,
          7.150701457592526,
          7.947325027016463,
          8.417593826193484,
          7.62608275807238,
          7.170119543449628,
          8.118802996980035,
          8.197538739721184,
          9.40951904583656,
          9.122273893107732,
          8.209580483475577,
          6.461468176353717,
          8.20303024171486,
          7.527255919373784,
          7.590346945602565,
          7.65728279297819,
          8.304494897963567,
          8.251142139090751,
          8.205218426395412,
          7.275172319452771,
          7.239214973779806,
          7.226936018493289,
          9.658417870888224,
          7.30854279753919,
          7.176254532017144,
          7.523481312573497,
          7.539027055823995,
          8.430109084509125,
          8.919453168575453,
          7.76046702921342,
          8.287276755814599,
          9.232297539328226,
          8.347827345782498,
          8.757940876678804,
          7.167809184316444,
          7.714677473800927,
          6.956545443151569,
          6.953684210870537,
          8.750524669117937,
          8.159374736775426,
          8.19118600464279,
          8.012018239159062,
          8.328209491748732,
          8.655562860681009,
          9.246286498749653,
          7.640123172695364,
          8.41847721847708,
          8.546751993657782,
          7.776535028185241,
          7.2813856635702825,
          7.338238150065589,
          7.731492029245684,
          7.298445101508147,
          8.537583881063972,
          9.19593714166544,
          8.783702698635217,
          7.205635176410364,
          7.959275960116396,
          7.920446505142607,
          8.202756381655638,
          6.882437470997847,
          7.875119281040293,
          7.971085753505607,
          8.458716261657262,
          7.7336835707759,
          7.119635638017636,
          7.005789019253503,
          6.8308742346461795,
          7.495541943884256,
          7.552237287560802,
          7.227662498728654,
          7.8252452914317745,
          7.8351837552667485,
          8.579980179515003,
          7.095064377287131,
          7.658227526161352,
          6.444131256700441,
          7.814399633804487,
          7.037027614686276,
          8.935377071932177,
          8.031710375322042,
          7.316548177182976,
          8.054522609537294,
          8.723882104658486,
          6.672032945461067,
          5.521460917862246,
          7.182352111885263,
          7.150701457592526,
          8.764521909518802,
          6.633318433280377,
          7.864419904994565,
          8.125630988477065,
          8.29154650988391,
          8.384804003370492,
          8.818926087090677,
          7.751475318021456,
          6.954638864880987,
          8.058327306580958,
          7.817222785508166,
          9.559517275737559,
          7.493873886783559,
          7.828436359157585,
          8.565602330623925,
          8.015987811027237,
          6.059123195581797,
          6.734591659972948,
          8.660600654710967,
          7.1693500166706,
          7.239214973779806,
          8.52615293278771,
          7.7025561132685825,
          7.809135398120538,
          7.051855622955894,
          7.972810784121404,
          8.193400231952097,
          7.411556287811163,
          7.941651252930556,
          8.094073148069352,
          7.706612913964197,
          7.299797366758161,
          8.170468578330674,
          8.163086375583216,
          8.650149418664864,
          8.261526448396468,
          7.570443252057374,
          7.251344983372214,
          8.774622220696997,
          7.57095858316901,
          7.891704659330107,
          7.919719760924575,
          8.750366278367625,
          7.107425474110705,
          7.969703583278656,
          8.026823576217629,
          7.741099090035366,
          7.1372784372603855,
          6.57507584059962,
          7.3453648404168685,
          7.3758821482150125,
          7.492760300922379,
          8.35983738064003,
          6.883462586413092,
          8.918917979908679,
          6.380122536899765,
          6.835184586147301,
          9.135940049399933,
          6.810142450115136,
          6.182084906716632,
          8.913550280493675,
          7.198931240688173,
          7.348587530927593,
          9.671366322189568,
          7.00397413672268,
          8.011686729127847,
          6.594413459749778,
          8.237479288613633,
          7.379008127628304,
          8.807022955925477,
          7.772752716468742,
          8.533853632309345,
          6.786716950605081,
          6.398594934535208,
          7.9919305198524775,
          7.8674885686991285,
          8.0040315078527,
          7.351799869057777,
          8.137980454452139,
          8.288031567776464,
          7.130098510125578,
          7.218176838403408,
          8.304494897963567,
          7.293697720601438,
          9.294221855956884,
          7.295735072749282,
          6.795705775173514,
          8.114623886420098,
          8.182279739259018,
          8.666302614004078,
          8.417593826193484,
          7.7057128238944275,
          7.77863014732581,
          8.11102783819368,
          8.910450756416656,
          6.480044561926653,
          8.946114375560743,
          7.202661196523238,
          7.231287004327616,
          6.773080375655535,
          8.185907481482324,
          7.186901020411631,
          7.570443252057374,
          8.187299270155147,
          8.816111895794005,
          8.963672275615016,
          9.135293497653272,
          7.687538766201629,
          7.001245622069476,
          7.946263643580541,
          8.796943893541737,
          8.964951211714654,
          7.80057265467065,
          7.511524648390866,
          7.682943169878292,
          8.66561319653451,
          7.063903961472068,
          9.099073559547596,
          7.8655717576847906,
          7.3727463664043285,
          7.689828668736484,
          8.156223323194624,
          9.256937657352966,
          7.234177179749849,
          7.15305163493748,
          7.009408932708637,
          8.232971790593437,
          8.219056661060598,
          8.187021067343505,
          8.069342366811636,
          8.401557847817314,
          8.003363058629947,
          7.669495251007694,
          7.954372272531867,
          7.504942068396171,
          9.453208116138121,
          7.601901959875166,
          6.955592608396297,
          7.532088143541722,
          7.203405521083095,
          7.465655310134056,
          7.1098794630722715,
          6.257667587882639,
          7.311886164077165,
          7.631916513071252,
          8.830835365537549,
          8.168202930236053,
          7.343426229147367,
          6.834108738813838,
          7.282761179605593,
          7.520234556474628,
          9.03097444300786,
          7.958227192322312,
          8.185907481482324,
          7.545918151209323,
          7.115582126184454,
          8.204124932574041,
          7.050989447068045,
          8.029107054619736,
          7.461640392208575,
          7.763446388727362,
          8.176391596633795,
          6.118097198041348,
          7.44716835960004,
          8.1797604936999,
          8.8771028978649,
          8.278682162970906,
          7.322510433997394,
          8.9082888855571,
          7.9483852851118995,
          7.1372784372603855,
          6.6240652277998935,
          7.794411205726601,
          7.980365765111246,
          7.614805364711073,
          7.267525427828172,
          8.746557354543503,
          7.25063551189868,
          8.791638037085997,
          7.463363045520021,
          8.178919332848396,
          7.358193752733032,
          7.568379267836522,
          8.28374674710613,
          7.779048644925556,
          7.459338895220296,
          8.257644958208228,
          6.6895992691789665,
          8.428580533059634
         ],
         "xaxis": "x",
         "xbins": {
          "end": 9.671366322189568,
          "size": 0.2,
          "start": 5.521460917862246
         },
         "yaxis": "y"
        },
        {
         "autobinx": false,
         "histnorm": "probability density",
         "legendgroup": "Bad Credit",
         "marker": {
          "color": "rgb(255, 127, 14)"
         },
         "name": "Bad Credit",
         "opacity": 0.7,
         "type": "histogram",
         "x": [
          8.691314551644853,
          8.490849216076635,
          8.562931083090092,
          7.166265974133638,
          8.36822903827628,
          7.089243155027514,
          7.156176637480615,
          9.439784035838873,
          8.829958044235482,
          8.465057436995709,
          7.649692623711514,
          8.723068501163928,
          7.707512194600341,
          8.774622220696997,
          8.736971085254146,
          7.577121930876679,
          9.57644075656207,
          7.506042178518122,
          7.589335823170617,
          8.285261134068948,
          8.68996933536666,
          9.442404020664952,
          7.010311867307229,
          6.680854678790215,
          9.676900579444158,
          9.387481868728596,
          8.77307495131822,
          8.96890555068972,
          8.878218658092228,
          8.361941906144946,
          7.51479976048867,
          7.562161631225652,
          6.459904454377535,
          8.160232492367689,
          8.837390855544697,
          6.641182169740591,
          7.808729306744399,
          7.156176637480615,
          7.030857476116121,
          7.5678626054638825,
          6.856461984594587,
          7.6324011266014535,
          8.135639903354386,
          8.920656296853728,
          9.166597449028265,
          8.40178233990491,
          7.4067107301776405,
          6.784457062637643,
          8.542665987389269,
          6.513230110912307,
          8.431853144249223,
          8.254268770090183,
          8.272570608424903,
          8.016647877057803,
          7.313886831633462,
          6.85751406254539,
          8.365672383774996,
          6.804614520062624,
          8.574140471857987,
          7.553810852008231,
          9.302098797215724,
          8.970177815492379,
          7.298445101508147,
          8.345217926676428,
          7.508238774678663,
          9.585689856179723,
          7.925518979786926,
          6.818924065275521,
          8.434897948689407,
          6.07073772800249,
          7.673223121121708,
          7.67275789664251,
          6.687108607866515,
          9.102532419341877,
          8.026170194946426,
          9.392495248213038,
          8.436200032206706,
          6.931471805599453,
          9.14825217966276,
          9.206332350578643,
          8.24380842366528,
          7.203405521083095,
          9.222960403332285,
          6.588926477533519,
          7.1204443723924875,
          6.529418838262226,
          7.917900586327916,
          8.354438940114811,
          7.569411792450712,
          7.530479995245536,
          8.910315776326016,
          9.357897936333798,
          8.32117830749028,
          8.126813720726114,
          7.150701457592526,
          7.035268599281097,
          6.8658910748834385,
          8.73214326770192,
          7.1276936993473985,
          8.40357646462927,
          7.785720896534624,
          7.813187267521416,
          8.144969417087875,
          9.601165503344832,
          8.947025655972697,
          9.56927276595613,
          9.470856776355195,
          7.109062135687172,
          9.065083359319043,
          7.620214770574455,
          6.844815479208263,
          7.73718007783463,
          7.2305631534092925,
          7.8551570058813445,
          6.948897222313312,
          7.923710333969238,
          7.081708586105575,
          9.3350328159335,
          7.302496423727326,
          6.411818267709897,
          6.577861357721047,
          8.536211197252,
          7.518607216815252,
          7.321188556739478,
          8.479906606630221,
          8.12740456269308,
          7.413970290190444,
          8.036573409707312,
          6.104793232414985,
          6.483107351457199,
          7.126890808898808,
          8.043663352393944,
          7.097548850614793,
          9.026177120302856,
          8.005033344637111,
          9.108750516214549,
          8.046549357283078,
          7.103322062526113,
          7.095893221097532,
          7.1770187659099,
          8.83200393125627,
          6.63200177739563,
          8.871645667501872,
          8.06777619577889,
          8.870522545103873,
          7.741533589281828,
          7.875119281040293,
          7.7488913372555315,
          8.95712413640568,
          7.335633981927201,
          8.756210091886738,
          7.9599745280805365,
          7.195187320178709,
          6.439350371100098,
          8.85352256068954,
          7.193685818395112,
          7.731053144007127,
          8.517793011488205,
          8.17526610411206,
          7.564238475170491,
          7.343426229147367,
          9.424564261115739,
          7.22402480828583,
          8.818482267274236,
          8.081475040137052,
          7.944492163932159,
          6.962243464266207,
          7.776535028185241,
          7.620214770574455,
          7.104144092987527,
          7.716906135298388,
          7.907651594711089,
          7.213768308118642,
          6.836259277277067,
          7.273786317844895,
          8.352554369474591,
          7.928406026180535,
          6.822197390620491,
          7.515889085215125,
          8.116417072794205,
          7.890208213109961,
          6.608000625296087,
          7.122866658599083,
          7.4999765409521215,
          8.14351740579748,
          7.333023014386481,
          8.272315147956022,
          7.8632667240095735,
          7.270312886079025,
          7.347943823148687,
          7.590852123688581,
          7.2115567333138015,
          8.382518288089635,
          6.620073206530356,
          8.438799123988225,
          8.984693690443855,
          7.234177179749849,
          6.853299093186078,
          6.52795791762255,
          7.561121589530238,
          7.741967899820685,
          8.997889450200717,
          6.78897174299217,
          6.802394763324311,
          8.48528964240323,
          7.855544677915663,
          8.629628620746026,
          7.023758954738443,
          8.753213480544126,
          8.788745881938135,
          7.99598047476376,
          7.088408778675395,
          9.54873932271967,
          7.198183577101943,
          6.07073772800249,
          7.113142108707088,
          7.851661177889265,
          7.540090320145325,
          8.766550149546351,
          7.594381242551817,
          9.355306142226368,
          8.361708288575842,
          7.149916836132109,
          6.883462586413092,
          7.349230824613334,
          7.158513997329321,
          7.147559271189454,
          6.53813982376767,
          7.66105638236183,
          9.447781227991216,
          8.041734711487537,
          8.99528899055931,
          7.223295679562314,
          8.503702601233739,
          6.728628613084702,
          8.736168065858228,
          8.699181359308954,
          7.080026499922591,
          8.924123891686012,
          9.134646527606982,
          7.48324441607385,
          9.172534657240284,
          8.02322468471667,
          8.27664912542186,
          7.20414929203594,
          7.905441649060286,
          8.285513309079741,
          8.334471554600944,
          9.028218795184895,
          7.103322062526113,
          9.377209824211215,
          7.752335163302292,
          6.9865664594064265,
          8.552367266423891,
          7.57198844937744,
          8.818926087090677,
          6.5638555265321274,
          7.711996507047669,
          7.273786317844895,
          8.28374674710613,
          7.682021510826875,
          7.79934339821592,
          7.700747794511798,
          7.259819610363186,
          8.308199063206446,
          6.678342114654332,
          9.659630959624376,
          8.331586243630754,
          7.872836175025724,
          8.462948176563842,
          8.058643712215618,
          9.82140944150052,
          9.608847999516849,
          7.765993079407675,
          8.11522197256233,
          7.2196420401307355,
          8.835210463664092,
          6.546785410760524,
          9.239607869656751,
          7.4205789054108005,
          7.5595594960077,
          6.61338421837956,
          8.746398334109042,
          8.116417072794205,
          7.334981878871814,
          8.19450550976564,
          7.6708948313621175,
          8.321907968230423,
          9.30328411761892,
          8.295548516225763,
          7.781973234434385,
          7.832014180505469,
          7.084226422097916,
          8.89521858376562,
          7.839131648274333,
          7.142036574706803,
          9.034318927730707,
          8.485496104672983,
          9.015419779605713,
          7.520234556474628
         ],
         "xaxis": "x",
         "xbins": {
          "end": 9.82140944150052,
          "size": 0.2,
          "start": 6.07073772800249
         },
         "yaxis": "y"
        },
        {
         "legendgroup": "Good Credit",
         "marker": {
          "color": "rgb(31, 119, 180)"
         },
         "mode": "lines",
         "name": "Good Credit",
         "showlegend": false,
         "type": "scatter",
         "x": [
          5.521460917862246,
          5.529760728670901,
          5.538060539479555,
          5.54636035028821,
          5.554660161096865,
          5.562959971905519,
          5.571259782714174,
          5.579559593522829,
          5.587859404331483,
          5.596159215140138,
          5.604459025948793,
          5.612758836757447,
          5.621058647566102,
          5.629358458374757,
          5.637658269183411,
          5.645958079992066,
          5.654257890800721,
          5.662557701609375,
          5.67085751241803,
          5.6791573232266845,
          5.687457134035339,
          5.6957569448439935,
          5.7040567556526485,
          5.7123565664613025,
          5.7206563772699575,
          5.728956188078612,
          5.7372559988872665,
          5.745555809695921,
          5.753855620504576,
          5.76215543131323,
          5.770455242121885,
          5.77875505293054,
          5.787054863739194,
          5.795354674547849,
          5.803654485356504,
          5.811954296165158,
          5.820254106973813,
          5.828553917782468,
          5.836853728591122,
          5.845153539399777,
          5.853453350208432,
          5.861753161017086,
          5.870052971825741,
          5.878352782634396,
          5.88665259344305,
          5.894952404251705,
          5.90325221506036,
          5.911552025869014,
          5.919851836677669,
          5.928151647486324,
          5.936451458294978,
          5.944751269103633,
          5.953051079912288,
          5.961350890720942,
          5.969650701529597,
          5.977950512338252,
          5.986250323146906,
          5.994550133955561,
          6.002849944764216,
          6.01114975557287,
          6.019449566381525,
          6.02774937719018,
          6.0360491879988345,
          6.0443489988074885,
          6.0526488096161435,
          6.0609486204247975,
          6.0692484312334525,
          6.077548242042107,
          6.085848052850762,
          6.094147863659416,
          6.102447674468071,
          6.110747485276725,
          6.11904729608538,
          6.127347106894035,
          6.13564691770269,
          6.143946728511344,
          6.152246539319999,
          6.160546350128653,
          6.168846160937308,
          6.177145971745963,
          6.185445782554617,
          6.193745593363272,
          6.202045404171927,
          6.210345214980581,
          6.218645025789236,
          6.226944836597891,
          6.235244647406545,
          6.2435444582152,
          6.251844269023855,
          6.260144079832509,
          6.268443890641164,
          6.276743701449819,
          6.285043512258473,
          6.293343323067128,
          6.301643133875783,
          6.309942944684437,
          6.318242755493092,
          6.326542566301747,
          6.334842377110401,
          6.343142187919056,
          6.351441998727711,
          6.359741809536365,
          6.36804162034502,
          6.376341431153675,
          6.3846412419623295,
          6.392941052770984,
          6.4012408635796385,
          6.409540674388293,
          6.4178404851969475,
          6.426140296005602,
          6.434440106814257,
          6.442739917622911,
          6.451039728431566,
          6.45933953924022,
          6.467639350048875,
          6.47593916085753,
          6.484238971666185,
          6.492538782474839,
          6.500838593283494,
          6.509138404092148,
          6.517438214900803,
          6.525738025709458,
          6.534037836518113,
          6.542337647326767,
          6.550637458135422,
          6.558937268944076,
          6.567237079752731,
          6.575536890561386,
          6.583836701370041,
          6.592136512178695,
          6.60043632298735,
          6.608736133796004,
          6.617035944604659,
          6.625335755413314,
          6.633635566221969,
          6.641935377030623,
          6.650235187839278,
          6.658534998647932,
          6.666834809456587,
          6.675134620265242,
          6.683434431073897,
          6.691734241882551,
          6.700034052691206,
          6.70833386349986,
          6.716633674308515,
          6.72493348511717,
          6.7332332959258245,
          6.741533106734479,
          6.7498329175431335,
          6.758132728351788,
          6.7664325391604425,
          6.7747323499690975,
          6.783032160777752,
          6.7913319715864064,
          6.799631782395061,
          6.807931593203715,
          6.81623140401237,
          6.824531214821025,
          6.83283102562968,
          6.841130836438334,
          6.849430647246989,
          6.857730458055643,
          6.866030268864298,
          6.874330079672953,
          6.882629890481608,
          6.890929701290262,
          6.899229512098917,
          6.907529322907571,
          6.915829133716226,
          6.924128944524881,
          6.932428755333536,
          6.94072856614219,
          6.949028376950845,
          6.957328187759499,
          6.965627998568154,
          6.973927809376809,
          6.982227620185464,
          6.990527430994118,
          6.998827241802773,
          7.007127052611427,
          7.015426863420082,
          7.023726674228737,
          7.032026485037392,
          7.040326295846046,
          7.048626106654701,
          7.056925917463355,
          7.06522572827201,
          7.073525539080665,
          7.0818253498893196,
          7.0901251606979745,
          7.0984249715066285,
          7.106724782315283,
          7.1150245931239375,
          7.1233244039325925,
          7.131624214741247,
          7.1399240255499015,
          7.148223836358556,
          7.1565236471672105,
          7.164823457975865,
          7.17312326878452,
          7.181423079593175,
          7.189722890401829,
          7.198022701210484,
          7.206322512019138,
          7.214622322827793,
          7.222922133636448,
          7.231221944445103,
          7.239521755253757,
          7.247821566062412,
          7.256121376871066,
          7.264421187679721,
          7.272720998488376,
          7.281020809297031,
          7.289320620105685,
          7.29762043091434,
          7.305920241722994,
          7.314220052531649,
          7.322519863340304,
          7.330819674148959,
          7.339119484957613,
          7.347419295766268,
          7.355719106574922,
          7.364018917383577,
          7.372318728192232,
          7.380618539000887,
          7.388918349809541,
          7.397218160618196,
          7.405517971426851,
          7.413817782235505,
          7.42211759304416,
          7.430417403852815,
          7.438717214661469,
          7.447017025470124,
          7.4553168362787785,
          7.4636166470874326,
          7.4719164578960875,
          7.480216268704742,
          7.4885160795133965,
          7.496815890322051,
          7.505115701130706,
          7.51341551193936,
          7.521715322748015,
          7.53001513355667,
          7.538314944365325,
          7.546614755173979,
          7.554914565982633,
          7.563214376791288,
          7.571514187599943,
          7.579813998408598,
          7.588113809217253,
          7.596413620025907,
          7.604713430834561,
          7.613013241643216,
          7.621313052451871,
          7.629612863260526,
          7.637912674069181,
          7.646212484877835,
          7.654512295686489,
          7.662812106495144,
          7.671111917303799,
          7.679411728112454,
          7.687711538921109,
          7.696011349729763,
          7.704311160538417,
          7.712610971347072,
          7.720910782155727,
          7.729210592964382,
          7.737510403773037,
          7.745810214581691,
          7.754110025390345,
          7.762409836199,
          7.770709647007655,
          7.77900945781631,
          7.7873092686249645,
          7.795609079433619,
          7.8039088902422735,
          7.812208701050928,
          7.8205085118595825,
          7.8288083226682375,
          7.837108133476892,
          7.845407944285546,
          7.8537077550942005,
          7.862007565902855,
          7.87030737671151,
          7.878607187520165,
          7.88690699832882,
          7.895206809137474,
          7.903506619946129,
          7.911806430754783,
          7.920106241563438,
          7.928406052372093,
          7.936705863180747,
          7.945005673989402,
          7.953305484798056,
          7.961605295606711,
          7.969905106415366,
          7.978204917224021,
          7.986504728032676,
          7.99480453884133,
          8.003104349649984,
          8.011404160458639,
          8.019703971267294,
          8.028003782075949,
          8.036303592884604,
          8.044603403693259,
          8.052903214501912,
          8.061203025310567,
          8.069502836119222,
          8.077802646927877,
          8.086102457736532,
          8.094402268545185,
          8.10270207935384,
          8.111001890162495,
          8.11930170097115,
          8.127601511779805,
          8.13590132258846,
          8.144201133397114,
          8.152500944205768,
          8.160800755014423,
          8.169100565823078,
          8.177400376631732,
          8.185700187440387,
          8.19399999824904,
          8.202299809057696,
          8.21059961986635,
          8.218899430675005,
          8.22719924148366,
          8.235499052292315,
          8.24379886310097,
          8.252098673909623,
          8.260398484718278,
          8.268698295526933,
          8.276998106335588,
          8.285297917144243,
          8.293597727952896,
          8.301897538761551,
          8.310197349570206,
          8.318497160378861,
          8.326796971187516,
          8.335096781996171,
          8.343396592804826,
          8.351696403613479,
          8.359996214422134,
          8.368296025230789,
          8.376595836039444,
          8.384895646848099,
          8.393195457656752,
          8.401495268465407,
          8.409795079274062,
          8.418094890082717,
          8.426394700891372,
          8.434694511700027,
          8.442994322508682,
          8.451294133317335,
          8.45959394412599,
          8.467893754934645,
          8.4761935657433,
          8.484493376551955,
          8.492793187360608,
          8.501092998169263,
          8.509392808977918,
          8.517692619786573,
          8.525992430595227,
          8.534292241403882,
          8.542592052212537,
          8.550891863021192,
          8.559191673829845,
          8.5674914846385,
          8.575791295447155,
          8.58409110625581,
          8.592390917064463,
          8.600690727873118,
          8.608990538681773,
          8.617290349490428,
          8.625590160299083,
          8.633889971107738,
          8.642189781916393,
          8.650489592725048,
          8.658789403533703,
          8.667089214342356,
          8.675389025151011,
          8.683688835959666,
          8.69198864676832,
          8.700288457576974,
          8.708588268385629,
          8.716888079194284,
          8.725187890002939,
          8.733487700811594,
          8.741787511620249,
          8.750087322428904,
          8.758387133237557,
          8.766686944046212,
          8.774986754854867,
          8.783286565663522,
          8.791586376472175,
          8.79988618728083,
          8.808185998089485,
          8.81648580889814,
          8.824785619706795,
          8.83308543051545,
          8.841385241324105,
          8.84968505213276,
          8.857984862941413,
          8.866284673750068,
          8.874584484558723,
          8.882884295367377,
          8.89118410617603,
          8.899483916984686,
          8.90778372779334,
          8.916083538601995,
          8.92438334941065,
          8.932683160219305,
          8.94098297102796,
          8.949282781836615,
          8.957582592645268,
          8.965882403453923,
          8.974182214262578,
          8.982482025071233,
          8.990781835879886,
          8.999081646688541,
          9.007381457497196,
          9.015681268305851,
          9.023981079114506,
          9.032280889923161,
          9.040580700731816,
          9.048880511540471,
          9.057180322349124,
          9.065480133157779,
          9.073779943966434,
          9.082079754775089,
          9.090379565583742,
          9.098679376392397,
          9.106979187201052,
          9.115278998009707,
          9.123578808818362,
          9.131878619627017,
          9.140178430435672,
          9.148478241244327,
          9.15677805205298,
          9.165077862861635,
          9.17337767367029,
          9.181677484478945,
          9.189977295287598,
          9.198277106096253,
          9.206576916904908,
          9.214876727713563,
          9.223176538522218,
          9.231476349330872,
          9.239776160139527,
          9.248075970948182,
          9.256375781756836,
          9.26467559256549,
          9.272975403374145,
          9.2812752141828,
          9.289575024991455,
          9.297874835800108,
          9.306174646608763,
          9.314474457417418,
          9.322774268226073,
          9.331074079034728,
          9.339373889843383,
          9.347673700652038,
          9.355973511460691,
          9.364273322269346,
          9.372573133078001,
          9.380872943886656,
          9.389172754695311,
          9.397472565503964,
          9.405772376312619,
          9.414072187121274,
          9.422371997929929,
          9.430671808738584,
          9.438971619547239,
          9.447271430355894,
          9.455571241164547,
          9.463871051973202,
          9.472170862781857,
          9.480470673590512,
          9.488770484399167,
          9.49707029520782,
          9.505370106016475,
          9.51366991682513,
          9.521969727633785,
          9.53026953844244,
          9.538569349251095,
          9.54686916005975,
          9.555168970868404,
          9.563468781677058,
          9.571768592485713,
          9.580068403294366,
          9.58836821410302,
          9.596668024911676,
          9.60496783572033,
          9.613267646528985,
          9.62156745733764,
          9.629867268146295,
          9.63816707895495,
          9.646466889763605,
          9.65476670057226,
          9.663066511380915
         ],
         "xaxis": "x",
         "y": [
          0.009781932269058973,
          0.010168501347443713,
          0.010564921588463946,
          0.010971316922610098,
          0.011387798384129831,
          0.011814460805519416,
          0.01225137936931291,
          0.012698606060369691,
          0.013156166066188985,
          0.013624054176554861,
          0.01410223123696416,
          0.014590620712732049,
          0.01508910542233684,
          0.015597524499410908,
          0.016115670642765836,
          0.016643287712925867,
          0.01718006873183297,
          0.01772565433967986,
          0.018279631759239585,
          0.018841534313637134,
          0.019410841538293783,
          0.019986979921831734,
          0.020569324304135984,
          0.021157199952620453,
          0.02174988533012519,
          0.02234661555989787,
          0.022946586584890225,
          0.023548960010238762,
          0.024152868609423474,
          0.024757422466318735,
          0.025361715717273036,
          0.0259648338495974,
          0.026565861505495652,
          0.027163890733628952,
          0.027758029624255096,
          0.028347411258287544,
          0.028931202895741425,
          0.029508615324919503,
          0.030078912290373266,
          0.030641419915179605,
          0.031195536031400167,
          0.03174073933175249,
          0.03227659825549169,
          0.03280277952226427,
          0.03331905622922191,
          0.03382531542893285,
          0.03432156510855622,
          0.034807940494314626,
          0.03528470960945078,
          0.03575227801854213,
          0.03621119269622628,
          0.03666214496400444,
          0.03710597244479941,
          0.03754365999130812,
          0.037976339550863686,
          0.038405288936477516,
          0.03883192948093787,
          0.03925782255827076,
          0.03968466496449985,
          0.040114283157455646,
          0.04054862636336224,
          0.040989758566053254,
          0.04143984940292929,
          0.04190116400013607,
          0.04237605178790598,
          0.042866934345537566,
          0.043376292334055884,
          0.04390665158316627,
          0.04446056840765089,
          0.04504061423679346,
          0.04564935964871163,
          0.04628935790955112,
          0.046963128125278704,
          0.04767313812121122,
          0.04842178717136114,
          0.04921138870603917,
          0.05004415313186042,
          0.0509221709032091,
          0.05184739598825546,
          0.05282162987564138,
          0.053846506269877865,
          0.05492347662421104,
          0.056053796659114835,
          0.05723851401258712,
          0.05847845716496162,
          0.059774225775965126,
          0.06112618256518659,
          0.06253444685896123,
          0.06399888991691055,
          0.06551913214002282,
          0.06709454224926308,
          0.0687242385093225,
          0.07040709205634507,
          0.07214173237143516,
          0.07392655492355649,
          0.07575973098629371,
          0.0776392196130024,
          0.0795627817343436,
          0.08152799632132177,
          0.08353227853592443,
          0.0855728997705689,
          0.0876470094570582,
          0.0897516585058539,
          0.09188382421749895,
          0.09404043649019232,
          0.09621840513106354,
          0.09841464806389033,
          0.10062612021302031,
          0.10284984283231985,
          0.10508293303921115,
          0.10732263330748067,
          0.10956634066853575,
          0.11181163536937253,
          0.11405630873659275,
          0.1162983899994744,
          0.11853617183124839,
          0.12076823437634156,
          0.12299346754225952,
          0.12521109134787586,
          0.12742067413499247,
          0.12962214846690528,
          0.13181582455615945,
          0.1340024010834017,
          0.13618297329002899,
          0.13835903824883672,
          0.14053249723890202,
          0.14270565517309003,
          0.14488121704870058,
          0.14706228141350652,
          0.14925233086059422,
          0.1514552195857499,
          0.15367515806044868,
          0.155916694891653,
          0.1581846959564441,
          0.16048432091494286,
          0.1628209972189389,
          0.1652003917461345,
          0.16762838020094295,
          0.1701110144324016,
          0.17265448782808548,
          0.17526509895001857,
          0.17794921358465515,
          0.18071322538419438,
          0.18356351528096104,
          0.18650640986056552,
          0.18954813888317545,
          0.19269479214573404,
          0.19595227588147565,
          0.19932626889679694,
          0.20282217864954707,
          0.20644509747724366,
          0.2101997591885984,
          0.2140904962371546,
          0.21812119770170277,
          0.22229526830443652,
          0.22661558870439283,
          0.23108447731048942,
          0.2357036538651352,
          0.2404742050558174,
          0.24539655241788164,
          0.2504704227967079,
          0.2556948216411893,
          0.2610680094026612,
          0.2665874813136348,
          0.27224995081870623,
          0.27805133692530554,
          0.28398675573435744,
          0.2900505163999051,
          0.2962361217523519,
          0.30253627380160364,
          0.3089428843141836,
          0.3154470906320479,
          0.3220392768703929,
          0.32870910059714864,
          0.3354455250584172,
          0.34223685697165573,
          0.3490707898626499,
          0.3559344528732414,
          0.3628144649149752,
          0.3696969939898146,
          0.3765678214434488,
          0.3834124108599096,
          0.3902159812493401,
          0.3969635841241259,
          0.4036401840032889,
          0.41023074183177494,
          0.4167203007509121,
          0.42309407360951745,
          0.4293375315630935,
          0.4354364930716328,
          0.4413772125757538,
          0.44714646810692493,
          0.45273164707083885,
          0.4581208294343101,
          0.46330286754577177,
          0.4682674618278149,
          0.47300523159765434,
          0.4775077802978644,
          0.4817677544553053,
          0.48577889573066696,
          0.4895360854742629,
          0.4930353812651316,
          0.4962740449796857,
          0.49925056201237633,
          0.5019646513533409,
          0.5044172663158571,
          0.5066105857986455,
          0.5085479960635703,
          0.5102340631068436,
          0.5116744958003224,
          0.5128761000775099,
          0.5138467245352297,
          0.5145951979153053,
          0.5151312590196353,
          0.5154654796956375,
          0.5156091816058608,
          0.5155743475646427,
          0.5153735282849057,
          0.5150197454286883,
          0.5145263918950599,
          0.5139071303080011,
          0.5131757906842055,
          0.5123462682662888,
          0.5114324225004375,
          0.5104479781191542,
          0.5094064292596636,
          0.5083209475072378,
          0.5072042947005745,
          0.5060687412743519,
          0.5049259908429677,
          0.5037871116502132,
          0.5026624754235659,
          0.5015617040799084,
          0.5004936246332692,
          0.49946623255599115,
          0.49848666374386424,
          0.4975611751347341,
          0.49669513393030096,
          0.49589301527350776,
          0.49515840814056483,
          0.49449402911830553,
          0.493901743655454,
          0.4933825943015046,
          0.49293683538002153,
          0.4925639734852047,
          0.4922628131418513,
          0.4920315069300371,
          0.4918676093469866,
          0.4917681336600014,
          0.4917296109956413,
          0.49174815091171925,
          0.49181950270938884,
          0.4919391167624179,
          0.4921022051689452,
          0.4923038010668701,
          0.4925388159968329,
          0.49280209474551573,
          0.4930884671559196,
          0.4933927964492916,
          0.4937100236646562,
          0.49403520788534566,
          0.4943635619866594,
          0.4946904837039506,
          0.4950115818850168,
          0.49532269785405114,
          0.49561992187575965,
          0.49589960476689837,
          0.4961583647579693,
          0.496393089759524,
          0.4966009352351946,
          0.4967793179267966,
          0.4969259057154961,
          0.49703860393686045,
          0.49711553849670453,
          0.49715503615881035,
          0.4971556023950991,
          0.4971158972036283,
          0.49703470931009164,
          0.49691092917449525,
          0.49674352122657484,
          0.4965314957514904,
          0.4962738808416514,
          0.4959696948213941,
          0.4956179195388699,
          0.4952174749040932,
          0.4947671950339036,
          0.494265806343685,
          0.4937119079023181,
          0.493103954341131,
          0.4924402415796625,
          0.49171889560105664,
          0.49093786447793797,
          0.4900949138158483,
          0.48918762574582336,
          0.4882134015607361,
          0.48716946805163336,
          0.4860528875608025,
          0.4848605717278208,
          0.4835892988637483,
          0.48223573484709736,
          0.480796457393688,
          0.47926798351131816,
          0.4776467999097022,
          0.4759293960969238,
          0.4741122998560339,
          0.4721921147600332,
          0.470165559350738,
          0.4680295075774415,
          0.4657810300654516,
          0.46341743576285743,
          0.46093631349685854,
          0.45833557295897465,
          0.4556134846318918,
          0.4527687181698641,
          0.4498003787496855,
          0.44670804092050115,
          0.44349177949803736,
          0.4401521970723863,
          0.4366904477278804,
          0.4331082566087997,
          0.4294079350052203,
          0.42559239067879495,
          0.4216651331981483,
          0.4176302741072513,
          0.41349252180683604,
          0.40925717108796544,
          0.4049300873174122,
          0.40051768533560717,
          0.3960269031889212,
          0.39146517087775873,
          0.38684037435982355,
          0.38216081510292743,
          0.3774351655330594,
          0.37267242077052565,
          0.3678818470889989,
          0.3630729275687699,
          0.3582553054459133,
          0.35343872568300694,
          0.34863297530433096,
          0.3438478230488104,
          0.33909295889749264,
          0.33437793402889915,
          0.32971210174563564,
          0.32510455989914905,
          0.3205640953170924,
          0.3160991307097535,
          0.31171767449894705,
          0.30742727397528574,
          0.30323497214849476,
          0.29914726861098784,
          0.29517008468815126,
          0.2913087331002207,
          0.28756789231110835,
          0.2839515856896692,
          0.2804631655593793,
          0.2771053021638495,
          0.2738799775285512,
          0.27078848415420914,
          0.2678314284348593,
          0.26500873865407887,
          0.26231967737667056,
          0.25976285802034327,
          0.25733626536298027,
          0.25503727971597123,
          0.25286270447288234,
          0.2508087967255523,
          0.24887130062634316,
          0.24704548316578526,
          0.2453261720290125,
          0.24370779519204702,
          0.24218442191993172,
          0.2407498048327173,
          0.23939742271209744,
          0.23812052373078896,
          0.2369121687983149,
          0.2357652747303418,
          0.2346726569638906,
          0.2336270715572922,
          0.2326212562314096,
          0.23164797022715508,
          0.2307000327734201,
          0.22977035997901393,
          0.22885199998177938,
          0.22793816620764804,
          0.22702226861170083,
          0.2260979427922751,
          0.2251590768875857,
          0.22419983618215472,
          0.2232146853674468,
          0.22219840841742736,
          0.22114612605522457,
          0.2200533108017128,
          0.21891579961053012,
          0.21772980410688098,
          0.2164919184594401,
          0.2151991249257534,
          0.2138487971218292,
          0.2124387010760911,
          0.21096699413665482,
          0.20943222180893603,
          0.20783331260807347,
          0.206169571017488,
          0.20444066865121802,
          0.2026466337234916,
          0.20078783893435384,
          0.19886498788504878,
          0.19687910014138033,
          0.1948314950673116,
          0.19272377455473405,
          0.19055780477853496,
          0.1883356971088579,
          0.18605978831471337,
          0.1837326201948244,
          0.18135691877274798,
          0.17893557319383324,
          0.17647161446139392,
          0.17396819414858158,
          0.17142856322070868,
          0.1688560511002209,
          0.16625404510306213,
          0.16362597037079904,
          0.1609752704175412,
          0.15830538840440897,
          0.15561974924708172,
          0.15292174265378466,
          0.15021470718204433,
          0.14750191539265628,
          0.14478656016870284,
          0.14207174225617702,
          0.13936045907093728,
          0.13665559480449083,
          0.13395991184856737,
          0.13127604354580616,
          0.12860648826122392,
          0.12595360475672676,
          0.12331960883881221,
          0.1207065712380523,
          0.11811641666804987,
          0.1155509240014812,
          0.11301172749173831,
          0.11050031896065829,
          0.10801805086599052,
          0.10556614015672391,
          0.10314567282018158,
          0.10075760902200628,
          0.0984027887387435,
          0.09608193778277446,
          0.09379567412072852,
          0.09154451438924056,
          0.08932888051589304,
          0.08714910635833474,
          0.08500544428073464,
          0.0828980715938497,
          0.08082709679283867,
          0.07879256553545473,
          0.0767944663121795,
          0.07483273576909816,
          0.07290726365365717,
          0.07101789736274376,
          0.06916444608162367,
          0.0673466845110084,
          0.06556435618774896,
          0.06381717641227365,
          0.06210483480273969,
          0.060426997501915304,
          0.058783309067919384,
          0.05717339408411722,
          0.05559685852660973,
          0.05405329092990571,
          0.05254226339247976,
          0.05106333246404711,
          0.04961603995557801,
          0.04819991371135057,
          0.046814468379825065,
          0.04545920621685188,
          0.0441336179508332,
          0.04283718373504179,
          0.04156937420745576,
          0.04032965167333792,
          0.039117471420483586,
          0.0379322831716784,
          0.03677353267360752,
          0.03564066341629756,
          0.03453311847230863,
          0.03345034244037197,
          0.03239178347411868,
          0.03135689537299829,
          0.0303451397095385,
          0.029355987964765042,
          0.028388923641955163,
          0.02744344432789629,
          0.02651906367055403,
          0.025615313242421407,
          0.024731744259873015,
          0.023867929130509582,
          0.02302346280271577,
          0.02219796389442036,
          0.02139107558125925,
          0.020602466227946228,
          0.01983182975056614
         ],
         "yaxis": "y"
        },
        {
         "legendgroup": "Bad Credit",
         "marker": {
          "color": "rgb(255, 127, 14)"
         },
         "mode": "lines",
         "name": "Bad Credit",
         "showlegend": false,
         "type": "scatter",
         "x": [
          6.07073772800249,
          6.078239071429485,
          6.085740414856482,
          6.093241758283478,
          6.100743101710474,
          6.10824444513747,
          6.115745788564466,
          6.123247131991462,
          6.130748475418458,
          6.138249818845455,
          6.14575116227245,
          6.153252505699446,
          6.160753849126443,
          6.168255192553438,
          6.175756535980435,
          6.183257879407431,
          6.190759222834426,
          6.198260566261423,
          6.205761909688419,
          6.213263253115415,
          6.220764596542411,
          6.228265939969407,
          6.235767283396403,
          6.243268626823399,
          6.250769970250396,
          6.258271313677391,
          6.265772657104387,
          6.273274000531384,
          6.280775343958379,
          6.288276687385375,
          6.295778030812372,
          6.303279374239367,
          6.310780717666364,
          6.31828206109336,
          6.325783404520355,
          6.333284747947352,
          6.340786091374348,
          6.348287434801344,
          6.35578877822834,
          6.363290121655336,
          6.370791465082332,
          6.378292808509328,
          6.385794151936325,
          6.39329549536332,
          6.400796838790316,
          6.408298182217313,
          6.415799525644308,
          6.423300869071305,
          6.430802212498301,
          6.438303555925296,
          6.445804899352293,
          6.453306242779289,
          6.460807586206285,
          6.468308929633281,
          6.475810273060277,
          6.483311616487273,
          6.490812959914269,
          6.498314303341266,
          6.505815646768261,
          6.513316990195257,
          6.520818333622254,
          6.528319677049249,
          6.535821020476245,
          6.543322363903242,
          6.550823707330237,
          6.558325050757234,
          6.56582639418423,
          6.573327737611226,
          6.580829081038222,
          6.588330424465218,
          6.595831767892214,
          6.60333311131921,
          6.610834454746206,
          6.618335798173202,
          6.625837141600198,
          6.633338485027195,
          6.64083982845419,
          6.648341171881187,
          6.655842515308183,
          6.663343858735178,
          6.670845202162175,
          6.678346545589171,
          6.685847889016166,
          6.693349232443163,
          6.700850575870159,
          6.708351919297155,
          6.715853262724151,
          6.7233546061511476,
          6.730855949578143,
          6.738357293005139,
          6.745858636432136,
          6.753359979859131,
          6.760861323286127,
          6.768362666713124,
          6.775864010140119,
          6.783365353567116,
          6.790866696994112,
          6.798368040421107,
          6.805869383848104,
          6.8133707272751,
          6.820872070702096,
          6.828373414129092,
          6.835874757556088,
          6.843376100983084,
          6.85087744441008,
          6.858378787837076,
          6.865880131264072,
          6.873381474691068,
          6.880882818118065,
          6.88838416154506,
          6.895885504972057,
          6.903386848399053,
          6.910888191826048,
          6.918389535253045,
          6.925890878680041,
          6.933392222107036,
          6.940893565534033,
          6.948394908961029,
          6.955896252388025,
          6.963397595815021,
          6.9708989392420175,
          6.978400282669013,
          6.985901626096009,
          6.9934029695230056,
          7.000904312950001,
          7.008405656376997,
          7.015906999803994,
          7.023408343230989,
          7.030909686657986,
          7.038411030084982,
          7.045912373511978,
          7.053413716938974,
          7.06091506036597,
          7.068416403792966,
          7.075917747219962,
          7.083419090646958,
          7.090920434073954,
          7.09842177750095,
          7.1059231209279465,
          7.113424464354942,
          7.120925807781938,
          7.1284271512089346,
          7.13592849463593,
          7.143429838062927,
          7.150931181489923,
          7.158432524916918,
          7.165933868343915,
          7.173435211770911,
          7.180936555197906,
          7.188437898624903,
          7.1959392420518995,
          7.203440585478895,
          7.210941928905891,
          7.2184432723328875,
          7.225944615759883,
          7.233445959186879,
          7.2409473026138755,
          7.248448646040871,
          7.255949989467868,
          7.2634513328948636,
          7.270952676321859,
          7.278454019748856,
          7.285955363175852,
          7.293456706602848,
          7.300958050029844,
          7.30845939345684,
          7.315960736883836,
          7.323462080310832,
          7.330963423737828,
          7.338464767164824,
          7.34596611059182,
          7.3534674540188165,
          7.360968797445812,
          7.368470140872809,
          7.3759714842998045,
          7.3834728277268,
          7.390974171153797,
          7.3984755145807926,
          7.405976858007788,
          7.413478201434785,
          7.4209795448617815,
          7.428480888288777,
          7.435982231715773,
          7.443483575142769,
          7.450984918569765,
          7.458486261996761,
          7.4659876054237575,
          7.473488948850753,
          7.480990292277749,
          7.4884916357047455,
          7.495992979131741,
          7.503494322558737,
          7.5109956659857335,
          7.51849700941273,
          7.525998352839726,
          7.533499696266722,
          7.541001039693718,
          7.548502383120714,
          7.55600372654771,
          7.563505069974706,
          7.571006413401702,
          7.5785077568286985,
          7.586009100255694,
          7.59351044368269,
          7.6010117871096865,
          7.608513130536682,
          7.616014473963679,
          7.6235158173906745,
          7.63101716081767,
          7.638518504244667,
          7.6460198476716625,
          7.653521191098658,
          7.661022534525655,
          7.668523877952651,
          7.676025221379647,
          7.683526564806643,
          7.6910279082336395,
          7.698529251660635,
          7.706030595087631,
          7.7135319385146275,
          7.721033281941623,
          7.728534625368619,
          7.7360359687956155,
          7.743537312222612,
          7.751038655649608,
          7.7585399990766035,
          7.7660413425036,
          7.773542685930596,
          7.7810440293575915,
          7.788545372784588,
          7.796046716211584,
          7.80354805963858,
          7.811049403065576,
          7.818550746492572,
          7.8260520899195685,
          7.833553433346564,
          7.841054776773561,
          7.8485561202005565,
          7.856057463627552,
          7.863558807054549,
          7.8710601504815445,
          7.87856149390854,
          7.886062837335537,
          7.8935641807625325,
          7.901065524189529,
          7.908566867616525,
          7.9160682110435205,
          7.923569554470517,
          7.931070897897513,
          7.9385722413245094,
          7.946073584751505,
          7.953574928178501,
          7.9610762716054975,
          7.968577615032493,
          7.976078958459489,
          7.9835803018864855,
          7.991081645313482,
          7.998582988740478,
          8.006084332167474,
          8.01358567559447,
          8.021087019021465,
          8.028588362448462,
          8.036089705875458,
          8.043591049302455,
          8.05109239272945,
          8.058593736156446,
          8.066095079583443,
          8.073596423010438,
          8.081097766437434,
          8.08859910986443,
          8.096100453291427,
          8.103601796718422,
          8.111103140145419,
          8.118604483572415,
          8.12610582699941,
          8.133607170426407,
          8.141108513853403,
          8.148609857280398,
          8.156111200707395,
          8.163612544134391,
          8.171113887561386,
          8.178615230988383,
          8.18611657441538,
          8.193617917842374,
          8.20111926126937,
          8.208620604696367,
          8.216121948123362,
          8.22362329155036,
          8.231124634977355,
          8.238625978404352,
          8.246127321831347,
          8.253628665258343,
          8.26113000868534,
          8.268631352112337,
          8.276132695539332,
          8.283634038966328,
          8.291135382393325,
          8.29863672582032,
          8.306138069247316,
          8.313639412674313,
          8.321140756101308,
          8.328642099528304,
          8.3361434429553,
          8.343644786382296,
          8.351146129809292,
          8.358647473236289,
          8.366148816663285,
          8.37365016009028,
          8.381151503517277,
          8.388652846944272,
          8.39615419037127,
          8.403655533798265,
          8.411156877225261,
          8.418658220652258,
          8.426159564079253,
          8.43366090750625,
          8.441162250933246,
          8.44866359436024,
          8.456164937787237,
          8.463666281214234,
          8.471167624641229,
          8.478668968068225,
          8.486170311495222,
          8.493671654922217,
          8.501172998349213,
          8.50867434177621,
          8.516175685203205,
          8.523677028630201,
          8.531178372057198,
          8.538679715484195,
          8.54618105891119,
          8.553682402338186,
          8.561183745765183,
          8.56868508919218,
          8.576186432619174,
          8.58368777604617,
          8.591189119473167,
          8.598690462900162,
          8.606191806327159,
          8.613693149754155,
          8.62119449318115,
          8.628695836608147,
          8.636197180035143,
          8.643698523462138,
          8.651199866889135,
          8.658701210316131,
          8.666202553743126,
          8.673703897170123,
          8.68120524059712,
          8.688706584024114,
          8.69620792745111,
          8.703709270878107,
          8.711210614305104,
          8.718711957732099,
          8.726213301159095,
          8.733714644586092,
          8.741215988013089,
          8.748717331440083,
          8.75621867486708,
          8.763720018294077,
          8.771221361721071,
          8.778722705148068,
          8.786224048575065,
          8.79372539200206,
          8.801226735429056,
          8.808728078856053,
          8.816229422283048,
          8.823730765710044,
          8.83123210913704,
          8.838733452564036,
          8.846234795991032,
          8.853736139418029,
          8.861237482845024,
          8.868738826272022,
          8.876240169699017,
          8.883741513126013,
          8.89124285655301,
          8.898744199980005,
          8.906245543407001,
          8.913746886833998,
          8.921248230260993,
          8.92874957368799,
          8.936250917114986,
          8.94375226054198,
          8.951253603968977,
          8.958754947395974,
          8.966256290822969,
          8.973757634249965,
          8.981258977676962,
          8.988760321103957,
          8.996261664530953,
          9.00376300795795,
          9.011264351384947,
          9.018765694811941,
          9.026267038238938,
          9.033768381665935,
          9.041269725092931,
          9.048771068519926,
          9.056272411946923,
          9.06377375537392,
          9.071275098800914,
          9.07877644222791,
          9.086277785654907,
          9.093779129081902,
          9.101280472508899,
          9.108781815935895,
          9.11628315936289,
          9.123784502789887,
          9.131285846216883,
          9.138787189643878,
          9.146288533070875,
          9.153789876497871,
          9.161291219924866,
          9.168792563351863,
          9.17629390677886,
          9.183795250205856,
          9.19129659363285,
          9.198797937059847,
          9.206299280486844,
          9.21380062391384,
          9.221301967340835,
          9.228803310767832,
          9.236304654194829,
          9.243805997621823,
          9.25130734104882,
          9.258808684475817,
          9.266310027902811,
          9.273811371329808,
          9.281312714756805,
          9.2888140581838,
          9.296315401610796,
          9.303816745037793,
          9.311318088464787,
          9.318819431891784,
          9.32632077531878,
          9.333822118745775,
          9.341323462172774,
          9.348824805599769,
          9.356326149026765,
          9.36382749245376,
          9.371328835880757,
          9.378830179307753,
          9.38633152273475,
          9.393832866161745,
          9.401334209588741,
          9.408835553015738,
          9.416336896442733,
          9.42383823986973,
          9.431339583296726,
          9.43884092672372,
          9.446342270150717,
          9.453843613577714,
          9.461344957004709,
          9.468846300431705,
          9.476347643858702,
          9.483848987285699,
          9.491350330712693,
          9.49885167413969,
          9.506353017566685,
          9.513854360993683,
          9.521355704420678,
          9.528857047847675,
          9.536358391274671,
          9.543859734701666,
          9.551361078128663,
          9.55886242155566,
          9.566363764982654,
          9.57386510840965,
          9.581366451836647,
          9.588867795263642,
          9.596369138690639,
          9.603870482117635,
          9.61137182554463,
          9.618873168971627,
          9.626374512398623,
          9.633875855825618,
          9.641377199252615,
          9.648878542679611,
          9.656379886106608,
          9.663881229533603,
          9.6713825729606,
          9.678883916387596,
          9.686385259814593,
          9.693886603241587,
          9.701387946668584,
          9.70888929009558,
          9.716390633522575,
          9.723891976949572,
          9.731393320376569,
          9.738894663803563,
          9.74639600723056,
          9.753897350657557,
          9.761398694084551,
          9.768900037511548,
          9.776401380938545,
          9.78390272436554,
          9.791404067792536,
          9.798905411219533,
          9.806406754646527,
          9.813908098073524
         ],
         "xaxis": "x",
         "y": [
          0.036769965142400614,
          0.037879857671658336,
          0.03901807995629573,
          0.04018517404577089,
          0.04138166791848532,
          0.0426080732024652,
          0.04386488287831259,
          0.045152568977281836,
          0.046471580287833575,
          0.047822340084424646,
          0.0492052438926139,
          0.05062065730480645,
          0.052068913861088015,
          0.053550313009648506,
          0.05506511816123291,
          0.0566135548518833,
          0.05819580902797566,
          0.05981202546716133,
          0.06146230634834439,
          0.06314670998322772,
          0.06486524972125553,
          0.06661789303898186,
          0.0684045608239829,
          0.07022512686243075,
          0.07207941753835977,
          0.07396721175146156,
          0.07588824105900606,
          0.07784219004613736,
          0.07982869692740711,
          0.08184735438095865,
          0.08389771061526807,
          0.08597927066682344,
          0.08809149792555948,
          0.09023381588328283,
          0.09240561009875126,
          0.09460623037148336,
          0.09683499311482542,
          0.09909118391727216,
          0.10137406027954218,
          0.10368285451348946,
          0.1060167767875398,
          0.10837501830206003,
          0.11075675457685004,
          0.11316114883182317,
          0.11558735544094527,
          0.11803452343858836,
          0.12050180005669642,
          0.12298833427050451,
          0.1254932803300635,
          0.1280158012544427,
          0.13055507226529442,
          0.133110284136385,
          0.13568064643581826,
          0.13826539063791668,
          0.14086377308216516,
          0.14347507775718843,
          0.14609861888848005,
          0.14873374330950478,
          0.1513798325968354,
          0.15403630495120513,
          0.15670261680769004,
          0.15937826415973025,
          0.16206278358331763,
          0.16475575294940561,
          0.1674567918144601,
          0.17016556148102333,
          0.17288176472219358,
          0.17560514516607215,
          0.17833548633839186,
          0.1810726103638068,
          0.18381637632858985,
          0.18656667830979354,
          0.18932344307825388,
          0.19208662748510544,
          0.1948562155437845,
          0.1976322152217379,
          0.20041465495824604,
          0.20320357992691448,
          0.2059990480634195,
          0.20880112588105196,
          0.21160988409843073,
          0.21442539310546757,
          0.21724771829523834,
          0.22007691529081422,
          0.22291302509736544,
          0.2257560692109228,
          0.2286060447160463,
          0.23146291940536567,
          0.23432662695440648,
          0.23719706218541778,
          0.24007407645394552,
          0.24295747319174324,
          0.2458470036392166,
          0.24874236279997308,
          0.25164318564922067,
          0.25454904362668185,
          0.25745944144340716,
          0.2603738142303691,
          0.26329152505501285,
          0.26621186283001097,
          0.2691340406363921,
          0.27205719448089166,
          0.2749803825049559,
          0.2779025846601857,
          0.28082270286228084,
          0.2837395616326593,
          0.2866519092339498,
          0.28955841930247556,
          0.2924576929777358,
          0.29534826152566884,
          0.2982285894493063,
          0.3010970780771727,
          0.303952069616616,
          0.30679185165606127,
          0.30961466209709654,
          0.31241869449426873,
          0.3152021037775608,
          0.31796301232972174,
          0.3206995163879937,
          0.32340969273729625,
          0.3260916056596577,
          0.3287433141025839,
          0.331362879027229,
          0.3339483708955883,
          0.3364978772545887,
          0.33900951037385474,
          0.3414814148930994,
          0.3439117754345631,
          0.34629882413568713,
          0.3486408480572492,
          0.3509361964225638,
          0.35318328764400014,
          0.3553806160940193,
          0.3575267585792036,
          0.35962038047727035,
          0.3616602414989072,
          0.3636452010383296,
          0.36557422307883786,
          0.36744638062222384,
          0.36926085961369404,
          0.3710169623370082,
          0.37271411025773393,
          0.3743518462958947,
          0.37592983651279605,
          0.3774478712004651,
          0.3789058653658397,
          0.3803038586056445,
          0.3816420143717127,
          0.38292061863035365,
          0.3841400779231746,
          0.3853009168405532,
          0.3864037749226466,
          0.38744940300644115,
          0.38843865904081126,
          0.38937250339489293,
          0.39025199368823654,
          0.39107827917415316,
          0.3918525947104094,
          0.392576254353942,
          0.3932506446184962,
          0.393877217436072,
          0.394457482864768,
          0.3949930015869946,
          0.3954853772431293,
          0.39593624864646876,
          0.3963472819257996,
          0.3967201626420513,
          0.3970565879253446,
          0.39735825867824975,
          0.39762687189029366,
          0.39786411310766767,
          0.39807164910070214,
          0.39825112077003,
          0.3984041363304339,
          0.3985322648092153,
          0.39863702989353467,
          0.39871990415854336,
          0.3987823037053762,
          0.3988255832350844,
          0.3988510315815003,
          0.3988598677228015,
          0.3988532372882364,
          0.39883220957307103,
          0.39879777507140274,
          0.39875084353303303,
          0.39869224254714575,
          0.3986227166521192,
          0.39854292696745613,
          0.39845345134050936,
          0.3983547849975212,
          0.3982473416853995,
          0.3981314552877633,
          0.3980073818959866,
          0.39787530231340373,
          0.39773532496841807,
          0.3975874892100586,
          0.39743176895754384,
          0.39726807667364783,
          0.3970962676301257,
          0.3969161444321738,
          0.39672746176783497,
          0.3965299313474603,
          0.39632322699777434,
          0.39610698987476795,
          0.3958808337595645,
          0.3956443504015667,
          0.39539711487356277,
          0.3951386909040944,
          0.3948686361531855,
          0.3945865073985792,
          0.3942918656008071,
          0.3939842808168316,
          0.39366333693353334,
          0.39332863619403974,
          0.3929798034916974,
          0.39261649040848373,
          0.39223837897669084,
          0.3918451851448736,
          0.391436661931287,
          0.39101260225030127,
          0.39057284139962983,
          0.39011725919852924,
          0.38964578176951664,
          0.38915838295848065,
          0.3886550853904243,
          0.3881359611603665,
          0.38760113216120456,
          0.3870507700525338,
          0.3864850958765781,
          0.38590437932941035,
          0.3853089376976526,
          0.38469913447268,
          0.3840753776561491,
          0.38343811777229864,
          0.38278784560402435,
          0.3821250896711208,
          0.3814504134703717,
          0.38076441249830484,
          0.3800677110784343,
          0.37936095901569167,
          0.3786448281014386,
          0.37792000849307894,
          0.37718720499269026,
          0.376447133249406,
          0.3757005159104387,
          0.3749480787456383,
          0.37419054677036623,
          0.37342864039120083,
          0.3726630715986069,
          0.3718945402301757,
          0.37112373032740836,
          0.3703513066082461,
          0.3695779110766742,
          0.3688041597897431,
          0.36803063980125506,
          0.36725790630017513,
          0.36648647996054373,
          0.3657168445183057,
          0.3649494445890098,
          0.36418468373883184,
          0.3634229228197915,
          0.36266447857837586,
          0.36190962254512127,
          0.3611585802109668,
          0.360411530494436,
          0.3596686055019213,
          0.35892989058155644,
          0.3581954246693631,
          0.35746520092455464,
          0.35673916764911023,
          0.35601722948496617,
          0.35529924888045283,
          0.35458504781592154,
          0.35387440977686907,
          0.35316708196131347,
          0.3524627777066565,
          0.35176117911987176,
          0.3510619398935145,
          0.35036468828881745,
          0.349669030266029,
          0.3489745527411142,
          0.34828082694707774,
          0.3475874118773843,
          0.34689385778834525,
          0.34619970973684105,
          0.34550451112942915,
          0.3448078072586809,
          0.34410914880256577,
          0.3434080952628255,
          0.34270421831854725,
          0.3419971050716,
          0.34128636116117195,
          0.34057161372541306,
          0.33985251418907747,
          0.33912874085712497,
          0.3384000012954254,
          0.3376660344810541,
          0.33692661270612406,
          0.33618154322070626,
          0.3354306696020707,
          0.3346738728393122,
          0.33391107212430643,
          0.3331422253419348,
          0.33236732925456364,
          0.331586419377865,
          0.3307995695472036,
          0.33000689117600485,
          0.3292085322096735,
          0.3284046757808219,
          0.3275955385737163,
          0.32678136890796644,
          0.32596244455354995,
          0.32513907029125194,
          0.3243115752345256,
          0.32348030993058324,
          0.32264564326023426,
          0.32180795915756194,
          0.3209676531719707,
          0.3201251288964138,
          0.3192807942867485,
          0.31843505789810267,
          0.3175883250649293,
          0.3167409940519864,
          0.3158934522039032,
          0.31504607212114955,
          0.3141992078902625,
          0.3133531913959414,
          0.3125083287422294,
          0.3116648968093948,
          0.3108231399723075,
          0.3099832670051166,
          0.3091454481958549,
          0.30830981269322627,
          0.3074764461063197,
          0.30664538837629196,
          0.3058166319372487,
          0.3049901201815721,
          0.3041657462428884,
          0.30334335210765523,
          0.30252272806411223,
          0.3017036124949727,
          0.3008856920178574,
          0.30006860197504864,
          0.2992519272716814,
          0.29843520355907516,
          0.29761791875745747,
          0.29679951490998085,
          0.29597939035757737,
          0.29515690222195656,
          0.29433136918189184,
          0.2935020745258585,
          0.29266826946217944,
          0.2918291766660025,
          0.2909839940407955,
          0.29013189867054334,
          0.2892720509375042,
          0.2884035987792439,
          0.2875256820576976,
          0.2866374370122582,
          0.28573800076831757,
          0.28482651587232477,
          0.283902134824265,
          0.28296402457852343,
          0.2820113709843173,
          0.28104338313736266,
          0.2800592976150543,
          0.27905838256829557,
          0.27803994164411533,
          0.2770033177144078,
          0.27594789638748085,
          0.27487310928061026,
          0.27377843703344484,
          0.27266341204388606,
          0.2715276209099571,
          0.27037070656318046,
          0.26919237008103997,
          0.26799237216828886,
          0.2667705342990284,
          0.2655267395137592,
          0.2642609328678551,
          0.2629731215301828,
          0.261663374532856,
          0.2603318221753493,
          0.25897865508839335,
          0.2576041229652064,
          0.2562085329697091,
          0.2547922478333329,
          0.2533556836539462,
          0.2518993074122027,
          0.2504236342222801,
          0.24892922433552248,
          0.24741667991690777,
          0.24588664161550866,
          0.24433978495123299,
          0.24277681654108008,
          0.24119847018893806,
          0.23960550286356916,
          0.23799869058990167,
          0.2363788242790301,
          0.23474670552246962,
          0.23310314237614818,
          0.23144894515944905,
          0.22978492229425035,
          0.22811187620839,
          0.22643059932733917,
          0.22474187017707117,
          0.2230464496201661,
          0.2213450772461482,
          0.2196384679358805,
          0.21792730861854465,
          0.21621225523837032,
          0.2144939299468146,
          0.2127729185343337,
          0.21104976811430431,
          0.20932498506997677,
          0.207599033273652,
          0.20587233258553023,
          0.20414525763793492,
          0.20241813690885596,
          0.2006912520869945,
          0.1989648377287492,
          0.19723908120587128,
          0.19551412294082135,
          0.19379005692523077,
          0.19206693151528395,
          0.19034475049630248,
          0.18862347440737567,
          0.18690302211549212,
          0.18518327262735168,
          0.18346406712582214,
          0.18174521121690632,
          0.1800264773721007,
          0.1783076075500992,
          0.1765883159810321,
          0.17486829209574764,
          0.17314720358207114,
          0.17142469954953138,
          0.16970041378371992,
          0.16797396807119194,
          0.16624497557575788,
          0.1645130442469632,
          0.16277778024170825,
          0.1610387913401457,
          0.15929569033732652,
          0.15754809839247708,
          0.15579564831830447,
          0.15403798779331382,
          0.1522747824808222,
          0.15050571903909926,
          0.14873050800790039,
          0.1469488865575575,
          0.14516062108775069,
          0.14336550966408163,
          0.14156338428163073,
          0.13975411294577716,
          0.13793760156166354,
          0.13611379562485576,
          0.13428268170689514,
          0.13244428873062825,
          0.1305986890313597,
          0.1287459992010728,
          0.12688638071409072,
          0.12502004033374578,
          0.12314723030070937,
          0.12126824830475638,
          0.11938343724280846,
          0.11749318476710811,
          0.1155979226283822,
          0.11369812581978639,
          0.11179431152829952,
          0.10988703790108227,
          0.1079769026350916,
          0.10606454139893984,
          0.10415062609665669,
          0.10223586298359685,
          0.10032099064524247,
          0.09840677785011849,
          0.09649402128842127,
          0.09458354320826153,
          0.09267618896169373,
          0.09077282447286028,
          0.08887433364071447,
          0.08698161568880763,
          0.08509558247462808,
          0.08321715577088526,
          0.08134726453100292,
          0.07948684215086933,
          0.07763682373865087,
          0.07579814340416574,
          0.07397173157894721,
          0.07215851237773122,
          0.07035940101165937,
          0.06857530126298812,
          0.06680710303058716,
          0.06505567995495654,
          0.06332188713089704,
          0.06160655891537959,
          0.0599105068375279,
          0.0582345176169819,
          0.056579351296261675
         ],
         "yaxis": "y"
        },
        {
         "legendgroup": "Good Credit",
         "marker": {
          "color": "rgb(31, 119, 180)",
          "symbol": "line-ns-open"
         },
         "mode": "markers",
         "name": "Good Credit",
         "showlegend": false,
         "type": "scatter",
         "x": [
          7.063903961472068,
          7.647786045440933,
          8.97233695775495,
          9.111072370317514,
          7.949797216161852,
          8.846209127360996,
          8.025843344150903,
          7.356918242356021,
          7.246368080102461,
          7.793174347189205,
          8.996156562033445,
          8.140315540159985,
          7.665753431861699,
          7.881182202227102,
          7.714677473800927,
          7.4977617006225685,
          7.634820677745543,
          7.2254814727822945,
          6.054439346269371,
          6.013715156042802,
          7.789454566086673,
          7.556427969440253,
          8.299037181613066,
          8.676928249537397,
          7.142036574706803,
          7.295735072749282,
          8.71768205216564,
          7.110696122978827,
          6.126869184114185,
          7.75491027202143,
          7.05444965813294,
          8.73294952429643,
          8.73020559553099,
          7.239214973779806,
          7.740229524763182,
          7.20934025660291,
          8.885717651712119,
          7.636752112435779,
          7.75491027202143,
          8.693664334532016,
          7.140453043101158,
          8.125039097367745,
          6.663132695990803,
          9.165970424240243,
          7.581209826196346,
          7.237778191923443,
          7.337587743538596,
          8.064950891749143,
          8.554488976159934,
          7.682943169878292,
          6.914730892718563,
          7.780720886117918,
          9.003685138166775,
          6.593044534142437,
          7.059617628291383,
          8.691818541575723,
          7.330405211844402,
          8.470311205516108,
          9.152287440527566,
          8.251142139090751,
          7.10085190894405,
          7.357556200910353,
          7.470224135899966,
          7.747164966520335,
          7.252762418053187,
          7.166265974133638,
          7.718240951959316,
          6.42648845745769,
          7.25063551189868,
          8.193400231952097,
          7.183870715062453,
          7.60688453121963,
          7.871692664323645,
          7.756623334538858,
          8.86177531100083,
          7.292337176173877,
          7.750614732770409,
          6.837332814685591,
          7.5595594960077,
          7.801800401908973,
          8.712430973476739,
          8.951699168308815,
          7.251344983372214,
          7.278628942320682,
          5.971261839790462,
          8.741935464094144,
          7.426549072397305,
          8.182559264068665,
          7.664815785285735,
          7.768956044538332,
          8.260492856573185,
          7.477604243197589,
          6.660575149839686,
          7.659642954564682,
          6.55250788703459,
          7.528331766707247,
          9.046290859969677,
          7.903965634032166,
          7.592870287844818,
          9.224637676677007,
          7.122866658599083,
          9.061027968789174,
          7.911324018963353,
          7.53955882930103,
          6.5638555265321274,
          8.475328987317539,
          8.13622555490846,
          7.7354333524996886,
          8.179199798423086,
          6.756932389247553,
          6.525029657843462,
          8.58876938990546,
          7.366445148327599,
          7.204892510204673,
          7.562161631225652,
          8.673855001429615,
          8.956479847999912,
          8.848939995030118,
          7.160845906664299,
          5.82600010738045,
          8.163940954755008,
          7.5485559791698735,
          7.962763930168115,
          6.961296045910167,
          7.140453043101158,
          8.896724917497897,
          6.812345094177479,
          7.999007213243955,
          7.3632795869630385,
          8.287025025165063,
          6.637258031284457,
          7.254177846456518,
          7.854381210652365,
          5.823045895483019,
          7.5822291942764615,
          6.3473892096560105,
          8.236685322712457,
          7.215239978730097,
          7.069023426578259,
          8.084562415235304,
          7.653494909661253,
          7.231287004327616,
          7.9229859587111955,
          6.841615476477592,
          7.0630481633881725,
          8.540323608805092,
          7.3098814858247865,
          9.270776740780013,
          7.5678626054638825,
          7.261225091971921,
          8.789964651132264,
          7.253470382684528,
          8.03073492409854,
          8.251924713801357,
          8.114324709155339,
          6.837332814685591,
          8.04044688130311,
          8.272059622210412,
          8.013343181386672,
          7.218176838403408,
          6.437751649736401,
          7.090076835776092,
          6.561030665896573,
          7.999007213243955,
          8.446126742982377,
          7.868254265520613,
          8.054840221101024,
          7.826842098158293,
          7.669028288589683,
          6.763884908562435,
          7.342131730584722,
          7.1631723908466425,
          7.8328075165248645,
          7.374629015218945,
          7.077498053569231,
          8.145259566516865,
          7.1372784372603855,
          6.57507584059962,
          7.093404625868766,
          7.562681246721884,
          6.501289670540389,
          7.719129840906732,
          8.33110454805304,
          7.615791072035833,
          8.911664758049536,
          7.895063498091573,
          8.245909264774093,
          7.050989447068045,
          7.4127640174265625,
          7.3796321526095525,
          8.57583938684897,
          7.91862865334224,
          7.115582126184454,
          8.748939631537715,
          7.334981878871814,
          6.906754778648554,
          7.8868329989550565,
          7.2456550675945355,
          9.4066470133368,
          7.89989532313973,
          7.784889295655098,
          7.140453043101158,
          7.550135342488429,
          8.122074375362217,
          7.3613754289773485,
          7.275864600546533,
          7.326465613840322,
          8.263074835802596,
          9.280052984387483,
          8.473868066677865,
          8.93353229607628,
          6.9957661563048505,
          6.98100574072173,
          8.767017621311778,
          8.475537516147405,
          8.93971205409023,
          8.449984441722787,
          7.160069207596127,
          7.83002808253384,
          7.917536353943631,
          6.51025834052315,
          6.945051063725834,
          7.341483852363161,
          8.478660241699453,
          5.62040086571715,
          8.59062950948942,
          8.614501373883236,
          8.229244416735913,
          7.309212365692763,
          6.56244409369372,
          8.37816098272068,
          6.55250788703459,
          8.200562797008564,
          7.975908360165538,
          7.88570539124302,
          6.93537044601511,
          8.130942302231878,
          8.665785595466064,
          7.329749689041512,
          8.405814603432848,
          6.97354301952014,
          8.797095076549056,
          7.650168700845001,
          8.335431477880796,
          7.327123292259293,
          8.655737000864297,
          8.188411308079031,
          8.074960359115858,
          8.398184404834035,
          8.28121766128665,
          7.285506548522785,
          6.782192056006791,
          8.231642179973411,
          7.463363045520021,
          7.119635638017636,
          8.079927770758275,
          6.588926477533519,
          7.754052639035757,
          6.654152520183219,
          7.122059881629142,
          8.131236549696116,
          7.717351272185329,
          7.476472381163905,
          7.340835554123275,
          8.25582842728183,
          8.202482446576537,
          8.006700845440367,
          8.0323601479245,
          8.711113884053544,
          7.671360923190644,
          9.529230371552156,
          7.749322464660356,
          6.740519359606223,
          5.8916442118257715,
          7.701652362642226,
          7.1569563646156364,
          7.1929342212158,
          8.35983738064003,
          7.71333788887187,
          7.026426808699636,
          8.90571557879409,
          7.75190533307861,
          7.278628942320682,
          7.506591780070841,
          6.890609120147166,
          8.0861025356691,
          7.579167967396076,
          7.785720896534624,
          9.372459221452617,
          7.8547691834991324,
          7.761319180947987,
          7.323830566202317,
          7.29505641646263,
          7.54274354536855,
          6.687108607866515,
          7.972121128921655,
          7.69484807238461,
          6.959398512133975,
          8.081784206935001,
          7.584264818389059,
          8.889170455363413,
          7.3758821482150125,
          8.672828482947686,
          9.044403844431551,
          7.930925372483388,
          8.066521490469993,
          7.614805364711073,
          6.86484777797086,
          7.372118028337787,
          7.929846429742503,
          7.916807490937603,
          7.046647277848756,
          7.180069874302796,
          8.145549631783584,
          7.534762657037537,
          7.629489916393995,
          7.666690200080086,
          6.492239835020471,
          7.160069207596127,
          8.129764445794171,
          7.5411524551363085,
          7.3901814282264295,
          7.874358824729881,
          7.126087273299125,
          7.853993087224244,
          7.261225091971921,
          9.310547632393208,
          6.249975242259483,
          7.922623574217286,
          7.8898337513942955,
          7.893198869544609,
          8.270013062273787,
          5.8377304471659395,
          8.432506383249043,
          8.194229304819817,
          7.450660796211539,
          8.012018239159062,
          6.625392368007956,
          7.575584651557793,
          7.980707820869669,
          8.887100204123687,
          7.92443418488756,
          8.450839690866216,
          7.121252453244542,
          7.851271997109883,
          8.54714026778419,
          6.9440872082295275,
          7.298445101508147,
          8.181160858023409,
          7.0909098220799835,
          8.19478163844336,
          6.866933284461882,
          7.0587581525186645,
          8.031710375322042,
          8.231376045573969,
          7.257002707092073,
          8.165647925297504,
          7.56734567601324,
          7.1204443723924875,
          5.908082938168931,
          7.660114319173928,
          7.368339686311381,
          7.170888478512505,
          7.187657164114956,
          8.61122983334262,
          7.026426808699636,
          7.7664168980196555,
          7.253470382684528,
          9.058121158998672,
          8.452334619067742,
          7.8961806086154915,
          6.371611847231857,
          7.720905251936779,
          6.411818267709897,
          7.215975002651466,
          7.0925737159746784,
          6.551080335043404,
          8.613775289262481,
          8.15708378502887,
          7.014814351275545,
          8.982937763741589,
          7.3343293503005365,
          7.315218389752975,
          6.495265555937008,
          7.728855823852543,
          7.315218389752975,
          7.1785454837637,
          8.040768994367578,
          7.2254814727822945,
          8.192016914536875,
          8.022568946988255,
          7.616775808698373,
          7.134890851565884,
          7.611842399580417,
          7.347299700743164,
          9.089076284483143,
          6.903747257584598,
          7.4673710669175595,
          7.598399329323964,
          7.089243155027514,
          7.994294986415977,
          6.52649485957079,
          8.457867725331422,
          7.347943823148687,
          7.8547691834991324,
          8.288785810426928,
          8.691818541575723,
          8.600246746551523,
          6.692083742506628,
          6.9865664594064265,
          7.933079771880415,
          7.982757702011113,
          7.563719668414366,
          6.842683282238422,
          8.046869510959576,
          7.23561914106675,
          7.665284718471351,
          7.937017489515454,
          7.161622002939187,
          5.953243334287785,
          7.583247524303362,
          7.360103972989152,
          8.259199362666282,
          7.753194269884341,
          7.150701457592526,
          7.947325027016463,
          8.417593826193484,
          7.62608275807238,
          7.170119543449628,
          8.118802996980035,
          8.197538739721184,
          9.40951904583656,
          9.122273893107732,
          8.209580483475577,
          6.461468176353717,
          8.20303024171486,
          7.527255919373784,
          7.590346945602565,
          7.65728279297819,
          8.304494897963567,
          8.251142139090751,
          8.205218426395412,
          7.275172319452771,
          7.239214973779806,
          7.226936018493289,
          9.658417870888224,
          7.30854279753919,
          7.176254532017144,
          7.523481312573497,
          7.539027055823995,
          8.430109084509125,
          8.919453168575453,
          7.76046702921342,
          8.287276755814599,
          9.232297539328226,
          8.347827345782498,
          8.757940876678804,
          7.167809184316444,
          7.714677473800927,
          6.956545443151569,
          6.953684210870537,
          8.750524669117937,
          8.159374736775426,
          8.19118600464279,
          8.012018239159062,
          8.328209491748732,
          8.655562860681009,
          9.246286498749653,
          7.640123172695364,
          8.41847721847708,
          8.546751993657782,
          7.776535028185241,
          7.2813856635702825,
          7.338238150065589,
          7.731492029245684,
          7.298445101508147,
          8.537583881063972,
          9.19593714166544,
          8.783702698635217,
          7.205635176410364,
          7.959275960116396,
          7.920446505142607,
          8.202756381655638,
          6.882437470997847,
          7.875119281040293,
          7.971085753505607,
          8.458716261657262,
          7.7336835707759,
          7.119635638017636,
          7.005789019253503,
          6.8308742346461795,
          7.495541943884256,
          7.552237287560802,
          7.227662498728654,
          7.8252452914317745,
          7.8351837552667485,
          8.579980179515003,
          7.095064377287131,
          7.658227526161352,
          6.444131256700441,
          7.814399633804487,
          7.037027614686276,
          8.935377071932177,
          8.031710375322042,
          7.316548177182976,
          8.054522609537294,
          8.723882104658486,
          6.672032945461067,
          5.521460917862246,
          7.182352111885263,
          7.150701457592526,
          8.764521909518802,
          6.633318433280377,
          7.864419904994565,
          8.125630988477065,
          8.29154650988391,
          8.384804003370492,
          8.818926087090677,
          7.751475318021456,
          6.954638864880987,
          8.058327306580958,
          7.817222785508166,
          9.559517275737559,
          7.493873886783559,
          7.828436359157585,
          8.565602330623925,
          8.015987811027237,
          6.059123195581797,
          6.734591659972948,
          8.660600654710967,
          7.1693500166706,
          7.239214973779806,
          8.52615293278771,
          7.7025561132685825,
          7.809135398120538,
          7.051855622955894,
          7.972810784121404,
          8.193400231952097,
          7.411556287811163,
          7.941651252930556,
          8.094073148069352,
          7.706612913964197,
          7.299797366758161,
          8.170468578330674,
          8.163086375583216,
          8.650149418664864,
          8.261526448396468,
          7.570443252057374,
          7.251344983372214,
          8.774622220696997,
          7.57095858316901,
          7.891704659330107,
          7.919719760924575,
          8.750366278367625,
          7.107425474110705,
          7.969703583278656,
          8.026823576217629,
          7.741099090035366,
          7.1372784372603855,
          6.57507584059962,
          7.3453648404168685,
          7.3758821482150125,
          7.492760300922379,
          8.35983738064003,
          6.883462586413092,
          8.918917979908679,
          6.380122536899765,
          6.835184586147301,
          9.135940049399933,
          6.810142450115136,
          6.182084906716632,
          8.913550280493675,
          7.198931240688173,
          7.348587530927593,
          9.671366322189568,
          7.00397413672268,
          8.011686729127847,
          6.594413459749778,
          8.237479288613633,
          7.379008127628304,
          8.807022955925477,
          7.772752716468742,
          8.533853632309345,
          6.786716950605081,
          6.398594934535208,
          7.9919305198524775,
          7.8674885686991285,
          8.0040315078527,
          7.351799869057777,
          8.137980454452139,
          8.288031567776464,
          7.130098510125578,
          7.218176838403408,
          8.304494897963567,
          7.293697720601438,
          9.294221855956884,
          7.295735072749282,
          6.795705775173514,
          8.114623886420098,
          8.182279739259018,
          8.666302614004078,
          8.417593826193484,
          7.7057128238944275,
          7.77863014732581,
          8.11102783819368,
          8.910450756416656,
          6.480044561926653,
          8.946114375560743,
          7.202661196523238,
          7.231287004327616,
          6.773080375655535,
          8.185907481482324,
          7.186901020411631,
          7.570443252057374,
          8.187299270155147,
          8.816111895794005,
          8.963672275615016,
          9.135293497653272,
          7.687538766201629,
          7.001245622069476,
          7.946263643580541,
          8.796943893541737,
          8.964951211714654,
          7.80057265467065,
          7.511524648390866,
          7.682943169878292,
          8.66561319653451,
          7.063903961472068,
          9.099073559547596,
          7.8655717576847906,
          7.3727463664043285,
          7.689828668736484,
          8.156223323194624,
          9.256937657352966,
          7.234177179749849,
          7.15305163493748,
          7.009408932708637,
          8.232971790593437,
          8.219056661060598,
          8.187021067343505,
          8.069342366811636,
          8.401557847817314,
          8.003363058629947,
          7.669495251007694,
          7.954372272531867,
          7.504942068396171,
          9.453208116138121,
          7.601901959875166,
          6.955592608396297,
          7.532088143541722,
          7.203405521083095,
          7.465655310134056,
          7.1098794630722715,
          6.257667587882639,
          7.311886164077165,
          7.631916513071252,
          8.830835365537549,
          8.168202930236053,
          7.343426229147367,
          6.834108738813838,
          7.282761179605593,
          7.520234556474628,
          9.03097444300786,
          7.958227192322312,
          8.185907481482324,
          7.545918151209323,
          7.115582126184454,
          8.204124932574041,
          7.050989447068045,
          8.029107054619736,
          7.461640392208575,
          7.763446388727362,
          8.176391596633795,
          6.118097198041348,
          7.44716835960004,
          8.1797604936999,
          8.8771028978649,
          8.278682162970906,
          7.322510433997394,
          8.9082888855571,
          7.9483852851118995,
          7.1372784372603855,
          6.6240652277998935,
          7.794411205726601,
          7.980365765111246,
          7.614805364711073,
          7.267525427828172,
          8.746557354543503,
          7.25063551189868,
          8.791638037085997,
          7.463363045520021,
          8.178919332848396,
          7.358193752733032,
          7.568379267836522,
          8.28374674710613,
          7.779048644925556,
          7.459338895220296,
          8.257644958208228,
          6.6895992691789665,
          8.428580533059634
         ],
         "xaxis": "x",
         "y": [
          "Good Credit",
          "Good Credit",
          "Good Credit",
          "Good Credit",
          "Good Credit",
          "Good Credit",
          "Good Credit",
          "Good Credit",
          "Good Credit",
          "Good Credit",
          "Good Credit",
          "Good Credit",
          "Good Credit",
          "Good Credit",
          "Good Credit",
          "Good Credit",
          "Good Credit",
          "Good Credit",
          "Good Credit",
          "Good Credit",
          "Good Credit",
          "Good Credit",
          "Good Credit",
          "Good Credit",
          "Good Credit",
          "Good Credit",
          "Good Credit",
          "Good Credit",
          "Good Credit",
          "Good Credit",
          "Good Credit",
          "Good Credit",
          "Good Credit",
          "Good Credit",
          "Good Credit",
          "Good Credit",
          "Good Credit",
          "Good Credit",
          "Good Credit",
          "Good Credit",
          "Good Credit",
          "Good Credit",
          "Good Credit",
          "Good Credit",
          "Good Credit",
          "Good Credit",
          "Good Credit",
          "Good Credit",
          "Good Credit",
          "Good Credit",
          "Good Credit",
          "Good Credit",
          "Good Credit",
          "Good Credit",
          "Good Credit",
          "Good Credit",
          "Good Credit",
          "Good Credit",
          "Good Credit",
          "Good Credit",
          "Good Credit",
          "Good Credit",
          "Good Credit",
          "Good Credit",
          "Good Credit",
          "Good Credit",
          "Good Credit",
          "Good Credit",
          "Good Credit",
          "Good Credit",
          "Good Credit",
          "Good Credit",
          "Good Credit",
          "Good Credit",
          "Good Credit",
          "Good Credit",
          "Good Credit",
          "Good Credit",
          "Good Credit",
          "Good Credit",
          "Good Credit",
          "Good Credit",
          "Good Credit",
          "Good Credit",
          "Good Credit",
          "Good Credit",
          "Good Credit",
          "Good Credit",
          "Good Credit",
          "Good Credit",
          "Good Credit",
          "Good Credit",
          "Good Credit",
          "Good Credit",
          "Good Credit",
          "Good Credit",
          "Good Credit",
          "Good Credit",
          "Good Credit",
          "Good Credit",
          "Good Credit",
          "Good Credit",
          "Good Credit",
          "Good Credit",
          "Good Credit",
          "Good Credit",
          "Good Credit",
          "Good Credit",
          "Good Credit",
          "Good Credit",
          "Good Credit",
          "Good Credit",
          "Good Credit",
          "Good Credit",
          "Good Credit",
          "Good Credit",
          "Good Credit",
          "Good Credit",
          "Good Credit",
          "Good Credit",
          "Good Credit",
          "Good Credit",
          "Good Credit",
          "Good Credit",
          "Good Credit",
          "Good Credit",
          "Good Credit",
          "Good Credit",
          "Good Credit",
          "Good Credit",
          "Good Credit",
          "Good Credit",
          "Good Credit",
          "Good Credit",
          "Good Credit",
          "Good Credit",
          "Good Credit",
          "Good Credit",
          "Good Credit",
          "Good Credit",
          "Good Credit",
          "Good Credit",
          "Good Credit",
          "Good Credit",
          "Good Credit",
          "Good Credit",
          "Good Credit",
          "Good Credit",
          "Good Credit",
          "Good Credit",
          "Good Credit",
          "Good Credit",
          "Good Credit",
          "Good Credit",
          "Good Credit",
          "Good Credit",
          "Good Credit",
          "Good Credit",
          "Good Credit",
          "Good Credit",
          "Good Credit",
          "Good Credit",
          "Good Credit",
          "Good Credit",
          "Good Credit",
          "Good Credit",
          "Good Credit",
          "Good Credit",
          "Good Credit",
          "Good Credit",
          "Good Credit",
          "Good Credit",
          "Good Credit",
          "Good Credit",
          "Good Credit",
          "Good Credit",
          "Good Credit",
          "Good Credit",
          "Good Credit",
          "Good Credit",
          "Good Credit",
          "Good Credit",
          "Good Credit",
          "Good Credit",
          "Good Credit",
          "Good Credit",
          "Good Credit",
          "Good Credit",
          "Good Credit",
          "Good Credit",
          "Good Credit",
          "Good Credit",
          "Good Credit",
          "Good Credit",
          "Good Credit",
          "Good Credit",
          "Good Credit",
          "Good Credit",
          "Good Credit",
          "Good Credit",
          "Good Credit",
          "Good Credit",
          "Good Credit",
          "Good Credit",
          "Good Credit",
          "Good Credit",
          "Good Credit",
          "Good Credit",
          "Good Credit",
          "Good Credit",
          "Good Credit",
          "Good Credit",
          "Good Credit",
          "Good Credit",
          "Good Credit",
          "Good Credit",
          "Good Credit",
          "Good Credit",
          "Good Credit",
          "Good Credit",
          "Good Credit",
          "Good Credit",
          "Good Credit",
          "Good Credit",
          "Good Credit",
          "Good Credit",
          "Good Credit",
          "Good Credit",
          "Good Credit",
          "Good Credit",
          "Good Credit",
          "Good Credit",
          "Good Credit",
          "Good Credit",
          "Good Credit",
          "Good Credit",
          "Good Credit",
          "Good Credit",
          "Good Credit",
          "Good Credit",
          "Good Credit",
          "Good Credit",
          "Good Credit",
          "Good Credit",
          "Good Credit",
          "Good Credit",
          "Good Credit",
          "Good Credit",
          "Good Credit",
          "Good Credit",
          "Good Credit",
          "Good Credit",
          "Good Credit",
          "Good Credit",
          "Good Credit",
          "Good Credit",
          "Good Credit",
          "Good Credit",
          "Good Credit",
          "Good Credit",
          "Good Credit",
          "Good Credit",
          "Good Credit",
          "Good Credit",
          "Good Credit",
          "Good Credit",
          "Good Credit",
          "Good Credit",
          "Good Credit",
          "Good Credit",
          "Good Credit",
          "Good Credit",
          "Good Credit",
          "Good Credit",
          "Good Credit",
          "Good Credit",
          "Good Credit",
          "Good Credit",
          "Good Credit",
          "Good Credit",
          "Good Credit",
          "Good Credit",
          "Good Credit",
          "Good Credit",
          "Good Credit",
          "Good Credit",
          "Good Credit",
          "Good Credit",
          "Good Credit",
          "Good Credit",
          "Good Credit",
          "Good Credit",
          "Good Credit",
          "Good Credit",
          "Good Credit",
          "Good Credit",
          "Good Credit",
          "Good Credit",
          "Good Credit",
          "Good Credit",
          "Good Credit",
          "Good Credit",
          "Good Credit",
          "Good Credit",
          "Good Credit",
          "Good Credit",
          "Good Credit",
          "Good Credit",
          "Good Credit",
          "Good Credit",
          "Good Credit",
          "Good Credit",
          "Good Credit",
          "Good Credit",
          "Good Credit",
          "Good Credit",
          "Good Credit",
          "Good Credit",
          "Good Credit",
          "Good Credit",
          "Good Credit",
          "Good Credit",
          "Good Credit",
          "Good Credit",
          "Good Credit",
          "Good Credit",
          "Good Credit",
          "Good Credit",
          "Good Credit",
          "Good Credit",
          "Good Credit",
          "Good Credit",
          "Good Credit",
          "Good Credit",
          "Good Credit",
          "Good Credit",
          "Good Credit",
          "Good Credit",
          "Good Credit",
          "Good Credit",
          "Good Credit",
          "Good Credit",
          "Good Credit",
          "Good Credit",
          "Good Credit",
          "Good Credit",
          "Good Credit",
          "Good Credit",
          "Good Credit",
          "Good Credit",
          "Good Credit",
          "Good Credit",
          "Good Credit",
          "Good Credit",
          "Good Credit",
          "Good Credit",
          "Good Credit",
          "Good Credit",
          "Good Credit",
          "Good Credit",
          "Good Credit",
          "Good Credit",
          "Good Credit",
          "Good Credit",
          "Good Credit",
          "Good Credit",
          "Good Credit",
          "Good Credit",
          "Good Credit",
          "Good Credit",
          "Good Credit",
          "Good Credit",
          "Good Credit",
          "Good Credit",
          "Good Credit",
          "Good Credit",
          "Good Credit",
          "Good Credit",
          "Good Credit",
          "Good Credit",
          "Good Credit",
          "Good Credit",
          "Good Credit",
          "Good Credit",
          "Good Credit",
          "Good Credit",
          "Good Credit",
          "Good Credit",
          "Good Credit",
          "Good Credit",
          "Good Credit",
          "Good Credit",
          "Good Credit",
          "Good Credit",
          "Good Credit",
          "Good Credit",
          "Good Credit",
          "Good Credit",
          "Good Credit",
          "Good Credit",
          "Good Credit",
          "Good Credit",
          "Good Credit",
          "Good Credit",
          "Good Credit",
          "Good Credit",
          "Good Credit",
          "Good Credit",
          "Good Credit",
          "Good Credit",
          "Good Credit",
          "Good Credit",
          "Good Credit",
          "Good Credit",
          "Good Credit",
          "Good Credit",
          "Good Credit",
          "Good Credit",
          "Good Credit",
          "Good Credit",
          "Good Credit",
          "Good Credit",
          "Good Credit",
          "Good Credit",
          "Good Credit",
          "Good Credit",
          "Good Credit",
          "Good Credit",
          "Good Credit",
          "Good Credit",
          "Good Credit",
          "Good Credit",
          "Good Credit",
          "Good Credit",
          "Good Credit",
          "Good Credit",
          "Good Credit",
          "Good Credit",
          "Good Credit",
          "Good Credit",
          "Good Credit",
          "Good Credit",
          "Good Credit",
          "Good Credit",
          "Good Credit",
          "Good Credit",
          "Good Credit",
          "Good Credit",
          "Good Credit",
          "Good Credit",
          "Good Credit",
          "Good Credit",
          "Good Credit",
          "Good Credit",
          "Good Credit",
          "Good Credit",
          "Good Credit",
          "Good Credit",
          "Good Credit",
          "Good Credit",
          "Good Credit",
          "Good Credit",
          "Good Credit",
          "Good Credit",
          "Good Credit",
          "Good Credit",
          "Good Credit",
          "Good Credit",
          "Good Credit",
          "Good Credit",
          "Good Credit",
          "Good Credit",
          "Good Credit",
          "Good Credit",
          "Good Credit",
          "Good Credit",
          "Good Credit",
          "Good Credit",
          "Good Credit",
          "Good Credit",
          "Good Credit",
          "Good Credit",
          "Good Credit",
          "Good Credit",
          "Good Credit",
          "Good Credit",
          "Good Credit",
          "Good Credit",
          "Good Credit",
          "Good Credit",
          "Good Credit",
          "Good Credit",
          "Good Credit",
          "Good Credit",
          "Good Credit",
          "Good Credit",
          "Good Credit",
          "Good Credit",
          "Good Credit",
          "Good Credit",
          "Good Credit",
          "Good Credit",
          "Good Credit",
          "Good Credit",
          "Good Credit",
          "Good Credit",
          "Good Credit",
          "Good Credit",
          "Good Credit",
          "Good Credit",
          "Good Credit",
          "Good Credit",
          "Good Credit",
          "Good Credit",
          "Good Credit",
          "Good Credit",
          "Good Credit",
          "Good Credit",
          "Good Credit",
          "Good Credit",
          "Good Credit",
          "Good Credit",
          "Good Credit",
          "Good Credit",
          "Good Credit",
          "Good Credit",
          "Good Credit",
          "Good Credit",
          "Good Credit",
          "Good Credit",
          "Good Credit",
          "Good Credit",
          "Good Credit",
          "Good Credit",
          "Good Credit",
          "Good Credit",
          "Good Credit",
          "Good Credit",
          "Good Credit",
          "Good Credit",
          "Good Credit",
          "Good Credit",
          "Good Credit",
          "Good Credit",
          "Good Credit",
          "Good Credit",
          "Good Credit",
          "Good Credit",
          "Good Credit",
          "Good Credit",
          "Good Credit",
          "Good Credit",
          "Good Credit",
          "Good Credit",
          "Good Credit",
          "Good Credit",
          "Good Credit",
          "Good Credit",
          "Good Credit",
          "Good Credit",
          "Good Credit",
          "Good Credit",
          "Good Credit",
          "Good Credit",
          "Good Credit",
          "Good Credit",
          "Good Credit",
          "Good Credit",
          "Good Credit",
          "Good Credit",
          "Good Credit",
          "Good Credit",
          "Good Credit",
          "Good Credit",
          "Good Credit",
          "Good Credit",
          "Good Credit",
          "Good Credit",
          "Good Credit",
          "Good Credit",
          "Good Credit",
          "Good Credit",
          "Good Credit",
          "Good Credit",
          "Good Credit",
          "Good Credit",
          "Good Credit",
          "Good Credit",
          "Good Credit",
          "Good Credit",
          "Good Credit",
          "Good Credit",
          "Good Credit",
          "Good Credit",
          "Good Credit",
          "Good Credit",
          "Good Credit",
          "Good Credit",
          "Good Credit",
          "Good Credit",
          "Good Credit",
          "Good Credit",
          "Good Credit",
          "Good Credit",
          "Good Credit",
          "Good Credit",
          "Good Credit",
          "Good Credit",
          "Good Credit",
          "Good Credit",
          "Good Credit",
          "Good Credit",
          "Good Credit",
          "Good Credit",
          "Good Credit",
          "Good Credit",
          "Good Credit",
          "Good Credit",
          "Good Credit",
          "Good Credit",
          "Good Credit",
          "Good Credit",
          "Good Credit",
          "Good Credit",
          "Good Credit",
          "Good Credit",
          "Good Credit",
          "Good Credit",
          "Good Credit",
          "Good Credit",
          "Good Credit",
          "Good Credit",
          "Good Credit",
          "Good Credit",
          "Good Credit",
          "Good Credit",
          "Good Credit",
          "Good Credit",
          "Good Credit",
          "Good Credit",
          "Good Credit",
          "Good Credit",
          "Good Credit",
          "Good Credit",
          "Good Credit",
          "Good Credit",
          "Good Credit",
          "Good Credit",
          "Good Credit",
          "Good Credit",
          "Good Credit",
          "Good Credit",
          "Good Credit",
          "Good Credit",
          "Good Credit",
          "Good Credit",
          "Good Credit",
          "Good Credit",
          "Good Credit",
          "Good Credit",
          "Good Credit",
          "Good Credit",
          "Good Credit",
          "Good Credit",
          "Good Credit",
          "Good Credit",
          "Good Credit",
          "Good Credit",
          "Good Credit",
          "Good Credit",
          "Good Credit",
          "Good Credit",
          "Good Credit",
          "Good Credit",
          "Good Credit",
          "Good Credit",
          "Good Credit",
          "Good Credit",
          "Good Credit",
          "Good Credit",
          "Good Credit",
          "Good Credit",
          "Good Credit",
          "Good Credit",
          "Good Credit",
          "Good Credit",
          "Good Credit",
          "Good Credit",
          "Good Credit",
          "Good Credit",
          "Good Credit",
          "Good Credit",
          "Good Credit",
          "Good Credit",
          "Good Credit",
          "Good Credit",
          "Good Credit",
          "Good Credit",
          "Good Credit",
          "Good Credit"
         ],
         "yaxis": "y2"
        },
        {
         "legendgroup": "Bad Credit",
         "marker": {
          "color": "rgb(255, 127, 14)",
          "symbol": "line-ns-open"
         },
         "mode": "markers",
         "name": "Bad Credit",
         "showlegend": false,
         "type": "scatter",
         "x": [
          8.691314551644853,
          8.490849216076635,
          8.562931083090092,
          7.166265974133638,
          8.36822903827628,
          7.089243155027514,
          7.156176637480615,
          9.439784035838873,
          8.829958044235482,
          8.465057436995709,
          7.649692623711514,
          8.723068501163928,
          7.707512194600341,
          8.774622220696997,
          8.736971085254146,
          7.577121930876679,
          9.57644075656207,
          7.506042178518122,
          7.589335823170617,
          8.285261134068948,
          8.68996933536666,
          9.442404020664952,
          7.010311867307229,
          6.680854678790215,
          9.676900579444158,
          9.387481868728596,
          8.77307495131822,
          8.96890555068972,
          8.878218658092228,
          8.361941906144946,
          7.51479976048867,
          7.562161631225652,
          6.459904454377535,
          8.160232492367689,
          8.837390855544697,
          6.641182169740591,
          7.808729306744399,
          7.156176637480615,
          7.030857476116121,
          7.5678626054638825,
          6.856461984594587,
          7.6324011266014535,
          8.135639903354386,
          8.920656296853728,
          9.166597449028265,
          8.40178233990491,
          7.4067107301776405,
          6.784457062637643,
          8.542665987389269,
          6.513230110912307,
          8.431853144249223,
          8.254268770090183,
          8.272570608424903,
          8.016647877057803,
          7.313886831633462,
          6.85751406254539,
          8.365672383774996,
          6.804614520062624,
          8.574140471857987,
          7.553810852008231,
          9.302098797215724,
          8.970177815492379,
          7.298445101508147,
          8.345217926676428,
          7.508238774678663,
          9.585689856179723,
          7.925518979786926,
          6.818924065275521,
          8.434897948689407,
          6.07073772800249,
          7.673223121121708,
          7.67275789664251,
          6.687108607866515,
          9.102532419341877,
          8.026170194946426,
          9.392495248213038,
          8.436200032206706,
          6.931471805599453,
          9.14825217966276,
          9.206332350578643,
          8.24380842366528,
          7.203405521083095,
          9.222960403332285,
          6.588926477533519,
          7.1204443723924875,
          6.529418838262226,
          7.917900586327916,
          8.354438940114811,
          7.569411792450712,
          7.530479995245536,
          8.910315776326016,
          9.357897936333798,
          8.32117830749028,
          8.126813720726114,
          7.150701457592526,
          7.035268599281097,
          6.8658910748834385,
          8.73214326770192,
          7.1276936993473985,
          8.40357646462927,
          7.785720896534624,
          7.813187267521416,
          8.144969417087875,
          9.601165503344832,
          8.947025655972697,
          9.56927276595613,
          9.470856776355195,
          7.109062135687172,
          9.065083359319043,
          7.620214770574455,
          6.844815479208263,
          7.73718007783463,
          7.2305631534092925,
          7.8551570058813445,
          6.948897222313312,
          7.923710333969238,
          7.081708586105575,
          9.3350328159335,
          7.302496423727326,
          6.411818267709897,
          6.577861357721047,
          8.536211197252,
          7.518607216815252,
          7.321188556739478,
          8.479906606630221,
          8.12740456269308,
          7.413970290190444,
          8.036573409707312,
          6.104793232414985,
          6.483107351457199,
          7.126890808898808,
          8.043663352393944,
          7.097548850614793,
          9.026177120302856,
          8.005033344637111,
          9.108750516214549,
          8.046549357283078,
          7.103322062526113,
          7.095893221097532,
          7.1770187659099,
          8.83200393125627,
          6.63200177739563,
          8.871645667501872,
          8.06777619577889,
          8.870522545103873,
          7.741533589281828,
          7.875119281040293,
          7.7488913372555315,
          8.95712413640568,
          7.335633981927201,
          8.756210091886738,
          7.9599745280805365,
          7.195187320178709,
          6.439350371100098,
          8.85352256068954,
          7.193685818395112,
          7.731053144007127,
          8.517793011488205,
          8.17526610411206,
          7.564238475170491,
          7.343426229147367,
          9.424564261115739,
          7.22402480828583,
          8.818482267274236,
          8.081475040137052,
          7.944492163932159,
          6.962243464266207,
          7.776535028185241,
          7.620214770574455,
          7.104144092987527,
          7.716906135298388,
          7.907651594711089,
          7.213768308118642,
          6.836259277277067,
          7.273786317844895,
          8.352554369474591,
          7.928406026180535,
          6.822197390620491,
          7.515889085215125,
          8.116417072794205,
          7.890208213109961,
          6.608000625296087,
          7.122866658599083,
          7.4999765409521215,
          8.14351740579748,
          7.333023014386481,
          8.272315147956022,
          7.8632667240095735,
          7.270312886079025,
          7.347943823148687,
          7.590852123688581,
          7.2115567333138015,
          8.382518288089635,
          6.620073206530356,
          8.438799123988225,
          8.984693690443855,
          7.234177179749849,
          6.853299093186078,
          6.52795791762255,
          7.561121589530238,
          7.741967899820685,
          8.997889450200717,
          6.78897174299217,
          6.802394763324311,
          8.48528964240323,
          7.855544677915663,
          8.629628620746026,
          7.023758954738443,
          8.753213480544126,
          8.788745881938135,
          7.99598047476376,
          7.088408778675395,
          9.54873932271967,
          7.198183577101943,
          6.07073772800249,
          7.113142108707088,
          7.851661177889265,
          7.540090320145325,
          8.766550149546351,
          7.594381242551817,
          9.355306142226368,
          8.361708288575842,
          7.149916836132109,
          6.883462586413092,
          7.349230824613334,
          7.158513997329321,
          7.147559271189454,
          6.53813982376767,
          7.66105638236183,
          9.447781227991216,
          8.041734711487537,
          8.99528899055931,
          7.223295679562314,
          8.503702601233739,
          6.728628613084702,
          8.736168065858228,
          8.699181359308954,
          7.080026499922591,
          8.924123891686012,
          9.134646527606982,
          7.48324441607385,
          9.172534657240284,
          8.02322468471667,
          8.27664912542186,
          7.20414929203594,
          7.905441649060286,
          8.285513309079741,
          8.334471554600944,
          9.028218795184895,
          7.103322062526113,
          9.377209824211215,
          7.752335163302292,
          6.9865664594064265,
          8.552367266423891,
          7.57198844937744,
          8.818926087090677,
          6.5638555265321274,
          7.711996507047669,
          7.273786317844895,
          8.28374674710613,
          7.682021510826875,
          7.79934339821592,
          7.700747794511798,
          7.259819610363186,
          8.308199063206446,
          6.678342114654332,
          9.659630959624376,
          8.331586243630754,
          7.872836175025724,
          8.462948176563842,
          8.058643712215618,
          9.82140944150052,
          9.608847999516849,
          7.765993079407675,
          8.11522197256233,
          7.2196420401307355,
          8.835210463664092,
          6.546785410760524,
          9.239607869656751,
          7.4205789054108005,
          7.5595594960077,
          6.61338421837956,
          8.746398334109042,
          8.116417072794205,
          7.334981878871814,
          8.19450550976564,
          7.6708948313621175,
          8.321907968230423,
          9.30328411761892,
          8.295548516225763,
          7.781973234434385,
          7.832014180505469,
          7.084226422097916,
          8.89521858376562,
          7.839131648274333,
          7.142036574706803,
          9.034318927730707,
          8.485496104672983,
          9.015419779605713,
          7.520234556474628
         ],
         "xaxis": "x",
         "y": [
          "Bad Credit",
          "Bad Credit",
          "Bad Credit",
          "Bad Credit",
          "Bad Credit",
          "Bad Credit",
          "Bad Credit",
          "Bad Credit",
          "Bad Credit",
          "Bad Credit",
          "Bad Credit",
          "Bad Credit",
          "Bad Credit",
          "Bad Credit",
          "Bad Credit",
          "Bad Credit",
          "Bad Credit",
          "Bad Credit",
          "Bad Credit",
          "Bad Credit",
          "Bad Credit",
          "Bad Credit",
          "Bad Credit",
          "Bad Credit",
          "Bad Credit",
          "Bad Credit",
          "Bad Credit",
          "Bad Credit",
          "Bad Credit",
          "Bad Credit",
          "Bad Credit",
          "Bad Credit",
          "Bad Credit",
          "Bad Credit",
          "Bad Credit",
          "Bad Credit",
          "Bad Credit",
          "Bad Credit",
          "Bad Credit",
          "Bad Credit",
          "Bad Credit",
          "Bad Credit",
          "Bad Credit",
          "Bad Credit",
          "Bad Credit",
          "Bad Credit",
          "Bad Credit",
          "Bad Credit",
          "Bad Credit",
          "Bad Credit",
          "Bad Credit",
          "Bad Credit",
          "Bad Credit",
          "Bad Credit",
          "Bad Credit",
          "Bad Credit",
          "Bad Credit",
          "Bad Credit",
          "Bad Credit",
          "Bad Credit",
          "Bad Credit",
          "Bad Credit",
          "Bad Credit",
          "Bad Credit",
          "Bad Credit",
          "Bad Credit",
          "Bad Credit",
          "Bad Credit",
          "Bad Credit",
          "Bad Credit",
          "Bad Credit",
          "Bad Credit",
          "Bad Credit",
          "Bad Credit",
          "Bad Credit",
          "Bad Credit",
          "Bad Credit",
          "Bad Credit",
          "Bad Credit",
          "Bad Credit",
          "Bad Credit",
          "Bad Credit",
          "Bad Credit",
          "Bad Credit",
          "Bad Credit",
          "Bad Credit",
          "Bad Credit",
          "Bad Credit",
          "Bad Credit",
          "Bad Credit",
          "Bad Credit",
          "Bad Credit",
          "Bad Credit",
          "Bad Credit",
          "Bad Credit",
          "Bad Credit",
          "Bad Credit",
          "Bad Credit",
          "Bad Credit",
          "Bad Credit",
          "Bad Credit",
          "Bad Credit",
          "Bad Credit",
          "Bad Credit",
          "Bad Credit",
          "Bad Credit",
          "Bad Credit",
          "Bad Credit",
          "Bad Credit",
          "Bad Credit",
          "Bad Credit",
          "Bad Credit",
          "Bad Credit",
          "Bad Credit",
          "Bad Credit",
          "Bad Credit",
          "Bad Credit",
          "Bad Credit",
          "Bad Credit",
          "Bad Credit",
          "Bad Credit",
          "Bad Credit",
          "Bad Credit",
          "Bad Credit",
          "Bad Credit",
          "Bad Credit",
          "Bad Credit",
          "Bad Credit",
          "Bad Credit",
          "Bad Credit",
          "Bad Credit",
          "Bad Credit",
          "Bad Credit",
          "Bad Credit",
          "Bad Credit",
          "Bad Credit",
          "Bad Credit",
          "Bad Credit",
          "Bad Credit",
          "Bad Credit",
          "Bad Credit",
          "Bad Credit",
          "Bad Credit",
          "Bad Credit",
          "Bad Credit",
          "Bad Credit",
          "Bad Credit",
          "Bad Credit",
          "Bad Credit",
          "Bad Credit",
          "Bad Credit",
          "Bad Credit",
          "Bad Credit",
          "Bad Credit",
          "Bad Credit",
          "Bad Credit",
          "Bad Credit",
          "Bad Credit",
          "Bad Credit",
          "Bad Credit",
          "Bad Credit",
          "Bad Credit",
          "Bad Credit",
          "Bad Credit",
          "Bad Credit",
          "Bad Credit",
          "Bad Credit",
          "Bad Credit",
          "Bad Credit",
          "Bad Credit",
          "Bad Credit",
          "Bad Credit",
          "Bad Credit",
          "Bad Credit",
          "Bad Credit",
          "Bad Credit",
          "Bad Credit",
          "Bad Credit",
          "Bad Credit",
          "Bad Credit",
          "Bad Credit",
          "Bad Credit",
          "Bad Credit",
          "Bad Credit",
          "Bad Credit",
          "Bad Credit",
          "Bad Credit",
          "Bad Credit",
          "Bad Credit",
          "Bad Credit",
          "Bad Credit",
          "Bad Credit",
          "Bad Credit",
          "Bad Credit",
          "Bad Credit",
          "Bad Credit",
          "Bad Credit",
          "Bad Credit",
          "Bad Credit",
          "Bad Credit",
          "Bad Credit",
          "Bad Credit",
          "Bad Credit",
          "Bad Credit",
          "Bad Credit",
          "Bad Credit",
          "Bad Credit",
          "Bad Credit",
          "Bad Credit",
          "Bad Credit",
          "Bad Credit",
          "Bad Credit",
          "Bad Credit",
          "Bad Credit",
          "Bad Credit",
          "Bad Credit",
          "Bad Credit",
          "Bad Credit",
          "Bad Credit",
          "Bad Credit",
          "Bad Credit",
          "Bad Credit",
          "Bad Credit",
          "Bad Credit",
          "Bad Credit",
          "Bad Credit",
          "Bad Credit",
          "Bad Credit",
          "Bad Credit",
          "Bad Credit",
          "Bad Credit",
          "Bad Credit",
          "Bad Credit",
          "Bad Credit",
          "Bad Credit",
          "Bad Credit",
          "Bad Credit",
          "Bad Credit",
          "Bad Credit",
          "Bad Credit",
          "Bad Credit",
          "Bad Credit",
          "Bad Credit",
          "Bad Credit",
          "Bad Credit",
          "Bad Credit",
          "Bad Credit",
          "Bad Credit",
          "Bad Credit",
          "Bad Credit",
          "Bad Credit",
          "Bad Credit",
          "Bad Credit",
          "Bad Credit",
          "Bad Credit",
          "Bad Credit",
          "Bad Credit",
          "Bad Credit",
          "Bad Credit",
          "Bad Credit",
          "Bad Credit",
          "Bad Credit",
          "Bad Credit",
          "Bad Credit",
          "Bad Credit",
          "Bad Credit",
          "Bad Credit",
          "Bad Credit",
          "Bad Credit",
          "Bad Credit",
          "Bad Credit",
          "Bad Credit",
          "Bad Credit",
          "Bad Credit",
          "Bad Credit",
          "Bad Credit",
          "Bad Credit",
          "Bad Credit",
          "Bad Credit",
          "Bad Credit",
          "Bad Credit",
          "Bad Credit",
          "Bad Credit",
          "Bad Credit",
          "Bad Credit",
          "Bad Credit",
          "Bad Credit",
          "Bad Credit",
          "Bad Credit",
          "Bad Credit",
          "Bad Credit",
          "Bad Credit",
          "Bad Credit",
          "Bad Credit",
          "Bad Credit",
          "Bad Credit",
          "Bad Credit",
          "Bad Credit",
          "Bad Credit",
          "Bad Credit"
         ],
         "yaxis": "y2"
        }
       ],
       "layout": {
        "barmode": "overlay",
        "hovermode": "closest",
        "legend": {
         "traceorder": "reversed"
        },
        "template": {
         "data": {
          "bar": [
           {
            "error_x": {
             "color": "#2a3f5f"
            },
            "error_y": {
             "color": "#2a3f5f"
            },
            "marker": {
             "line": {
              "color": "#E5ECF6",
              "width": 0.5
             },
             "pattern": {
              "fillmode": "overlay",
              "size": 10,
              "solidity": 0.2
             }
            },
            "type": "bar"
           }
          ],
          "barpolar": [
           {
            "marker": {
             "line": {
              "color": "#E5ECF6",
              "width": 0.5
             },
             "pattern": {
              "fillmode": "overlay",
              "size": 10,
              "solidity": 0.2
             }
            },
            "type": "barpolar"
           }
          ],
          "carpet": [
           {
            "aaxis": {
             "endlinecolor": "#2a3f5f",
             "gridcolor": "white",
             "linecolor": "white",
             "minorgridcolor": "white",
             "startlinecolor": "#2a3f5f"
            },
            "baxis": {
             "endlinecolor": "#2a3f5f",
             "gridcolor": "white",
             "linecolor": "white",
             "minorgridcolor": "white",
             "startlinecolor": "#2a3f5f"
            },
            "type": "carpet"
           }
          ],
          "choropleth": [
           {
            "colorbar": {
             "outlinewidth": 0,
             "ticks": ""
            },
            "type": "choropleth"
           }
          ],
          "contour": [
           {
            "colorbar": {
             "outlinewidth": 0,
             "ticks": ""
            },
            "colorscale": [
             [
              0,
              "#0d0887"
             ],
             [
              0.1111111111111111,
              "#46039f"
             ],
             [
              0.2222222222222222,
              "#7201a8"
             ],
             [
              0.3333333333333333,
              "#9c179e"
             ],
             [
              0.4444444444444444,
              "#bd3786"
             ],
             [
              0.5555555555555556,
              "#d8576b"
             ],
             [
              0.6666666666666666,
              "#ed7953"
             ],
             [
              0.7777777777777778,
              "#fb9f3a"
             ],
             [
              0.8888888888888888,
              "#fdca26"
             ],
             [
              1,
              "#f0f921"
             ]
            ],
            "type": "contour"
           }
          ],
          "contourcarpet": [
           {
            "colorbar": {
             "outlinewidth": 0,
             "ticks": ""
            },
            "type": "contourcarpet"
           }
          ],
          "heatmap": [
           {
            "colorbar": {
             "outlinewidth": 0,
             "ticks": ""
            },
            "colorscale": [
             [
              0,
              "#0d0887"
             ],
             [
              0.1111111111111111,
              "#46039f"
             ],
             [
              0.2222222222222222,
              "#7201a8"
             ],
             [
              0.3333333333333333,
              "#9c179e"
             ],
             [
              0.4444444444444444,
              "#bd3786"
             ],
             [
              0.5555555555555556,
              "#d8576b"
             ],
             [
              0.6666666666666666,
              "#ed7953"
             ],
             [
              0.7777777777777778,
              "#fb9f3a"
             ],
             [
              0.8888888888888888,
              "#fdca26"
             ],
             [
              1,
              "#f0f921"
             ]
            ],
            "type": "heatmap"
           }
          ],
          "heatmapgl": [
           {
            "colorbar": {
             "outlinewidth": 0,
             "ticks": ""
            },
            "colorscale": [
             [
              0,
              "#0d0887"
             ],
             [
              0.1111111111111111,
              "#46039f"
             ],
             [
              0.2222222222222222,
              "#7201a8"
             ],
             [
              0.3333333333333333,
              "#9c179e"
             ],
             [
              0.4444444444444444,
              "#bd3786"
             ],
             [
              0.5555555555555556,
              "#d8576b"
             ],
             [
              0.6666666666666666,
              "#ed7953"
             ],
             [
              0.7777777777777778,
              "#fb9f3a"
             ],
             [
              0.8888888888888888,
              "#fdca26"
             ],
             [
              1,
              "#f0f921"
             ]
            ],
            "type": "heatmapgl"
           }
          ],
          "histogram": [
           {
            "marker": {
             "pattern": {
              "fillmode": "overlay",
              "size": 10,
              "solidity": 0.2
             }
            },
            "type": "histogram"
           }
          ],
          "histogram2d": [
           {
            "colorbar": {
             "outlinewidth": 0,
             "ticks": ""
            },
            "colorscale": [
             [
              0,
              "#0d0887"
             ],
             [
              0.1111111111111111,
              "#46039f"
             ],
             [
              0.2222222222222222,
              "#7201a8"
             ],
             [
              0.3333333333333333,
              "#9c179e"
             ],
             [
              0.4444444444444444,
              "#bd3786"
             ],
             [
              0.5555555555555556,
              "#d8576b"
             ],
             [
              0.6666666666666666,
              "#ed7953"
             ],
             [
              0.7777777777777778,
              "#fb9f3a"
             ],
             [
              0.8888888888888888,
              "#fdca26"
             ],
             [
              1,
              "#f0f921"
             ]
            ],
            "type": "histogram2d"
           }
          ],
          "histogram2dcontour": [
           {
            "colorbar": {
             "outlinewidth": 0,
             "ticks": ""
            },
            "colorscale": [
             [
              0,
              "#0d0887"
             ],
             [
              0.1111111111111111,
              "#46039f"
             ],
             [
              0.2222222222222222,
              "#7201a8"
             ],
             [
              0.3333333333333333,
              "#9c179e"
             ],
             [
              0.4444444444444444,
              "#bd3786"
             ],
             [
              0.5555555555555556,
              "#d8576b"
             ],
             [
              0.6666666666666666,
              "#ed7953"
             ],
             [
              0.7777777777777778,
              "#fb9f3a"
             ],
             [
              0.8888888888888888,
              "#fdca26"
             ],
             [
              1,
              "#f0f921"
             ]
            ],
            "type": "histogram2dcontour"
           }
          ],
          "mesh3d": [
           {
            "colorbar": {
             "outlinewidth": 0,
             "ticks": ""
            },
            "type": "mesh3d"
           }
          ],
          "parcoords": [
           {
            "line": {
             "colorbar": {
              "outlinewidth": 0,
              "ticks": ""
             }
            },
            "type": "parcoords"
           }
          ],
          "pie": [
           {
            "automargin": true,
            "type": "pie"
           }
          ],
          "scatter": [
           {
            "fillpattern": {
             "fillmode": "overlay",
             "size": 10,
             "solidity": 0.2
            },
            "type": "scatter"
           }
          ],
          "scatter3d": [
           {
            "line": {
             "colorbar": {
              "outlinewidth": 0,
              "ticks": ""
             }
            },
            "marker": {
             "colorbar": {
              "outlinewidth": 0,
              "ticks": ""
             }
            },
            "type": "scatter3d"
           }
          ],
          "scattercarpet": [
           {
            "marker": {
             "colorbar": {
              "outlinewidth": 0,
              "ticks": ""
             }
            },
            "type": "scattercarpet"
           }
          ],
          "scattergeo": [
           {
            "marker": {
             "colorbar": {
              "outlinewidth": 0,
              "ticks": ""
             }
            },
            "type": "scattergeo"
           }
          ],
          "scattergl": [
           {
            "marker": {
             "colorbar": {
              "outlinewidth": 0,
              "ticks": ""
             }
            },
            "type": "scattergl"
           }
          ],
          "scattermapbox": [
           {
            "marker": {
             "colorbar": {
              "outlinewidth": 0,
              "ticks": ""
             }
            },
            "type": "scattermapbox"
           }
          ],
          "scatterpolar": [
           {
            "marker": {
             "colorbar": {
              "outlinewidth": 0,
              "ticks": ""
             }
            },
            "type": "scatterpolar"
           }
          ],
          "scatterpolargl": [
           {
            "marker": {
             "colorbar": {
              "outlinewidth": 0,
              "ticks": ""
             }
            },
            "type": "scatterpolargl"
           }
          ],
          "scatterternary": [
           {
            "marker": {
             "colorbar": {
              "outlinewidth": 0,
              "ticks": ""
             }
            },
            "type": "scatterternary"
           }
          ],
          "surface": [
           {
            "colorbar": {
             "outlinewidth": 0,
             "ticks": ""
            },
            "colorscale": [
             [
              0,
              "#0d0887"
             ],
             [
              0.1111111111111111,
              "#46039f"
             ],
             [
              0.2222222222222222,
              "#7201a8"
             ],
             [
              0.3333333333333333,
              "#9c179e"
             ],
             [
              0.4444444444444444,
              "#bd3786"
             ],
             [
              0.5555555555555556,
              "#d8576b"
             ],
             [
              0.6666666666666666,
              "#ed7953"
             ],
             [
              0.7777777777777778,
              "#fb9f3a"
             ],
             [
              0.8888888888888888,
              "#fdca26"
             ],
             [
              1,
              "#f0f921"
             ]
            ],
            "type": "surface"
           }
          ],
          "table": [
           {
            "cells": {
             "fill": {
              "color": "#EBF0F8"
             },
             "line": {
              "color": "white"
             }
            },
            "header": {
             "fill": {
              "color": "#C8D4E3"
             },
             "line": {
              "color": "white"
             }
            },
            "type": "table"
           }
          ]
         },
         "layout": {
          "annotationdefaults": {
           "arrowcolor": "#2a3f5f",
           "arrowhead": 0,
           "arrowwidth": 1
          },
          "autotypenumbers": "strict",
          "coloraxis": {
           "colorbar": {
            "outlinewidth": 0,
            "ticks": ""
           }
          },
          "colorscale": {
           "diverging": [
            [
             0,
             "#8e0152"
            ],
            [
             0.1,
             "#c51b7d"
            ],
            [
             0.2,
             "#de77ae"
            ],
            [
             0.3,
             "#f1b6da"
            ],
            [
             0.4,
             "#fde0ef"
            ],
            [
             0.5,
             "#f7f7f7"
            ],
            [
             0.6,
             "#e6f5d0"
            ],
            [
             0.7,
             "#b8e186"
            ],
            [
             0.8,
             "#7fbc41"
            ],
            [
             0.9,
             "#4d9221"
            ],
            [
             1,
             "#276419"
            ]
           ],
           "sequential": [
            [
             0,
             "#0d0887"
            ],
            [
             0.1111111111111111,
             "#46039f"
            ],
            [
             0.2222222222222222,
             "#7201a8"
            ],
            [
             0.3333333333333333,
             "#9c179e"
            ],
            [
             0.4444444444444444,
             "#bd3786"
            ],
            [
             0.5555555555555556,
             "#d8576b"
            ],
            [
             0.6666666666666666,
             "#ed7953"
            ],
            [
             0.7777777777777778,
             "#fb9f3a"
            ],
            [
             0.8888888888888888,
             "#fdca26"
            ],
            [
             1,
             "#f0f921"
            ]
           ],
           "sequentialminus": [
            [
             0,
             "#0d0887"
            ],
            [
             0.1111111111111111,
             "#46039f"
            ],
            [
             0.2222222222222222,
             "#7201a8"
            ],
            [
             0.3333333333333333,
             "#9c179e"
            ],
            [
             0.4444444444444444,
             "#bd3786"
            ],
            [
             0.5555555555555556,
             "#d8576b"
            ],
            [
             0.6666666666666666,
             "#ed7953"
            ],
            [
             0.7777777777777778,
             "#fb9f3a"
            ],
            [
             0.8888888888888888,
             "#fdca26"
            ],
            [
             1,
             "#f0f921"
            ]
           ]
          },
          "colorway": [
           "#636efa",
           "#EF553B",
           "#00cc96",
           "#ab63fa",
           "#FFA15A",
           "#19d3f3",
           "#FF6692",
           "#B6E880",
           "#FF97FF",
           "#FECB52"
          ],
          "font": {
           "color": "#2a3f5f"
          },
          "geo": {
           "bgcolor": "white",
           "lakecolor": "white",
           "landcolor": "#E5ECF6",
           "showlakes": true,
           "showland": true,
           "subunitcolor": "white"
          },
          "hoverlabel": {
           "align": "left"
          },
          "hovermode": "closest",
          "mapbox": {
           "style": "light"
          },
          "paper_bgcolor": "white",
          "plot_bgcolor": "#E5ECF6",
          "polar": {
           "angularaxis": {
            "gridcolor": "white",
            "linecolor": "white",
            "ticks": ""
           },
           "bgcolor": "#E5ECF6",
           "radialaxis": {
            "gridcolor": "white",
            "linecolor": "white",
            "ticks": ""
           }
          },
          "scene": {
           "xaxis": {
            "backgroundcolor": "#E5ECF6",
            "gridcolor": "white",
            "gridwidth": 2,
            "linecolor": "white",
            "showbackground": true,
            "ticks": "",
            "zerolinecolor": "white"
           },
           "yaxis": {
            "backgroundcolor": "#E5ECF6",
            "gridcolor": "white",
            "gridwidth": 2,
            "linecolor": "white",
            "showbackground": true,
            "ticks": "",
            "zerolinecolor": "white"
           },
           "zaxis": {
            "backgroundcolor": "#E5ECF6",
            "gridcolor": "white",
            "gridwidth": 2,
            "linecolor": "white",
            "showbackground": true,
            "ticks": "",
            "zerolinecolor": "white"
           }
          },
          "shapedefaults": {
           "line": {
            "color": "#2a3f5f"
           }
          },
          "ternary": {
           "aaxis": {
            "gridcolor": "white",
            "linecolor": "white",
            "ticks": ""
           },
           "baxis": {
            "gridcolor": "white",
            "linecolor": "white",
            "ticks": ""
           },
           "bgcolor": "#E5ECF6",
           "caxis": {
            "gridcolor": "white",
            "linecolor": "white",
            "ticks": ""
           }
          },
          "title": {
           "x": 0.05
          },
          "xaxis": {
           "automargin": true,
           "gridcolor": "white",
           "linecolor": "white",
           "ticks": "",
           "title": {
            "standoff": 15
           },
           "zerolinecolor": "white",
           "zerolinewidth": 2
          },
          "yaxis": {
           "automargin": true,
           "gridcolor": "white",
           "linecolor": "white",
           "ticks": "",
           "title": {
            "standoff": 15
           },
           "zerolinecolor": "white",
           "zerolinewidth": 2
          }
         }
        },
        "xaxis": {
         "anchor": "y2",
         "domain": [
          0,
          1
         ],
         "zeroline": false
        },
        "yaxis": {
         "anchor": "free",
         "domain": [
          0.35,
          1
         ],
         "position": 0
        },
        "yaxis2": {
         "anchor": "x",
         "domain": [
          0,
          0.25
         ],
         "dtick": 1,
         "showticklabels": false
        }
       }
      },
      "text/html": [
       "<div>                            <div id=\"2b93fea9-8fe9-4c91-8349-d1c106f58111\" class=\"plotly-graph-div\" style=\"height:525px; width:100%;\"></div>            <script type=\"text/javascript\">                require([\"plotly\"], function(Plotly) {                    window.PLOTLYENV=window.PLOTLYENV || {};                                    if (document.getElementById(\"2b93fea9-8fe9-4c91-8349-d1c106f58111\")) {                    Plotly.newPlot(                        \"2b93fea9-8fe9-4c91-8349-d1c106f58111\",                        [{\"autobinx\":false,\"histnorm\":\"probability density\",\"legendgroup\":\"Good Credit\",\"marker\":{\"color\":\"rgb(31, 119, 180)\"},\"name\":\"Good Credit\",\"opacity\":0.7,\"x\":[7.063903961472068,7.647786045440933,8.97233695775495,9.111072370317514,7.949797216161852,8.846209127360996,8.025843344150903,7.356918242356021,7.246368080102461,7.793174347189205,8.996156562033445,8.140315540159985,7.665753431861699,7.881182202227102,7.714677473800927,7.4977617006225685,7.634820677745543,7.2254814727822945,6.054439346269371,6.013715156042802,7.789454566086673,7.556427969440253,8.299037181613066,8.676928249537397,7.142036574706803,7.295735072749282,8.71768205216564,7.110696122978827,6.126869184114185,7.75491027202143,7.05444965813294,8.73294952429643,8.73020559553099,7.239214973779806,7.740229524763182,7.20934025660291,8.885717651712119,7.636752112435779,7.75491027202143,8.693664334532016,7.140453043101158,8.125039097367745,6.663132695990803,9.165970424240243,7.581209826196346,7.237778191923443,7.337587743538596,8.064950891749143,8.554488976159934,7.682943169878292,6.914730892718563,7.780720886117918,9.003685138166775,6.593044534142437,7.059617628291383,8.691818541575723,7.330405211844402,8.470311205516108,9.152287440527566,8.251142139090751,7.10085190894405,7.357556200910353,7.470224135899966,7.747164966520335,7.252762418053187,7.166265974133638,7.718240951959316,6.42648845745769,7.25063551189868,8.193400231952097,7.183870715062453,7.60688453121963,7.871692664323645,7.756623334538858,8.86177531100083,7.292337176173877,7.750614732770409,6.837332814685591,7.5595594960077,7.801800401908973,8.712430973476739,8.951699168308815,7.251344983372214,7.278628942320682,5.971261839790462,8.741935464094144,7.426549072397305,8.182559264068665,7.664815785285735,7.768956044538332,8.260492856573185,7.477604243197589,6.660575149839686,7.659642954564682,6.55250788703459,7.528331766707247,9.046290859969677,7.903965634032166,7.592870287844818,9.224637676677007,7.122866658599083,9.061027968789174,7.911324018963353,7.53955882930103,6.5638555265321274,8.475328987317539,8.13622555490846,7.7354333524996886,8.179199798423086,6.756932389247553,6.525029657843462,8.58876938990546,7.366445148327599,7.204892510204673,7.562161631225652,8.673855001429615,8.956479847999912,8.848939995030118,7.160845906664299,5.82600010738045,8.163940954755008,7.5485559791698735,7.962763930168115,6.961296045910167,7.140453043101158,8.896724917497897,6.812345094177479,7.999007213243955,7.3632795869630385,8.287025025165063,6.637258031284457,7.254177846456518,7.854381210652365,5.823045895483019,7.5822291942764615,6.3473892096560105,8.236685322712457,7.215239978730097,7.069023426578259,8.084562415235304,7.653494909661253,7.231287004327616,7.9229859587111955,6.841615476477592,7.0630481633881725,8.540323608805092,7.3098814858247865,9.270776740780013,7.5678626054638825,7.261225091971921,8.789964651132264,7.253470382684528,8.03073492409854,8.251924713801357,8.114324709155339,6.837332814685591,8.04044688130311,8.272059622210412,8.013343181386672,7.218176838403408,6.437751649736401,7.090076835776092,6.561030665896573,7.999007213243955,8.446126742982377,7.868254265520613,8.054840221101024,7.826842098158293,7.669028288589683,6.763884908562435,7.342131730584722,7.1631723908466425,7.8328075165248645,7.374629015218945,7.077498053569231,8.145259566516865,7.1372784372603855,6.57507584059962,7.093404625868766,7.562681246721884,6.501289670540389,7.719129840906732,8.33110454805304,7.615791072035833,8.911664758049536,7.895063498091573,8.245909264774093,7.050989447068045,7.4127640174265625,7.3796321526095525,8.57583938684897,7.91862865334224,7.115582126184454,8.748939631537715,7.334981878871814,6.906754778648554,7.8868329989550565,7.2456550675945355,9.4066470133368,7.89989532313973,7.784889295655098,7.140453043101158,7.550135342488429,8.122074375362217,7.3613754289773485,7.275864600546533,7.326465613840322,8.263074835802596,9.280052984387483,8.473868066677865,8.93353229607628,6.9957661563048505,6.98100574072173,8.767017621311778,8.475537516147405,8.93971205409023,8.449984441722787,7.160069207596127,7.83002808253384,7.917536353943631,6.51025834052315,6.945051063725834,7.341483852363161,8.478660241699453,5.62040086571715,8.59062950948942,8.614501373883236,8.229244416735913,7.309212365692763,6.56244409369372,8.37816098272068,6.55250788703459,8.200562797008564,7.975908360165538,7.88570539124302,6.93537044601511,8.130942302231878,8.665785595466064,7.329749689041512,8.405814603432848,6.97354301952014,8.797095076549056,7.650168700845001,8.335431477880796,7.327123292259293,8.655737000864297,8.188411308079031,8.074960359115858,8.398184404834035,8.28121766128665,7.285506548522785,6.782192056006791,8.231642179973411,7.463363045520021,7.119635638017636,8.079927770758275,6.588926477533519,7.754052639035757,6.654152520183219,7.122059881629142,8.131236549696116,7.717351272185329,7.476472381163905,7.340835554123275,8.25582842728183,8.202482446576537,8.006700845440367,8.0323601479245,8.711113884053544,7.671360923190644,9.529230371552156,7.749322464660356,6.740519359606223,5.8916442118257715,7.701652362642226,7.1569563646156364,7.1929342212158,8.35983738064003,7.71333788887187,7.026426808699636,8.90571557879409,7.75190533307861,7.278628942320682,7.506591780070841,6.890609120147166,8.0861025356691,7.579167967396076,7.785720896534624,9.372459221452617,7.8547691834991324,7.761319180947987,7.323830566202317,7.29505641646263,7.54274354536855,6.687108607866515,7.972121128921655,7.69484807238461,6.959398512133975,8.081784206935001,7.584264818389059,8.889170455363413,7.3758821482150125,8.672828482947686,9.044403844431551,7.930925372483388,8.066521490469993,7.614805364711073,6.86484777797086,7.372118028337787,7.929846429742503,7.916807490937603,7.046647277848756,7.180069874302796,8.145549631783584,7.534762657037537,7.629489916393995,7.666690200080086,6.492239835020471,7.160069207596127,8.129764445794171,7.5411524551363085,7.3901814282264295,7.874358824729881,7.126087273299125,7.853993087224244,7.261225091971921,9.310547632393208,6.249975242259483,7.922623574217286,7.8898337513942955,7.893198869544609,8.270013062273787,5.8377304471659395,8.432506383249043,8.194229304819817,7.450660796211539,8.012018239159062,6.625392368007956,7.575584651557793,7.980707820869669,8.887100204123687,7.92443418488756,8.450839690866216,7.121252453244542,7.851271997109883,8.54714026778419,6.9440872082295275,7.298445101508147,8.181160858023409,7.0909098220799835,8.19478163844336,6.866933284461882,7.0587581525186645,8.031710375322042,8.231376045573969,7.257002707092073,8.165647925297504,7.56734567601324,7.1204443723924875,5.908082938168931,7.660114319173928,7.368339686311381,7.170888478512505,7.187657164114956,8.61122983334262,7.026426808699636,7.7664168980196555,7.253470382684528,9.058121158998672,8.452334619067742,7.8961806086154915,6.371611847231857,7.720905251936779,6.411818267709897,7.215975002651466,7.0925737159746784,6.551080335043404,8.613775289262481,8.15708378502887,7.014814351275545,8.982937763741589,7.3343293503005365,7.315218389752975,6.495265555937008,7.728855823852543,7.315218389752975,7.1785454837637,8.040768994367578,7.2254814727822945,8.192016914536875,8.022568946988255,7.616775808698373,7.134890851565884,7.611842399580417,7.347299700743164,9.089076284483143,6.903747257584598,7.4673710669175595,7.598399329323964,7.089243155027514,7.994294986415977,6.52649485957079,8.457867725331422,7.347943823148687,7.8547691834991324,8.288785810426928,8.691818541575723,8.600246746551523,6.692083742506628,6.9865664594064265,7.933079771880415,7.982757702011113,7.563719668414366,6.842683282238422,8.046869510959576,7.23561914106675,7.665284718471351,7.937017489515454,7.161622002939187,5.953243334287785,7.583247524303362,7.360103972989152,8.259199362666282,7.753194269884341,7.150701457592526,7.947325027016463,8.417593826193484,7.62608275807238,7.170119543449628,8.118802996980035,8.197538739721184,9.40951904583656,9.122273893107732,8.209580483475577,6.461468176353717,8.20303024171486,7.527255919373784,7.590346945602565,7.65728279297819,8.304494897963567,8.251142139090751,8.205218426395412,7.275172319452771,7.239214973779806,7.226936018493289,9.658417870888224,7.30854279753919,7.176254532017144,7.523481312573497,7.539027055823995,8.430109084509125,8.919453168575453,7.76046702921342,8.287276755814599,9.232297539328226,8.347827345782498,8.757940876678804,7.167809184316444,7.714677473800927,6.956545443151569,6.953684210870537,8.750524669117937,8.159374736775426,8.19118600464279,8.012018239159062,8.328209491748732,8.655562860681009,9.246286498749653,7.640123172695364,8.41847721847708,8.546751993657782,7.776535028185241,7.2813856635702825,7.338238150065589,7.731492029245684,7.298445101508147,8.537583881063972,9.19593714166544,8.783702698635217,7.205635176410364,7.959275960116396,7.920446505142607,8.202756381655638,6.882437470997847,7.875119281040293,7.971085753505607,8.458716261657262,7.7336835707759,7.119635638017636,7.005789019253503,6.8308742346461795,7.495541943884256,7.552237287560802,7.227662498728654,7.8252452914317745,7.8351837552667485,8.579980179515003,7.095064377287131,7.658227526161352,6.444131256700441,7.814399633804487,7.037027614686276,8.935377071932177,8.031710375322042,7.316548177182976,8.054522609537294,8.723882104658486,6.672032945461067,5.521460917862246,7.182352111885263,7.150701457592526,8.764521909518802,6.633318433280377,7.864419904994565,8.125630988477065,8.29154650988391,8.384804003370492,8.818926087090677,7.751475318021456,6.954638864880987,8.058327306580958,7.817222785508166,9.559517275737559,7.493873886783559,7.828436359157585,8.565602330623925,8.015987811027237,6.059123195581797,6.734591659972948,8.660600654710967,7.1693500166706,7.239214973779806,8.52615293278771,7.7025561132685825,7.809135398120538,7.051855622955894,7.972810784121404,8.193400231952097,7.411556287811163,7.941651252930556,8.094073148069352,7.706612913964197,7.299797366758161,8.170468578330674,8.163086375583216,8.650149418664864,8.261526448396468,7.570443252057374,7.251344983372214,8.774622220696997,7.57095858316901,7.891704659330107,7.919719760924575,8.750366278367625,7.107425474110705,7.969703583278656,8.026823576217629,7.741099090035366,7.1372784372603855,6.57507584059962,7.3453648404168685,7.3758821482150125,7.492760300922379,8.35983738064003,6.883462586413092,8.918917979908679,6.380122536899765,6.835184586147301,9.135940049399933,6.810142450115136,6.182084906716632,8.913550280493675,7.198931240688173,7.348587530927593,9.671366322189568,7.00397413672268,8.011686729127847,6.594413459749778,8.237479288613633,7.379008127628304,8.807022955925477,7.772752716468742,8.533853632309345,6.786716950605081,6.398594934535208,7.9919305198524775,7.8674885686991285,8.0040315078527,7.351799869057777,8.137980454452139,8.288031567776464,7.130098510125578,7.218176838403408,8.304494897963567,7.293697720601438,9.294221855956884,7.295735072749282,6.795705775173514,8.114623886420098,8.182279739259018,8.666302614004078,8.417593826193484,7.7057128238944275,7.77863014732581,8.11102783819368,8.910450756416656,6.480044561926653,8.946114375560743,7.202661196523238,7.231287004327616,6.773080375655535,8.185907481482324,7.186901020411631,7.570443252057374,8.187299270155147,8.816111895794005,8.963672275615016,9.135293497653272,7.687538766201629,7.001245622069476,7.946263643580541,8.796943893541737,8.964951211714654,7.80057265467065,7.511524648390866,7.682943169878292,8.66561319653451,7.063903961472068,9.099073559547596,7.8655717576847906,7.3727463664043285,7.689828668736484,8.156223323194624,9.256937657352966,7.234177179749849,7.15305163493748,7.009408932708637,8.232971790593437,8.219056661060598,8.187021067343505,8.069342366811636,8.401557847817314,8.003363058629947,7.669495251007694,7.954372272531867,7.504942068396171,9.453208116138121,7.601901959875166,6.955592608396297,7.532088143541722,7.203405521083095,7.465655310134056,7.1098794630722715,6.257667587882639,7.311886164077165,7.631916513071252,8.830835365537549,8.168202930236053,7.343426229147367,6.834108738813838,7.282761179605593,7.520234556474628,9.03097444300786,7.958227192322312,8.185907481482324,7.545918151209323,7.115582126184454,8.204124932574041,7.050989447068045,8.029107054619736,7.461640392208575,7.763446388727362,8.176391596633795,6.118097198041348,7.44716835960004,8.1797604936999,8.8771028978649,8.278682162970906,7.322510433997394,8.9082888855571,7.9483852851118995,7.1372784372603855,6.6240652277998935,7.794411205726601,7.980365765111246,7.614805364711073,7.267525427828172,8.746557354543503,7.25063551189868,8.791638037085997,7.463363045520021,8.178919332848396,7.358193752733032,7.568379267836522,8.28374674710613,7.779048644925556,7.459338895220296,8.257644958208228,6.6895992691789665,8.428580533059634],\"xaxis\":\"x\",\"xbins\":{\"end\":9.671366322189568,\"size\":0.2,\"start\":5.521460917862246},\"yaxis\":\"y\",\"type\":\"histogram\"},{\"autobinx\":false,\"histnorm\":\"probability density\",\"legendgroup\":\"Bad Credit\",\"marker\":{\"color\":\"rgb(255, 127, 14)\"},\"name\":\"Bad Credit\",\"opacity\":0.7,\"x\":[8.691314551644853,8.490849216076635,8.562931083090092,7.166265974133638,8.36822903827628,7.089243155027514,7.156176637480615,9.439784035838873,8.829958044235482,8.465057436995709,7.649692623711514,8.723068501163928,7.707512194600341,8.774622220696997,8.736971085254146,7.577121930876679,9.57644075656207,7.506042178518122,7.589335823170617,8.285261134068948,8.68996933536666,9.442404020664952,7.010311867307229,6.680854678790215,9.676900579444158,9.387481868728596,8.77307495131822,8.96890555068972,8.878218658092228,8.361941906144946,7.51479976048867,7.562161631225652,6.459904454377535,8.160232492367689,8.837390855544697,6.641182169740591,7.808729306744399,7.156176637480615,7.030857476116121,7.5678626054638825,6.856461984594587,7.6324011266014535,8.135639903354386,8.920656296853728,9.166597449028265,8.40178233990491,7.4067107301776405,6.784457062637643,8.542665987389269,6.513230110912307,8.431853144249223,8.254268770090183,8.272570608424903,8.016647877057803,7.313886831633462,6.85751406254539,8.365672383774996,6.804614520062624,8.574140471857987,7.553810852008231,9.302098797215724,8.970177815492379,7.298445101508147,8.345217926676428,7.508238774678663,9.585689856179723,7.925518979786926,6.818924065275521,8.434897948689407,6.07073772800249,7.673223121121708,7.67275789664251,6.687108607866515,9.102532419341877,8.026170194946426,9.392495248213038,8.436200032206706,6.931471805599453,9.14825217966276,9.206332350578643,8.24380842366528,7.203405521083095,9.222960403332285,6.588926477533519,7.1204443723924875,6.529418838262226,7.917900586327916,8.354438940114811,7.569411792450712,7.530479995245536,8.910315776326016,9.357897936333798,8.32117830749028,8.126813720726114,7.150701457592526,7.035268599281097,6.8658910748834385,8.73214326770192,7.1276936993473985,8.40357646462927,7.785720896534624,7.813187267521416,8.144969417087875,9.601165503344832,8.947025655972697,9.56927276595613,9.470856776355195,7.109062135687172,9.065083359319043,7.620214770574455,6.844815479208263,7.73718007783463,7.2305631534092925,7.8551570058813445,6.948897222313312,7.923710333969238,7.081708586105575,9.3350328159335,7.302496423727326,6.411818267709897,6.577861357721047,8.536211197252,7.518607216815252,7.321188556739478,8.479906606630221,8.12740456269308,7.413970290190444,8.036573409707312,6.104793232414985,6.483107351457199,7.126890808898808,8.043663352393944,7.097548850614793,9.026177120302856,8.005033344637111,9.108750516214549,8.046549357283078,7.103322062526113,7.095893221097532,7.1770187659099,8.83200393125627,6.63200177739563,8.871645667501872,8.06777619577889,8.870522545103873,7.741533589281828,7.875119281040293,7.7488913372555315,8.95712413640568,7.335633981927201,8.756210091886738,7.9599745280805365,7.195187320178709,6.439350371100098,8.85352256068954,7.193685818395112,7.731053144007127,8.517793011488205,8.17526610411206,7.564238475170491,7.343426229147367,9.424564261115739,7.22402480828583,8.818482267274236,8.081475040137052,7.944492163932159,6.962243464266207,7.776535028185241,7.620214770574455,7.104144092987527,7.716906135298388,7.907651594711089,7.213768308118642,6.836259277277067,7.273786317844895,8.352554369474591,7.928406026180535,6.822197390620491,7.515889085215125,8.116417072794205,7.890208213109961,6.608000625296087,7.122866658599083,7.4999765409521215,8.14351740579748,7.333023014386481,8.272315147956022,7.8632667240095735,7.270312886079025,7.347943823148687,7.590852123688581,7.2115567333138015,8.382518288089635,6.620073206530356,8.438799123988225,8.984693690443855,7.234177179749849,6.853299093186078,6.52795791762255,7.561121589530238,7.741967899820685,8.997889450200717,6.78897174299217,6.802394763324311,8.48528964240323,7.855544677915663,8.629628620746026,7.023758954738443,8.753213480544126,8.788745881938135,7.99598047476376,7.088408778675395,9.54873932271967,7.198183577101943,6.07073772800249,7.113142108707088,7.851661177889265,7.540090320145325,8.766550149546351,7.594381242551817,9.355306142226368,8.361708288575842,7.149916836132109,6.883462586413092,7.349230824613334,7.158513997329321,7.147559271189454,6.53813982376767,7.66105638236183,9.447781227991216,8.041734711487537,8.99528899055931,7.223295679562314,8.503702601233739,6.728628613084702,8.736168065858228,8.699181359308954,7.080026499922591,8.924123891686012,9.134646527606982,7.48324441607385,9.172534657240284,8.02322468471667,8.27664912542186,7.20414929203594,7.905441649060286,8.285513309079741,8.334471554600944,9.028218795184895,7.103322062526113,9.377209824211215,7.752335163302292,6.9865664594064265,8.552367266423891,7.57198844937744,8.818926087090677,6.5638555265321274,7.711996507047669,7.273786317844895,8.28374674710613,7.682021510826875,7.79934339821592,7.700747794511798,7.259819610363186,8.308199063206446,6.678342114654332,9.659630959624376,8.331586243630754,7.872836175025724,8.462948176563842,8.058643712215618,9.82140944150052,9.608847999516849,7.765993079407675,8.11522197256233,7.2196420401307355,8.835210463664092,6.546785410760524,9.239607869656751,7.4205789054108005,7.5595594960077,6.61338421837956,8.746398334109042,8.116417072794205,7.334981878871814,8.19450550976564,7.6708948313621175,8.321907968230423,9.30328411761892,8.295548516225763,7.781973234434385,7.832014180505469,7.084226422097916,8.89521858376562,7.839131648274333,7.142036574706803,9.034318927730707,8.485496104672983,9.015419779605713,7.520234556474628],\"xaxis\":\"x\",\"xbins\":{\"end\":9.82140944150052,\"size\":0.2,\"start\":6.07073772800249},\"yaxis\":\"y\",\"type\":\"histogram\"},{\"legendgroup\":\"Good Credit\",\"marker\":{\"color\":\"rgb(31, 119, 180)\"},\"mode\":\"lines\",\"name\":\"Good Credit\",\"showlegend\":false,\"x\":[5.521460917862246,5.529760728670901,5.538060539479555,5.54636035028821,5.554660161096865,5.562959971905519,5.571259782714174,5.579559593522829,5.587859404331483,5.596159215140138,5.604459025948793,5.612758836757447,5.621058647566102,5.629358458374757,5.637658269183411,5.645958079992066,5.654257890800721,5.662557701609375,5.67085751241803,5.6791573232266845,5.687457134035339,5.6957569448439935,5.7040567556526485,5.7123565664613025,5.7206563772699575,5.728956188078612,5.7372559988872665,5.745555809695921,5.753855620504576,5.76215543131323,5.770455242121885,5.77875505293054,5.787054863739194,5.795354674547849,5.803654485356504,5.811954296165158,5.820254106973813,5.828553917782468,5.836853728591122,5.845153539399777,5.853453350208432,5.861753161017086,5.870052971825741,5.878352782634396,5.88665259344305,5.894952404251705,5.90325221506036,5.911552025869014,5.919851836677669,5.928151647486324,5.936451458294978,5.944751269103633,5.953051079912288,5.961350890720942,5.969650701529597,5.977950512338252,5.986250323146906,5.994550133955561,6.002849944764216,6.01114975557287,6.019449566381525,6.02774937719018,6.0360491879988345,6.0443489988074885,6.0526488096161435,6.0609486204247975,6.0692484312334525,6.077548242042107,6.085848052850762,6.094147863659416,6.102447674468071,6.110747485276725,6.11904729608538,6.127347106894035,6.13564691770269,6.143946728511344,6.152246539319999,6.160546350128653,6.168846160937308,6.177145971745963,6.185445782554617,6.193745593363272,6.202045404171927,6.210345214980581,6.218645025789236,6.226944836597891,6.235244647406545,6.2435444582152,6.251844269023855,6.260144079832509,6.268443890641164,6.276743701449819,6.285043512258473,6.293343323067128,6.301643133875783,6.309942944684437,6.318242755493092,6.326542566301747,6.334842377110401,6.343142187919056,6.351441998727711,6.359741809536365,6.36804162034502,6.376341431153675,6.3846412419623295,6.392941052770984,6.4012408635796385,6.409540674388293,6.4178404851969475,6.426140296005602,6.434440106814257,6.442739917622911,6.451039728431566,6.45933953924022,6.467639350048875,6.47593916085753,6.484238971666185,6.492538782474839,6.500838593283494,6.509138404092148,6.517438214900803,6.525738025709458,6.534037836518113,6.542337647326767,6.550637458135422,6.558937268944076,6.567237079752731,6.575536890561386,6.583836701370041,6.592136512178695,6.60043632298735,6.608736133796004,6.617035944604659,6.625335755413314,6.633635566221969,6.641935377030623,6.650235187839278,6.658534998647932,6.666834809456587,6.675134620265242,6.683434431073897,6.691734241882551,6.700034052691206,6.70833386349986,6.716633674308515,6.72493348511717,6.7332332959258245,6.741533106734479,6.7498329175431335,6.758132728351788,6.7664325391604425,6.7747323499690975,6.783032160777752,6.7913319715864064,6.799631782395061,6.807931593203715,6.81623140401237,6.824531214821025,6.83283102562968,6.841130836438334,6.849430647246989,6.857730458055643,6.866030268864298,6.874330079672953,6.882629890481608,6.890929701290262,6.899229512098917,6.907529322907571,6.915829133716226,6.924128944524881,6.932428755333536,6.94072856614219,6.949028376950845,6.957328187759499,6.965627998568154,6.973927809376809,6.982227620185464,6.990527430994118,6.998827241802773,7.007127052611427,7.015426863420082,7.023726674228737,7.032026485037392,7.040326295846046,7.048626106654701,7.056925917463355,7.06522572827201,7.073525539080665,7.0818253498893196,7.0901251606979745,7.0984249715066285,7.106724782315283,7.1150245931239375,7.1233244039325925,7.131624214741247,7.1399240255499015,7.148223836358556,7.1565236471672105,7.164823457975865,7.17312326878452,7.181423079593175,7.189722890401829,7.198022701210484,7.206322512019138,7.214622322827793,7.222922133636448,7.231221944445103,7.239521755253757,7.247821566062412,7.256121376871066,7.264421187679721,7.272720998488376,7.281020809297031,7.289320620105685,7.29762043091434,7.305920241722994,7.314220052531649,7.322519863340304,7.330819674148959,7.339119484957613,7.347419295766268,7.355719106574922,7.364018917383577,7.372318728192232,7.380618539000887,7.388918349809541,7.397218160618196,7.405517971426851,7.413817782235505,7.42211759304416,7.430417403852815,7.438717214661469,7.447017025470124,7.4553168362787785,7.4636166470874326,7.4719164578960875,7.480216268704742,7.4885160795133965,7.496815890322051,7.505115701130706,7.51341551193936,7.521715322748015,7.53001513355667,7.538314944365325,7.546614755173979,7.554914565982633,7.563214376791288,7.571514187599943,7.579813998408598,7.588113809217253,7.596413620025907,7.604713430834561,7.613013241643216,7.621313052451871,7.629612863260526,7.637912674069181,7.646212484877835,7.654512295686489,7.662812106495144,7.671111917303799,7.679411728112454,7.687711538921109,7.696011349729763,7.704311160538417,7.712610971347072,7.720910782155727,7.729210592964382,7.737510403773037,7.745810214581691,7.754110025390345,7.762409836199,7.770709647007655,7.77900945781631,7.7873092686249645,7.795609079433619,7.8039088902422735,7.812208701050928,7.8205085118595825,7.8288083226682375,7.837108133476892,7.845407944285546,7.8537077550942005,7.862007565902855,7.87030737671151,7.878607187520165,7.88690699832882,7.895206809137474,7.903506619946129,7.911806430754783,7.920106241563438,7.928406052372093,7.936705863180747,7.945005673989402,7.953305484798056,7.961605295606711,7.969905106415366,7.978204917224021,7.986504728032676,7.99480453884133,8.003104349649984,8.011404160458639,8.019703971267294,8.028003782075949,8.036303592884604,8.044603403693259,8.052903214501912,8.061203025310567,8.069502836119222,8.077802646927877,8.086102457736532,8.094402268545185,8.10270207935384,8.111001890162495,8.11930170097115,8.127601511779805,8.13590132258846,8.144201133397114,8.152500944205768,8.160800755014423,8.169100565823078,8.177400376631732,8.185700187440387,8.19399999824904,8.202299809057696,8.21059961986635,8.218899430675005,8.22719924148366,8.235499052292315,8.24379886310097,8.252098673909623,8.260398484718278,8.268698295526933,8.276998106335588,8.285297917144243,8.293597727952896,8.301897538761551,8.310197349570206,8.318497160378861,8.326796971187516,8.335096781996171,8.343396592804826,8.351696403613479,8.359996214422134,8.368296025230789,8.376595836039444,8.384895646848099,8.393195457656752,8.401495268465407,8.409795079274062,8.418094890082717,8.426394700891372,8.434694511700027,8.442994322508682,8.451294133317335,8.45959394412599,8.467893754934645,8.4761935657433,8.484493376551955,8.492793187360608,8.501092998169263,8.509392808977918,8.517692619786573,8.525992430595227,8.534292241403882,8.542592052212537,8.550891863021192,8.559191673829845,8.5674914846385,8.575791295447155,8.58409110625581,8.592390917064463,8.600690727873118,8.608990538681773,8.617290349490428,8.625590160299083,8.633889971107738,8.642189781916393,8.650489592725048,8.658789403533703,8.667089214342356,8.675389025151011,8.683688835959666,8.69198864676832,8.700288457576974,8.708588268385629,8.716888079194284,8.725187890002939,8.733487700811594,8.741787511620249,8.750087322428904,8.758387133237557,8.766686944046212,8.774986754854867,8.783286565663522,8.791586376472175,8.79988618728083,8.808185998089485,8.81648580889814,8.824785619706795,8.83308543051545,8.841385241324105,8.84968505213276,8.857984862941413,8.866284673750068,8.874584484558723,8.882884295367377,8.89118410617603,8.899483916984686,8.90778372779334,8.916083538601995,8.92438334941065,8.932683160219305,8.94098297102796,8.949282781836615,8.957582592645268,8.965882403453923,8.974182214262578,8.982482025071233,8.990781835879886,8.999081646688541,9.007381457497196,9.015681268305851,9.023981079114506,9.032280889923161,9.040580700731816,9.048880511540471,9.057180322349124,9.065480133157779,9.073779943966434,9.082079754775089,9.090379565583742,9.098679376392397,9.106979187201052,9.115278998009707,9.123578808818362,9.131878619627017,9.140178430435672,9.148478241244327,9.15677805205298,9.165077862861635,9.17337767367029,9.181677484478945,9.189977295287598,9.198277106096253,9.206576916904908,9.214876727713563,9.223176538522218,9.231476349330872,9.239776160139527,9.248075970948182,9.256375781756836,9.26467559256549,9.272975403374145,9.2812752141828,9.289575024991455,9.297874835800108,9.306174646608763,9.314474457417418,9.322774268226073,9.331074079034728,9.339373889843383,9.347673700652038,9.355973511460691,9.364273322269346,9.372573133078001,9.380872943886656,9.389172754695311,9.397472565503964,9.405772376312619,9.414072187121274,9.422371997929929,9.430671808738584,9.438971619547239,9.447271430355894,9.455571241164547,9.463871051973202,9.472170862781857,9.480470673590512,9.488770484399167,9.49707029520782,9.505370106016475,9.51366991682513,9.521969727633785,9.53026953844244,9.538569349251095,9.54686916005975,9.555168970868404,9.563468781677058,9.571768592485713,9.580068403294366,9.58836821410302,9.596668024911676,9.60496783572033,9.613267646528985,9.62156745733764,9.629867268146295,9.63816707895495,9.646466889763605,9.65476670057226,9.663066511380915],\"xaxis\":\"x\",\"y\":[0.009781932269058973,0.010168501347443713,0.010564921588463946,0.010971316922610098,0.011387798384129831,0.011814460805519416,0.01225137936931291,0.012698606060369691,0.013156166066188985,0.013624054176554861,0.01410223123696416,0.014590620712732049,0.01508910542233684,0.015597524499410908,0.016115670642765836,0.016643287712925867,0.01718006873183297,0.01772565433967986,0.018279631759239585,0.018841534313637134,0.019410841538293783,0.019986979921831734,0.020569324304135984,0.021157199952620453,0.02174988533012519,0.02234661555989787,0.022946586584890225,0.023548960010238762,0.024152868609423474,0.024757422466318735,0.025361715717273036,0.0259648338495974,0.026565861505495652,0.027163890733628952,0.027758029624255096,0.028347411258287544,0.028931202895741425,0.029508615324919503,0.030078912290373266,0.030641419915179605,0.031195536031400167,0.03174073933175249,0.03227659825549169,0.03280277952226427,0.03331905622922191,0.03382531542893285,0.03432156510855622,0.034807940494314626,0.03528470960945078,0.03575227801854213,0.03621119269622628,0.03666214496400444,0.03710597244479941,0.03754365999130812,0.037976339550863686,0.038405288936477516,0.03883192948093787,0.03925782255827076,0.03968466496449985,0.040114283157455646,0.04054862636336224,0.040989758566053254,0.04143984940292929,0.04190116400013607,0.04237605178790598,0.042866934345537566,0.043376292334055884,0.04390665158316627,0.04446056840765089,0.04504061423679346,0.04564935964871163,0.04628935790955112,0.046963128125278704,0.04767313812121122,0.04842178717136114,0.04921138870603917,0.05004415313186042,0.0509221709032091,0.05184739598825546,0.05282162987564138,0.053846506269877865,0.05492347662421104,0.056053796659114835,0.05723851401258712,0.05847845716496162,0.059774225775965126,0.06112618256518659,0.06253444685896123,0.06399888991691055,0.06551913214002282,0.06709454224926308,0.0687242385093225,0.07040709205634507,0.07214173237143516,0.07392655492355649,0.07575973098629371,0.0776392196130024,0.0795627817343436,0.08152799632132177,0.08353227853592443,0.0855728997705689,0.0876470094570582,0.0897516585058539,0.09188382421749895,0.09404043649019232,0.09621840513106354,0.09841464806389033,0.10062612021302031,0.10284984283231985,0.10508293303921115,0.10732263330748067,0.10956634066853575,0.11181163536937253,0.11405630873659275,0.1162983899994744,0.11853617183124839,0.12076823437634156,0.12299346754225952,0.12521109134787586,0.12742067413499247,0.12962214846690528,0.13181582455615945,0.1340024010834017,0.13618297329002899,0.13835903824883672,0.14053249723890202,0.14270565517309003,0.14488121704870058,0.14706228141350652,0.14925233086059422,0.1514552195857499,0.15367515806044868,0.155916694891653,0.1581846959564441,0.16048432091494286,0.1628209972189389,0.1652003917461345,0.16762838020094295,0.1701110144324016,0.17265448782808548,0.17526509895001857,0.17794921358465515,0.18071322538419438,0.18356351528096104,0.18650640986056552,0.18954813888317545,0.19269479214573404,0.19595227588147565,0.19932626889679694,0.20282217864954707,0.20644509747724366,0.2101997591885984,0.2140904962371546,0.21812119770170277,0.22229526830443652,0.22661558870439283,0.23108447731048942,0.2357036538651352,0.2404742050558174,0.24539655241788164,0.2504704227967079,0.2556948216411893,0.2610680094026612,0.2665874813136348,0.27224995081870623,0.27805133692530554,0.28398675573435744,0.2900505163999051,0.2962361217523519,0.30253627380160364,0.3089428843141836,0.3154470906320479,0.3220392768703929,0.32870910059714864,0.3354455250584172,0.34223685697165573,0.3490707898626499,0.3559344528732414,0.3628144649149752,0.3696969939898146,0.3765678214434488,0.3834124108599096,0.3902159812493401,0.3969635841241259,0.4036401840032889,0.41023074183177494,0.4167203007509121,0.42309407360951745,0.4293375315630935,0.4354364930716328,0.4413772125757538,0.44714646810692493,0.45273164707083885,0.4581208294343101,0.46330286754577177,0.4682674618278149,0.47300523159765434,0.4775077802978644,0.4817677544553053,0.48577889573066696,0.4895360854742629,0.4930353812651316,0.4962740449796857,0.49925056201237633,0.5019646513533409,0.5044172663158571,0.5066105857986455,0.5085479960635703,0.5102340631068436,0.5116744958003224,0.5128761000775099,0.5138467245352297,0.5145951979153053,0.5151312590196353,0.5154654796956375,0.5156091816058608,0.5155743475646427,0.5153735282849057,0.5150197454286883,0.5145263918950599,0.5139071303080011,0.5131757906842055,0.5123462682662888,0.5114324225004375,0.5104479781191542,0.5094064292596636,0.5083209475072378,0.5072042947005745,0.5060687412743519,0.5049259908429677,0.5037871116502132,0.5026624754235659,0.5015617040799084,0.5004936246332692,0.49946623255599115,0.49848666374386424,0.4975611751347341,0.49669513393030096,0.49589301527350776,0.49515840814056483,0.49449402911830553,0.493901743655454,0.4933825943015046,0.49293683538002153,0.4925639734852047,0.4922628131418513,0.4920315069300371,0.4918676093469866,0.4917681336600014,0.4917296109956413,0.49174815091171925,0.49181950270938884,0.4919391167624179,0.4921022051689452,0.4923038010668701,0.4925388159968329,0.49280209474551573,0.4930884671559196,0.4933927964492916,0.4937100236646562,0.49403520788534566,0.4943635619866594,0.4946904837039506,0.4950115818850168,0.49532269785405114,0.49561992187575965,0.49589960476689837,0.4961583647579693,0.496393089759524,0.4966009352351946,0.4967793179267966,0.4969259057154961,0.49703860393686045,0.49711553849670453,0.49715503615881035,0.4971556023950991,0.4971158972036283,0.49703470931009164,0.49691092917449525,0.49674352122657484,0.4965314957514904,0.4962738808416514,0.4959696948213941,0.4956179195388699,0.4952174749040932,0.4947671950339036,0.494265806343685,0.4937119079023181,0.493103954341131,0.4924402415796625,0.49171889560105664,0.49093786447793797,0.4900949138158483,0.48918762574582336,0.4882134015607361,0.48716946805163336,0.4860528875608025,0.4848605717278208,0.4835892988637483,0.48223573484709736,0.480796457393688,0.47926798351131816,0.4776467999097022,0.4759293960969238,0.4741122998560339,0.4721921147600332,0.470165559350738,0.4680295075774415,0.4657810300654516,0.46341743576285743,0.46093631349685854,0.45833557295897465,0.4556134846318918,0.4527687181698641,0.4498003787496855,0.44670804092050115,0.44349177949803736,0.4401521970723863,0.4366904477278804,0.4331082566087997,0.4294079350052203,0.42559239067879495,0.4216651331981483,0.4176302741072513,0.41349252180683604,0.40925717108796544,0.4049300873174122,0.40051768533560717,0.3960269031889212,0.39146517087775873,0.38684037435982355,0.38216081510292743,0.3774351655330594,0.37267242077052565,0.3678818470889989,0.3630729275687699,0.3582553054459133,0.35343872568300694,0.34863297530433096,0.3438478230488104,0.33909295889749264,0.33437793402889915,0.32971210174563564,0.32510455989914905,0.3205640953170924,0.3160991307097535,0.31171767449894705,0.30742727397528574,0.30323497214849476,0.29914726861098784,0.29517008468815126,0.2913087331002207,0.28756789231110835,0.2839515856896692,0.2804631655593793,0.2771053021638495,0.2738799775285512,0.27078848415420914,0.2678314284348593,0.26500873865407887,0.26231967737667056,0.25976285802034327,0.25733626536298027,0.25503727971597123,0.25286270447288234,0.2508087967255523,0.24887130062634316,0.24704548316578526,0.2453261720290125,0.24370779519204702,0.24218442191993172,0.2407498048327173,0.23939742271209744,0.23812052373078896,0.2369121687983149,0.2357652747303418,0.2346726569638906,0.2336270715572922,0.2326212562314096,0.23164797022715508,0.2307000327734201,0.22977035997901393,0.22885199998177938,0.22793816620764804,0.22702226861170083,0.2260979427922751,0.2251590768875857,0.22419983618215472,0.2232146853674468,0.22219840841742736,0.22114612605522457,0.2200533108017128,0.21891579961053012,0.21772980410688098,0.2164919184594401,0.2151991249257534,0.2138487971218292,0.2124387010760911,0.21096699413665482,0.20943222180893603,0.20783331260807347,0.206169571017488,0.20444066865121802,0.2026466337234916,0.20078783893435384,0.19886498788504878,0.19687910014138033,0.1948314950673116,0.19272377455473405,0.19055780477853496,0.1883356971088579,0.18605978831471337,0.1837326201948244,0.18135691877274798,0.17893557319383324,0.17647161446139392,0.17396819414858158,0.17142856322070868,0.1688560511002209,0.16625404510306213,0.16362597037079904,0.1609752704175412,0.15830538840440897,0.15561974924708172,0.15292174265378466,0.15021470718204433,0.14750191539265628,0.14478656016870284,0.14207174225617702,0.13936045907093728,0.13665559480449083,0.13395991184856737,0.13127604354580616,0.12860648826122392,0.12595360475672676,0.12331960883881221,0.1207065712380523,0.11811641666804987,0.1155509240014812,0.11301172749173831,0.11050031896065829,0.10801805086599052,0.10556614015672391,0.10314567282018158,0.10075760902200628,0.0984027887387435,0.09608193778277446,0.09379567412072852,0.09154451438924056,0.08932888051589304,0.08714910635833474,0.08500544428073464,0.0828980715938497,0.08082709679283867,0.07879256553545473,0.0767944663121795,0.07483273576909816,0.07290726365365717,0.07101789736274376,0.06916444608162367,0.0673466845110084,0.06556435618774896,0.06381717641227365,0.06210483480273969,0.060426997501915304,0.058783309067919384,0.05717339408411722,0.05559685852660973,0.05405329092990571,0.05254226339247976,0.05106333246404711,0.04961603995557801,0.04819991371135057,0.046814468379825065,0.04545920621685188,0.0441336179508332,0.04283718373504179,0.04156937420745576,0.04032965167333792,0.039117471420483586,0.0379322831716784,0.03677353267360752,0.03564066341629756,0.03453311847230863,0.03345034244037197,0.03239178347411868,0.03135689537299829,0.0303451397095385,0.029355987964765042,0.028388923641955163,0.02744344432789629,0.02651906367055403,0.025615313242421407,0.024731744259873015,0.023867929130509582,0.02302346280271577,0.02219796389442036,0.02139107558125925,0.020602466227946228,0.01983182975056614],\"yaxis\":\"y\",\"type\":\"scatter\"},{\"legendgroup\":\"Bad Credit\",\"marker\":{\"color\":\"rgb(255, 127, 14)\"},\"mode\":\"lines\",\"name\":\"Bad Credit\",\"showlegend\":false,\"x\":[6.07073772800249,6.078239071429485,6.085740414856482,6.093241758283478,6.100743101710474,6.10824444513747,6.115745788564466,6.123247131991462,6.130748475418458,6.138249818845455,6.14575116227245,6.153252505699446,6.160753849126443,6.168255192553438,6.175756535980435,6.183257879407431,6.190759222834426,6.198260566261423,6.205761909688419,6.213263253115415,6.220764596542411,6.228265939969407,6.235767283396403,6.243268626823399,6.250769970250396,6.258271313677391,6.265772657104387,6.273274000531384,6.280775343958379,6.288276687385375,6.295778030812372,6.303279374239367,6.310780717666364,6.31828206109336,6.325783404520355,6.333284747947352,6.340786091374348,6.348287434801344,6.35578877822834,6.363290121655336,6.370791465082332,6.378292808509328,6.385794151936325,6.39329549536332,6.400796838790316,6.408298182217313,6.415799525644308,6.423300869071305,6.430802212498301,6.438303555925296,6.445804899352293,6.453306242779289,6.460807586206285,6.468308929633281,6.475810273060277,6.483311616487273,6.490812959914269,6.498314303341266,6.505815646768261,6.513316990195257,6.520818333622254,6.528319677049249,6.535821020476245,6.543322363903242,6.550823707330237,6.558325050757234,6.56582639418423,6.573327737611226,6.580829081038222,6.588330424465218,6.595831767892214,6.60333311131921,6.610834454746206,6.618335798173202,6.625837141600198,6.633338485027195,6.64083982845419,6.648341171881187,6.655842515308183,6.663343858735178,6.670845202162175,6.678346545589171,6.685847889016166,6.693349232443163,6.700850575870159,6.708351919297155,6.715853262724151,6.7233546061511476,6.730855949578143,6.738357293005139,6.745858636432136,6.753359979859131,6.760861323286127,6.768362666713124,6.775864010140119,6.783365353567116,6.790866696994112,6.798368040421107,6.805869383848104,6.8133707272751,6.820872070702096,6.828373414129092,6.835874757556088,6.843376100983084,6.85087744441008,6.858378787837076,6.865880131264072,6.873381474691068,6.880882818118065,6.88838416154506,6.895885504972057,6.903386848399053,6.910888191826048,6.918389535253045,6.925890878680041,6.933392222107036,6.940893565534033,6.948394908961029,6.955896252388025,6.963397595815021,6.9708989392420175,6.978400282669013,6.985901626096009,6.9934029695230056,7.000904312950001,7.008405656376997,7.015906999803994,7.023408343230989,7.030909686657986,7.038411030084982,7.045912373511978,7.053413716938974,7.06091506036597,7.068416403792966,7.075917747219962,7.083419090646958,7.090920434073954,7.09842177750095,7.1059231209279465,7.113424464354942,7.120925807781938,7.1284271512089346,7.13592849463593,7.143429838062927,7.150931181489923,7.158432524916918,7.165933868343915,7.173435211770911,7.180936555197906,7.188437898624903,7.1959392420518995,7.203440585478895,7.210941928905891,7.2184432723328875,7.225944615759883,7.233445959186879,7.2409473026138755,7.248448646040871,7.255949989467868,7.2634513328948636,7.270952676321859,7.278454019748856,7.285955363175852,7.293456706602848,7.300958050029844,7.30845939345684,7.315960736883836,7.323462080310832,7.330963423737828,7.338464767164824,7.34596611059182,7.3534674540188165,7.360968797445812,7.368470140872809,7.3759714842998045,7.3834728277268,7.390974171153797,7.3984755145807926,7.405976858007788,7.413478201434785,7.4209795448617815,7.428480888288777,7.435982231715773,7.443483575142769,7.450984918569765,7.458486261996761,7.4659876054237575,7.473488948850753,7.480990292277749,7.4884916357047455,7.495992979131741,7.503494322558737,7.5109956659857335,7.51849700941273,7.525998352839726,7.533499696266722,7.541001039693718,7.548502383120714,7.55600372654771,7.563505069974706,7.571006413401702,7.5785077568286985,7.586009100255694,7.59351044368269,7.6010117871096865,7.608513130536682,7.616014473963679,7.6235158173906745,7.63101716081767,7.638518504244667,7.6460198476716625,7.653521191098658,7.661022534525655,7.668523877952651,7.676025221379647,7.683526564806643,7.6910279082336395,7.698529251660635,7.706030595087631,7.7135319385146275,7.721033281941623,7.728534625368619,7.7360359687956155,7.743537312222612,7.751038655649608,7.7585399990766035,7.7660413425036,7.773542685930596,7.7810440293575915,7.788545372784588,7.796046716211584,7.80354805963858,7.811049403065576,7.818550746492572,7.8260520899195685,7.833553433346564,7.841054776773561,7.8485561202005565,7.856057463627552,7.863558807054549,7.8710601504815445,7.87856149390854,7.886062837335537,7.8935641807625325,7.901065524189529,7.908566867616525,7.9160682110435205,7.923569554470517,7.931070897897513,7.9385722413245094,7.946073584751505,7.953574928178501,7.9610762716054975,7.968577615032493,7.976078958459489,7.9835803018864855,7.991081645313482,7.998582988740478,8.006084332167474,8.01358567559447,8.021087019021465,8.028588362448462,8.036089705875458,8.043591049302455,8.05109239272945,8.058593736156446,8.066095079583443,8.073596423010438,8.081097766437434,8.08859910986443,8.096100453291427,8.103601796718422,8.111103140145419,8.118604483572415,8.12610582699941,8.133607170426407,8.141108513853403,8.148609857280398,8.156111200707395,8.163612544134391,8.171113887561386,8.178615230988383,8.18611657441538,8.193617917842374,8.20111926126937,8.208620604696367,8.216121948123362,8.22362329155036,8.231124634977355,8.238625978404352,8.246127321831347,8.253628665258343,8.26113000868534,8.268631352112337,8.276132695539332,8.283634038966328,8.291135382393325,8.29863672582032,8.306138069247316,8.313639412674313,8.321140756101308,8.328642099528304,8.3361434429553,8.343644786382296,8.351146129809292,8.358647473236289,8.366148816663285,8.37365016009028,8.381151503517277,8.388652846944272,8.39615419037127,8.403655533798265,8.411156877225261,8.418658220652258,8.426159564079253,8.43366090750625,8.441162250933246,8.44866359436024,8.456164937787237,8.463666281214234,8.471167624641229,8.478668968068225,8.486170311495222,8.493671654922217,8.501172998349213,8.50867434177621,8.516175685203205,8.523677028630201,8.531178372057198,8.538679715484195,8.54618105891119,8.553682402338186,8.561183745765183,8.56868508919218,8.576186432619174,8.58368777604617,8.591189119473167,8.598690462900162,8.606191806327159,8.613693149754155,8.62119449318115,8.628695836608147,8.636197180035143,8.643698523462138,8.651199866889135,8.658701210316131,8.666202553743126,8.673703897170123,8.68120524059712,8.688706584024114,8.69620792745111,8.703709270878107,8.711210614305104,8.718711957732099,8.726213301159095,8.733714644586092,8.741215988013089,8.748717331440083,8.75621867486708,8.763720018294077,8.771221361721071,8.778722705148068,8.786224048575065,8.79372539200206,8.801226735429056,8.808728078856053,8.816229422283048,8.823730765710044,8.83123210913704,8.838733452564036,8.846234795991032,8.853736139418029,8.861237482845024,8.868738826272022,8.876240169699017,8.883741513126013,8.89124285655301,8.898744199980005,8.906245543407001,8.913746886833998,8.921248230260993,8.92874957368799,8.936250917114986,8.94375226054198,8.951253603968977,8.958754947395974,8.966256290822969,8.973757634249965,8.981258977676962,8.988760321103957,8.996261664530953,9.00376300795795,9.011264351384947,9.018765694811941,9.026267038238938,9.033768381665935,9.041269725092931,9.048771068519926,9.056272411946923,9.06377375537392,9.071275098800914,9.07877644222791,9.086277785654907,9.093779129081902,9.101280472508899,9.108781815935895,9.11628315936289,9.123784502789887,9.131285846216883,9.138787189643878,9.146288533070875,9.153789876497871,9.161291219924866,9.168792563351863,9.17629390677886,9.183795250205856,9.19129659363285,9.198797937059847,9.206299280486844,9.21380062391384,9.221301967340835,9.228803310767832,9.236304654194829,9.243805997621823,9.25130734104882,9.258808684475817,9.266310027902811,9.273811371329808,9.281312714756805,9.2888140581838,9.296315401610796,9.303816745037793,9.311318088464787,9.318819431891784,9.32632077531878,9.333822118745775,9.341323462172774,9.348824805599769,9.356326149026765,9.36382749245376,9.371328835880757,9.378830179307753,9.38633152273475,9.393832866161745,9.401334209588741,9.408835553015738,9.416336896442733,9.42383823986973,9.431339583296726,9.43884092672372,9.446342270150717,9.453843613577714,9.461344957004709,9.468846300431705,9.476347643858702,9.483848987285699,9.491350330712693,9.49885167413969,9.506353017566685,9.513854360993683,9.521355704420678,9.528857047847675,9.536358391274671,9.543859734701666,9.551361078128663,9.55886242155566,9.566363764982654,9.57386510840965,9.581366451836647,9.588867795263642,9.596369138690639,9.603870482117635,9.61137182554463,9.618873168971627,9.626374512398623,9.633875855825618,9.641377199252615,9.648878542679611,9.656379886106608,9.663881229533603,9.6713825729606,9.678883916387596,9.686385259814593,9.693886603241587,9.701387946668584,9.70888929009558,9.716390633522575,9.723891976949572,9.731393320376569,9.738894663803563,9.74639600723056,9.753897350657557,9.761398694084551,9.768900037511548,9.776401380938545,9.78390272436554,9.791404067792536,9.798905411219533,9.806406754646527,9.813908098073524],\"xaxis\":\"x\",\"y\":[0.036769965142400614,0.037879857671658336,0.03901807995629573,0.04018517404577089,0.04138166791848532,0.0426080732024652,0.04386488287831259,0.045152568977281836,0.046471580287833575,0.047822340084424646,0.0492052438926139,0.05062065730480645,0.052068913861088015,0.053550313009648506,0.05506511816123291,0.0566135548518833,0.05819580902797566,0.05981202546716133,0.06146230634834439,0.06314670998322772,0.06486524972125553,0.06661789303898186,0.0684045608239829,0.07022512686243075,0.07207941753835977,0.07396721175146156,0.07588824105900606,0.07784219004613736,0.07982869692740711,0.08184735438095865,0.08389771061526807,0.08597927066682344,0.08809149792555948,0.09023381588328283,0.09240561009875126,0.09460623037148336,0.09683499311482542,0.09909118391727216,0.10137406027954218,0.10368285451348946,0.1060167767875398,0.10837501830206003,0.11075675457685004,0.11316114883182317,0.11558735544094527,0.11803452343858836,0.12050180005669642,0.12298833427050451,0.1254932803300635,0.1280158012544427,0.13055507226529442,0.133110284136385,0.13568064643581826,0.13826539063791668,0.14086377308216516,0.14347507775718843,0.14609861888848005,0.14873374330950478,0.1513798325968354,0.15403630495120513,0.15670261680769004,0.15937826415973025,0.16206278358331763,0.16475575294940561,0.1674567918144601,0.17016556148102333,0.17288176472219358,0.17560514516607215,0.17833548633839186,0.1810726103638068,0.18381637632858985,0.18656667830979354,0.18932344307825388,0.19208662748510544,0.1948562155437845,0.1976322152217379,0.20041465495824604,0.20320357992691448,0.2059990480634195,0.20880112588105196,0.21160988409843073,0.21442539310546757,0.21724771829523834,0.22007691529081422,0.22291302509736544,0.2257560692109228,0.2286060447160463,0.23146291940536567,0.23432662695440648,0.23719706218541778,0.24007407645394552,0.24295747319174324,0.2458470036392166,0.24874236279997308,0.25164318564922067,0.25454904362668185,0.25745944144340716,0.2603738142303691,0.26329152505501285,0.26621186283001097,0.2691340406363921,0.27205719448089166,0.2749803825049559,0.2779025846601857,0.28082270286228084,0.2837395616326593,0.2866519092339498,0.28955841930247556,0.2924576929777358,0.29534826152566884,0.2982285894493063,0.3010970780771727,0.303952069616616,0.30679185165606127,0.30961466209709654,0.31241869449426873,0.3152021037775608,0.31796301232972174,0.3206995163879937,0.32340969273729625,0.3260916056596577,0.3287433141025839,0.331362879027229,0.3339483708955883,0.3364978772545887,0.33900951037385474,0.3414814148930994,0.3439117754345631,0.34629882413568713,0.3486408480572492,0.3509361964225638,0.35318328764400014,0.3553806160940193,0.3575267585792036,0.35962038047727035,0.3616602414989072,0.3636452010383296,0.36557422307883786,0.36744638062222384,0.36926085961369404,0.3710169623370082,0.37271411025773393,0.3743518462958947,0.37592983651279605,0.3774478712004651,0.3789058653658397,0.3803038586056445,0.3816420143717127,0.38292061863035365,0.3841400779231746,0.3853009168405532,0.3864037749226466,0.38744940300644115,0.38843865904081126,0.38937250339489293,0.39025199368823654,0.39107827917415316,0.3918525947104094,0.392576254353942,0.3932506446184962,0.393877217436072,0.394457482864768,0.3949930015869946,0.3954853772431293,0.39593624864646876,0.3963472819257996,0.3967201626420513,0.3970565879253446,0.39735825867824975,0.39762687189029366,0.39786411310766767,0.39807164910070214,0.39825112077003,0.3984041363304339,0.3985322648092153,0.39863702989353467,0.39871990415854336,0.3987823037053762,0.3988255832350844,0.3988510315815003,0.3988598677228015,0.3988532372882364,0.39883220957307103,0.39879777507140274,0.39875084353303303,0.39869224254714575,0.3986227166521192,0.39854292696745613,0.39845345134050936,0.3983547849975212,0.3982473416853995,0.3981314552877633,0.3980073818959866,0.39787530231340373,0.39773532496841807,0.3975874892100586,0.39743176895754384,0.39726807667364783,0.3970962676301257,0.3969161444321738,0.39672746176783497,0.3965299313474603,0.39632322699777434,0.39610698987476795,0.3958808337595645,0.3956443504015667,0.39539711487356277,0.3951386909040944,0.3948686361531855,0.3945865073985792,0.3942918656008071,0.3939842808168316,0.39366333693353334,0.39332863619403974,0.3929798034916974,0.39261649040848373,0.39223837897669084,0.3918451851448736,0.391436661931287,0.39101260225030127,0.39057284139962983,0.39011725919852924,0.38964578176951664,0.38915838295848065,0.3886550853904243,0.3881359611603665,0.38760113216120456,0.3870507700525338,0.3864850958765781,0.38590437932941035,0.3853089376976526,0.38469913447268,0.3840753776561491,0.38343811777229864,0.38278784560402435,0.3821250896711208,0.3814504134703717,0.38076441249830484,0.3800677110784343,0.37936095901569167,0.3786448281014386,0.37792000849307894,0.37718720499269026,0.376447133249406,0.3757005159104387,0.3749480787456383,0.37419054677036623,0.37342864039120083,0.3726630715986069,0.3718945402301757,0.37112373032740836,0.3703513066082461,0.3695779110766742,0.3688041597897431,0.36803063980125506,0.36725790630017513,0.36648647996054373,0.3657168445183057,0.3649494445890098,0.36418468373883184,0.3634229228197915,0.36266447857837586,0.36190962254512127,0.3611585802109668,0.360411530494436,0.3596686055019213,0.35892989058155644,0.3581954246693631,0.35746520092455464,0.35673916764911023,0.35601722948496617,0.35529924888045283,0.35458504781592154,0.35387440977686907,0.35316708196131347,0.3524627777066565,0.35176117911987176,0.3510619398935145,0.35036468828881745,0.349669030266029,0.3489745527411142,0.34828082694707774,0.3475874118773843,0.34689385778834525,0.34619970973684105,0.34550451112942915,0.3448078072586809,0.34410914880256577,0.3434080952628255,0.34270421831854725,0.3419971050716,0.34128636116117195,0.34057161372541306,0.33985251418907747,0.33912874085712497,0.3384000012954254,0.3376660344810541,0.33692661270612406,0.33618154322070626,0.3354306696020707,0.3346738728393122,0.33391107212430643,0.3331422253419348,0.33236732925456364,0.331586419377865,0.3307995695472036,0.33000689117600485,0.3292085322096735,0.3284046757808219,0.3275955385737163,0.32678136890796644,0.32596244455354995,0.32513907029125194,0.3243115752345256,0.32348030993058324,0.32264564326023426,0.32180795915756194,0.3209676531719707,0.3201251288964138,0.3192807942867485,0.31843505789810267,0.3175883250649293,0.3167409940519864,0.3158934522039032,0.31504607212114955,0.3141992078902625,0.3133531913959414,0.3125083287422294,0.3116648968093948,0.3108231399723075,0.3099832670051166,0.3091454481958549,0.30830981269322627,0.3074764461063197,0.30664538837629196,0.3058166319372487,0.3049901201815721,0.3041657462428884,0.30334335210765523,0.30252272806411223,0.3017036124949727,0.3008856920178574,0.30006860197504864,0.2992519272716814,0.29843520355907516,0.29761791875745747,0.29679951490998085,0.29597939035757737,0.29515690222195656,0.29433136918189184,0.2935020745258585,0.29266826946217944,0.2918291766660025,0.2909839940407955,0.29013189867054334,0.2892720509375042,0.2884035987792439,0.2875256820576976,0.2866374370122582,0.28573800076831757,0.28482651587232477,0.283902134824265,0.28296402457852343,0.2820113709843173,0.28104338313736266,0.2800592976150543,0.27905838256829557,0.27803994164411533,0.2770033177144078,0.27594789638748085,0.27487310928061026,0.27377843703344484,0.27266341204388606,0.2715276209099571,0.27037070656318046,0.26919237008103997,0.26799237216828886,0.2667705342990284,0.2655267395137592,0.2642609328678551,0.2629731215301828,0.261663374532856,0.2603318221753493,0.25897865508839335,0.2576041229652064,0.2562085329697091,0.2547922478333329,0.2533556836539462,0.2518993074122027,0.2504236342222801,0.24892922433552248,0.24741667991690777,0.24588664161550866,0.24433978495123299,0.24277681654108008,0.24119847018893806,0.23960550286356916,0.23799869058990167,0.2363788242790301,0.23474670552246962,0.23310314237614818,0.23144894515944905,0.22978492229425035,0.22811187620839,0.22643059932733917,0.22474187017707117,0.2230464496201661,0.2213450772461482,0.2196384679358805,0.21792730861854465,0.21621225523837032,0.2144939299468146,0.2127729185343337,0.21104976811430431,0.20932498506997677,0.207599033273652,0.20587233258553023,0.20414525763793492,0.20241813690885596,0.2006912520869945,0.1989648377287492,0.19723908120587128,0.19551412294082135,0.19379005692523077,0.19206693151528395,0.19034475049630248,0.18862347440737567,0.18690302211549212,0.18518327262735168,0.18346406712582214,0.18174521121690632,0.1800264773721007,0.1783076075500992,0.1765883159810321,0.17486829209574764,0.17314720358207114,0.17142469954953138,0.16970041378371992,0.16797396807119194,0.16624497557575788,0.1645130442469632,0.16277778024170825,0.1610387913401457,0.15929569033732652,0.15754809839247708,0.15579564831830447,0.15403798779331382,0.1522747824808222,0.15050571903909926,0.14873050800790039,0.1469488865575575,0.14516062108775069,0.14336550966408163,0.14156338428163073,0.13975411294577716,0.13793760156166354,0.13611379562485576,0.13428268170689514,0.13244428873062825,0.1305986890313597,0.1287459992010728,0.12688638071409072,0.12502004033374578,0.12314723030070937,0.12126824830475638,0.11938343724280846,0.11749318476710811,0.1155979226283822,0.11369812581978639,0.11179431152829952,0.10988703790108227,0.1079769026350916,0.10606454139893984,0.10415062609665669,0.10223586298359685,0.10032099064524247,0.09840677785011849,0.09649402128842127,0.09458354320826153,0.09267618896169373,0.09077282447286028,0.08887433364071447,0.08698161568880763,0.08509558247462808,0.08321715577088526,0.08134726453100292,0.07948684215086933,0.07763682373865087,0.07579814340416574,0.07397173157894721,0.07215851237773122,0.07035940101165937,0.06857530126298812,0.06680710303058716,0.06505567995495654,0.06332188713089704,0.06160655891537959,0.0599105068375279,0.0582345176169819,0.056579351296261675],\"yaxis\":\"y\",\"type\":\"scatter\"},{\"legendgroup\":\"Good Credit\",\"marker\":{\"color\":\"rgb(31, 119, 180)\",\"symbol\":\"line-ns-open\"},\"mode\":\"markers\",\"name\":\"Good Credit\",\"showlegend\":false,\"x\":[7.063903961472068,7.647786045440933,8.97233695775495,9.111072370317514,7.949797216161852,8.846209127360996,8.025843344150903,7.356918242356021,7.246368080102461,7.793174347189205,8.996156562033445,8.140315540159985,7.665753431861699,7.881182202227102,7.714677473800927,7.4977617006225685,7.634820677745543,7.2254814727822945,6.054439346269371,6.013715156042802,7.789454566086673,7.556427969440253,8.299037181613066,8.676928249537397,7.142036574706803,7.295735072749282,8.71768205216564,7.110696122978827,6.126869184114185,7.75491027202143,7.05444965813294,8.73294952429643,8.73020559553099,7.239214973779806,7.740229524763182,7.20934025660291,8.885717651712119,7.636752112435779,7.75491027202143,8.693664334532016,7.140453043101158,8.125039097367745,6.663132695990803,9.165970424240243,7.581209826196346,7.237778191923443,7.337587743538596,8.064950891749143,8.554488976159934,7.682943169878292,6.914730892718563,7.780720886117918,9.003685138166775,6.593044534142437,7.059617628291383,8.691818541575723,7.330405211844402,8.470311205516108,9.152287440527566,8.251142139090751,7.10085190894405,7.357556200910353,7.470224135899966,7.747164966520335,7.252762418053187,7.166265974133638,7.718240951959316,6.42648845745769,7.25063551189868,8.193400231952097,7.183870715062453,7.60688453121963,7.871692664323645,7.756623334538858,8.86177531100083,7.292337176173877,7.750614732770409,6.837332814685591,7.5595594960077,7.801800401908973,8.712430973476739,8.951699168308815,7.251344983372214,7.278628942320682,5.971261839790462,8.741935464094144,7.426549072397305,8.182559264068665,7.664815785285735,7.768956044538332,8.260492856573185,7.477604243197589,6.660575149839686,7.659642954564682,6.55250788703459,7.528331766707247,9.046290859969677,7.903965634032166,7.592870287844818,9.224637676677007,7.122866658599083,9.061027968789174,7.911324018963353,7.53955882930103,6.5638555265321274,8.475328987317539,8.13622555490846,7.7354333524996886,8.179199798423086,6.756932389247553,6.525029657843462,8.58876938990546,7.366445148327599,7.204892510204673,7.562161631225652,8.673855001429615,8.956479847999912,8.848939995030118,7.160845906664299,5.82600010738045,8.163940954755008,7.5485559791698735,7.962763930168115,6.961296045910167,7.140453043101158,8.896724917497897,6.812345094177479,7.999007213243955,7.3632795869630385,8.287025025165063,6.637258031284457,7.254177846456518,7.854381210652365,5.823045895483019,7.5822291942764615,6.3473892096560105,8.236685322712457,7.215239978730097,7.069023426578259,8.084562415235304,7.653494909661253,7.231287004327616,7.9229859587111955,6.841615476477592,7.0630481633881725,8.540323608805092,7.3098814858247865,9.270776740780013,7.5678626054638825,7.261225091971921,8.789964651132264,7.253470382684528,8.03073492409854,8.251924713801357,8.114324709155339,6.837332814685591,8.04044688130311,8.272059622210412,8.013343181386672,7.218176838403408,6.437751649736401,7.090076835776092,6.561030665896573,7.999007213243955,8.446126742982377,7.868254265520613,8.054840221101024,7.826842098158293,7.669028288589683,6.763884908562435,7.342131730584722,7.1631723908466425,7.8328075165248645,7.374629015218945,7.077498053569231,8.145259566516865,7.1372784372603855,6.57507584059962,7.093404625868766,7.562681246721884,6.501289670540389,7.719129840906732,8.33110454805304,7.615791072035833,8.911664758049536,7.895063498091573,8.245909264774093,7.050989447068045,7.4127640174265625,7.3796321526095525,8.57583938684897,7.91862865334224,7.115582126184454,8.748939631537715,7.334981878871814,6.906754778648554,7.8868329989550565,7.2456550675945355,9.4066470133368,7.89989532313973,7.784889295655098,7.140453043101158,7.550135342488429,8.122074375362217,7.3613754289773485,7.275864600546533,7.326465613840322,8.263074835802596,9.280052984387483,8.473868066677865,8.93353229607628,6.9957661563048505,6.98100574072173,8.767017621311778,8.475537516147405,8.93971205409023,8.449984441722787,7.160069207596127,7.83002808253384,7.917536353943631,6.51025834052315,6.945051063725834,7.341483852363161,8.478660241699453,5.62040086571715,8.59062950948942,8.614501373883236,8.229244416735913,7.309212365692763,6.56244409369372,8.37816098272068,6.55250788703459,8.200562797008564,7.975908360165538,7.88570539124302,6.93537044601511,8.130942302231878,8.665785595466064,7.329749689041512,8.405814603432848,6.97354301952014,8.797095076549056,7.650168700845001,8.335431477880796,7.327123292259293,8.655737000864297,8.188411308079031,8.074960359115858,8.398184404834035,8.28121766128665,7.285506548522785,6.782192056006791,8.231642179973411,7.463363045520021,7.119635638017636,8.079927770758275,6.588926477533519,7.754052639035757,6.654152520183219,7.122059881629142,8.131236549696116,7.717351272185329,7.476472381163905,7.340835554123275,8.25582842728183,8.202482446576537,8.006700845440367,8.0323601479245,8.711113884053544,7.671360923190644,9.529230371552156,7.749322464660356,6.740519359606223,5.8916442118257715,7.701652362642226,7.1569563646156364,7.1929342212158,8.35983738064003,7.71333788887187,7.026426808699636,8.90571557879409,7.75190533307861,7.278628942320682,7.506591780070841,6.890609120147166,8.0861025356691,7.579167967396076,7.785720896534624,9.372459221452617,7.8547691834991324,7.761319180947987,7.323830566202317,7.29505641646263,7.54274354536855,6.687108607866515,7.972121128921655,7.69484807238461,6.959398512133975,8.081784206935001,7.584264818389059,8.889170455363413,7.3758821482150125,8.672828482947686,9.044403844431551,7.930925372483388,8.066521490469993,7.614805364711073,6.86484777797086,7.372118028337787,7.929846429742503,7.916807490937603,7.046647277848756,7.180069874302796,8.145549631783584,7.534762657037537,7.629489916393995,7.666690200080086,6.492239835020471,7.160069207596127,8.129764445794171,7.5411524551363085,7.3901814282264295,7.874358824729881,7.126087273299125,7.853993087224244,7.261225091971921,9.310547632393208,6.249975242259483,7.922623574217286,7.8898337513942955,7.893198869544609,8.270013062273787,5.8377304471659395,8.432506383249043,8.194229304819817,7.450660796211539,8.012018239159062,6.625392368007956,7.575584651557793,7.980707820869669,8.887100204123687,7.92443418488756,8.450839690866216,7.121252453244542,7.851271997109883,8.54714026778419,6.9440872082295275,7.298445101508147,8.181160858023409,7.0909098220799835,8.19478163844336,6.866933284461882,7.0587581525186645,8.031710375322042,8.231376045573969,7.257002707092073,8.165647925297504,7.56734567601324,7.1204443723924875,5.908082938168931,7.660114319173928,7.368339686311381,7.170888478512505,7.187657164114956,8.61122983334262,7.026426808699636,7.7664168980196555,7.253470382684528,9.058121158998672,8.452334619067742,7.8961806086154915,6.371611847231857,7.720905251936779,6.411818267709897,7.215975002651466,7.0925737159746784,6.551080335043404,8.613775289262481,8.15708378502887,7.014814351275545,8.982937763741589,7.3343293503005365,7.315218389752975,6.495265555937008,7.728855823852543,7.315218389752975,7.1785454837637,8.040768994367578,7.2254814727822945,8.192016914536875,8.022568946988255,7.616775808698373,7.134890851565884,7.611842399580417,7.347299700743164,9.089076284483143,6.903747257584598,7.4673710669175595,7.598399329323964,7.089243155027514,7.994294986415977,6.52649485957079,8.457867725331422,7.347943823148687,7.8547691834991324,8.288785810426928,8.691818541575723,8.600246746551523,6.692083742506628,6.9865664594064265,7.933079771880415,7.982757702011113,7.563719668414366,6.842683282238422,8.046869510959576,7.23561914106675,7.665284718471351,7.937017489515454,7.161622002939187,5.953243334287785,7.583247524303362,7.360103972989152,8.259199362666282,7.753194269884341,7.150701457592526,7.947325027016463,8.417593826193484,7.62608275807238,7.170119543449628,8.118802996980035,8.197538739721184,9.40951904583656,9.122273893107732,8.209580483475577,6.461468176353717,8.20303024171486,7.527255919373784,7.590346945602565,7.65728279297819,8.304494897963567,8.251142139090751,8.205218426395412,7.275172319452771,7.239214973779806,7.226936018493289,9.658417870888224,7.30854279753919,7.176254532017144,7.523481312573497,7.539027055823995,8.430109084509125,8.919453168575453,7.76046702921342,8.287276755814599,9.232297539328226,8.347827345782498,8.757940876678804,7.167809184316444,7.714677473800927,6.956545443151569,6.953684210870537,8.750524669117937,8.159374736775426,8.19118600464279,8.012018239159062,8.328209491748732,8.655562860681009,9.246286498749653,7.640123172695364,8.41847721847708,8.546751993657782,7.776535028185241,7.2813856635702825,7.338238150065589,7.731492029245684,7.298445101508147,8.537583881063972,9.19593714166544,8.783702698635217,7.205635176410364,7.959275960116396,7.920446505142607,8.202756381655638,6.882437470997847,7.875119281040293,7.971085753505607,8.458716261657262,7.7336835707759,7.119635638017636,7.005789019253503,6.8308742346461795,7.495541943884256,7.552237287560802,7.227662498728654,7.8252452914317745,7.8351837552667485,8.579980179515003,7.095064377287131,7.658227526161352,6.444131256700441,7.814399633804487,7.037027614686276,8.935377071932177,8.031710375322042,7.316548177182976,8.054522609537294,8.723882104658486,6.672032945461067,5.521460917862246,7.182352111885263,7.150701457592526,8.764521909518802,6.633318433280377,7.864419904994565,8.125630988477065,8.29154650988391,8.384804003370492,8.818926087090677,7.751475318021456,6.954638864880987,8.058327306580958,7.817222785508166,9.559517275737559,7.493873886783559,7.828436359157585,8.565602330623925,8.015987811027237,6.059123195581797,6.734591659972948,8.660600654710967,7.1693500166706,7.239214973779806,8.52615293278771,7.7025561132685825,7.809135398120538,7.051855622955894,7.972810784121404,8.193400231952097,7.411556287811163,7.941651252930556,8.094073148069352,7.706612913964197,7.299797366758161,8.170468578330674,8.163086375583216,8.650149418664864,8.261526448396468,7.570443252057374,7.251344983372214,8.774622220696997,7.57095858316901,7.891704659330107,7.919719760924575,8.750366278367625,7.107425474110705,7.969703583278656,8.026823576217629,7.741099090035366,7.1372784372603855,6.57507584059962,7.3453648404168685,7.3758821482150125,7.492760300922379,8.35983738064003,6.883462586413092,8.918917979908679,6.380122536899765,6.835184586147301,9.135940049399933,6.810142450115136,6.182084906716632,8.913550280493675,7.198931240688173,7.348587530927593,9.671366322189568,7.00397413672268,8.011686729127847,6.594413459749778,8.237479288613633,7.379008127628304,8.807022955925477,7.772752716468742,8.533853632309345,6.786716950605081,6.398594934535208,7.9919305198524775,7.8674885686991285,8.0040315078527,7.351799869057777,8.137980454452139,8.288031567776464,7.130098510125578,7.218176838403408,8.304494897963567,7.293697720601438,9.294221855956884,7.295735072749282,6.795705775173514,8.114623886420098,8.182279739259018,8.666302614004078,8.417593826193484,7.7057128238944275,7.77863014732581,8.11102783819368,8.910450756416656,6.480044561926653,8.946114375560743,7.202661196523238,7.231287004327616,6.773080375655535,8.185907481482324,7.186901020411631,7.570443252057374,8.187299270155147,8.816111895794005,8.963672275615016,9.135293497653272,7.687538766201629,7.001245622069476,7.946263643580541,8.796943893541737,8.964951211714654,7.80057265467065,7.511524648390866,7.682943169878292,8.66561319653451,7.063903961472068,9.099073559547596,7.8655717576847906,7.3727463664043285,7.689828668736484,8.156223323194624,9.256937657352966,7.234177179749849,7.15305163493748,7.009408932708637,8.232971790593437,8.219056661060598,8.187021067343505,8.069342366811636,8.401557847817314,8.003363058629947,7.669495251007694,7.954372272531867,7.504942068396171,9.453208116138121,7.601901959875166,6.955592608396297,7.532088143541722,7.203405521083095,7.465655310134056,7.1098794630722715,6.257667587882639,7.311886164077165,7.631916513071252,8.830835365537549,8.168202930236053,7.343426229147367,6.834108738813838,7.282761179605593,7.520234556474628,9.03097444300786,7.958227192322312,8.185907481482324,7.545918151209323,7.115582126184454,8.204124932574041,7.050989447068045,8.029107054619736,7.461640392208575,7.763446388727362,8.176391596633795,6.118097198041348,7.44716835960004,8.1797604936999,8.8771028978649,8.278682162970906,7.322510433997394,8.9082888855571,7.9483852851118995,7.1372784372603855,6.6240652277998935,7.794411205726601,7.980365765111246,7.614805364711073,7.267525427828172,8.746557354543503,7.25063551189868,8.791638037085997,7.463363045520021,8.178919332848396,7.358193752733032,7.568379267836522,8.28374674710613,7.779048644925556,7.459338895220296,8.257644958208228,6.6895992691789665,8.428580533059634],\"xaxis\":\"x\",\"y\":[\"Good Credit\",\"Good Credit\",\"Good Credit\",\"Good Credit\",\"Good Credit\",\"Good Credit\",\"Good Credit\",\"Good Credit\",\"Good Credit\",\"Good Credit\",\"Good Credit\",\"Good Credit\",\"Good Credit\",\"Good Credit\",\"Good Credit\",\"Good Credit\",\"Good Credit\",\"Good Credit\",\"Good Credit\",\"Good Credit\",\"Good Credit\",\"Good Credit\",\"Good Credit\",\"Good Credit\",\"Good Credit\",\"Good Credit\",\"Good Credit\",\"Good Credit\",\"Good Credit\",\"Good Credit\",\"Good Credit\",\"Good Credit\",\"Good Credit\",\"Good Credit\",\"Good Credit\",\"Good Credit\",\"Good Credit\",\"Good Credit\",\"Good Credit\",\"Good Credit\",\"Good Credit\",\"Good Credit\",\"Good Credit\",\"Good Credit\",\"Good Credit\",\"Good Credit\",\"Good Credit\",\"Good Credit\",\"Good Credit\",\"Good Credit\",\"Good Credit\",\"Good Credit\",\"Good Credit\",\"Good Credit\",\"Good Credit\",\"Good Credit\",\"Good Credit\",\"Good Credit\",\"Good Credit\",\"Good Credit\",\"Good Credit\",\"Good Credit\",\"Good Credit\",\"Good Credit\",\"Good Credit\",\"Good Credit\",\"Good Credit\",\"Good Credit\",\"Good Credit\",\"Good Credit\",\"Good Credit\",\"Good Credit\",\"Good Credit\",\"Good Credit\",\"Good Credit\",\"Good Credit\",\"Good Credit\",\"Good Credit\",\"Good Credit\",\"Good Credit\",\"Good Credit\",\"Good Credit\",\"Good Credit\",\"Good Credit\",\"Good Credit\",\"Good Credit\",\"Good Credit\",\"Good Credit\",\"Good Credit\",\"Good Credit\",\"Good Credit\",\"Good Credit\",\"Good Credit\",\"Good Credit\",\"Good Credit\",\"Good Credit\",\"Good Credit\",\"Good Credit\",\"Good Credit\",\"Good Credit\",\"Good Credit\",\"Good Credit\",\"Good Credit\",\"Good Credit\",\"Good Credit\",\"Good Credit\",\"Good Credit\",\"Good Credit\",\"Good Credit\",\"Good Credit\",\"Good Credit\",\"Good Credit\",\"Good Credit\",\"Good Credit\",\"Good Credit\",\"Good Credit\",\"Good Credit\",\"Good Credit\",\"Good Credit\",\"Good Credit\",\"Good Credit\",\"Good Credit\",\"Good Credit\",\"Good Credit\",\"Good Credit\",\"Good Credit\",\"Good Credit\",\"Good Credit\",\"Good Credit\",\"Good Credit\",\"Good Credit\",\"Good Credit\",\"Good Credit\",\"Good Credit\",\"Good Credit\",\"Good Credit\",\"Good Credit\",\"Good Credit\",\"Good Credit\",\"Good Credit\",\"Good Credit\",\"Good Credit\",\"Good Credit\",\"Good Credit\",\"Good Credit\",\"Good Credit\",\"Good Credit\",\"Good Credit\",\"Good Credit\",\"Good Credit\",\"Good Credit\",\"Good Credit\",\"Good Credit\",\"Good Credit\",\"Good Credit\",\"Good Credit\",\"Good Credit\",\"Good Credit\",\"Good Credit\",\"Good Credit\",\"Good Credit\",\"Good Credit\",\"Good Credit\",\"Good Credit\",\"Good Credit\",\"Good Credit\",\"Good Credit\",\"Good Credit\",\"Good Credit\",\"Good Credit\",\"Good Credit\",\"Good Credit\",\"Good Credit\",\"Good Credit\",\"Good Credit\",\"Good Credit\",\"Good Credit\",\"Good Credit\",\"Good Credit\",\"Good Credit\",\"Good Credit\",\"Good Credit\",\"Good Credit\",\"Good Credit\",\"Good Credit\",\"Good Credit\",\"Good Credit\",\"Good Credit\",\"Good Credit\",\"Good Credit\",\"Good Credit\",\"Good Credit\",\"Good Credit\",\"Good Credit\",\"Good Credit\",\"Good Credit\",\"Good Credit\",\"Good Credit\",\"Good Credit\",\"Good Credit\",\"Good Credit\",\"Good Credit\",\"Good Credit\",\"Good Credit\",\"Good Credit\",\"Good Credit\",\"Good Credit\",\"Good Credit\",\"Good Credit\",\"Good Credit\",\"Good Credit\",\"Good Credit\",\"Good Credit\",\"Good Credit\",\"Good Credit\",\"Good Credit\",\"Good Credit\",\"Good Credit\",\"Good Credit\",\"Good Credit\",\"Good Credit\",\"Good Credit\",\"Good Credit\",\"Good Credit\",\"Good Credit\",\"Good Credit\",\"Good Credit\",\"Good Credit\",\"Good Credit\",\"Good Credit\",\"Good Credit\",\"Good Credit\",\"Good Credit\",\"Good Credit\",\"Good Credit\",\"Good Credit\",\"Good Credit\",\"Good Credit\",\"Good Credit\",\"Good Credit\",\"Good Credit\",\"Good Credit\",\"Good Credit\",\"Good Credit\",\"Good Credit\",\"Good Credit\",\"Good Credit\",\"Good Credit\",\"Good Credit\",\"Good Credit\",\"Good Credit\",\"Good Credit\",\"Good Credit\",\"Good Credit\",\"Good Credit\",\"Good Credit\",\"Good Credit\",\"Good Credit\",\"Good Credit\",\"Good Credit\",\"Good Credit\",\"Good Credit\",\"Good Credit\",\"Good Credit\",\"Good Credit\",\"Good Credit\",\"Good Credit\",\"Good Credit\",\"Good Credit\",\"Good Credit\",\"Good Credit\",\"Good Credit\",\"Good Credit\",\"Good Credit\",\"Good Credit\",\"Good Credit\",\"Good Credit\",\"Good Credit\",\"Good Credit\",\"Good Credit\",\"Good Credit\",\"Good Credit\",\"Good Credit\",\"Good Credit\",\"Good Credit\",\"Good Credit\",\"Good Credit\",\"Good Credit\",\"Good Credit\",\"Good Credit\",\"Good Credit\",\"Good Credit\",\"Good Credit\",\"Good Credit\",\"Good Credit\",\"Good Credit\",\"Good Credit\",\"Good Credit\",\"Good Credit\",\"Good Credit\",\"Good Credit\",\"Good Credit\",\"Good Credit\",\"Good Credit\",\"Good Credit\",\"Good Credit\",\"Good Credit\",\"Good Credit\",\"Good Credit\",\"Good Credit\",\"Good Credit\",\"Good Credit\",\"Good Credit\",\"Good Credit\",\"Good Credit\",\"Good Credit\",\"Good Credit\",\"Good Credit\",\"Good Credit\",\"Good Credit\",\"Good Credit\",\"Good Credit\",\"Good Credit\",\"Good Credit\",\"Good Credit\",\"Good Credit\",\"Good Credit\",\"Good Credit\",\"Good Credit\",\"Good Credit\",\"Good Credit\",\"Good Credit\",\"Good Credit\",\"Good Credit\",\"Good Credit\",\"Good Credit\",\"Good Credit\",\"Good Credit\",\"Good Credit\",\"Good Credit\",\"Good Credit\",\"Good Credit\",\"Good Credit\",\"Good Credit\",\"Good Credit\",\"Good Credit\",\"Good Credit\",\"Good Credit\",\"Good Credit\",\"Good Credit\",\"Good Credit\",\"Good Credit\",\"Good Credit\",\"Good Credit\",\"Good Credit\",\"Good Credit\",\"Good Credit\",\"Good Credit\",\"Good Credit\",\"Good Credit\",\"Good Credit\",\"Good Credit\",\"Good Credit\",\"Good Credit\",\"Good Credit\",\"Good Credit\",\"Good Credit\",\"Good Credit\",\"Good Credit\",\"Good Credit\",\"Good Credit\",\"Good Credit\",\"Good Credit\",\"Good Credit\",\"Good Credit\",\"Good Credit\",\"Good Credit\",\"Good Credit\",\"Good Credit\",\"Good Credit\",\"Good Credit\",\"Good Credit\",\"Good Credit\",\"Good Credit\",\"Good Credit\",\"Good Credit\",\"Good Credit\",\"Good Credit\",\"Good Credit\",\"Good Credit\",\"Good Credit\",\"Good Credit\",\"Good Credit\",\"Good Credit\",\"Good Credit\",\"Good Credit\",\"Good Credit\",\"Good Credit\",\"Good Credit\",\"Good Credit\",\"Good Credit\",\"Good Credit\",\"Good Credit\",\"Good Credit\",\"Good Credit\",\"Good Credit\",\"Good Credit\",\"Good Credit\",\"Good Credit\",\"Good Credit\",\"Good Credit\",\"Good Credit\",\"Good Credit\",\"Good Credit\",\"Good Credit\",\"Good Credit\",\"Good Credit\",\"Good Credit\",\"Good Credit\",\"Good Credit\",\"Good Credit\",\"Good Credit\",\"Good Credit\",\"Good Credit\",\"Good Credit\",\"Good Credit\",\"Good Credit\",\"Good Credit\",\"Good Credit\",\"Good Credit\",\"Good Credit\",\"Good Credit\",\"Good Credit\",\"Good Credit\",\"Good Credit\",\"Good Credit\",\"Good Credit\",\"Good Credit\",\"Good Credit\",\"Good Credit\",\"Good Credit\",\"Good Credit\",\"Good Credit\",\"Good Credit\",\"Good Credit\",\"Good Credit\",\"Good Credit\",\"Good Credit\",\"Good Credit\",\"Good Credit\",\"Good Credit\",\"Good Credit\",\"Good Credit\",\"Good Credit\",\"Good Credit\",\"Good Credit\",\"Good Credit\",\"Good Credit\",\"Good Credit\",\"Good Credit\",\"Good Credit\",\"Good Credit\",\"Good Credit\",\"Good Credit\",\"Good Credit\",\"Good Credit\",\"Good Credit\",\"Good Credit\",\"Good Credit\",\"Good Credit\",\"Good Credit\",\"Good Credit\",\"Good Credit\",\"Good Credit\",\"Good Credit\",\"Good Credit\",\"Good Credit\",\"Good Credit\",\"Good Credit\",\"Good Credit\",\"Good Credit\",\"Good Credit\",\"Good Credit\",\"Good Credit\",\"Good Credit\",\"Good Credit\",\"Good Credit\",\"Good Credit\",\"Good Credit\",\"Good Credit\",\"Good Credit\",\"Good Credit\",\"Good Credit\",\"Good Credit\",\"Good Credit\",\"Good Credit\",\"Good Credit\",\"Good Credit\",\"Good Credit\",\"Good Credit\",\"Good Credit\",\"Good Credit\",\"Good Credit\",\"Good Credit\",\"Good Credit\",\"Good Credit\",\"Good Credit\",\"Good Credit\",\"Good Credit\",\"Good Credit\",\"Good Credit\",\"Good Credit\",\"Good Credit\",\"Good Credit\",\"Good Credit\",\"Good Credit\",\"Good Credit\",\"Good Credit\",\"Good Credit\",\"Good Credit\",\"Good Credit\",\"Good Credit\",\"Good Credit\",\"Good Credit\",\"Good Credit\",\"Good Credit\",\"Good Credit\",\"Good Credit\",\"Good Credit\",\"Good Credit\",\"Good Credit\",\"Good Credit\",\"Good Credit\",\"Good Credit\",\"Good Credit\",\"Good Credit\",\"Good Credit\",\"Good Credit\",\"Good Credit\",\"Good Credit\",\"Good Credit\",\"Good Credit\",\"Good Credit\",\"Good Credit\",\"Good Credit\",\"Good Credit\",\"Good Credit\",\"Good Credit\",\"Good Credit\",\"Good Credit\",\"Good Credit\",\"Good Credit\",\"Good Credit\",\"Good Credit\",\"Good Credit\",\"Good Credit\",\"Good Credit\",\"Good Credit\",\"Good Credit\",\"Good Credit\",\"Good Credit\",\"Good Credit\",\"Good Credit\",\"Good Credit\",\"Good Credit\",\"Good Credit\",\"Good Credit\",\"Good Credit\",\"Good Credit\",\"Good Credit\",\"Good Credit\",\"Good Credit\",\"Good Credit\",\"Good Credit\",\"Good Credit\",\"Good Credit\",\"Good Credit\",\"Good Credit\",\"Good Credit\",\"Good Credit\",\"Good Credit\",\"Good Credit\",\"Good Credit\",\"Good Credit\",\"Good Credit\",\"Good Credit\",\"Good Credit\",\"Good Credit\",\"Good Credit\",\"Good Credit\",\"Good Credit\",\"Good Credit\",\"Good Credit\",\"Good Credit\",\"Good Credit\",\"Good Credit\",\"Good Credit\",\"Good Credit\",\"Good Credit\",\"Good Credit\",\"Good Credit\",\"Good Credit\",\"Good Credit\",\"Good Credit\",\"Good Credit\",\"Good Credit\",\"Good Credit\",\"Good Credit\",\"Good Credit\",\"Good Credit\",\"Good Credit\",\"Good Credit\",\"Good Credit\",\"Good Credit\",\"Good Credit\",\"Good Credit\",\"Good Credit\",\"Good Credit\",\"Good Credit\",\"Good Credit\",\"Good Credit\",\"Good Credit\",\"Good Credit\",\"Good Credit\",\"Good Credit\",\"Good Credit\",\"Good Credit\",\"Good Credit\",\"Good Credit\",\"Good Credit\",\"Good Credit\",\"Good Credit\",\"Good Credit\",\"Good Credit\",\"Good Credit\",\"Good Credit\",\"Good Credit\",\"Good Credit\",\"Good Credit\",\"Good Credit\",\"Good Credit\",\"Good Credit\",\"Good Credit\",\"Good Credit\",\"Good Credit\",\"Good Credit\",\"Good Credit\",\"Good Credit\",\"Good Credit\",\"Good Credit\",\"Good Credit\",\"Good Credit\",\"Good Credit\",\"Good Credit\",\"Good Credit\",\"Good Credit\",\"Good Credit\",\"Good Credit\",\"Good Credit\",\"Good Credit\",\"Good Credit\",\"Good Credit\",\"Good Credit\",\"Good Credit\",\"Good Credit\",\"Good Credit\",\"Good Credit\",\"Good Credit\",\"Good Credit\",\"Good Credit\",\"Good Credit\",\"Good Credit\",\"Good Credit\",\"Good Credit\",\"Good Credit\",\"Good Credit\",\"Good Credit\",\"Good Credit\",\"Good Credit\",\"Good Credit\",\"Good Credit\",\"Good Credit\",\"Good Credit\",\"Good Credit\",\"Good Credit\",\"Good Credit\",\"Good Credit\",\"Good Credit\",\"Good Credit\",\"Good Credit\",\"Good Credit\",\"Good Credit\",\"Good Credit\",\"Good Credit\",\"Good Credit\",\"Good Credit\",\"Good Credit\",\"Good Credit\",\"Good Credit\",\"Good Credit\"],\"yaxis\":\"y2\",\"type\":\"scatter\"},{\"legendgroup\":\"Bad Credit\",\"marker\":{\"color\":\"rgb(255, 127, 14)\",\"symbol\":\"line-ns-open\"},\"mode\":\"markers\",\"name\":\"Bad Credit\",\"showlegend\":false,\"x\":[8.691314551644853,8.490849216076635,8.562931083090092,7.166265974133638,8.36822903827628,7.089243155027514,7.156176637480615,9.439784035838873,8.829958044235482,8.465057436995709,7.649692623711514,8.723068501163928,7.707512194600341,8.774622220696997,8.736971085254146,7.577121930876679,9.57644075656207,7.506042178518122,7.589335823170617,8.285261134068948,8.68996933536666,9.442404020664952,7.010311867307229,6.680854678790215,9.676900579444158,9.387481868728596,8.77307495131822,8.96890555068972,8.878218658092228,8.361941906144946,7.51479976048867,7.562161631225652,6.459904454377535,8.160232492367689,8.837390855544697,6.641182169740591,7.808729306744399,7.156176637480615,7.030857476116121,7.5678626054638825,6.856461984594587,7.6324011266014535,8.135639903354386,8.920656296853728,9.166597449028265,8.40178233990491,7.4067107301776405,6.784457062637643,8.542665987389269,6.513230110912307,8.431853144249223,8.254268770090183,8.272570608424903,8.016647877057803,7.313886831633462,6.85751406254539,8.365672383774996,6.804614520062624,8.574140471857987,7.553810852008231,9.302098797215724,8.970177815492379,7.298445101508147,8.345217926676428,7.508238774678663,9.585689856179723,7.925518979786926,6.818924065275521,8.434897948689407,6.07073772800249,7.673223121121708,7.67275789664251,6.687108607866515,9.102532419341877,8.026170194946426,9.392495248213038,8.436200032206706,6.931471805599453,9.14825217966276,9.206332350578643,8.24380842366528,7.203405521083095,9.222960403332285,6.588926477533519,7.1204443723924875,6.529418838262226,7.917900586327916,8.354438940114811,7.569411792450712,7.530479995245536,8.910315776326016,9.357897936333798,8.32117830749028,8.126813720726114,7.150701457592526,7.035268599281097,6.8658910748834385,8.73214326770192,7.1276936993473985,8.40357646462927,7.785720896534624,7.813187267521416,8.144969417087875,9.601165503344832,8.947025655972697,9.56927276595613,9.470856776355195,7.109062135687172,9.065083359319043,7.620214770574455,6.844815479208263,7.73718007783463,7.2305631534092925,7.8551570058813445,6.948897222313312,7.923710333969238,7.081708586105575,9.3350328159335,7.302496423727326,6.411818267709897,6.577861357721047,8.536211197252,7.518607216815252,7.321188556739478,8.479906606630221,8.12740456269308,7.413970290190444,8.036573409707312,6.104793232414985,6.483107351457199,7.126890808898808,8.043663352393944,7.097548850614793,9.026177120302856,8.005033344637111,9.108750516214549,8.046549357283078,7.103322062526113,7.095893221097532,7.1770187659099,8.83200393125627,6.63200177739563,8.871645667501872,8.06777619577889,8.870522545103873,7.741533589281828,7.875119281040293,7.7488913372555315,8.95712413640568,7.335633981927201,8.756210091886738,7.9599745280805365,7.195187320178709,6.439350371100098,8.85352256068954,7.193685818395112,7.731053144007127,8.517793011488205,8.17526610411206,7.564238475170491,7.343426229147367,9.424564261115739,7.22402480828583,8.818482267274236,8.081475040137052,7.944492163932159,6.962243464266207,7.776535028185241,7.620214770574455,7.104144092987527,7.716906135298388,7.907651594711089,7.213768308118642,6.836259277277067,7.273786317844895,8.352554369474591,7.928406026180535,6.822197390620491,7.515889085215125,8.116417072794205,7.890208213109961,6.608000625296087,7.122866658599083,7.4999765409521215,8.14351740579748,7.333023014386481,8.272315147956022,7.8632667240095735,7.270312886079025,7.347943823148687,7.590852123688581,7.2115567333138015,8.382518288089635,6.620073206530356,8.438799123988225,8.984693690443855,7.234177179749849,6.853299093186078,6.52795791762255,7.561121589530238,7.741967899820685,8.997889450200717,6.78897174299217,6.802394763324311,8.48528964240323,7.855544677915663,8.629628620746026,7.023758954738443,8.753213480544126,8.788745881938135,7.99598047476376,7.088408778675395,9.54873932271967,7.198183577101943,6.07073772800249,7.113142108707088,7.851661177889265,7.540090320145325,8.766550149546351,7.594381242551817,9.355306142226368,8.361708288575842,7.149916836132109,6.883462586413092,7.349230824613334,7.158513997329321,7.147559271189454,6.53813982376767,7.66105638236183,9.447781227991216,8.041734711487537,8.99528899055931,7.223295679562314,8.503702601233739,6.728628613084702,8.736168065858228,8.699181359308954,7.080026499922591,8.924123891686012,9.134646527606982,7.48324441607385,9.172534657240284,8.02322468471667,8.27664912542186,7.20414929203594,7.905441649060286,8.285513309079741,8.334471554600944,9.028218795184895,7.103322062526113,9.377209824211215,7.752335163302292,6.9865664594064265,8.552367266423891,7.57198844937744,8.818926087090677,6.5638555265321274,7.711996507047669,7.273786317844895,8.28374674710613,7.682021510826875,7.79934339821592,7.700747794511798,7.259819610363186,8.308199063206446,6.678342114654332,9.659630959624376,8.331586243630754,7.872836175025724,8.462948176563842,8.058643712215618,9.82140944150052,9.608847999516849,7.765993079407675,8.11522197256233,7.2196420401307355,8.835210463664092,6.546785410760524,9.239607869656751,7.4205789054108005,7.5595594960077,6.61338421837956,8.746398334109042,8.116417072794205,7.334981878871814,8.19450550976564,7.6708948313621175,8.321907968230423,9.30328411761892,8.295548516225763,7.781973234434385,7.832014180505469,7.084226422097916,8.89521858376562,7.839131648274333,7.142036574706803,9.034318927730707,8.485496104672983,9.015419779605713,7.520234556474628],\"xaxis\":\"x\",\"y\":[\"Bad Credit\",\"Bad Credit\",\"Bad Credit\",\"Bad Credit\",\"Bad Credit\",\"Bad Credit\",\"Bad Credit\",\"Bad Credit\",\"Bad Credit\",\"Bad Credit\",\"Bad Credit\",\"Bad Credit\",\"Bad Credit\",\"Bad Credit\",\"Bad Credit\",\"Bad Credit\",\"Bad Credit\",\"Bad Credit\",\"Bad Credit\",\"Bad Credit\",\"Bad Credit\",\"Bad Credit\",\"Bad Credit\",\"Bad Credit\",\"Bad Credit\",\"Bad Credit\",\"Bad Credit\",\"Bad Credit\",\"Bad Credit\",\"Bad Credit\",\"Bad Credit\",\"Bad Credit\",\"Bad Credit\",\"Bad Credit\",\"Bad Credit\",\"Bad Credit\",\"Bad Credit\",\"Bad Credit\",\"Bad Credit\",\"Bad Credit\",\"Bad Credit\",\"Bad Credit\",\"Bad Credit\",\"Bad Credit\",\"Bad Credit\",\"Bad Credit\",\"Bad Credit\",\"Bad Credit\",\"Bad Credit\",\"Bad Credit\",\"Bad Credit\",\"Bad Credit\",\"Bad Credit\",\"Bad Credit\",\"Bad Credit\",\"Bad Credit\",\"Bad Credit\",\"Bad Credit\",\"Bad Credit\",\"Bad Credit\",\"Bad Credit\",\"Bad Credit\",\"Bad Credit\",\"Bad Credit\",\"Bad Credit\",\"Bad Credit\",\"Bad Credit\",\"Bad Credit\",\"Bad Credit\",\"Bad Credit\",\"Bad Credit\",\"Bad Credit\",\"Bad Credit\",\"Bad Credit\",\"Bad Credit\",\"Bad Credit\",\"Bad Credit\",\"Bad Credit\",\"Bad Credit\",\"Bad Credit\",\"Bad Credit\",\"Bad Credit\",\"Bad Credit\",\"Bad Credit\",\"Bad Credit\",\"Bad Credit\",\"Bad Credit\",\"Bad Credit\",\"Bad Credit\",\"Bad Credit\",\"Bad Credit\",\"Bad Credit\",\"Bad Credit\",\"Bad Credit\",\"Bad Credit\",\"Bad Credit\",\"Bad Credit\",\"Bad Credit\",\"Bad Credit\",\"Bad Credit\",\"Bad Credit\",\"Bad Credit\",\"Bad Credit\",\"Bad Credit\",\"Bad Credit\",\"Bad Credit\",\"Bad Credit\",\"Bad Credit\",\"Bad Credit\",\"Bad Credit\",\"Bad Credit\",\"Bad Credit\",\"Bad Credit\",\"Bad Credit\",\"Bad Credit\",\"Bad Credit\",\"Bad Credit\",\"Bad Credit\",\"Bad Credit\",\"Bad Credit\",\"Bad Credit\",\"Bad Credit\",\"Bad Credit\",\"Bad Credit\",\"Bad Credit\",\"Bad Credit\",\"Bad Credit\",\"Bad Credit\",\"Bad Credit\",\"Bad Credit\",\"Bad Credit\",\"Bad Credit\",\"Bad Credit\",\"Bad Credit\",\"Bad Credit\",\"Bad Credit\",\"Bad Credit\",\"Bad Credit\",\"Bad Credit\",\"Bad Credit\",\"Bad Credit\",\"Bad Credit\",\"Bad Credit\",\"Bad Credit\",\"Bad Credit\",\"Bad Credit\",\"Bad Credit\",\"Bad Credit\",\"Bad Credit\",\"Bad Credit\",\"Bad Credit\",\"Bad Credit\",\"Bad Credit\",\"Bad Credit\",\"Bad Credit\",\"Bad Credit\",\"Bad Credit\",\"Bad Credit\",\"Bad Credit\",\"Bad Credit\",\"Bad Credit\",\"Bad Credit\",\"Bad Credit\",\"Bad Credit\",\"Bad Credit\",\"Bad Credit\",\"Bad Credit\",\"Bad Credit\",\"Bad Credit\",\"Bad Credit\",\"Bad Credit\",\"Bad Credit\",\"Bad Credit\",\"Bad Credit\",\"Bad Credit\",\"Bad Credit\",\"Bad Credit\",\"Bad Credit\",\"Bad Credit\",\"Bad Credit\",\"Bad Credit\",\"Bad Credit\",\"Bad Credit\",\"Bad Credit\",\"Bad Credit\",\"Bad Credit\",\"Bad Credit\",\"Bad Credit\",\"Bad Credit\",\"Bad Credit\",\"Bad Credit\",\"Bad Credit\",\"Bad Credit\",\"Bad Credit\",\"Bad Credit\",\"Bad Credit\",\"Bad Credit\",\"Bad Credit\",\"Bad Credit\",\"Bad Credit\",\"Bad Credit\",\"Bad Credit\",\"Bad Credit\",\"Bad Credit\",\"Bad Credit\",\"Bad Credit\",\"Bad Credit\",\"Bad Credit\",\"Bad Credit\",\"Bad Credit\",\"Bad Credit\",\"Bad Credit\",\"Bad Credit\",\"Bad Credit\",\"Bad Credit\",\"Bad Credit\",\"Bad Credit\",\"Bad Credit\",\"Bad Credit\",\"Bad Credit\",\"Bad Credit\",\"Bad Credit\",\"Bad Credit\",\"Bad Credit\",\"Bad Credit\",\"Bad Credit\",\"Bad Credit\",\"Bad Credit\",\"Bad Credit\",\"Bad Credit\",\"Bad Credit\",\"Bad Credit\",\"Bad Credit\",\"Bad Credit\",\"Bad Credit\",\"Bad Credit\",\"Bad Credit\",\"Bad Credit\",\"Bad Credit\",\"Bad Credit\",\"Bad Credit\",\"Bad Credit\",\"Bad Credit\",\"Bad Credit\",\"Bad Credit\",\"Bad Credit\",\"Bad Credit\",\"Bad Credit\",\"Bad Credit\",\"Bad Credit\",\"Bad Credit\",\"Bad Credit\",\"Bad Credit\",\"Bad Credit\",\"Bad Credit\",\"Bad Credit\",\"Bad Credit\",\"Bad Credit\",\"Bad Credit\",\"Bad Credit\",\"Bad Credit\",\"Bad Credit\",\"Bad Credit\",\"Bad Credit\",\"Bad Credit\",\"Bad Credit\",\"Bad Credit\",\"Bad Credit\",\"Bad Credit\",\"Bad Credit\",\"Bad Credit\",\"Bad Credit\",\"Bad Credit\",\"Bad Credit\",\"Bad Credit\",\"Bad Credit\",\"Bad Credit\",\"Bad Credit\",\"Bad Credit\",\"Bad Credit\",\"Bad Credit\",\"Bad Credit\",\"Bad Credit\",\"Bad Credit\",\"Bad Credit\",\"Bad Credit\",\"Bad Credit\",\"Bad Credit\",\"Bad Credit\",\"Bad Credit\",\"Bad Credit\",\"Bad Credit\",\"Bad Credit\",\"Bad Credit\",\"Bad Credit\",\"Bad Credit\",\"Bad Credit\",\"Bad Credit\",\"Bad Credit\",\"Bad Credit\"],\"yaxis\":\"y2\",\"type\":\"scatter\"}],                        {\"barmode\":\"overlay\",\"hovermode\":\"closest\",\"legend\":{\"traceorder\":\"reversed\"},\"template\":{\"data\":{\"barpolar\":[{\"marker\":{\"line\":{\"color\":\"#E5ECF6\",\"width\":0.5},\"pattern\":{\"fillmode\":\"overlay\",\"size\":10,\"solidity\":0.2}},\"type\":\"barpolar\"}],\"bar\":[{\"error_x\":{\"color\":\"#2a3f5f\"},\"error_y\":{\"color\":\"#2a3f5f\"},\"marker\":{\"line\":{\"color\":\"#E5ECF6\",\"width\":0.5},\"pattern\":{\"fillmode\":\"overlay\",\"size\":10,\"solidity\":0.2}},\"type\":\"bar\"}],\"carpet\":[{\"aaxis\":{\"endlinecolor\":\"#2a3f5f\",\"gridcolor\":\"white\",\"linecolor\":\"white\",\"minorgridcolor\":\"white\",\"startlinecolor\":\"#2a3f5f\"},\"baxis\":{\"endlinecolor\":\"#2a3f5f\",\"gridcolor\":\"white\",\"linecolor\":\"white\",\"minorgridcolor\":\"white\",\"startlinecolor\":\"#2a3f5f\"},\"type\":\"carpet\"}],\"choropleth\":[{\"colorbar\":{\"outlinewidth\":0,\"ticks\":\"\"},\"type\":\"choropleth\"}],\"contourcarpet\":[{\"colorbar\":{\"outlinewidth\":0,\"ticks\":\"\"},\"type\":\"contourcarpet\"}],\"contour\":[{\"colorbar\":{\"outlinewidth\":0,\"ticks\":\"\"},\"colorscale\":[[0.0,\"#0d0887\"],[0.1111111111111111,\"#46039f\"],[0.2222222222222222,\"#7201a8\"],[0.3333333333333333,\"#9c179e\"],[0.4444444444444444,\"#bd3786\"],[0.5555555555555556,\"#d8576b\"],[0.6666666666666666,\"#ed7953\"],[0.7777777777777778,\"#fb9f3a\"],[0.8888888888888888,\"#fdca26\"],[1.0,\"#f0f921\"]],\"type\":\"contour\"}],\"heatmapgl\":[{\"colorbar\":{\"outlinewidth\":0,\"ticks\":\"\"},\"colorscale\":[[0.0,\"#0d0887\"],[0.1111111111111111,\"#46039f\"],[0.2222222222222222,\"#7201a8\"],[0.3333333333333333,\"#9c179e\"],[0.4444444444444444,\"#bd3786\"],[0.5555555555555556,\"#d8576b\"],[0.6666666666666666,\"#ed7953\"],[0.7777777777777778,\"#fb9f3a\"],[0.8888888888888888,\"#fdca26\"],[1.0,\"#f0f921\"]],\"type\":\"heatmapgl\"}],\"heatmap\":[{\"colorbar\":{\"outlinewidth\":0,\"ticks\":\"\"},\"colorscale\":[[0.0,\"#0d0887\"],[0.1111111111111111,\"#46039f\"],[0.2222222222222222,\"#7201a8\"],[0.3333333333333333,\"#9c179e\"],[0.4444444444444444,\"#bd3786\"],[0.5555555555555556,\"#d8576b\"],[0.6666666666666666,\"#ed7953\"],[0.7777777777777778,\"#fb9f3a\"],[0.8888888888888888,\"#fdca26\"],[1.0,\"#f0f921\"]],\"type\":\"heatmap\"}],\"histogram2dcontour\":[{\"colorbar\":{\"outlinewidth\":0,\"ticks\":\"\"},\"colorscale\":[[0.0,\"#0d0887\"],[0.1111111111111111,\"#46039f\"],[0.2222222222222222,\"#7201a8\"],[0.3333333333333333,\"#9c179e\"],[0.4444444444444444,\"#bd3786\"],[0.5555555555555556,\"#d8576b\"],[0.6666666666666666,\"#ed7953\"],[0.7777777777777778,\"#fb9f3a\"],[0.8888888888888888,\"#fdca26\"],[1.0,\"#f0f921\"]],\"type\":\"histogram2dcontour\"}],\"histogram2d\":[{\"colorbar\":{\"outlinewidth\":0,\"ticks\":\"\"},\"colorscale\":[[0.0,\"#0d0887\"],[0.1111111111111111,\"#46039f\"],[0.2222222222222222,\"#7201a8\"],[0.3333333333333333,\"#9c179e\"],[0.4444444444444444,\"#bd3786\"],[0.5555555555555556,\"#d8576b\"],[0.6666666666666666,\"#ed7953\"],[0.7777777777777778,\"#fb9f3a\"],[0.8888888888888888,\"#fdca26\"],[1.0,\"#f0f921\"]],\"type\":\"histogram2d\"}],\"histogram\":[{\"marker\":{\"pattern\":{\"fillmode\":\"overlay\",\"size\":10,\"solidity\":0.2}},\"type\":\"histogram\"}],\"mesh3d\":[{\"colorbar\":{\"outlinewidth\":0,\"ticks\":\"\"},\"type\":\"mesh3d\"}],\"parcoords\":[{\"line\":{\"colorbar\":{\"outlinewidth\":0,\"ticks\":\"\"}},\"type\":\"parcoords\"}],\"pie\":[{\"automargin\":true,\"type\":\"pie\"}],\"scatter3d\":[{\"line\":{\"colorbar\":{\"outlinewidth\":0,\"ticks\":\"\"}},\"marker\":{\"colorbar\":{\"outlinewidth\":0,\"ticks\":\"\"}},\"type\":\"scatter3d\"}],\"scattercarpet\":[{\"marker\":{\"colorbar\":{\"outlinewidth\":0,\"ticks\":\"\"}},\"type\":\"scattercarpet\"}],\"scattergeo\":[{\"marker\":{\"colorbar\":{\"outlinewidth\":0,\"ticks\":\"\"}},\"type\":\"scattergeo\"}],\"scattergl\":[{\"marker\":{\"colorbar\":{\"outlinewidth\":0,\"ticks\":\"\"}},\"type\":\"scattergl\"}],\"scattermapbox\":[{\"marker\":{\"colorbar\":{\"outlinewidth\":0,\"ticks\":\"\"}},\"type\":\"scattermapbox\"}],\"scatterpolargl\":[{\"marker\":{\"colorbar\":{\"outlinewidth\":0,\"ticks\":\"\"}},\"type\":\"scatterpolargl\"}],\"scatterpolar\":[{\"marker\":{\"colorbar\":{\"outlinewidth\":0,\"ticks\":\"\"}},\"type\":\"scatterpolar\"}],\"scatter\":[{\"fillpattern\":{\"fillmode\":\"overlay\",\"size\":10,\"solidity\":0.2},\"type\":\"scatter\"}],\"scatterternary\":[{\"marker\":{\"colorbar\":{\"outlinewidth\":0,\"ticks\":\"\"}},\"type\":\"scatterternary\"}],\"surface\":[{\"colorbar\":{\"outlinewidth\":0,\"ticks\":\"\"},\"colorscale\":[[0.0,\"#0d0887\"],[0.1111111111111111,\"#46039f\"],[0.2222222222222222,\"#7201a8\"],[0.3333333333333333,\"#9c179e\"],[0.4444444444444444,\"#bd3786\"],[0.5555555555555556,\"#d8576b\"],[0.6666666666666666,\"#ed7953\"],[0.7777777777777778,\"#fb9f3a\"],[0.8888888888888888,\"#fdca26\"],[1.0,\"#f0f921\"]],\"type\":\"surface\"}],\"table\":[{\"cells\":{\"fill\":{\"color\":\"#EBF0F8\"},\"line\":{\"color\":\"white\"}},\"header\":{\"fill\":{\"color\":\"#C8D4E3\"},\"line\":{\"color\":\"white\"}},\"type\":\"table\"}]},\"layout\":{\"annotationdefaults\":{\"arrowcolor\":\"#2a3f5f\",\"arrowhead\":0,\"arrowwidth\":1},\"autotypenumbers\":\"strict\",\"coloraxis\":{\"colorbar\":{\"outlinewidth\":0,\"ticks\":\"\"}},\"colorscale\":{\"diverging\":[[0,\"#8e0152\"],[0.1,\"#c51b7d\"],[0.2,\"#de77ae\"],[0.3,\"#f1b6da\"],[0.4,\"#fde0ef\"],[0.5,\"#f7f7f7\"],[0.6,\"#e6f5d0\"],[0.7,\"#b8e186\"],[0.8,\"#7fbc41\"],[0.9,\"#4d9221\"],[1,\"#276419\"]],\"sequential\":[[0.0,\"#0d0887\"],[0.1111111111111111,\"#46039f\"],[0.2222222222222222,\"#7201a8\"],[0.3333333333333333,\"#9c179e\"],[0.4444444444444444,\"#bd3786\"],[0.5555555555555556,\"#d8576b\"],[0.6666666666666666,\"#ed7953\"],[0.7777777777777778,\"#fb9f3a\"],[0.8888888888888888,\"#fdca26\"],[1.0,\"#f0f921\"]],\"sequentialminus\":[[0.0,\"#0d0887\"],[0.1111111111111111,\"#46039f\"],[0.2222222222222222,\"#7201a8\"],[0.3333333333333333,\"#9c179e\"],[0.4444444444444444,\"#bd3786\"],[0.5555555555555556,\"#d8576b\"],[0.6666666666666666,\"#ed7953\"],[0.7777777777777778,\"#fb9f3a\"],[0.8888888888888888,\"#fdca26\"],[1.0,\"#f0f921\"]]},\"colorway\":[\"#636efa\",\"#EF553B\",\"#00cc96\",\"#ab63fa\",\"#FFA15A\",\"#19d3f3\",\"#FF6692\",\"#B6E880\",\"#FF97FF\",\"#FECB52\"],\"font\":{\"color\":\"#2a3f5f\"},\"geo\":{\"bgcolor\":\"white\",\"lakecolor\":\"white\",\"landcolor\":\"#E5ECF6\",\"showlakes\":true,\"showland\":true,\"subunitcolor\":\"white\"},\"hoverlabel\":{\"align\":\"left\"},\"hovermode\":\"closest\",\"mapbox\":{\"style\":\"light\"},\"paper_bgcolor\":\"white\",\"plot_bgcolor\":\"#E5ECF6\",\"polar\":{\"angularaxis\":{\"gridcolor\":\"white\",\"linecolor\":\"white\",\"ticks\":\"\"},\"bgcolor\":\"#E5ECF6\",\"radialaxis\":{\"gridcolor\":\"white\",\"linecolor\":\"white\",\"ticks\":\"\"}},\"scene\":{\"xaxis\":{\"backgroundcolor\":\"#E5ECF6\",\"gridcolor\":\"white\",\"gridwidth\":2,\"linecolor\":\"white\",\"showbackground\":true,\"ticks\":\"\",\"zerolinecolor\":\"white\"},\"yaxis\":{\"backgroundcolor\":\"#E5ECF6\",\"gridcolor\":\"white\",\"gridwidth\":2,\"linecolor\":\"white\",\"showbackground\":true,\"ticks\":\"\",\"zerolinecolor\":\"white\"},\"zaxis\":{\"backgroundcolor\":\"#E5ECF6\",\"gridcolor\":\"white\",\"gridwidth\":2,\"linecolor\":\"white\",\"showbackground\":true,\"ticks\":\"\",\"zerolinecolor\":\"white\"}},\"shapedefaults\":{\"line\":{\"color\":\"#2a3f5f\"}},\"ternary\":{\"aaxis\":{\"gridcolor\":\"white\",\"linecolor\":\"white\",\"ticks\":\"\"},\"baxis\":{\"gridcolor\":\"white\",\"linecolor\":\"white\",\"ticks\":\"\"},\"bgcolor\":\"#E5ECF6\",\"caxis\":{\"gridcolor\":\"white\",\"linecolor\":\"white\",\"ticks\":\"\"}},\"title\":{\"x\":0.05},\"xaxis\":{\"automargin\":true,\"gridcolor\":\"white\",\"linecolor\":\"white\",\"ticks\":\"\",\"title\":{\"standoff\":15},\"zerolinecolor\":\"white\",\"zerolinewidth\":2},\"yaxis\":{\"automargin\":true,\"gridcolor\":\"white\",\"linecolor\":\"white\",\"ticks\":\"\",\"title\":{\"standoff\":15},\"zerolinecolor\":\"white\",\"zerolinewidth\":2}}},\"xaxis\":{\"anchor\":\"y2\",\"domain\":[0.0,1.0],\"zeroline\":false},\"yaxis\":{\"anchor\":\"free\",\"domain\":[0.35,1],\"position\":0.0},\"yaxis2\":{\"anchor\":\"x\",\"domain\":[0,0.25],\"dtick\":1,\"showticklabels\":false}},                        {\"responsive\": true}                    ).then(function(){\n",
       "                            \n",
       "var gd = document.getElementById('2b93fea9-8fe9-4c91-8349-d1c106f58111');\n",
       "var x = new MutationObserver(function (mutations, observer) {{\n",
       "        var display = window.getComputedStyle(gd).display;\n",
       "        if (!display || display === 'none') {{\n",
       "            console.log([gd, 'removed!']);\n",
       "            Plotly.purge(gd);\n",
       "            observer.disconnect();\n",
       "        }}\n",
       "}});\n",
       "\n",
       "// Listen for the removal of the full notebook cells\n",
       "var notebookContainer = gd.closest('#notebook-container');\n",
       "if (notebookContainer) {{\n",
       "    x.observe(notebookContainer, {childList: true});\n",
       "}}\n",
       "\n",
       "// Listen for the clearing of the current output cell\n",
       "var outputEl = gd.closest('.output');\n",
       "if (outputEl) {{\n",
       "    x.observe(outputEl, {childList: true});\n",
       "}}\n",
       "\n",
       "                        })                };                });            </script>        </div>"
      ]
     },
     "metadata": {},
     "output_type": "display_data"
    }
   ],
   "source": [
    "import plotly.figure_factory as ff\n",
    "\n",
    "import numpy as np\n",
    "\n",
    "# Add histogram data\n",
    "x1 = np.log(df_good['Credit amount']) \n",
    "x2 = np.log(df_bad[\"Credit amount\"])\n",
    "\n",
    "# Group data together\n",
    "hist_data = [x1, x2]\n",
    "\n",
    "group_labels = ['Good Credit', 'Bad Credit']\n",
    "\n",
    "# Create distplot with custom bin_size\n",
    "fig = ff.create_distplot(hist_data, group_labels, bin_size=.2)\n",
    "\n",
    "# Plot!\n",
    "py.iplot(fig, filename='Distplot with Multiple Datasets')"
   ]
  },
  {
   "cell_type": "markdown",
   "metadata": {
    "_cell_guid": "7c43a4cd-cf0a-433c-9549-ee4edc46b8a9",
    "_uuid": "f50b556b07c699f82314235d23a912fcc9a93371"
   },
   "source": [
    "Distruibution of Saving accounts by Risk"
   ]
  },
  {
   "cell_type": "code",
   "execution_count": 15,
   "metadata": {
    "_cell_guid": "ba0ae362-7005-490b-b682-140fbed017b1",
    "_kg_hide-input": true,
    "_uuid": "68625a64933accf95647b5a097d14508bc78a1e7"
   },
   "outputs": [
    {
     "name": "stderr",
     "output_type": "stream",
     "text": [
      "c:\\users\\harsshh wankhayday\\appdata\\local\\programs\\python\\python39\\lib\\site-packages\\plotly\\tools.py:460: DeprecationWarning:\n",
      "\n",
      "plotly.tools.make_subplots is deprecated, please use plotly.subplots.make_subplots instead\n",
      "\n"
     ]
    },
    {
     "data": {
      "application/vnd.plotly.v1+json": {
       "config": {
        "linkText": "Export to plot.ly",
        "plotlyServerURL": "https://plot.ly",
        "showLink": false
       },
       "data": [
        {
         "name": "Good credit",
         "type": "bar",
         "x": [
          "little",
          "moderate",
          "quite rich",
          "rich"
         ],
         "xaxis": "x",
         "y": [
          386,
          69,
          52,
          42
         ],
         "yaxis": "y"
        },
        {
         "name": "Bad credit",
         "type": "bar",
         "x": [
          "little",
          "moderate",
          "quite rich",
          "rich"
         ],
         "xaxis": "x",
         "y": [
          217,
          34,
          11,
          6
         ],
         "yaxis": "y"
        },
        {
         "name": "Bad credit",
         "type": "box",
         "x": [
          "little",
          "little",
          "little",
          "little",
          "little",
          "little",
          "moderate",
          "little",
          "little",
          "little",
          "little",
          "little",
          "little",
          null,
          "little",
          "little",
          "little",
          "little",
          null,
          "little",
          null,
          "moderate",
          "little",
          null,
          "little",
          "little",
          "little",
          "little",
          null,
          "quite rich",
          "little",
          null,
          "little",
          "little",
          "little",
          "quite rich",
          "little",
          "little",
          "little",
          "little",
          "little",
          "little",
          "little",
          null,
          "little",
          "little",
          null,
          "little",
          "little",
          "moderate",
          "rich",
          "moderate",
          "little",
          "moderate",
          "little",
          "moderate",
          "little",
          "little",
          "little",
          "little",
          "rich",
          "little",
          "little",
          "little",
          "little",
          null,
          "moderate",
          null,
          "little",
          "little",
          "little",
          "little",
          "little",
          "little",
          "little",
          "little",
          "little",
          "little",
          "little",
          "little",
          "little",
          null,
          "quite rich",
          "moderate",
          "little",
          "little",
          "little",
          "little",
          "little",
          "moderate",
          "moderate",
          "moderate",
          "little",
          "little",
          null,
          "rich",
          "little",
          "little",
          "little",
          "little",
          "little",
          "little",
          "little",
          "moderate",
          "little",
          "little",
          "little",
          "little",
          "little",
          "little",
          "quite rich",
          "little",
          null,
          "little",
          null,
          null,
          "little",
          "little",
          null,
          "little",
          "little",
          "little",
          "little",
          "rich",
          "little",
          "little",
          "little",
          "moderate",
          "little",
          "little",
          "little",
          "little",
          "little",
          "little",
          null,
          "moderate",
          "little",
          "moderate",
          "little",
          null,
          "moderate",
          "little",
          "little",
          "little",
          "little",
          "little",
          "moderate",
          "little",
          "little",
          "little",
          null,
          "little",
          "little",
          "little",
          "little",
          "little",
          "moderate",
          null,
          "little",
          "little",
          "little",
          null,
          "little",
          "little",
          "little",
          "little",
          "little",
          "little",
          "little",
          "little",
          "little",
          "little",
          null,
          "moderate",
          "little",
          "little",
          "little",
          "little",
          "little",
          "little",
          "moderate",
          "moderate",
          "moderate",
          "little",
          "moderate",
          "little",
          null,
          "little",
          "moderate",
          "little",
          "little",
          "little",
          "little",
          "little",
          "moderate",
          null,
          "quite rich",
          "little",
          "little",
          "little",
          "little",
          "moderate",
          "little",
          null,
          "little",
          "quite rich",
          "moderate",
          "quite rich",
          "little",
          "moderate",
          "little",
          "little",
          "little",
          "little",
          "rich",
          "little",
          "little",
          "little",
          "little",
          "little",
          "little",
          "moderate",
          "little",
          "little",
          "rich",
          null,
          null,
          "little",
          "little",
          null,
          "little",
          "little",
          null,
          "little",
          "moderate",
          "little",
          "little",
          "little",
          null,
          "little",
          "little",
          "little",
          "little",
          "little",
          "little",
          "little",
          "little",
          "little",
          null,
          "little",
          "little",
          "little",
          "little",
          "little",
          "little",
          null,
          "little",
          "little",
          "little",
          "little",
          "little",
          "little",
          "little",
          "little",
          "little",
          "little",
          "little",
          "little",
          "little",
          "little",
          "little",
          "little",
          "little",
          "moderate",
          "little",
          "little",
          "little",
          "little",
          "little",
          "little",
          "moderate",
          "little",
          "little",
          "quite rich",
          "little",
          "moderate",
          "little",
          "quite rich",
          "little",
          "little",
          "quite rich",
          "quite rich",
          "little",
          "little",
          "little",
          "moderate",
          "little",
          "little",
          "little",
          "little"
         ],
         "xaxis": "x2",
         "y": [
          5951,
          4870,
          5234,
          1295,
          4308,
          1199,
          1282,
          12579,
          6836,
          4746,
          2100,
          6143,
          2225,
          6468,
          6229,
          1953,
          14421,
          1819,
          1977,
          3965,
          5943,
          12612,
          1108,
          797,
          15945,
          11938,
          6458,
          7855,
          7174,
          4281,
          1835,
          1924,
          639,
          3499,
          6887,
          766,
          2462,
          1282,
          1131,
          1935,
          950,
          2064,
          3414,
          7485,
          9572,
          4455,
          1647,
          884,
          5129,
          674,
          4591,
          3844,
          3915,
          3031,
          1501,
          951,
          4297,
          902,
          5293,
          1908,
          10961,
          7865,
          1478,
          4210,
          1823,
          14555,
          2767,
          915,
          4605,
          433,
          2150,
          2149,
          802,
          8978,
          3060,
          11998,
          4611,
          1024,
          9398,
          9960,
          3804,
          1344,
          10127,
          727,
          1237,
          685,
          2746,
          4249,
          1938,
          1864,
          7408,
          11590,
          4110,
          3384,
          1275,
          1136,
          959,
          6199,
          1246,
          4463,
          2406,
          2473,
          3446,
          14782,
          7685,
          14318,
          12976,
          1223,
          8648,
          2039,
          939,
          2292,
          1381,
          2579,
          1042,
          2762,
          1190,
          11328,
          1484,
          609,
          719,
          5096,
          1842,
          1512,
          4817,
          3386,
          1659,
          3092,
          448,
          654,
          1245,
          3114,
          1209,
          8318,
          2996,
          9034,
          3123,
          1216,
          1207,
          1309,
          6850,
          759,
          7127,
          3190,
          7119,
          2302,
          2631,
          2319,
          7763,
          1534,
          6350,
          2864,
          1333,
          626,
          6999,
          1331,
          2278,
          5003,
          3552,
          1928,
          1546,
          12389,
          1372,
          6758,
          3234,
          2820,
          1056,
          2384,
          2039,
          1217,
          2246,
          2718,
          1358,
          931,
          1442,
          4241,
          2775,
          918,
          1837,
          3349,
          2671,
          741,
          1240,
          1808,
          3441,
          1530,
          3914,
          2600,
          1437,
          1553,
          1980,
          1355,
          4370,
          750,
          4623,
          7980,
          1386,
          947,
          684,
          1922,
          2303,
          8086,
          888,
          900,
          4843,
          2580,
          5595,
          1123,
          6331,
          6560,
          2969,
          1198,
          14027,
          1337,
          433,
          1228,
          2570,
          1882,
          6416,
          1987,
          11560,
          4280,
          1274,
          976,
          1555,
          1285,
          1271,
          691,
          2124,
          12680,
          3108,
          8065,
          1371,
          4933,
          836,
          6224,
          5998,
          1188,
          7511,
          9271,
          1778,
          9629,
          3051,
          3931,
          1345,
          2712,
          3966,
          4165,
          8335,
          1216,
          11816,
          2327,
          1082,
          5179,
          1943,
          6761,
          709,
          2235,
          1442,
          3959,
          2169,
          2439,
          2210,
          1422,
          4057,
          795,
          15672,
          4153,
          2625,
          4736,
          3161,
          18424,
          14896,
          2359,
          3345,
          1366,
          6872,
          697,
          10297,
          1670,
          1919,
          745,
          6288,
          3349,
          1533,
          3621,
          2145,
          4113,
          10974,
          4006,
          2397,
          2520,
          1193,
          7297,
          2538,
          1264,
          8386,
          4844,
          8229,
          1845
         ],
         "yaxis": "y2"
        },
        {
         "name": "Good credit",
         "type": "box",
         "x": [
          null,
          "little",
          "little",
          null,
          "quite rich",
          "little",
          "rich",
          "little",
          "little",
          null,
          null,
          "quite rich",
          "little",
          "quite rich",
          "little",
          "moderate",
          null,
          "little",
          "little",
          "rich",
          "little",
          "rich",
          "little",
          "moderate",
          null,
          "little",
          "little",
          "little",
          "little",
          "quite rich",
          "quite rich",
          "little",
          "moderate",
          "little",
          "quite rich",
          "quite rich",
          "little",
          "moderate",
          null,
          "little",
          "little",
          null,
          null,
          "little",
          "little",
          "little",
          null,
          "little",
          null,
          "little",
          "rich",
          null,
          "little",
          null,
          "little",
          "little",
          "little",
          "little",
          null,
          "little",
          "quite rich",
          "moderate",
          "little",
          "little",
          "little",
          "little",
          "moderate",
          "little",
          "little",
          null,
          "rich",
          null,
          "moderate",
          "little",
          null,
          "moderate",
          "little",
          "little",
          "little",
          null,
          "little",
          null,
          "quite rich",
          "moderate",
          "little",
          "little",
          "quite rich",
          null,
          null,
          "quite rich",
          "little",
          "little",
          "little",
          "little",
          "little",
          "little",
          null,
          "little",
          "little",
          "moderate",
          null,
          "rich",
          null,
          "little",
          "rich",
          "little",
          "little",
          "little",
          "moderate",
          "little",
          "moderate",
          "little",
          "rich",
          "moderate",
          "little",
          "little",
          "rich",
          "moderate",
          "moderate",
          "little",
          "moderate",
          null,
          "moderate",
          "little",
          "quite rich",
          "little",
          "quite rich",
          "quite rich",
          "rich",
          "little",
          "little",
          "little",
          "little",
          "quite rich",
          "little",
          "little",
          "rich",
          "little",
          "little",
          "little",
          "little",
          "little",
          null,
          "quite rich",
          "little",
          "little",
          "little",
          "little",
          "little",
          "little",
          "little",
          "rich",
          null,
          null,
          null,
          null,
          "little",
          "little",
          "little",
          "little",
          "little",
          null,
          "little",
          null,
          "little",
          "little",
          "little",
          "quite rich",
          "moderate",
          "little",
          "little",
          "little",
          "little",
          "little",
          "little",
          "quite rich",
          "little",
          "little",
          "moderate",
          "little",
          "rich",
          "little",
          "moderate",
          null,
          null,
          "little",
          "moderate",
          "moderate",
          "little",
          "little",
          "little",
          "little",
          "little",
          null,
          "little",
          null,
          null,
          "quite rich",
          null,
          "little",
          "little",
          null,
          "moderate",
          "rich",
          "little",
          null,
          null,
          "moderate",
          "little",
          "little",
          "moderate",
          "little",
          "little",
          "little",
          "little",
          null,
          null,
          null,
          "little",
          "rich",
          "little",
          "little",
          "rich",
          null,
          "little",
          null,
          "moderate",
          "little",
          null,
          "little",
          null,
          "little",
          "little",
          "little",
          "rich",
          "little",
          "little",
          null,
          "rich",
          "little",
          "little",
          "little",
          "little",
          "little",
          "little",
          "little",
          "little",
          "quite rich",
          "little",
          "little",
          "little",
          "little",
          "quite rich",
          "moderate",
          "little",
          null,
          "quite rich",
          null,
          "little",
          null,
          null,
          "little",
          "little",
          "little",
          "little",
          "little",
          "little",
          null,
          "little",
          "little",
          null,
          "little",
          null,
          "moderate",
          null,
          null,
          "little",
          "moderate",
          "little",
          null,
          "little",
          "quite rich",
          "little",
          "little",
          "rich",
          "little",
          "little",
          "little",
          "moderate",
          "little",
          "little",
          "rich",
          "little",
          null,
          "little",
          null,
          null,
          "little",
          "quite rich",
          "little",
          "little",
          "quite rich",
          "little",
          null,
          "quite rich",
          "rich",
          null,
          "little",
          "moderate",
          "little",
          "little",
          "rich",
          "little",
          "little",
          "little",
          "little",
          "little",
          "quite rich",
          "rich",
          "little",
          "little",
          "little",
          "little",
          null,
          "little",
          null,
          null,
          "little",
          "little",
          "little",
          "little",
          "little",
          "little",
          "little",
          "little",
          "little",
          "little",
          null,
          "little",
          "little",
          null,
          "little",
          "little",
          null,
          "quite rich",
          "little",
          "moderate",
          "little",
          "little",
          "little",
          "rich",
          "rich",
          "quite rich",
          "little",
          "little",
          "moderate",
          "little",
          "little",
          "moderate",
          null,
          "little",
          "little",
          "little",
          "moderate",
          "little",
          "moderate",
          "quite rich",
          "little",
          "moderate",
          "little",
          "little",
          "little",
          null,
          "little",
          "little",
          "moderate",
          null,
          "little",
          "moderate",
          "little",
          "little",
          "moderate",
          "little",
          "little",
          "little",
          "little",
          "moderate",
          null,
          null,
          "little",
          "little",
          "little",
          "little",
          "little",
          "little",
          null,
          null,
          "quite rich",
          "moderate",
          "little",
          null,
          "little",
          null,
          "moderate",
          "rich",
          null,
          "little",
          null,
          "little",
          "little",
          "little",
          "little",
          null,
          "little",
          "little",
          "little",
          null,
          "little",
          "little",
          "little",
          null,
          "rich",
          "little",
          "little",
          "little",
          "quite rich",
          "little",
          "little",
          null,
          "rich",
          "little",
          null,
          null,
          "little",
          "little",
          "little",
          "little",
          null,
          "little",
          "quite rich",
          null,
          "little",
          null,
          "little",
          "quite rich",
          "little",
          "little",
          "little",
          "little",
          "little",
          "little",
          "little",
          "little",
          "little",
          null,
          "little",
          "little",
          "little",
          "little",
          "little",
          "little",
          "little",
          "rich",
          "little",
          "little",
          "moderate",
          "moderate",
          "little",
          "quite rich",
          "little",
          "little",
          "little",
          "little",
          "little",
          null,
          "little",
          "little",
          "moderate",
          null,
          null,
          "moderate",
          "moderate",
          "rich",
          "little",
          "moderate",
          "moderate",
          null,
          "little",
          "quite rich",
          "little",
          "little",
          "little",
          "little",
          "moderate",
          "moderate",
          "little",
          "quite rich",
          "little",
          "little",
          "quite rich",
          null,
          "little",
          null,
          null,
          "little",
          null,
          "moderate",
          "quite rich",
          "rich",
          "quite rich",
          "rich",
          "little",
          "little",
          "rich",
          "little",
          null,
          "moderate",
          "little",
          "moderate",
          "little",
          null,
          "quite rich",
          null,
          "little",
          "little",
          null,
          "little",
          "little",
          "moderate",
          "little",
          "little",
          "little",
          null,
          "little",
          "moderate",
          "little",
          null,
          "little",
          "little",
          null,
          "little",
          "moderate",
          "quite rich",
          "little",
          "little",
          "rich",
          "little",
          "rich",
          "little",
          null,
          "rich",
          "quite rich",
          null,
          null,
          null,
          "little",
          "quite rich",
          "moderate",
          "little",
          null,
          null,
          "little",
          "little",
          "little",
          null,
          null,
          "little",
          null,
          "little",
          "little",
          "little",
          "little",
          "quite rich",
          "little",
          "little",
          "little",
          "little",
          "little",
          "little",
          "little",
          null,
          "quite rich",
          null,
          null,
          "little",
          "little",
          "little",
          "little",
          "little",
          "little",
          null,
          "little",
          "little",
          null,
          "little",
          "little",
          "moderate",
          null,
          "little",
          "moderate",
          "rich",
          "rich",
          "quite rich",
          "little",
          "little",
          null,
          "little",
          "quite rich",
          "little",
          "moderate",
          null,
          "little",
          "rich",
          "little",
          "little",
          null,
          "little",
          null,
          null,
          "little",
          null,
          "little",
          null,
          "little",
          "little",
          "little",
          "little",
          null,
          null,
          "little",
          "rich",
          null,
          null,
          null,
          null,
          "little",
          "little",
          null,
          null,
          "little",
          null,
          "little",
          null,
          "rich",
          "moderate",
          "little",
          "quite rich",
          "little",
          "little",
          null,
          "little",
          "little",
          "little",
          "quite rich",
          "little",
          "little",
          null,
          null,
          "little",
          null,
          "little",
          "little",
          "quite rich",
          null,
          "little",
          "little",
          "rich",
          null,
          "little",
          "moderate",
          "little",
          "little",
          null,
          "little",
          null,
          "little",
          null,
          "little",
          "moderate",
          "little",
          "little",
          "quite rich",
          "little",
          null,
          "moderate",
          "little",
          "little",
          "little",
          "moderate",
          "little",
          "little",
          null,
          "moderate",
          null,
          "little",
          null,
          "little",
          "little",
          "little",
          "moderate"
         ],
         "xaxis": "x2",
         "y": [
          1169,
          2096,
          7882,
          9055,
          2835,
          6948,
          3059,
          1567,
          1403,
          2424,
          8072,
          3430,
          2134,
          2647,
          2241,
          1804,
          2069,
          1374,
          426,
          409,
          2415,
          1913,
          4020,
          5866,
          1264,
          1474,
          6110,
          1225,
          458,
          2333,
          1158,
          6204,
          6187,
          1393,
          2299,
          1352,
          7228,
          2073,
          2333,
          5965,
          1262,
          3378,
          783,
          9566,
          1961,
          1391,
          1537,
          3181,
          5190,
          2171,
          1007,
          2394,
          8133,
          730,
          1164,
          5954,
          1526,
          4771,
          9436,
          3832,
          1213,
          1568,
          1755,
          2315,
          1412,
          1295,
          2249,
          618,
          1409,
          3617,
          1318,
          2012,
          2622,
          2337,
          7057,
          1469,
          2323,
          932,
          1919,
          2445,
          6078,
          7721,
          1410,
          1449,
          392,
          6260,
          1680,
          3578,
          2132,
          2366,
          3868,
          1768,
          781,
          2121,
          701,
          1860,
          8487,
          2708,
          1984,
          10144,
          1240,
          8613,
          2728,
          1881,
          709,
          4795,
          3416,
          2288,
          3566,
          860,
          682,
          5371,
          1582,
          1346,
          1924,
          5848,
          7758,
          6967,
          1288,
          339,
          3512,
          1898,
          2872,
          1055,
          1262,
          7308,
          909,
          2978,
          1577,
          3972,
          763,
          1414,
          2577,
          338,
          1963,
          571,
          3777,
          1360,
          1175,
          3244,
          2108,
          1382,
          2760,
          936,
          1168,
          5117,
          1495,
          10623,
          1935,
          1424,
          6568,
          1413,
          3074,
          3835,
          3342,
          932,
          3104,
          3913,
          3021,
          1364,
          625,
          1200,
          707,
          2978,
          4657,
          2613,
          3149,
          2507,
          2141,
          866,
          1544,
          1291,
          2522,
          1595,
          1185,
          3447,
          1258,
          717,
          1204,
          1925,
          666,
          2251,
          4151,
          2030,
          7418,
          2684,
          3812,
          1154,
          1657,
          1603,
          5302,
          2748,
          1231,
          6304,
          1533,
          999,
          2662,
          1402,
          12169,
          2697,
          2404,
          1262,
          1901,
          3368,
          1574,
          1445,
          1520,
          3878,
          10722,
          4788,
          7582,
          1092,
          1076,
          6419,
          4796,
          7629,
          4675,
          1287,
          2515,
          2745,
          672,
          1038,
          1543,
          4811,
          276,
          5381,
          5511,
          3749,
          1494,
          708,
          4351,
          701,
          3643,
          2910,
          2659,
          1028,
          3398,
          5801,
          1525,
          4473,
          1068,
          6615,
          2101,
          4169,
          1521,
          5743,
          3599,
          3213,
          4439,
          3949,
          1459,
          882,
          3758,
          1743,
          1236,
          3229,
          727,
          2331,
          776,
          1239,
          3399,
          2247,
          1766,
          1542,
          3850,
          3650,
          3001,
          3079,
          6070,
          2146,
          13756,
          2320,
          846,
          362,
          2212,
          1283,
          1330,
          4272,
          2238,
          1126,
          7374,
          2326,
          1449,
          1820,
          983,
          3249,
          1957,
          2406,
          11760,
          2578,
          2348,
          1516,
          1473,
          1887,
          802,
          2899,
          2197,
          1053,
          3235,
          1967,
          7253,
          1597,
          5842,
          8471,
          2782,
          3186,
          2028,
          958,
          1591,
          2779,
          2743,
          1149,
          1313,
          3448,
          1872,
          2058,
          2136,
          660,
          1287,
          3394,
          1884,
          1620,
          2629,
          1244,
          2576,
          1424,
          11054,
          518,
          2759,
          2670,
          2679,
          3905,
          343,
          4594,
          3620,
          1721,
          3017,
          754,
          1950,
          2924,
          7238,
          2764,
          4679,
          1238,
          2569,
          5152,
          1037,
          1478,
          3573,
          1201,
          3622,
          960,
          1163,
          3077,
          3757,
          1418,
          3518,
          1934,
          1237,
          368,
          2122,
          1585,
          1301,
          1323,
          5493,
          1126,
          2360,
          1413,
          8588,
          4686,
          2687,
          585,
          2255,
          609,
          1361,
          1203,
          700,
          5507,
          3488,
          1113,
          7966,
          1532,
          1503,
          662,
          2273,
          1503,
          1311,
          3105,
          1374,
          3612,
          3049,
          2032,
          1255,
          2022,
          1552,
          8858,
          996,
          1750,
          1995,
          1199,
          2964,
          683,
          4712,
          1553,
          2578,
          3979,
          5954,
          5433,
          806,
          1082,
          2788,
          2930,
          1927,
          937,
          3124,
          1388,
          2133,
          2799,
          1289,
          385,
          1965,
          1572,
          3863,
          2329,
          1275,
          2828,
          4526,
          2051,
          1300,
          3357,
          3632,
          12204,
          9157,
          3676,
          640,
          3652,
          1858,
          1979,
          2116,
          4042,
          3832,
          3660,
          1444,
          1393,
          1376,
          15653,
          1493,
          1308,
          1851,
          1880,
          4583,
          7476,
          2346,
          3973,
          10222,
          4221,
          6361,
          1297,
          2241,
          1050,
          1047,
          6314,
          3496,
          3609,
          3017,
          4139,
          5742,
          10366,
          2080,
          4530,
          5150,
          2384,
          1453,
          1538,
          2279,
          1478,
          5103,
          9857,
          6527,
          1347,
          2862,
          2753,
          3651,
          975,
          2631,
          2896,
          4716,
          2284,
          1236,
          1103,
          926,
          1800,
          1905,
          1377,
          2503,
          2528,
          5324,
          1206,
          2118,
          629,
          2476,
          1138,
          7596,
          3077,
          1505,
          3148,
          6148,
          790,
          250,
          1316,
          1275,
          6403,
          760,
          2603,
          3380,
          3990,
          4380,
          6761,
          2325,
          1048,
          3160,
          2483,
          14179,
          1797,
          2511,
          5248,
          3029,
          428,
          841,
          5771,
          1299,
          1393,
          5045,
          2214,
          2463,
          1155,
          2901,
          3617,
          1655,
          2812,
          3275,
          2223,
          1480,
          3535,
          3509,
          5711,
          3872,
          1940,
          1410,
          6468,
          1941,
          2675,
          2751,
          6313,
          1221,
          2892,
          3062,
          2301,
          1258,
          717,
          1549,
          1597,
          1795,
          4272,
          976,
          7472,
          590,
          930,
          9283,
          907,
          484,
          7432,
          1338,
          1554,
          15857,
          1101,
          3016,
          731,
          3780,
          1602,
          6681,
          2375,
          5084,
          886,
          601,
          2957,
          2611,
          2993,
          1559,
          3422,
          3976,
          1249,
          1364,
          4042,
          1471,
          10875,
          1474,
          894,
          3343,
          3577,
          5804,
          4526,
          2221,
          2389,
          3331,
          7409,
          652,
          7678,
          1343,
          1382,
          874,
          3590,
          1322,
          1940,
          3595,
          6742,
          7814,
          9277,
          2181,
          1098,
          2825,
          6614,
          7824,
          2442,
          1829,
          2171,
          5800,
          1169,
          8947,
          2606,
          1592,
          2186,
          3485,
          10477,
          1386,
          1278,
          1107,
          3763,
          3711,
          3594,
          3195,
          4454,
          2991,
          2142,
          2848,
          1817,
          12749,
          2002,
          1049,
          1867,
          1344,
          1747,
          1224,
          522,
          1498,
          2063,
          6842,
          3527,
          1546,
          929,
          1455,
          1845,
          8358,
          2859,
          3590,
          1893,
          1231,
          3656,
          1154,
          3069,
          1740,
          2353,
          3556,
          454,
          1715,
          3568,
          7166,
          3939,
          1514,
          7393,
          2831,
          1258,
          753,
          2427,
          2923,
          2028,
          1433,
          6289,
          1409,
          6579,
          1743,
          3565,
          1569,
          1936,
          3959,
          2390,
          1736,
          3857,
          804,
          4576
         ],
         "yaxis": "y2"
        },
        {
         "name": "Good credit",
         "type": "box",
         "x": [
          null,
          "little",
          "little",
          null,
          "quite rich",
          "little",
          "rich",
          "little",
          "little",
          null,
          null,
          "quite rich",
          "little",
          "quite rich",
          "little",
          "moderate",
          null,
          "little",
          "little",
          "rich",
          "little",
          "rich",
          "little",
          "moderate",
          null,
          "little",
          "little",
          "little",
          "little",
          "quite rich",
          "quite rich",
          "little",
          "moderate",
          "little",
          "quite rich",
          "quite rich",
          "little",
          "moderate",
          null,
          "little",
          "little",
          null,
          null,
          "little",
          "little",
          "little",
          null,
          "little",
          null,
          "little",
          "rich",
          null,
          "little",
          null,
          "little",
          "little",
          "little",
          "little",
          null,
          "little",
          "quite rich",
          "moderate",
          "little",
          "little",
          "little",
          "little",
          "moderate",
          "little",
          "little",
          null,
          "rich",
          null,
          "moderate",
          "little",
          null,
          "moderate",
          "little",
          "little",
          "little",
          null,
          "little",
          null,
          "quite rich",
          "moderate",
          "little",
          "little",
          "quite rich",
          null,
          null,
          "quite rich",
          "little",
          "little",
          "little",
          "little",
          "little",
          "little",
          null,
          "little",
          "little",
          "moderate",
          null,
          "rich",
          null,
          "little",
          "rich",
          "little",
          "little",
          "little",
          "moderate",
          "little",
          "moderate",
          "little",
          "rich",
          "moderate",
          "little",
          "little",
          "rich",
          "moderate",
          "moderate",
          "little",
          "moderate",
          null,
          "moderate",
          "little",
          "quite rich",
          "little",
          "quite rich",
          "quite rich",
          "rich",
          "little",
          "little",
          "little",
          "little",
          "quite rich",
          "little",
          "little",
          "rich",
          "little",
          "little",
          "little",
          "little",
          "little",
          null,
          "quite rich",
          "little",
          "little",
          "little",
          "little",
          "little",
          "little",
          "little",
          "rich",
          null,
          null,
          null,
          null,
          "little",
          "little",
          "little",
          "little",
          "little",
          null,
          "little",
          null,
          "little",
          "little",
          "little",
          "quite rich",
          "moderate",
          "little",
          "little",
          "little",
          "little",
          "little",
          "little",
          "quite rich",
          "little",
          "little",
          "moderate",
          "little",
          "rich",
          "little",
          "moderate",
          null,
          null,
          "little",
          "moderate",
          "moderate",
          "little",
          "little",
          "little",
          "little",
          "little",
          null,
          "little",
          null,
          null,
          "quite rich",
          null,
          "little",
          "little",
          null,
          "moderate",
          "rich",
          "little",
          null,
          null,
          "moderate",
          "little",
          "little",
          "moderate",
          "little",
          "little",
          "little",
          "little",
          null,
          null,
          null,
          "little",
          "rich",
          "little",
          "little",
          "rich",
          null,
          "little",
          null,
          "moderate",
          "little",
          null,
          "little",
          null,
          "little",
          "little",
          "little",
          "rich",
          "little",
          "little",
          null,
          "rich",
          "little",
          "little",
          "little",
          "little",
          "little",
          "little",
          "little",
          "little",
          "quite rich",
          "little",
          "little",
          "little",
          "little",
          "quite rich",
          "moderate",
          "little",
          null,
          "quite rich",
          null,
          "little",
          null,
          null,
          "little",
          "little",
          "little",
          "little",
          "little",
          "little",
          null,
          "little",
          "little",
          null,
          "little",
          null,
          "moderate",
          null,
          null,
          "little",
          "moderate",
          "little",
          null,
          "little",
          "quite rich",
          "little",
          "little",
          "rich",
          "little",
          "little",
          "little",
          "moderate",
          "little",
          "little",
          "rich",
          "little",
          null,
          "little",
          null,
          null,
          "little",
          "quite rich",
          "little",
          "little",
          "quite rich",
          "little",
          null,
          "quite rich",
          "rich",
          null,
          "little",
          "moderate",
          "little",
          "little",
          "rich",
          "little",
          "little",
          "little",
          "little",
          "little",
          "quite rich",
          "rich",
          "little",
          "little",
          "little",
          "little",
          null,
          "little",
          null,
          null,
          "little",
          "little",
          "little",
          "little",
          "little",
          "little",
          "little",
          "little",
          "little",
          "little",
          null,
          "little",
          "little",
          null,
          "little",
          "little",
          null,
          "quite rich",
          "little",
          "moderate",
          "little",
          "little",
          "little",
          "rich",
          "rich",
          "quite rich",
          "little",
          "little",
          "moderate",
          "little",
          "little",
          "moderate",
          null,
          "little",
          "little",
          "little",
          "moderate",
          "little",
          "moderate",
          "quite rich",
          "little",
          "moderate",
          "little",
          "little",
          "little",
          null,
          "little",
          "little",
          "moderate",
          null,
          "little",
          "moderate",
          "little",
          "little",
          "moderate",
          "little",
          "little",
          "little",
          "little",
          "moderate",
          null,
          null,
          "little",
          "little",
          "little",
          "little",
          "little",
          "little",
          null,
          null,
          "quite rich",
          "moderate",
          "little",
          null,
          "little",
          null,
          "moderate",
          "rich",
          null,
          "little",
          null,
          "little",
          "little",
          "little",
          "little",
          null,
          "little",
          "little",
          "little",
          null,
          "little",
          "little",
          "little",
          null,
          "rich",
          "little",
          "little",
          "little",
          "quite rich",
          "little",
          "little",
          null,
          "rich",
          "little",
          null,
          null,
          "little",
          "little",
          "little",
          "little",
          null,
          "little",
          "quite rich",
          null,
          "little",
          null,
          "little",
          "quite rich",
          "little",
          "little",
          "little",
          "little",
          "little",
          "little",
          "little",
          "little",
          "little",
          null,
          "little",
          "little",
          "little",
          "little",
          "little",
          "little",
          "little",
          "rich",
          "little",
          "little",
          "moderate",
          "moderate",
          "little",
          "quite rich",
          "little",
          "little",
          "little",
          "little",
          "little",
          null,
          "little",
          "little",
          "moderate",
          null,
          null,
          "moderate",
          "moderate",
          "rich",
          "little",
          "moderate",
          "moderate",
          null,
          "little",
          "quite rich",
          "little",
          "little",
          "little",
          "little",
          "moderate",
          "moderate",
          "little",
          "quite rich",
          "little",
          "little",
          "quite rich",
          null,
          "little",
          null,
          null,
          "little",
          null,
          "moderate",
          "quite rich",
          "rich",
          "quite rich",
          "rich",
          "little",
          "little",
          "rich",
          "little",
          null,
          "moderate",
          "little",
          "moderate",
          "little",
          null,
          "quite rich",
          null,
          "little",
          "little",
          null,
          "little",
          "little",
          "moderate",
          "little",
          "little",
          "little",
          null,
          "little",
          "moderate",
          "little",
          null,
          "little",
          "little",
          null,
          "little",
          "moderate",
          "quite rich",
          "little",
          "little",
          "rich",
          "little",
          "rich",
          "little",
          null,
          "rich",
          "quite rich",
          null,
          null,
          null,
          "little",
          "quite rich",
          "moderate",
          "little",
          null,
          null,
          "little",
          "little",
          "little",
          null,
          null,
          "little",
          null,
          "little",
          "little",
          "little",
          "little",
          "quite rich",
          "little",
          "little",
          "little",
          "little",
          "little",
          "little",
          "little",
          null,
          "quite rich",
          null,
          null,
          "little",
          "little",
          "little",
          "little",
          "little",
          "little",
          null,
          "little",
          "little",
          null,
          "little",
          "little",
          "moderate",
          null,
          "little",
          "moderate",
          "rich",
          "rich",
          "quite rich",
          "little",
          "little",
          null,
          "little",
          "quite rich",
          "little",
          "moderate",
          null,
          "little",
          "rich",
          "little",
          "little",
          null,
          "little",
          null,
          null,
          "little",
          null,
          "little",
          null,
          "little",
          "little",
          "little",
          "little",
          null,
          null,
          "little",
          "rich",
          null,
          null,
          null,
          null,
          "little",
          "little",
          null,
          null,
          "little",
          null,
          "little",
          null,
          "rich",
          "moderate",
          "little",
          "quite rich",
          "little",
          "little",
          null,
          "little",
          "little",
          "little",
          "quite rich",
          "little",
          "little",
          null,
          null,
          "little",
          null,
          "little",
          "little",
          "quite rich",
          null,
          "little",
          "little",
          "rich",
          null,
          "little",
          "moderate",
          "little",
          "little",
          null,
          "little",
          null,
          "little",
          null,
          "little",
          "moderate",
          "little",
          "little",
          "quite rich",
          "little",
          null,
          "moderate",
          "little",
          "little",
          "little",
          "moderate",
          "little",
          "little",
          null,
          "moderate",
          null,
          "little",
          null,
          "little",
          "little",
          "little",
          "moderate"
         ],
         "xaxis": "x3",
         "y": [
          67,
          49,
          45,
          35,
          53,
          35,
          61,
          22,
          28,
          53,
          25,
          31,
          48,
          44,
          48,
          44,
          26,
          36,
          39,
          42,
          34,
          36,
          27,
          30,
          57,
          33,
          31,
          37,
          24,
          30,
          26,
          44,
          24,
          35,
          39,
          23,
          39,
          28,
          29,
          30,
          25,
          31,
          26,
          31,
          23,
          27,
          50,
          26,
          48,
          29,
          22,
          25,
          30,
          46,
          51,
          41,
          66,
          51,
          39,
          22,
          47,
          24,
          58,
          52,
          29,
          27,
          30,
          56,
          54,
          20,
          54,
          61,
          34,
          36,
          36,
          41,
          24,
          24,
          35,
          26,
          32,
          30,
          35,
          31,
          23,
          28,
          35,
          47,
          27,
          36,
          41,
          24,
          63,
          30,
          40,
          34,
          24,
          27,
          47,
          21,
          38,
          27,
          35,
          44,
          27,
          30,
          27,
          23,
          30,
          39,
          51,
          28,
          46,
          42,
          38,
          24,
          29,
          36,
          48,
          45,
          38,
          34,
          36,
          30,
          36,
          70,
          36,
          32,
          20,
          25,
          26,
          33,
          42,
          52,
          31,
          65,
          50,
          31,
          68,
          33,
          29,
          28,
          36,
          52,
          27,
          26,
          38,
          38,
          43,
          26,
          21,
          55,
          33,
          45,
          51,
          39,
          31,
          23,
          24,
          64,
          26,
          23,
          30,
          32,
          30,
          27,
          22,
          51,
          35,
          25,
          42,
          35,
          39,
          51,
          27,
          35,
          25,
          52,
          35,
          26,
          39,
          46,
          35,
          24,
          27,
          35,
          23,
          57,
          27,
          55,
          36,
          57,
          32,
          36,
          38,
          25,
          32,
          37,
          36,
          32,
          26,
          49,
          29,
          23,
          50,
          49,
          63,
          37,
          35,
          26,
          31,
          49,
          26,
          44,
          56,
          46,
          20,
          45,
          43,
          32,
          54,
          49,
          33,
          24,
          22,
          40,
          25,
          26,
          29,
          38,
          48,
          32,
          27,
          34,
          28,
          36,
          39,
          49,
          34,
          31,
          28,
          75,
          23,
          28,
          31,
          24,
          26,
          25,
          33,
          37,
          43,
          23,
          23,
          34,
          23,
          38,
          46,
          49,
          28,
          61,
          37,
          36,
          21,
          36,
          27,
          22,
          40,
          36,
          33,
          23,
          63,
          34,
          36,
          52,
          39,
          25,
          26,
          26,
          25,
          21,
          40,
          27,
          27,
          30,
          19,
          39,
          31,
          31,
          32,
          55,
          46,
          43,
          39,
          28,
          27,
          43,
          43,
          27,
          26,
          20,
          35,
          40,
          35,
          23,
          31,
          20,
          30,
          47,
          34,
          21,
          29,
          46,
          20,
          74,
          36,
          33,
          25,
          23,
          37,
          65,
          39,
          30,
          29,
          41,
          35,
          55,
          30,
          29,
          34,
          35,
          29,
          36,
          27,
          32,
          37,
          36,
          34,
          38,
          34,
          63,
          32,
          26,
          35,
          36,
          24,
          25,
          39,
          44,
          23,
          26,
          57,
          30,
          44,
          52,
          62,
          35,
          26,
          26,
          27,
          38,
          39,
          40,
          32,
          28,
          42,
          49,
          36,
          28,
          45,
          32,
          26,
          20,
          54,
          37,
          40,
          43,
          36,
          44,
          23,
          26,
          30,
          31,
          42,
          41,
          32,
          41,
          26,
          25,
          75,
          37,
          45,
          60,
          61,
          37,
          32,
          35,
          23,
          45,
          27,
          67,
          49,
          29,
          37,
          23,
          34,
          41,
          38,
          26,
          22,
          27,
          24,
          27,
          33,
          27,
          49,
          26,
          52,
          36,
          21,
          58,
          42,
          36,
          32,
          45,
          23,
          22,
          74,
          33,
          45,
          29,
          22,
          48,
          27,
          37,
          49,
          27,
          22,
          35,
          41,
          36,
          64,
          28,
          23,
          47,
          28,
          21,
          34,
          38,
          33,
          32,
          32,
          50,
          35,
          22,
          37,
          28,
          41,
          23,
          50,
          35,
          50,
          27,
          34,
          27,
          47,
          27,
          31,
          42,
          24,
          26,
          33,
          64,
          26,
          56,
          37,
          33,
          47,
          31,
          34,
          27,
          30,
          35,
          31,
          25,
          25,
          29,
          44,
          28,
          50,
          29,
          38,
          24,
          40,
          47,
          41,
          32,
          35,
          25,
          37,
          32,
          46,
          25,
          63,
          40,
          32,
          31,
          31,
          66,
          41,
          47,
          36,
          33,
          44,
          28,
          37,
          29,
          35,
          45,
          32,
          23,
          41,
          22,
          30,
          28,
          23,
          26,
          33,
          49,
          23,
          25,
          74,
          31,
          59,
          24,
          27,
          40,
          31,
          28,
          63,
          26,
          36,
          52,
          66,
          37,
          25,
          38,
          67,
          60,
          31,
          60,
          35,
          40,
          38,
          41,
          27,
          51,
          32,
          22,
          22,
          54,
          35,
          54,
          48,
          24,
          35,
          24,
          26,
          65,
          55,
          26,
          28,
          54,
          62,
          24,
          43,
          27,
          24,
          47,
          35,
          30,
          38,
          44,
          42,
          21,
          23,
          63,
          46,
          28,
          50,
          47,
          35,
          28,
          59,
          43,
          35,
          45,
          33,
          40,
          28,
          26,
          27,
          32,
          20,
          27,
          42,
          37,
          24,
          40,
          46,
          26,
          24,
          29,
          40,
          36,
          28,
          36,
          38,
          48,
          36,
          65,
          34,
          34,
          40,
          43,
          46,
          38,
          34,
          29,
          31,
          28,
          35,
          33,
          44,
          42,
          40,
          36,
          20,
          24,
          27,
          46,
          33,
          34,
          25,
          28,
          32,
          28,
          37,
          30,
          21,
          58,
          43,
          24,
          30,
          42,
          23,
          30,
          46,
          45,
          31,
          31,
          42,
          46,
          30,
          38,
          40,
          29,
          57,
          49,
          37,
          30,
          30,
          47,
          29,
          22,
          26,
          54,
          29,
          40,
          22,
          43,
          33,
          57,
          64,
          42,
          28,
          30,
          25,
          33,
          64,
          29,
          48,
          37,
          34,
          23,
          30,
          50,
          31,
          40,
          38,
          27
         ],
         "yaxis": "y3"
        },
        {
         "name": "Bad credit",
         "type": "box",
         "x": [
          "little",
          "little",
          "little",
          "little",
          "little",
          "little",
          "moderate",
          "little",
          "little",
          "little",
          "little",
          "little",
          "little",
          null,
          "little",
          "little",
          "little",
          "little",
          null,
          "little",
          null,
          "moderate",
          "little",
          null,
          "little",
          "little",
          "little",
          "little",
          null,
          "quite rich",
          "little",
          null,
          "little",
          "little",
          "little",
          "quite rich",
          "little",
          "little",
          "little",
          "little",
          "little",
          "little",
          "little",
          null,
          "little",
          "little",
          null,
          "little",
          "little",
          "moderate",
          "rich",
          "moderate",
          "little",
          "moderate",
          "little",
          "moderate",
          "little",
          "little",
          "little",
          "little",
          "rich",
          "little",
          "little",
          "little",
          "little",
          null,
          "moderate",
          null,
          "little",
          "little",
          "little",
          "little",
          "little",
          "little",
          "little",
          "little",
          "little",
          "little",
          "little",
          "little",
          "little",
          null,
          "quite rich",
          "moderate",
          "little",
          "little",
          "little",
          "little",
          "little",
          "moderate",
          "moderate",
          "moderate",
          "little",
          "little",
          null,
          "rich",
          "little",
          "little",
          "little",
          "little",
          "little",
          "little",
          "little",
          "moderate",
          "little",
          "little",
          "little",
          "little",
          "little",
          "little",
          "quite rich",
          "little",
          null,
          "little",
          null,
          null,
          "little",
          "little",
          null,
          "little",
          "little",
          "little",
          "little",
          "rich",
          "little",
          "little",
          "little",
          "moderate",
          "little",
          "little",
          "little",
          "little",
          "little",
          "little",
          null,
          "moderate",
          "little",
          "moderate",
          "little",
          null,
          "moderate",
          "little",
          "little",
          "little",
          "little",
          "little",
          "moderate",
          "little",
          "little",
          "little",
          null,
          "little",
          "little",
          "little",
          "little",
          "little",
          "moderate",
          null,
          "little",
          "little",
          "little",
          null,
          "little",
          "little",
          "little",
          "little",
          "little",
          "little",
          "little",
          "little",
          "little",
          "little",
          null,
          "moderate",
          "little",
          "little",
          "little",
          "little",
          "little",
          "little",
          "moderate",
          "moderate",
          "moderate",
          "little",
          "moderate",
          "little",
          null,
          "little",
          "moderate",
          "little",
          "little",
          "little",
          "little",
          "little",
          "moderate",
          null,
          "quite rich",
          "little",
          "little",
          "little",
          "little",
          "moderate",
          "little",
          null,
          "little",
          "quite rich",
          "moderate",
          "quite rich",
          "little",
          "moderate",
          "little",
          "little",
          "little",
          "little",
          "rich",
          "little",
          "little",
          "little",
          "little",
          "little",
          "little",
          "moderate",
          "little",
          "little",
          "rich",
          null,
          null,
          "little",
          "little",
          null,
          "little",
          "little",
          null,
          "little",
          "moderate",
          "little",
          "little",
          "little",
          null,
          "little",
          "little",
          "little",
          "little",
          "little",
          "little",
          "little",
          "little",
          "little",
          null,
          "little",
          "little",
          "little",
          "little",
          "little",
          "little",
          null,
          "little",
          "little",
          "little",
          "little",
          "little",
          "little",
          "little",
          "little",
          "little",
          "little",
          "little",
          "little",
          "little",
          "little",
          "little",
          "little",
          "little",
          "moderate",
          "little",
          "little",
          "little",
          "little",
          "little",
          "little",
          "moderate",
          "little",
          "little",
          "quite rich",
          "little",
          "moderate",
          "little",
          "quite rich",
          "little",
          "little",
          "quite rich",
          "quite rich",
          "little",
          "little",
          "little",
          "moderate",
          "little",
          "little",
          "little",
          "little"
         ],
         "xaxis": "x3",
         "y": [
          22,
          53,
          28,
          25,
          24,
          60,
          32,
          44,
          63,
          25,
          37,
          58,
          57,
          52,
          23,
          61,
          25,
          37,
          40,
          34,
          44,
          47,
          28,
          33,
          58,
          39,
          39,
          25,
          30,
          23,
          25,
          27,
          30,
          29,
          29,
          66,
          22,
          20,
          33,
          31,
          33,
          34,
          26,
          53,
          28,
          30,
          40,
          36,
          74,
          20,
          54,
          34,
          36,
          21,
          34,
          27,
          40,
          21,
          50,
          66,
          27,
          53,
          22,
          26,
          30,
          23,
          61,
          29,
          24,
          22,
          24,
          29,
          37,
          45,
          28,
          34,
          32,
          48,
          28,
          26,
          42,
          37,
          44,
          33,
          24,
          25,
          31,
          28,
          32,
          30,
          24,
          24,
          23,
          44,
          24,
          32,
          29,
          28,
          23,
          26,
          23,
          25,
          42,
          60,
          37,
          57,
          38,
          46,
          27,
          22,
          28,
          42,
          35,
          33,
          33,
          25,
          55,
          29,
          25,
          26,
          41,
          30,
          34,
          61,
          31,
          35,
          29,
          22,
          23,
          28,
          33,
          26,
          47,
          42,
          20,
          29,
          27,
          38,
          24,
          27,
          34,
          26,
          23,
          24,
          53,
          31,
          28,
          33,
          42,
          23,
          31,
          34,
          43,
          24,
          34,
          22,
          28,
          29,
          27,
          31,
          24,
          37,
          36,
          31,
          23,
          27,
          30,
          33,
          20,
          47,
          60,
          20,
          40,
          32,
          23,
          36,
          31,
          30,
          34,
          28,
          50,
          22,
          48,
          22,
          21,
          32,
          38,
          65,
          29,
          44,
          19,
          25,
          26,
          27,
          40,
          27,
          26,
          38,
          40,
          37,
          45,
          42,
          41,
          23,
          43,
          41,
          24,
          29,
          46,
          24,
          25,
          35,
          27,
          34,
          24,
          24,
          21,
          25,
          59,
          21,
          23,
          26,
          37,
          23,
          55,
          32,
          39,
          35,
          24,
          30,
          31,
          25,
          25,
          25,
          23,
          50,
          27,
          39,
          51,
          24,
          26,
          24,
          54,
          46,
          26,
          41,
          33,
          36,
          47,
          23,
          29,
          25,
          48,
          29,
          23,
          68,
          57,
          33,
          32,
          29,
          28,
          35,
          25,
          27,
          43,
          53,
          23,
          42,
          43,
          25,
          31,
          32,
          68,
          33,
          39,
          22,
          55,
          46,
          39,
          22,
          30,
          28,
          42,
          30,
          43,
          31,
          24,
          28,
          26,
          45,
          35,
          23,
          29,
          36,
          47,
          25,
          49,
          33,
          26,
          23
         ],
         "yaxis": "y3"
        }
       ],
       "layout": {
        "annotations": [
         {
          "font": {
           "size": 16
          },
          "showarrow": false,
          "text": "Count Saving Accounts",
          "x": 0.225,
          "xanchor": "center",
          "xref": "paper",
          "y": 1,
          "yanchor": "bottom",
          "yref": "paper"
         },
         {
          "font": {
           "size": 16
          },
          "showarrow": false,
          "text": "Credit Amount by Savings Acc",
          "x": 0.775,
          "xanchor": "center",
          "xref": "paper",
          "y": 1,
          "yanchor": "bottom",
          "yref": "paper"
         },
         {
          "font": {
           "size": 16
          },
          "showarrow": false,
          "text": "Age by Saving accounts",
          "x": 0.5,
          "xanchor": "center",
          "xref": "paper",
          "y": 0.375,
          "yanchor": "bottom",
          "yref": "paper"
         }
        ],
        "boxmode": "group",
        "height": 700,
        "template": {
         "data": {
          "bar": [
           {
            "error_x": {
             "color": "#2a3f5f"
            },
            "error_y": {
             "color": "#2a3f5f"
            },
            "marker": {
             "line": {
              "color": "#E5ECF6",
              "width": 0.5
             },
             "pattern": {
              "fillmode": "overlay",
              "size": 10,
              "solidity": 0.2
             }
            },
            "type": "bar"
           }
          ],
          "barpolar": [
           {
            "marker": {
             "line": {
              "color": "#E5ECF6",
              "width": 0.5
             },
             "pattern": {
              "fillmode": "overlay",
              "size": 10,
              "solidity": 0.2
             }
            },
            "type": "barpolar"
           }
          ],
          "carpet": [
           {
            "aaxis": {
             "endlinecolor": "#2a3f5f",
             "gridcolor": "white",
             "linecolor": "white",
             "minorgridcolor": "white",
             "startlinecolor": "#2a3f5f"
            },
            "baxis": {
             "endlinecolor": "#2a3f5f",
             "gridcolor": "white",
             "linecolor": "white",
             "minorgridcolor": "white",
             "startlinecolor": "#2a3f5f"
            },
            "type": "carpet"
           }
          ],
          "choropleth": [
           {
            "colorbar": {
             "outlinewidth": 0,
             "ticks": ""
            },
            "type": "choropleth"
           }
          ],
          "contour": [
           {
            "colorbar": {
             "outlinewidth": 0,
             "ticks": ""
            },
            "colorscale": [
             [
              0,
              "#0d0887"
             ],
             [
              0.1111111111111111,
              "#46039f"
             ],
             [
              0.2222222222222222,
              "#7201a8"
             ],
             [
              0.3333333333333333,
              "#9c179e"
             ],
             [
              0.4444444444444444,
              "#bd3786"
             ],
             [
              0.5555555555555556,
              "#d8576b"
             ],
             [
              0.6666666666666666,
              "#ed7953"
             ],
             [
              0.7777777777777778,
              "#fb9f3a"
             ],
             [
              0.8888888888888888,
              "#fdca26"
             ],
             [
              1,
              "#f0f921"
             ]
            ],
            "type": "contour"
           }
          ],
          "contourcarpet": [
           {
            "colorbar": {
             "outlinewidth": 0,
             "ticks": ""
            },
            "type": "contourcarpet"
           }
          ],
          "heatmap": [
           {
            "colorbar": {
             "outlinewidth": 0,
             "ticks": ""
            },
            "colorscale": [
             [
              0,
              "#0d0887"
             ],
             [
              0.1111111111111111,
              "#46039f"
             ],
             [
              0.2222222222222222,
              "#7201a8"
             ],
             [
              0.3333333333333333,
              "#9c179e"
             ],
             [
              0.4444444444444444,
              "#bd3786"
             ],
             [
              0.5555555555555556,
              "#d8576b"
             ],
             [
              0.6666666666666666,
              "#ed7953"
             ],
             [
              0.7777777777777778,
              "#fb9f3a"
             ],
             [
              0.8888888888888888,
              "#fdca26"
             ],
             [
              1,
              "#f0f921"
             ]
            ],
            "type": "heatmap"
           }
          ],
          "heatmapgl": [
           {
            "colorbar": {
             "outlinewidth": 0,
             "ticks": ""
            },
            "colorscale": [
             [
              0,
              "#0d0887"
             ],
             [
              0.1111111111111111,
              "#46039f"
             ],
             [
              0.2222222222222222,
              "#7201a8"
             ],
             [
              0.3333333333333333,
              "#9c179e"
             ],
             [
              0.4444444444444444,
              "#bd3786"
             ],
             [
              0.5555555555555556,
              "#d8576b"
             ],
             [
              0.6666666666666666,
              "#ed7953"
             ],
             [
              0.7777777777777778,
              "#fb9f3a"
             ],
             [
              0.8888888888888888,
              "#fdca26"
             ],
             [
              1,
              "#f0f921"
             ]
            ],
            "type": "heatmapgl"
           }
          ],
          "histogram": [
           {
            "marker": {
             "pattern": {
              "fillmode": "overlay",
              "size": 10,
              "solidity": 0.2
             }
            },
            "type": "histogram"
           }
          ],
          "histogram2d": [
           {
            "colorbar": {
             "outlinewidth": 0,
             "ticks": ""
            },
            "colorscale": [
             [
              0,
              "#0d0887"
             ],
             [
              0.1111111111111111,
              "#46039f"
             ],
             [
              0.2222222222222222,
              "#7201a8"
             ],
             [
              0.3333333333333333,
              "#9c179e"
             ],
             [
              0.4444444444444444,
              "#bd3786"
             ],
             [
              0.5555555555555556,
              "#d8576b"
             ],
             [
              0.6666666666666666,
              "#ed7953"
             ],
             [
              0.7777777777777778,
              "#fb9f3a"
             ],
             [
              0.8888888888888888,
              "#fdca26"
             ],
             [
              1,
              "#f0f921"
             ]
            ],
            "type": "histogram2d"
           }
          ],
          "histogram2dcontour": [
           {
            "colorbar": {
             "outlinewidth": 0,
             "ticks": ""
            },
            "colorscale": [
             [
              0,
              "#0d0887"
             ],
             [
              0.1111111111111111,
              "#46039f"
             ],
             [
              0.2222222222222222,
              "#7201a8"
             ],
             [
              0.3333333333333333,
              "#9c179e"
             ],
             [
              0.4444444444444444,
              "#bd3786"
             ],
             [
              0.5555555555555556,
              "#d8576b"
             ],
             [
              0.6666666666666666,
              "#ed7953"
             ],
             [
              0.7777777777777778,
              "#fb9f3a"
             ],
             [
              0.8888888888888888,
              "#fdca26"
             ],
             [
              1,
              "#f0f921"
             ]
            ],
            "type": "histogram2dcontour"
           }
          ],
          "mesh3d": [
           {
            "colorbar": {
             "outlinewidth": 0,
             "ticks": ""
            },
            "type": "mesh3d"
           }
          ],
          "parcoords": [
           {
            "line": {
             "colorbar": {
              "outlinewidth": 0,
              "ticks": ""
             }
            },
            "type": "parcoords"
           }
          ],
          "pie": [
           {
            "automargin": true,
            "type": "pie"
           }
          ],
          "scatter": [
           {
            "fillpattern": {
             "fillmode": "overlay",
             "size": 10,
             "solidity": 0.2
            },
            "type": "scatter"
           }
          ],
          "scatter3d": [
           {
            "line": {
             "colorbar": {
              "outlinewidth": 0,
              "ticks": ""
             }
            },
            "marker": {
             "colorbar": {
              "outlinewidth": 0,
              "ticks": ""
             }
            },
            "type": "scatter3d"
           }
          ],
          "scattercarpet": [
           {
            "marker": {
             "colorbar": {
              "outlinewidth": 0,
              "ticks": ""
             }
            },
            "type": "scattercarpet"
           }
          ],
          "scattergeo": [
           {
            "marker": {
             "colorbar": {
              "outlinewidth": 0,
              "ticks": ""
             }
            },
            "type": "scattergeo"
           }
          ],
          "scattergl": [
           {
            "marker": {
             "colorbar": {
              "outlinewidth": 0,
              "ticks": ""
             }
            },
            "type": "scattergl"
           }
          ],
          "scattermapbox": [
           {
            "marker": {
             "colorbar": {
              "outlinewidth": 0,
              "ticks": ""
             }
            },
            "type": "scattermapbox"
           }
          ],
          "scatterpolar": [
           {
            "marker": {
             "colorbar": {
              "outlinewidth": 0,
              "ticks": ""
             }
            },
            "type": "scatterpolar"
           }
          ],
          "scatterpolargl": [
           {
            "marker": {
             "colorbar": {
              "outlinewidth": 0,
              "ticks": ""
             }
            },
            "type": "scatterpolargl"
           }
          ],
          "scatterternary": [
           {
            "marker": {
             "colorbar": {
              "outlinewidth": 0,
              "ticks": ""
             }
            },
            "type": "scatterternary"
           }
          ],
          "surface": [
           {
            "colorbar": {
             "outlinewidth": 0,
             "ticks": ""
            },
            "colorscale": [
             [
              0,
              "#0d0887"
             ],
             [
              0.1111111111111111,
              "#46039f"
             ],
             [
              0.2222222222222222,
              "#7201a8"
             ],
             [
              0.3333333333333333,
              "#9c179e"
             ],
             [
              0.4444444444444444,
              "#bd3786"
             ],
             [
              0.5555555555555556,
              "#d8576b"
             ],
             [
              0.6666666666666666,
              "#ed7953"
             ],
             [
              0.7777777777777778,
              "#fb9f3a"
             ],
             [
              0.8888888888888888,
              "#fdca26"
             ],
             [
              1,
              "#f0f921"
             ]
            ],
            "type": "surface"
           }
          ],
          "table": [
           {
            "cells": {
             "fill": {
              "color": "#EBF0F8"
             },
             "line": {
              "color": "white"
             }
            },
            "header": {
             "fill": {
              "color": "#C8D4E3"
             },
             "line": {
              "color": "white"
             }
            },
            "type": "table"
           }
          ]
         },
         "layout": {
          "annotationdefaults": {
           "arrowcolor": "#2a3f5f",
           "arrowhead": 0,
           "arrowwidth": 1
          },
          "autotypenumbers": "strict",
          "coloraxis": {
           "colorbar": {
            "outlinewidth": 0,
            "ticks": ""
           }
          },
          "colorscale": {
           "diverging": [
            [
             0,
             "#8e0152"
            ],
            [
             0.1,
             "#c51b7d"
            ],
            [
             0.2,
             "#de77ae"
            ],
            [
             0.3,
             "#f1b6da"
            ],
            [
             0.4,
             "#fde0ef"
            ],
            [
             0.5,
             "#f7f7f7"
            ],
            [
             0.6,
             "#e6f5d0"
            ],
            [
             0.7,
             "#b8e186"
            ],
            [
             0.8,
             "#7fbc41"
            ],
            [
             0.9,
             "#4d9221"
            ],
            [
             1,
             "#276419"
            ]
           ],
           "sequential": [
            [
             0,
             "#0d0887"
            ],
            [
             0.1111111111111111,
             "#46039f"
            ],
            [
             0.2222222222222222,
             "#7201a8"
            ],
            [
             0.3333333333333333,
             "#9c179e"
            ],
            [
             0.4444444444444444,
             "#bd3786"
            ],
            [
             0.5555555555555556,
             "#d8576b"
            ],
            [
             0.6666666666666666,
             "#ed7953"
            ],
            [
             0.7777777777777778,
             "#fb9f3a"
            ],
            [
             0.8888888888888888,
             "#fdca26"
            ],
            [
             1,
             "#f0f921"
            ]
           ],
           "sequentialminus": [
            [
             0,
             "#0d0887"
            ],
            [
             0.1111111111111111,
             "#46039f"
            ],
            [
             0.2222222222222222,
             "#7201a8"
            ],
            [
             0.3333333333333333,
             "#9c179e"
            ],
            [
             0.4444444444444444,
             "#bd3786"
            ],
            [
             0.5555555555555556,
             "#d8576b"
            ],
            [
             0.6666666666666666,
             "#ed7953"
            ],
            [
             0.7777777777777778,
             "#fb9f3a"
            ],
            [
             0.8888888888888888,
             "#fdca26"
            ],
            [
             1,
             "#f0f921"
            ]
           ]
          },
          "colorway": [
           "#636efa",
           "#EF553B",
           "#00cc96",
           "#ab63fa",
           "#FFA15A",
           "#19d3f3",
           "#FF6692",
           "#B6E880",
           "#FF97FF",
           "#FECB52"
          ],
          "font": {
           "color": "#2a3f5f"
          },
          "geo": {
           "bgcolor": "white",
           "lakecolor": "white",
           "landcolor": "#E5ECF6",
           "showlakes": true,
           "showland": true,
           "subunitcolor": "white"
          },
          "hoverlabel": {
           "align": "left"
          },
          "hovermode": "closest",
          "mapbox": {
           "style": "light"
          },
          "paper_bgcolor": "white",
          "plot_bgcolor": "#E5ECF6",
          "polar": {
           "angularaxis": {
            "gridcolor": "white",
            "linecolor": "white",
            "ticks": ""
           },
           "bgcolor": "#E5ECF6",
           "radialaxis": {
            "gridcolor": "white",
            "linecolor": "white",
            "ticks": ""
           }
          },
          "scene": {
           "xaxis": {
            "backgroundcolor": "#E5ECF6",
            "gridcolor": "white",
            "gridwidth": 2,
            "linecolor": "white",
            "showbackground": true,
            "ticks": "",
            "zerolinecolor": "white"
           },
           "yaxis": {
            "backgroundcolor": "#E5ECF6",
            "gridcolor": "white",
            "gridwidth": 2,
            "linecolor": "white",
            "showbackground": true,
            "ticks": "",
            "zerolinecolor": "white"
           },
           "zaxis": {
            "backgroundcolor": "#E5ECF6",
            "gridcolor": "white",
            "gridwidth": 2,
            "linecolor": "white",
            "showbackground": true,
            "ticks": "",
            "zerolinecolor": "white"
           }
          },
          "shapedefaults": {
           "line": {
            "color": "#2a3f5f"
           }
          },
          "ternary": {
           "aaxis": {
            "gridcolor": "white",
            "linecolor": "white",
            "ticks": ""
           },
           "baxis": {
            "gridcolor": "white",
            "linecolor": "white",
            "ticks": ""
           },
           "bgcolor": "#E5ECF6",
           "caxis": {
            "gridcolor": "white",
            "linecolor": "white",
            "ticks": ""
           }
          },
          "title": {
           "x": 0.05
          },
          "xaxis": {
           "automargin": true,
           "gridcolor": "white",
           "linecolor": "white",
           "ticks": "",
           "title": {
            "standoff": 15
           },
           "zerolinecolor": "white",
           "zerolinewidth": 2
          },
          "yaxis": {
           "automargin": true,
           "gridcolor": "white",
           "linecolor": "white",
           "ticks": "",
           "title": {
            "standoff": 15
           },
           "zerolinecolor": "white",
           "zerolinewidth": 2
          }
         }
        },
        "title": {
         "text": "Saving Accounts Exploration"
        },
        "width": 800,
        "xaxis": {
         "anchor": "y",
         "domain": [
          0,
          0.45
         ]
        },
        "xaxis2": {
         "anchor": "y2",
         "domain": [
          0.55,
          1
         ]
        },
        "xaxis3": {
         "anchor": "y3",
         "domain": [
          0,
          1
         ]
        },
        "yaxis": {
         "anchor": "x",
         "domain": [
          0.625,
          1
         ]
        },
        "yaxis2": {
         "anchor": "x2",
         "domain": [
          0.625,
          1
         ]
        },
        "yaxis3": {
         "anchor": "x3",
         "domain": [
          0,
          0.375
         ]
        }
       }
      },
      "text/html": [
       "<div>                            <div id=\"103d2069-e3ac-4250-b84f-c48994ab281c\" class=\"plotly-graph-div\" style=\"height:700px; width:800px;\"></div>            <script type=\"text/javascript\">                require([\"plotly\"], function(Plotly) {                    window.PLOTLYENV=window.PLOTLYENV || {};                                    if (document.getElementById(\"103d2069-e3ac-4250-b84f-c48994ab281c\")) {                    Plotly.newPlot(                        \"103d2069-e3ac-4250-b84f-c48994ab281c\",                        [{\"name\":\"Good credit\",\"x\":[\"little\",\"moderate\",\"quite rich\",\"rich\"],\"xaxis\":\"x\",\"y\":[386,69,52,42],\"yaxis\":\"y\",\"type\":\"bar\"},{\"name\":\"Bad credit\",\"x\":[\"little\",\"moderate\",\"quite rich\",\"rich\"],\"xaxis\":\"x\",\"y\":[217,34,11,6],\"yaxis\":\"y\",\"type\":\"bar\"},{\"name\":\"Bad credit\",\"x\":[\"little\",\"little\",\"little\",\"little\",\"little\",\"little\",\"moderate\",\"little\",\"little\",\"little\",\"little\",\"little\",\"little\",null,\"little\",\"little\",\"little\",\"little\",null,\"little\",null,\"moderate\",\"little\",null,\"little\",\"little\",\"little\",\"little\",null,\"quite rich\",\"little\",null,\"little\",\"little\",\"little\",\"quite rich\",\"little\",\"little\",\"little\",\"little\",\"little\",\"little\",\"little\",null,\"little\",\"little\",null,\"little\",\"little\",\"moderate\",\"rich\",\"moderate\",\"little\",\"moderate\",\"little\",\"moderate\",\"little\",\"little\",\"little\",\"little\",\"rich\",\"little\",\"little\",\"little\",\"little\",null,\"moderate\",null,\"little\",\"little\",\"little\",\"little\",\"little\",\"little\",\"little\",\"little\",\"little\",\"little\",\"little\",\"little\",\"little\",null,\"quite rich\",\"moderate\",\"little\",\"little\",\"little\",\"little\",\"little\",\"moderate\",\"moderate\",\"moderate\",\"little\",\"little\",null,\"rich\",\"little\",\"little\",\"little\",\"little\",\"little\",\"little\",\"little\",\"moderate\",\"little\",\"little\",\"little\",\"little\",\"little\",\"little\",\"quite rich\",\"little\",null,\"little\",null,null,\"little\",\"little\",null,\"little\",\"little\",\"little\",\"little\",\"rich\",\"little\",\"little\",\"little\",\"moderate\",\"little\",\"little\",\"little\",\"little\",\"little\",\"little\",null,\"moderate\",\"little\",\"moderate\",\"little\",null,\"moderate\",\"little\",\"little\",\"little\",\"little\",\"little\",\"moderate\",\"little\",\"little\",\"little\",null,\"little\",\"little\",\"little\",\"little\",\"little\",\"moderate\",null,\"little\",\"little\",\"little\",null,\"little\",\"little\",\"little\",\"little\",\"little\",\"little\",\"little\",\"little\",\"little\",\"little\",null,\"moderate\",\"little\",\"little\",\"little\",\"little\",\"little\",\"little\",\"moderate\",\"moderate\",\"moderate\",\"little\",\"moderate\",\"little\",null,\"little\",\"moderate\",\"little\",\"little\",\"little\",\"little\",\"little\",\"moderate\",null,\"quite rich\",\"little\",\"little\",\"little\",\"little\",\"moderate\",\"little\",null,\"little\",\"quite rich\",\"moderate\",\"quite rich\",\"little\",\"moderate\",\"little\",\"little\",\"little\",\"little\",\"rich\",\"little\",\"little\",\"little\",\"little\",\"little\",\"little\",\"moderate\",\"little\",\"little\",\"rich\",null,null,\"little\",\"little\",null,\"little\",\"little\",null,\"little\",\"moderate\",\"little\",\"little\",\"little\",null,\"little\",\"little\",\"little\",\"little\",\"little\",\"little\",\"little\",\"little\",\"little\",null,\"little\",\"little\",\"little\",\"little\",\"little\",\"little\",null,\"little\",\"little\",\"little\",\"little\",\"little\",\"little\",\"little\",\"little\",\"little\",\"little\",\"little\",\"little\",\"little\",\"little\",\"little\",\"little\",\"little\",\"moderate\",\"little\",\"little\",\"little\",\"little\",\"little\",\"little\",\"moderate\",\"little\",\"little\",\"quite rich\",\"little\",\"moderate\",\"little\",\"quite rich\",\"little\",\"little\",\"quite rich\",\"quite rich\",\"little\",\"little\",\"little\",\"moderate\",\"little\",\"little\",\"little\",\"little\"],\"xaxis\":\"x2\",\"y\":[5951,4870,5234,1295,4308,1199,1282,12579,6836,4746,2100,6143,2225,6468,6229,1953,14421,1819,1977,3965,5943,12612,1108,797,15945,11938,6458,7855,7174,4281,1835,1924,639,3499,6887,766,2462,1282,1131,1935,950,2064,3414,7485,9572,4455,1647,884,5129,674,4591,3844,3915,3031,1501,951,4297,902,5293,1908,10961,7865,1478,4210,1823,14555,2767,915,4605,433,2150,2149,802,8978,3060,11998,4611,1024,9398,9960,3804,1344,10127,727,1237,685,2746,4249,1938,1864,7408,11590,4110,3384,1275,1136,959,6199,1246,4463,2406,2473,3446,14782,7685,14318,12976,1223,8648,2039,939,2292,1381,2579,1042,2762,1190,11328,1484,609,719,5096,1842,1512,4817,3386,1659,3092,448,654,1245,3114,1209,8318,2996,9034,3123,1216,1207,1309,6850,759,7127,3190,7119,2302,2631,2319,7763,1534,6350,2864,1333,626,6999,1331,2278,5003,3552,1928,1546,12389,1372,6758,3234,2820,1056,2384,2039,1217,2246,2718,1358,931,1442,4241,2775,918,1837,3349,2671,741,1240,1808,3441,1530,3914,2600,1437,1553,1980,1355,4370,750,4623,7980,1386,947,684,1922,2303,8086,888,900,4843,2580,5595,1123,6331,6560,2969,1198,14027,1337,433,1228,2570,1882,6416,1987,11560,4280,1274,976,1555,1285,1271,691,2124,12680,3108,8065,1371,4933,836,6224,5998,1188,7511,9271,1778,9629,3051,3931,1345,2712,3966,4165,8335,1216,11816,2327,1082,5179,1943,6761,709,2235,1442,3959,2169,2439,2210,1422,4057,795,15672,4153,2625,4736,3161,18424,14896,2359,3345,1366,6872,697,10297,1670,1919,745,6288,3349,1533,3621,2145,4113,10974,4006,2397,2520,1193,7297,2538,1264,8386,4844,8229,1845],\"yaxis\":\"y2\",\"type\":\"box\"},{\"name\":\"Good credit\",\"x\":[null,\"little\",\"little\",null,\"quite rich\",\"little\",\"rich\",\"little\",\"little\",null,null,\"quite rich\",\"little\",\"quite rich\",\"little\",\"moderate\",null,\"little\",\"little\",\"rich\",\"little\",\"rich\",\"little\",\"moderate\",null,\"little\",\"little\",\"little\",\"little\",\"quite rich\",\"quite rich\",\"little\",\"moderate\",\"little\",\"quite rich\",\"quite rich\",\"little\",\"moderate\",null,\"little\",\"little\",null,null,\"little\",\"little\",\"little\",null,\"little\",null,\"little\",\"rich\",null,\"little\",null,\"little\",\"little\",\"little\",\"little\",null,\"little\",\"quite rich\",\"moderate\",\"little\",\"little\",\"little\",\"little\",\"moderate\",\"little\",\"little\",null,\"rich\",null,\"moderate\",\"little\",null,\"moderate\",\"little\",\"little\",\"little\",null,\"little\",null,\"quite rich\",\"moderate\",\"little\",\"little\",\"quite rich\",null,null,\"quite rich\",\"little\",\"little\",\"little\",\"little\",\"little\",\"little\",null,\"little\",\"little\",\"moderate\",null,\"rich\",null,\"little\",\"rich\",\"little\",\"little\",\"little\",\"moderate\",\"little\",\"moderate\",\"little\",\"rich\",\"moderate\",\"little\",\"little\",\"rich\",\"moderate\",\"moderate\",\"little\",\"moderate\",null,\"moderate\",\"little\",\"quite rich\",\"little\",\"quite rich\",\"quite rich\",\"rich\",\"little\",\"little\",\"little\",\"little\",\"quite rich\",\"little\",\"little\",\"rich\",\"little\",\"little\",\"little\",\"little\",\"little\",null,\"quite rich\",\"little\",\"little\",\"little\",\"little\",\"little\",\"little\",\"little\",\"rich\",null,null,null,null,\"little\",\"little\",\"little\",\"little\",\"little\",null,\"little\",null,\"little\",\"little\",\"little\",\"quite rich\",\"moderate\",\"little\",\"little\",\"little\",\"little\",\"little\",\"little\",\"quite rich\",\"little\",\"little\",\"moderate\",\"little\",\"rich\",\"little\",\"moderate\",null,null,\"little\",\"moderate\",\"moderate\",\"little\",\"little\",\"little\",\"little\",\"little\",null,\"little\",null,null,\"quite rich\",null,\"little\",\"little\",null,\"moderate\",\"rich\",\"little\",null,null,\"moderate\",\"little\",\"little\",\"moderate\",\"little\",\"little\",\"little\",\"little\",null,null,null,\"little\",\"rich\",\"little\",\"little\",\"rich\",null,\"little\",null,\"moderate\",\"little\",null,\"little\",null,\"little\",\"little\",\"little\",\"rich\",\"little\",\"little\",null,\"rich\",\"little\",\"little\",\"little\",\"little\",\"little\",\"little\",\"little\",\"little\",\"quite rich\",\"little\",\"little\",\"little\",\"little\",\"quite rich\",\"moderate\",\"little\",null,\"quite rich\",null,\"little\",null,null,\"little\",\"little\",\"little\",\"little\",\"little\",\"little\",null,\"little\",\"little\",null,\"little\",null,\"moderate\",null,null,\"little\",\"moderate\",\"little\",null,\"little\",\"quite rich\",\"little\",\"little\",\"rich\",\"little\",\"little\",\"little\",\"moderate\",\"little\",\"little\",\"rich\",\"little\",null,\"little\",null,null,\"little\",\"quite rich\",\"little\",\"little\",\"quite rich\",\"little\",null,\"quite rich\",\"rich\",null,\"little\",\"moderate\",\"little\",\"little\",\"rich\",\"little\",\"little\",\"little\",\"little\",\"little\",\"quite rich\",\"rich\",\"little\",\"little\",\"little\",\"little\",null,\"little\",null,null,\"little\",\"little\",\"little\",\"little\",\"little\",\"little\",\"little\",\"little\",\"little\",\"little\",null,\"little\",\"little\",null,\"little\",\"little\",null,\"quite rich\",\"little\",\"moderate\",\"little\",\"little\",\"little\",\"rich\",\"rich\",\"quite rich\",\"little\",\"little\",\"moderate\",\"little\",\"little\",\"moderate\",null,\"little\",\"little\",\"little\",\"moderate\",\"little\",\"moderate\",\"quite rich\",\"little\",\"moderate\",\"little\",\"little\",\"little\",null,\"little\",\"little\",\"moderate\",null,\"little\",\"moderate\",\"little\",\"little\",\"moderate\",\"little\",\"little\",\"little\",\"little\",\"moderate\",null,null,\"little\",\"little\",\"little\",\"little\",\"little\",\"little\",null,null,\"quite rich\",\"moderate\",\"little\",null,\"little\",null,\"moderate\",\"rich\",null,\"little\",null,\"little\",\"little\",\"little\",\"little\",null,\"little\",\"little\",\"little\",null,\"little\",\"little\",\"little\",null,\"rich\",\"little\",\"little\",\"little\",\"quite rich\",\"little\",\"little\",null,\"rich\",\"little\",null,null,\"little\",\"little\",\"little\",\"little\",null,\"little\",\"quite rich\",null,\"little\",null,\"little\",\"quite rich\",\"little\",\"little\",\"little\",\"little\",\"little\",\"little\",\"little\",\"little\",\"little\",null,\"little\",\"little\",\"little\",\"little\",\"little\",\"little\",\"little\",\"rich\",\"little\",\"little\",\"moderate\",\"moderate\",\"little\",\"quite rich\",\"little\",\"little\",\"little\",\"little\",\"little\",null,\"little\",\"little\",\"moderate\",null,null,\"moderate\",\"moderate\",\"rich\",\"little\",\"moderate\",\"moderate\",null,\"little\",\"quite rich\",\"little\",\"little\",\"little\",\"little\",\"moderate\",\"moderate\",\"little\",\"quite rich\",\"little\",\"little\",\"quite rich\",null,\"little\",null,null,\"little\",null,\"moderate\",\"quite rich\",\"rich\",\"quite rich\",\"rich\",\"little\",\"little\",\"rich\",\"little\",null,\"moderate\",\"little\",\"moderate\",\"little\",null,\"quite rich\",null,\"little\",\"little\",null,\"little\",\"little\",\"moderate\",\"little\",\"little\",\"little\",null,\"little\",\"moderate\",\"little\",null,\"little\",\"little\",null,\"little\",\"moderate\",\"quite rich\",\"little\",\"little\",\"rich\",\"little\",\"rich\",\"little\",null,\"rich\",\"quite rich\",null,null,null,\"little\",\"quite rich\",\"moderate\",\"little\",null,null,\"little\",\"little\",\"little\",null,null,\"little\",null,\"little\",\"little\",\"little\",\"little\",\"quite rich\",\"little\",\"little\",\"little\",\"little\",\"little\",\"little\",\"little\",null,\"quite rich\",null,null,\"little\",\"little\",\"little\",\"little\",\"little\",\"little\",null,\"little\",\"little\",null,\"little\",\"little\",\"moderate\",null,\"little\",\"moderate\",\"rich\",\"rich\",\"quite rich\",\"little\",\"little\",null,\"little\",\"quite rich\",\"little\",\"moderate\",null,\"little\",\"rich\",\"little\",\"little\",null,\"little\",null,null,\"little\",null,\"little\",null,\"little\",\"little\",\"little\",\"little\",null,null,\"little\",\"rich\",null,null,null,null,\"little\",\"little\",null,null,\"little\",null,\"little\",null,\"rich\",\"moderate\",\"little\",\"quite rich\",\"little\",\"little\",null,\"little\",\"little\",\"little\",\"quite rich\",\"little\",\"little\",null,null,\"little\",null,\"little\",\"little\",\"quite rich\",null,\"little\",\"little\",\"rich\",null,\"little\",\"moderate\",\"little\",\"little\",null,\"little\",null,\"little\",null,\"little\",\"moderate\",\"little\",\"little\",\"quite rich\",\"little\",null,\"moderate\",\"little\",\"little\",\"little\",\"moderate\",\"little\",\"little\",null,\"moderate\",null,\"little\",null,\"little\",\"little\",\"little\",\"moderate\"],\"xaxis\":\"x2\",\"y\":[1169,2096,7882,9055,2835,6948,3059,1567,1403,2424,8072,3430,2134,2647,2241,1804,2069,1374,426,409,2415,1913,4020,5866,1264,1474,6110,1225,458,2333,1158,6204,6187,1393,2299,1352,7228,2073,2333,5965,1262,3378,783,9566,1961,1391,1537,3181,5190,2171,1007,2394,8133,730,1164,5954,1526,4771,9436,3832,1213,1568,1755,2315,1412,1295,2249,618,1409,3617,1318,2012,2622,2337,7057,1469,2323,932,1919,2445,6078,7721,1410,1449,392,6260,1680,3578,2132,2366,3868,1768,781,2121,701,1860,8487,2708,1984,10144,1240,8613,2728,1881,709,4795,3416,2288,3566,860,682,5371,1582,1346,1924,5848,7758,6967,1288,339,3512,1898,2872,1055,1262,7308,909,2978,1577,3972,763,1414,2577,338,1963,571,3777,1360,1175,3244,2108,1382,2760,936,1168,5117,1495,10623,1935,1424,6568,1413,3074,3835,3342,932,3104,3913,3021,1364,625,1200,707,2978,4657,2613,3149,2507,2141,866,1544,1291,2522,1595,1185,3447,1258,717,1204,1925,666,2251,4151,2030,7418,2684,3812,1154,1657,1603,5302,2748,1231,6304,1533,999,2662,1402,12169,2697,2404,1262,1901,3368,1574,1445,1520,3878,10722,4788,7582,1092,1076,6419,4796,7629,4675,1287,2515,2745,672,1038,1543,4811,276,5381,5511,3749,1494,708,4351,701,3643,2910,2659,1028,3398,5801,1525,4473,1068,6615,2101,4169,1521,5743,3599,3213,4439,3949,1459,882,3758,1743,1236,3229,727,2331,776,1239,3399,2247,1766,1542,3850,3650,3001,3079,6070,2146,13756,2320,846,362,2212,1283,1330,4272,2238,1126,7374,2326,1449,1820,983,3249,1957,2406,11760,2578,2348,1516,1473,1887,802,2899,2197,1053,3235,1967,7253,1597,5842,8471,2782,3186,2028,958,1591,2779,2743,1149,1313,3448,1872,2058,2136,660,1287,3394,1884,1620,2629,1244,2576,1424,11054,518,2759,2670,2679,3905,343,4594,3620,1721,3017,754,1950,2924,7238,2764,4679,1238,2569,5152,1037,1478,3573,1201,3622,960,1163,3077,3757,1418,3518,1934,1237,368,2122,1585,1301,1323,5493,1126,2360,1413,8588,4686,2687,585,2255,609,1361,1203,700,5507,3488,1113,7966,1532,1503,662,2273,1503,1311,3105,1374,3612,3049,2032,1255,2022,1552,8858,996,1750,1995,1199,2964,683,4712,1553,2578,3979,5954,5433,806,1082,2788,2930,1927,937,3124,1388,2133,2799,1289,385,1965,1572,3863,2329,1275,2828,4526,2051,1300,3357,3632,12204,9157,3676,640,3652,1858,1979,2116,4042,3832,3660,1444,1393,1376,15653,1493,1308,1851,1880,4583,7476,2346,3973,10222,4221,6361,1297,2241,1050,1047,6314,3496,3609,3017,4139,5742,10366,2080,4530,5150,2384,1453,1538,2279,1478,5103,9857,6527,1347,2862,2753,3651,975,2631,2896,4716,2284,1236,1103,926,1800,1905,1377,2503,2528,5324,1206,2118,629,2476,1138,7596,3077,1505,3148,6148,790,250,1316,1275,6403,760,2603,3380,3990,4380,6761,2325,1048,3160,2483,14179,1797,2511,5248,3029,428,841,5771,1299,1393,5045,2214,2463,1155,2901,3617,1655,2812,3275,2223,1480,3535,3509,5711,3872,1940,1410,6468,1941,2675,2751,6313,1221,2892,3062,2301,1258,717,1549,1597,1795,4272,976,7472,590,930,9283,907,484,7432,1338,1554,15857,1101,3016,731,3780,1602,6681,2375,5084,886,601,2957,2611,2993,1559,3422,3976,1249,1364,4042,1471,10875,1474,894,3343,3577,5804,4526,2221,2389,3331,7409,652,7678,1343,1382,874,3590,1322,1940,3595,6742,7814,9277,2181,1098,2825,6614,7824,2442,1829,2171,5800,1169,8947,2606,1592,2186,3485,10477,1386,1278,1107,3763,3711,3594,3195,4454,2991,2142,2848,1817,12749,2002,1049,1867,1344,1747,1224,522,1498,2063,6842,3527,1546,929,1455,1845,8358,2859,3590,1893,1231,3656,1154,3069,1740,2353,3556,454,1715,3568,7166,3939,1514,7393,2831,1258,753,2427,2923,2028,1433,6289,1409,6579,1743,3565,1569,1936,3959,2390,1736,3857,804,4576],\"yaxis\":\"y2\",\"type\":\"box\"},{\"name\":\"Good credit\",\"x\":[null,\"little\",\"little\",null,\"quite rich\",\"little\",\"rich\",\"little\",\"little\",null,null,\"quite rich\",\"little\",\"quite rich\",\"little\",\"moderate\",null,\"little\",\"little\",\"rich\",\"little\",\"rich\",\"little\",\"moderate\",null,\"little\",\"little\",\"little\",\"little\",\"quite rich\",\"quite rich\",\"little\",\"moderate\",\"little\",\"quite rich\",\"quite rich\",\"little\",\"moderate\",null,\"little\",\"little\",null,null,\"little\",\"little\",\"little\",null,\"little\",null,\"little\",\"rich\",null,\"little\",null,\"little\",\"little\",\"little\",\"little\",null,\"little\",\"quite rich\",\"moderate\",\"little\",\"little\",\"little\",\"little\",\"moderate\",\"little\",\"little\",null,\"rich\",null,\"moderate\",\"little\",null,\"moderate\",\"little\",\"little\",\"little\",null,\"little\",null,\"quite rich\",\"moderate\",\"little\",\"little\",\"quite rich\",null,null,\"quite rich\",\"little\",\"little\",\"little\",\"little\",\"little\",\"little\",null,\"little\",\"little\",\"moderate\",null,\"rich\",null,\"little\",\"rich\",\"little\",\"little\",\"little\",\"moderate\",\"little\",\"moderate\",\"little\",\"rich\",\"moderate\",\"little\",\"little\",\"rich\",\"moderate\",\"moderate\",\"little\",\"moderate\",null,\"moderate\",\"little\",\"quite rich\",\"little\",\"quite rich\",\"quite rich\",\"rich\",\"little\",\"little\",\"little\",\"little\",\"quite rich\",\"little\",\"little\",\"rich\",\"little\",\"little\",\"little\",\"little\",\"little\",null,\"quite rich\",\"little\",\"little\",\"little\",\"little\",\"little\",\"little\",\"little\",\"rich\",null,null,null,null,\"little\",\"little\",\"little\",\"little\",\"little\",null,\"little\",null,\"little\",\"little\",\"little\",\"quite rich\",\"moderate\",\"little\",\"little\",\"little\",\"little\",\"little\",\"little\",\"quite rich\",\"little\",\"little\",\"moderate\",\"little\",\"rich\",\"little\",\"moderate\",null,null,\"little\",\"moderate\",\"moderate\",\"little\",\"little\",\"little\",\"little\",\"little\",null,\"little\",null,null,\"quite rich\",null,\"little\",\"little\",null,\"moderate\",\"rich\",\"little\",null,null,\"moderate\",\"little\",\"little\",\"moderate\",\"little\",\"little\",\"little\",\"little\",null,null,null,\"little\",\"rich\",\"little\",\"little\",\"rich\",null,\"little\",null,\"moderate\",\"little\",null,\"little\",null,\"little\",\"little\",\"little\",\"rich\",\"little\",\"little\",null,\"rich\",\"little\",\"little\",\"little\",\"little\",\"little\",\"little\",\"little\",\"little\",\"quite rich\",\"little\",\"little\",\"little\",\"little\",\"quite rich\",\"moderate\",\"little\",null,\"quite rich\",null,\"little\",null,null,\"little\",\"little\",\"little\",\"little\",\"little\",\"little\",null,\"little\",\"little\",null,\"little\",null,\"moderate\",null,null,\"little\",\"moderate\",\"little\",null,\"little\",\"quite rich\",\"little\",\"little\",\"rich\",\"little\",\"little\",\"little\",\"moderate\",\"little\",\"little\",\"rich\",\"little\",null,\"little\",null,null,\"little\",\"quite rich\",\"little\",\"little\",\"quite rich\",\"little\",null,\"quite rich\",\"rich\",null,\"little\",\"moderate\",\"little\",\"little\",\"rich\",\"little\",\"little\",\"little\",\"little\",\"little\",\"quite rich\",\"rich\",\"little\",\"little\",\"little\",\"little\",null,\"little\",null,null,\"little\",\"little\",\"little\",\"little\",\"little\",\"little\",\"little\",\"little\",\"little\",\"little\",null,\"little\",\"little\",null,\"little\",\"little\",null,\"quite rich\",\"little\",\"moderate\",\"little\",\"little\",\"little\",\"rich\",\"rich\",\"quite rich\",\"little\",\"little\",\"moderate\",\"little\",\"little\",\"moderate\",null,\"little\",\"little\",\"little\",\"moderate\",\"little\",\"moderate\",\"quite rich\",\"little\",\"moderate\",\"little\",\"little\",\"little\",null,\"little\",\"little\",\"moderate\",null,\"little\",\"moderate\",\"little\",\"little\",\"moderate\",\"little\",\"little\",\"little\",\"little\",\"moderate\",null,null,\"little\",\"little\",\"little\",\"little\",\"little\",\"little\",null,null,\"quite rich\",\"moderate\",\"little\",null,\"little\",null,\"moderate\",\"rich\",null,\"little\",null,\"little\",\"little\",\"little\",\"little\",null,\"little\",\"little\",\"little\",null,\"little\",\"little\",\"little\",null,\"rich\",\"little\",\"little\",\"little\",\"quite rich\",\"little\",\"little\",null,\"rich\",\"little\",null,null,\"little\",\"little\",\"little\",\"little\",null,\"little\",\"quite rich\",null,\"little\",null,\"little\",\"quite rich\",\"little\",\"little\",\"little\",\"little\",\"little\",\"little\",\"little\",\"little\",\"little\",null,\"little\",\"little\",\"little\",\"little\",\"little\",\"little\",\"little\",\"rich\",\"little\",\"little\",\"moderate\",\"moderate\",\"little\",\"quite rich\",\"little\",\"little\",\"little\",\"little\",\"little\",null,\"little\",\"little\",\"moderate\",null,null,\"moderate\",\"moderate\",\"rich\",\"little\",\"moderate\",\"moderate\",null,\"little\",\"quite rich\",\"little\",\"little\",\"little\",\"little\",\"moderate\",\"moderate\",\"little\",\"quite rich\",\"little\",\"little\",\"quite rich\",null,\"little\",null,null,\"little\",null,\"moderate\",\"quite rich\",\"rich\",\"quite rich\",\"rich\",\"little\",\"little\",\"rich\",\"little\",null,\"moderate\",\"little\",\"moderate\",\"little\",null,\"quite rich\",null,\"little\",\"little\",null,\"little\",\"little\",\"moderate\",\"little\",\"little\",\"little\",null,\"little\",\"moderate\",\"little\",null,\"little\",\"little\",null,\"little\",\"moderate\",\"quite rich\",\"little\",\"little\",\"rich\",\"little\",\"rich\",\"little\",null,\"rich\",\"quite rich\",null,null,null,\"little\",\"quite rich\",\"moderate\",\"little\",null,null,\"little\",\"little\",\"little\",null,null,\"little\",null,\"little\",\"little\",\"little\",\"little\",\"quite rich\",\"little\",\"little\",\"little\",\"little\",\"little\",\"little\",\"little\",null,\"quite rich\",null,null,\"little\",\"little\",\"little\",\"little\",\"little\",\"little\",null,\"little\",\"little\",null,\"little\",\"little\",\"moderate\",null,\"little\",\"moderate\",\"rich\",\"rich\",\"quite rich\",\"little\",\"little\",null,\"little\",\"quite rich\",\"little\",\"moderate\",null,\"little\",\"rich\",\"little\",\"little\",null,\"little\",null,null,\"little\",null,\"little\",null,\"little\",\"little\",\"little\",\"little\",null,null,\"little\",\"rich\",null,null,null,null,\"little\",\"little\",null,null,\"little\",null,\"little\",null,\"rich\",\"moderate\",\"little\",\"quite rich\",\"little\",\"little\",null,\"little\",\"little\",\"little\",\"quite rich\",\"little\",\"little\",null,null,\"little\",null,\"little\",\"little\",\"quite rich\",null,\"little\",\"little\",\"rich\",null,\"little\",\"moderate\",\"little\",\"little\",null,\"little\",null,\"little\",null,\"little\",\"moderate\",\"little\",\"little\",\"quite rich\",\"little\",null,\"moderate\",\"little\",\"little\",\"little\",\"moderate\",\"little\",\"little\",null,\"moderate\",null,\"little\",null,\"little\",\"little\",\"little\",\"moderate\"],\"xaxis\":\"x3\",\"y\":[67,49,45,35,53,35,61,22,28,53,25,31,48,44,48,44,26,36,39,42,34,36,27,30,57,33,31,37,24,30,26,44,24,35,39,23,39,28,29,30,25,31,26,31,23,27,50,26,48,29,22,25,30,46,51,41,66,51,39,22,47,24,58,52,29,27,30,56,54,20,54,61,34,36,36,41,24,24,35,26,32,30,35,31,23,28,35,47,27,36,41,24,63,30,40,34,24,27,47,21,38,27,35,44,27,30,27,23,30,39,51,28,46,42,38,24,29,36,48,45,38,34,36,30,36,70,36,32,20,25,26,33,42,52,31,65,50,31,68,33,29,28,36,52,27,26,38,38,43,26,21,55,33,45,51,39,31,23,24,64,26,23,30,32,30,27,22,51,35,25,42,35,39,51,27,35,25,52,35,26,39,46,35,24,27,35,23,57,27,55,36,57,32,36,38,25,32,37,36,32,26,49,29,23,50,49,63,37,35,26,31,49,26,44,56,46,20,45,43,32,54,49,33,24,22,40,25,26,29,38,48,32,27,34,28,36,39,49,34,31,28,75,23,28,31,24,26,25,33,37,43,23,23,34,23,38,46,49,28,61,37,36,21,36,27,22,40,36,33,23,63,34,36,52,39,25,26,26,25,21,40,27,27,30,19,39,31,31,32,55,46,43,39,28,27,43,43,27,26,20,35,40,35,23,31,20,30,47,34,21,29,46,20,74,36,33,25,23,37,65,39,30,29,41,35,55,30,29,34,35,29,36,27,32,37,36,34,38,34,63,32,26,35,36,24,25,39,44,23,26,57,30,44,52,62,35,26,26,27,38,39,40,32,28,42,49,36,28,45,32,26,20,54,37,40,43,36,44,23,26,30,31,42,41,32,41,26,25,75,37,45,60,61,37,32,35,23,45,27,67,49,29,37,23,34,41,38,26,22,27,24,27,33,27,49,26,52,36,21,58,42,36,32,45,23,22,74,33,45,29,22,48,27,37,49,27,22,35,41,36,64,28,23,47,28,21,34,38,33,32,32,50,35,22,37,28,41,23,50,35,50,27,34,27,47,27,31,42,24,26,33,64,26,56,37,33,47,31,34,27,30,35,31,25,25,29,44,28,50,29,38,24,40,47,41,32,35,25,37,32,46,25,63,40,32,31,31,66,41,47,36,33,44,28,37,29,35,45,32,23,41,22,30,28,23,26,33,49,23,25,74,31,59,24,27,40,31,28,63,26,36,52,66,37,25,38,67,60,31,60,35,40,38,41,27,51,32,22,22,54,35,54,48,24,35,24,26,65,55,26,28,54,62,24,43,27,24,47,35,30,38,44,42,21,23,63,46,28,50,47,35,28,59,43,35,45,33,40,28,26,27,32,20,27,42,37,24,40,46,26,24,29,40,36,28,36,38,48,36,65,34,34,40,43,46,38,34,29,31,28,35,33,44,42,40,36,20,24,27,46,33,34,25,28,32,28,37,30,21,58,43,24,30,42,23,30,46,45,31,31,42,46,30,38,40,29,57,49,37,30,30,47,29,22,26,54,29,40,22,43,33,57,64,42,28,30,25,33,64,29,48,37,34,23,30,50,31,40,38,27],\"yaxis\":\"y3\",\"type\":\"box\"},{\"name\":\"Bad credit\",\"x\":[\"little\",\"little\",\"little\",\"little\",\"little\",\"little\",\"moderate\",\"little\",\"little\",\"little\",\"little\",\"little\",\"little\",null,\"little\",\"little\",\"little\",\"little\",null,\"little\",null,\"moderate\",\"little\",null,\"little\",\"little\",\"little\",\"little\",null,\"quite rich\",\"little\",null,\"little\",\"little\",\"little\",\"quite rich\",\"little\",\"little\",\"little\",\"little\",\"little\",\"little\",\"little\",null,\"little\",\"little\",null,\"little\",\"little\",\"moderate\",\"rich\",\"moderate\",\"little\",\"moderate\",\"little\",\"moderate\",\"little\",\"little\",\"little\",\"little\",\"rich\",\"little\",\"little\",\"little\",\"little\",null,\"moderate\",null,\"little\",\"little\",\"little\",\"little\",\"little\",\"little\",\"little\",\"little\",\"little\",\"little\",\"little\",\"little\",\"little\",null,\"quite rich\",\"moderate\",\"little\",\"little\",\"little\",\"little\",\"little\",\"moderate\",\"moderate\",\"moderate\",\"little\",\"little\",null,\"rich\",\"little\",\"little\",\"little\",\"little\",\"little\",\"little\",\"little\",\"moderate\",\"little\",\"little\",\"little\",\"little\",\"little\",\"little\",\"quite rich\",\"little\",null,\"little\",null,null,\"little\",\"little\",null,\"little\",\"little\",\"little\",\"little\",\"rich\",\"little\",\"little\",\"little\",\"moderate\",\"little\",\"little\",\"little\",\"little\",\"little\",\"little\",null,\"moderate\",\"little\",\"moderate\",\"little\",null,\"moderate\",\"little\",\"little\",\"little\",\"little\",\"little\",\"moderate\",\"little\",\"little\",\"little\",null,\"little\",\"little\",\"little\",\"little\",\"little\",\"moderate\",null,\"little\",\"little\",\"little\",null,\"little\",\"little\",\"little\",\"little\",\"little\",\"little\",\"little\",\"little\",\"little\",\"little\",null,\"moderate\",\"little\",\"little\",\"little\",\"little\",\"little\",\"little\",\"moderate\",\"moderate\",\"moderate\",\"little\",\"moderate\",\"little\",null,\"little\",\"moderate\",\"little\",\"little\",\"little\",\"little\",\"little\",\"moderate\",null,\"quite rich\",\"little\",\"little\",\"little\",\"little\",\"moderate\",\"little\",null,\"little\",\"quite rich\",\"moderate\",\"quite rich\",\"little\",\"moderate\",\"little\",\"little\",\"little\",\"little\",\"rich\",\"little\",\"little\",\"little\",\"little\",\"little\",\"little\",\"moderate\",\"little\",\"little\",\"rich\",null,null,\"little\",\"little\",null,\"little\",\"little\",null,\"little\",\"moderate\",\"little\",\"little\",\"little\",null,\"little\",\"little\",\"little\",\"little\",\"little\",\"little\",\"little\",\"little\",\"little\",null,\"little\",\"little\",\"little\",\"little\",\"little\",\"little\",null,\"little\",\"little\",\"little\",\"little\",\"little\",\"little\",\"little\",\"little\",\"little\",\"little\",\"little\",\"little\",\"little\",\"little\",\"little\",\"little\",\"little\",\"moderate\",\"little\",\"little\",\"little\",\"little\",\"little\",\"little\",\"moderate\",\"little\",\"little\",\"quite rich\",\"little\",\"moderate\",\"little\",\"quite rich\",\"little\",\"little\",\"quite rich\",\"quite rich\",\"little\",\"little\",\"little\",\"moderate\",\"little\",\"little\",\"little\",\"little\"],\"xaxis\":\"x3\",\"y\":[22,53,28,25,24,60,32,44,63,25,37,58,57,52,23,61,25,37,40,34,44,47,28,33,58,39,39,25,30,23,25,27,30,29,29,66,22,20,33,31,33,34,26,53,28,30,40,36,74,20,54,34,36,21,34,27,40,21,50,66,27,53,22,26,30,23,61,29,24,22,24,29,37,45,28,34,32,48,28,26,42,37,44,33,24,25,31,28,32,30,24,24,23,44,24,32,29,28,23,26,23,25,42,60,37,57,38,46,27,22,28,42,35,33,33,25,55,29,25,26,41,30,34,61,31,35,29,22,23,28,33,26,47,42,20,29,27,38,24,27,34,26,23,24,53,31,28,33,42,23,31,34,43,24,34,22,28,29,27,31,24,37,36,31,23,27,30,33,20,47,60,20,40,32,23,36,31,30,34,28,50,22,48,22,21,32,38,65,29,44,19,25,26,27,40,27,26,38,40,37,45,42,41,23,43,41,24,29,46,24,25,35,27,34,24,24,21,25,59,21,23,26,37,23,55,32,39,35,24,30,31,25,25,25,23,50,27,39,51,24,26,24,54,46,26,41,33,36,47,23,29,25,48,29,23,68,57,33,32,29,28,35,25,27,43,53,23,42,43,25,31,32,68,33,39,22,55,46,39,22,30,28,42,30,43,31,24,28,26,45,35,23,29,36,47,25,49,33,26,23],\"yaxis\":\"y3\",\"type\":\"box\"}],                        {\"annotations\":[{\"font\":{\"size\":16},\"showarrow\":false,\"text\":\"Count Saving Accounts\",\"x\":0.225,\"xanchor\":\"center\",\"xref\":\"paper\",\"y\":1.0,\"yanchor\":\"bottom\",\"yref\":\"paper\"},{\"font\":{\"size\":16},\"showarrow\":false,\"text\":\"Credit Amount by Savings Acc\",\"x\":0.775,\"xanchor\":\"center\",\"xref\":\"paper\",\"y\":1.0,\"yanchor\":\"bottom\",\"yref\":\"paper\"},{\"font\":{\"size\":16},\"showarrow\":false,\"text\":\"Age by Saving accounts\",\"x\":0.5,\"xanchor\":\"center\",\"xref\":\"paper\",\"y\":0.375,\"yanchor\":\"bottom\",\"yref\":\"paper\"}],\"boxmode\":\"group\",\"height\":700,\"template\":{\"data\":{\"barpolar\":[{\"marker\":{\"line\":{\"color\":\"#E5ECF6\",\"width\":0.5},\"pattern\":{\"fillmode\":\"overlay\",\"size\":10,\"solidity\":0.2}},\"type\":\"barpolar\"}],\"bar\":[{\"error_x\":{\"color\":\"#2a3f5f\"},\"error_y\":{\"color\":\"#2a3f5f\"},\"marker\":{\"line\":{\"color\":\"#E5ECF6\",\"width\":0.5},\"pattern\":{\"fillmode\":\"overlay\",\"size\":10,\"solidity\":0.2}},\"type\":\"bar\"}],\"carpet\":[{\"aaxis\":{\"endlinecolor\":\"#2a3f5f\",\"gridcolor\":\"white\",\"linecolor\":\"white\",\"minorgridcolor\":\"white\",\"startlinecolor\":\"#2a3f5f\"},\"baxis\":{\"endlinecolor\":\"#2a3f5f\",\"gridcolor\":\"white\",\"linecolor\":\"white\",\"minorgridcolor\":\"white\",\"startlinecolor\":\"#2a3f5f\"},\"type\":\"carpet\"}],\"choropleth\":[{\"colorbar\":{\"outlinewidth\":0,\"ticks\":\"\"},\"type\":\"choropleth\"}],\"contourcarpet\":[{\"colorbar\":{\"outlinewidth\":0,\"ticks\":\"\"},\"type\":\"contourcarpet\"}],\"contour\":[{\"colorbar\":{\"outlinewidth\":0,\"ticks\":\"\"},\"colorscale\":[[0.0,\"#0d0887\"],[0.1111111111111111,\"#46039f\"],[0.2222222222222222,\"#7201a8\"],[0.3333333333333333,\"#9c179e\"],[0.4444444444444444,\"#bd3786\"],[0.5555555555555556,\"#d8576b\"],[0.6666666666666666,\"#ed7953\"],[0.7777777777777778,\"#fb9f3a\"],[0.8888888888888888,\"#fdca26\"],[1.0,\"#f0f921\"]],\"type\":\"contour\"}],\"heatmapgl\":[{\"colorbar\":{\"outlinewidth\":0,\"ticks\":\"\"},\"colorscale\":[[0.0,\"#0d0887\"],[0.1111111111111111,\"#46039f\"],[0.2222222222222222,\"#7201a8\"],[0.3333333333333333,\"#9c179e\"],[0.4444444444444444,\"#bd3786\"],[0.5555555555555556,\"#d8576b\"],[0.6666666666666666,\"#ed7953\"],[0.7777777777777778,\"#fb9f3a\"],[0.8888888888888888,\"#fdca26\"],[1.0,\"#f0f921\"]],\"type\":\"heatmapgl\"}],\"heatmap\":[{\"colorbar\":{\"outlinewidth\":0,\"ticks\":\"\"},\"colorscale\":[[0.0,\"#0d0887\"],[0.1111111111111111,\"#46039f\"],[0.2222222222222222,\"#7201a8\"],[0.3333333333333333,\"#9c179e\"],[0.4444444444444444,\"#bd3786\"],[0.5555555555555556,\"#d8576b\"],[0.6666666666666666,\"#ed7953\"],[0.7777777777777778,\"#fb9f3a\"],[0.8888888888888888,\"#fdca26\"],[1.0,\"#f0f921\"]],\"type\":\"heatmap\"}],\"histogram2dcontour\":[{\"colorbar\":{\"outlinewidth\":0,\"ticks\":\"\"},\"colorscale\":[[0.0,\"#0d0887\"],[0.1111111111111111,\"#46039f\"],[0.2222222222222222,\"#7201a8\"],[0.3333333333333333,\"#9c179e\"],[0.4444444444444444,\"#bd3786\"],[0.5555555555555556,\"#d8576b\"],[0.6666666666666666,\"#ed7953\"],[0.7777777777777778,\"#fb9f3a\"],[0.8888888888888888,\"#fdca26\"],[1.0,\"#f0f921\"]],\"type\":\"histogram2dcontour\"}],\"histogram2d\":[{\"colorbar\":{\"outlinewidth\":0,\"ticks\":\"\"},\"colorscale\":[[0.0,\"#0d0887\"],[0.1111111111111111,\"#46039f\"],[0.2222222222222222,\"#7201a8\"],[0.3333333333333333,\"#9c179e\"],[0.4444444444444444,\"#bd3786\"],[0.5555555555555556,\"#d8576b\"],[0.6666666666666666,\"#ed7953\"],[0.7777777777777778,\"#fb9f3a\"],[0.8888888888888888,\"#fdca26\"],[1.0,\"#f0f921\"]],\"type\":\"histogram2d\"}],\"histogram\":[{\"marker\":{\"pattern\":{\"fillmode\":\"overlay\",\"size\":10,\"solidity\":0.2}},\"type\":\"histogram\"}],\"mesh3d\":[{\"colorbar\":{\"outlinewidth\":0,\"ticks\":\"\"},\"type\":\"mesh3d\"}],\"parcoords\":[{\"line\":{\"colorbar\":{\"outlinewidth\":0,\"ticks\":\"\"}},\"type\":\"parcoords\"}],\"pie\":[{\"automargin\":true,\"type\":\"pie\"}],\"scatter3d\":[{\"line\":{\"colorbar\":{\"outlinewidth\":0,\"ticks\":\"\"}},\"marker\":{\"colorbar\":{\"outlinewidth\":0,\"ticks\":\"\"}},\"type\":\"scatter3d\"}],\"scattercarpet\":[{\"marker\":{\"colorbar\":{\"outlinewidth\":0,\"ticks\":\"\"}},\"type\":\"scattercarpet\"}],\"scattergeo\":[{\"marker\":{\"colorbar\":{\"outlinewidth\":0,\"ticks\":\"\"}},\"type\":\"scattergeo\"}],\"scattergl\":[{\"marker\":{\"colorbar\":{\"outlinewidth\":0,\"ticks\":\"\"}},\"type\":\"scattergl\"}],\"scattermapbox\":[{\"marker\":{\"colorbar\":{\"outlinewidth\":0,\"ticks\":\"\"}},\"type\":\"scattermapbox\"}],\"scatterpolargl\":[{\"marker\":{\"colorbar\":{\"outlinewidth\":0,\"ticks\":\"\"}},\"type\":\"scatterpolargl\"}],\"scatterpolar\":[{\"marker\":{\"colorbar\":{\"outlinewidth\":0,\"ticks\":\"\"}},\"type\":\"scatterpolar\"}],\"scatter\":[{\"fillpattern\":{\"fillmode\":\"overlay\",\"size\":10,\"solidity\":0.2},\"type\":\"scatter\"}],\"scatterternary\":[{\"marker\":{\"colorbar\":{\"outlinewidth\":0,\"ticks\":\"\"}},\"type\":\"scatterternary\"}],\"surface\":[{\"colorbar\":{\"outlinewidth\":0,\"ticks\":\"\"},\"colorscale\":[[0.0,\"#0d0887\"],[0.1111111111111111,\"#46039f\"],[0.2222222222222222,\"#7201a8\"],[0.3333333333333333,\"#9c179e\"],[0.4444444444444444,\"#bd3786\"],[0.5555555555555556,\"#d8576b\"],[0.6666666666666666,\"#ed7953\"],[0.7777777777777778,\"#fb9f3a\"],[0.8888888888888888,\"#fdca26\"],[1.0,\"#f0f921\"]],\"type\":\"surface\"}],\"table\":[{\"cells\":{\"fill\":{\"color\":\"#EBF0F8\"},\"line\":{\"color\":\"white\"}},\"header\":{\"fill\":{\"color\":\"#C8D4E3\"},\"line\":{\"color\":\"white\"}},\"type\":\"table\"}]},\"layout\":{\"annotationdefaults\":{\"arrowcolor\":\"#2a3f5f\",\"arrowhead\":0,\"arrowwidth\":1},\"autotypenumbers\":\"strict\",\"coloraxis\":{\"colorbar\":{\"outlinewidth\":0,\"ticks\":\"\"}},\"colorscale\":{\"diverging\":[[0,\"#8e0152\"],[0.1,\"#c51b7d\"],[0.2,\"#de77ae\"],[0.3,\"#f1b6da\"],[0.4,\"#fde0ef\"],[0.5,\"#f7f7f7\"],[0.6,\"#e6f5d0\"],[0.7,\"#b8e186\"],[0.8,\"#7fbc41\"],[0.9,\"#4d9221\"],[1,\"#276419\"]],\"sequential\":[[0.0,\"#0d0887\"],[0.1111111111111111,\"#46039f\"],[0.2222222222222222,\"#7201a8\"],[0.3333333333333333,\"#9c179e\"],[0.4444444444444444,\"#bd3786\"],[0.5555555555555556,\"#d8576b\"],[0.6666666666666666,\"#ed7953\"],[0.7777777777777778,\"#fb9f3a\"],[0.8888888888888888,\"#fdca26\"],[1.0,\"#f0f921\"]],\"sequentialminus\":[[0.0,\"#0d0887\"],[0.1111111111111111,\"#46039f\"],[0.2222222222222222,\"#7201a8\"],[0.3333333333333333,\"#9c179e\"],[0.4444444444444444,\"#bd3786\"],[0.5555555555555556,\"#d8576b\"],[0.6666666666666666,\"#ed7953\"],[0.7777777777777778,\"#fb9f3a\"],[0.8888888888888888,\"#fdca26\"],[1.0,\"#f0f921\"]]},\"colorway\":[\"#636efa\",\"#EF553B\",\"#00cc96\",\"#ab63fa\",\"#FFA15A\",\"#19d3f3\",\"#FF6692\",\"#B6E880\",\"#FF97FF\",\"#FECB52\"],\"font\":{\"color\":\"#2a3f5f\"},\"geo\":{\"bgcolor\":\"white\",\"lakecolor\":\"white\",\"landcolor\":\"#E5ECF6\",\"showlakes\":true,\"showland\":true,\"subunitcolor\":\"white\"},\"hoverlabel\":{\"align\":\"left\"},\"hovermode\":\"closest\",\"mapbox\":{\"style\":\"light\"},\"paper_bgcolor\":\"white\",\"plot_bgcolor\":\"#E5ECF6\",\"polar\":{\"angularaxis\":{\"gridcolor\":\"white\",\"linecolor\":\"white\",\"ticks\":\"\"},\"bgcolor\":\"#E5ECF6\",\"radialaxis\":{\"gridcolor\":\"white\",\"linecolor\":\"white\",\"ticks\":\"\"}},\"scene\":{\"xaxis\":{\"backgroundcolor\":\"#E5ECF6\",\"gridcolor\":\"white\",\"gridwidth\":2,\"linecolor\":\"white\",\"showbackground\":true,\"ticks\":\"\",\"zerolinecolor\":\"white\"},\"yaxis\":{\"backgroundcolor\":\"#E5ECF6\",\"gridcolor\":\"white\",\"gridwidth\":2,\"linecolor\":\"white\",\"showbackground\":true,\"ticks\":\"\",\"zerolinecolor\":\"white\"},\"zaxis\":{\"backgroundcolor\":\"#E5ECF6\",\"gridcolor\":\"white\",\"gridwidth\":2,\"linecolor\":\"white\",\"showbackground\":true,\"ticks\":\"\",\"zerolinecolor\":\"white\"}},\"shapedefaults\":{\"line\":{\"color\":\"#2a3f5f\"}},\"ternary\":{\"aaxis\":{\"gridcolor\":\"white\",\"linecolor\":\"white\",\"ticks\":\"\"},\"baxis\":{\"gridcolor\":\"white\",\"linecolor\":\"white\",\"ticks\":\"\"},\"bgcolor\":\"#E5ECF6\",\"caxis\":{\"gridcolor\":\"white\",\"linecolor\":\"white\",\"ticks\":\"\"}},\"title\":{\"x\":0.05},\"xaxis\":{\"automargin\":true,\"gridcolor\":\"white\",\"linecolor\":\"white\",\"ticks\":\"\",\"title\":{\"standoff\":15},\"zerolinecolor\":\"white\",\"zerolinewidth\":2},\"yaxis\":{\"automargin\":true,\"gridcolor\":\"white\",\"linecolor\":\"white\",\"ticks\":\"\",\"title\":{\"standoff\":15},\"zerolinecolor\":\"white\",\"zerolinewidth\":2}}},\"title\":{\"text\":\"Saving Accounts Exploration\"},\"width\":800,\"xaxis\":{\"anchor\":\"y\",\"domain\":[0.0,0.45]},\"yaxis\":{\"anchor\":\"x\",\"domain\":[0.625,1.0]},\"xaxis2\":{\"anchor\":\"y2\",\"domain\":[0.55,1.0]},\"yaxis2\":{\"anchor\":\"x2\",\"domain\":[0.625,1.0]},\"xaxis3\":{\"anchor\":\"y3\",\"domain\":[0.0,1.0]},\"yaxis3\":{\"anchor\":\"x3\",\"domain\":[0.0,0.375]}},                        {\"responsive\": true}                    ).then(function(){\n",
       "                            \n",
       "var gd = document.getElementById('103d2069-e3ac-4250-b84f-c48994ab281c');\n",
       "var x = new MutationObserver(function (mutations, observer) {{\n",
       "        var display = window.getComputedStyle(gd).display;\n",
       "        if (!display || display === 'none') {{\n",
       "            console.log([gd, 'removed!']);\n",
       "            Plotly.purge(gd);\n",
       "            observer.disconnect();\n",
       "        }}\n",
       "}});\n",
       "\n",
       "// Listen for the removal of the full notebook cells\n",
       "var notebookContainer = gd.closest('#notebook-container');\n",
       "if (notebookContainer) {{\n",
       "    x.observe(notebookContainer, {childList: true});\n",
       "}}\n",
       "\n",
       "// Listen for the clearing of the current output cell\n",
       "var outputEl = gd.closest('.output');\n",
       "if (outputEl) {{\n",
       "    x.observe(outputEl, {childList: true});\n",
       "}}\n",
       "\n",
       "                        })                };                });            </script>        </div>"
      ]
     },
     "metadata": {},
     "output_type": "display_data"
    }
   ],
   "source": [
    "from plotly import tools\n",
    "import numpy as np\n",
    "import plotly.graph_objs as go\n",
    "\n",
    "count_good = go.Bar(\n",
    "    x = df_good[\"Saving accounts\"].value_counts().index.values,\n",
    "    y = df_good[\"Saving accounts\"].value_counts().values,\n",
    "    name='Good credit'\n",
    ")\n",
    "count_bad = go.Bar(\n",
    "    x = df_bad[\"Saving accounts\"].value_counts().index.values,\n",
    "    y = df_bad[\"Saving accounts\"].value_counts().values,\n",
    "    name='Bad credit'\n",
    ")\n",
    "\n",
    "\n",
    "box_1 = go.Box(\n",
    "    x=df_good[\"Saving accounts\"],\n",
    "    y=df_good[\"Credit amount\"],\n",
    "    name='Good credit'\n",
    ")\n",
    "box_2 = go.Box(\n",
    "    x=df_bad[\"Saving accounts\"],\n",
    "    y=df_bad[\"Credit amount\"],\n",
    "    name='Bad credit'\n",
    ")\n",
    "\n",
    "scat_1 = go.Box(\n",
    "    x=df_good[\"Saving accounts\"],\n",
    "    y=df_good[\"Age\"],\n",
    "    name='Good credit'\n",
    ")\n",
    "scat_2 = go.Box(\n",
    "    x=df_bad[\"Saving accounts\"],\n",
    "    y=df_bad[\"Age\"],\n",
    "    name='Bad credit'\n",
    ")\n",
    "\n",
    "data = [scat_1, scat_2, box_1, box_2, count_good, count_bad]\n",
    "\n",
    "fig = tools.make_subplots(rows=2, cols=2, specs=[[{}, {}], [{'colspan': 2}, None]],\n",
    "                          subplot_titles=('Count Saving Accounts','Credit Amount by Savings Acc', \n",
    "                                          'Age by Saving accounts'))\n",
    "\n",
    "fig.append_trace(count_good, 1, 1)\n",
    "fig.append_trace(count_bad, 1, 1)\n",
    "\n",
    "fig.append_trace(box_2, 1, 2)\n",
    "fig.append_trace(box_1, 1, 2)\n",
    "\n",
    "fig.append_trace(scat_1, 2, 1)\n",
    "fig.append_trace(scat_2, 2, 1)\n",
    "\n",
    "\n",
    "\n",
    "fig['layout'].update(height=700, width=800, title='Saving Accounts Exploration', boxmode='group')\n",
    "\n",
    "py.iplot(fig, filename='combined-savings')\n"
   ]
  },
  {
   "cell_type": "markdown",
   "metadata": {
    "_cell_guid": "9a936151-e4f1-4297-a87e-7f2bf2e4d3d0",
    "_uuid": "bc422a23f5310a21f16e4c44442afa75723d40c3"
   },
   "source": [
    "How can I better configure the legends?  I am trying to substitute the graph below, so how can I use the violinplot on subplots of plotly?"
   ]
  },
  {
   "cell_type": "markdown",
   "metadata": {
    "_cell_guid": "e692d92b-024c-4a3a-915a-51eaed3a6ee0",
    "_uuid": "0a3d67e8cff0c4da83190cd33e2b30d4192eb226"
   },
   "source": [
    "Pretty and interesting distribution..."
   ]
  },
  {
   "cell_type": "markdown",
   "metadata": {
    "_cell_guid": "202f3cfa-adcb-4903-bc87-c77dbb18c151",
    "_uuid": "65b2d7708d9234540d38f9c6f1f7c2f40f527baa"
   },
   "source": [
    "Duration of the loans distribuition and density"
   ]
  },
  {
   "cell_type": "code",
   "execution_count": 17,
   "metadata": {
    "_cell_guid": "d2cf1369-8f55-468f-9f95-4fec12237325",
    "_uuid": "de0f1619a2b148a438242c4a84b0c3f636b3bbfb"
   },
   "outputs": [
    {
     "name": "stderr",
     "output_type": "stream",
     "text": [
      "c:\\users\\harsshh wankhayday\\appdata\\local\\programs\\python\\python39\\lib\\site-packages\\seaborn\\distributions.py:2619: FutureWarning:\n",
      "\n",
      "`distplot` is a deprecated function and will be removed in a future version. Please adapt your code to use either `displot` (a figure-level function with similar flexibility) or `histplot` (an axes-level function for histograms).\n",
      "\n",
      "c:\\users\\harsshh wankhayday\\appdata\\local\\programs\\python\\python39\\lib\\site-packages\\seaborn\\distributions.py:2619: FutureWarning:\n",
      "\n",
      "`distplot` is a deprecated function and will be removed in a future version. Please adapt your code to use either `displot` (a figure-level function with similar flexibility) or `histplot` (an axes-level function for histograms).\n",
      "\n"
     ]
    },
    {
     "data": {
      "image/png": "[encoded data removed]",
      "text/plain": [
       "<Figure size 864x1008 with 3 Axes>"
      ]
     },
     "metadata": {
      "needs_background": "light"
     },
     "output_type": "display_data"
    }
   ],
   "source": [
    "plt.figure(figsize = (12,14))\n",
    "\n",
    "g= plt.subplot(311)\n",
    "g = sns.countplot(x=\"Duration\", data=df_credit, \n",
    "              palette=\"hls\",  hue = \"Risk\")\n",
    "g.set_xlabel(\"Duration Distribuition\", fontsize=12)\n",
    "g.set_ylabel(\"Count\", fontsize=12)\n",
    "g.set_title(\"Duration Count\", fontsize=20)\n",
    "\n",
    "g1 = plt.subplot(312)\n",
    "g1 = sns.pointplot(x=\"Duration\", y =\"Credit amount\",data=df_credit,\n",
    "                   hue=\"Risk\", palette=\"hls\")\n",
    "g1.set_xlabel(\"Duration\", fontsize=12)\n",
    "g1.set_ylabel(\"Credit Amount(US)\", fontsize=12)\n",
    "g1.set_title(\"Credit Amount distribuition by Duration\", fontsize=20)\n",
    "\n",
    "g2 = plt.subplot(313)\n",
    "g2 = sns.distplot(df_good[\"Duration\"], color='g')\n",
    "g2 = sns.distplot(df_bad[\"Duration\"], color='r')\n",
    "g2.set_xlabel(\"Duration\", fontsize=12)\n",
    "g2.set_ylabel(\"Frequency\", fontsize=12)\n",
    "g2.set_title(\"Duration Frequency x good and bad Credit\", fontsize=20)\n",
    "\n",
    "plt.subplots_adjust(wspace = 0.4, hspace = 0.4,top = 0.9)\n",
    "\n",
    "plt.show()"
   ]
  },
  {
   "cell_type": "markdown",
   "metadata": {
    "_cell_guid": "0a37eb7a-da07-4b52-a24e-f5c9ad9cfad1",
    "_uuid": "9b6a11a2a266a52520e580c01968ee38a71c33b3"
   },
   "source": [
    "\n",
    "Interesting, we can see that the highest duration have the high amounts. <br>\n",
    "The highest density is between [12 ~ 18 ~ 24] months<br>\n",
    "It all make sense.\n"
   ]
  },
  {
   "cell_type": "markdown",
   "metadata": {
    "_cell_guid": "575d3bcb-618b-499e-a211-f5eff8df488e",
    "_uuid": "f89cbb713a6a6fcbf8b1aac5b83e749ae437da25"
   },
   "source": [
    "<h2> Checking Account variable </h2>"
   ]
  },
  {
   "cell_type": "markdown",
   "metadata": {
    "_cell_guid": "e825b44c-77b1-4118-bb9a-e4a344545821",
    "_uuid": "8eaa1e295c81198428e5e5acf68efc901be3cd3f"
   },
   "source": [
    "First, let's look the distribuition "
   ]
  },
  {
   "cell_type": "code",
   "execution_count": 18,
   "metadata": {
    "_cell_guid": "7eee1a85-051c-4fd3-a42f-b7c10afed165",
    "_kg_hide-input": true,
    "_kg_hide-output": false,
    "_uuid": "f6b6400dccab94229969a881fc805ffacc2dad32",
    "scrolled": false
   },
   "outputs": [
    {
     "data": {
      "application/vnd.plotly.v1+json": {
       "config": {
        "linkText": "Export to plot.ly",
        "plotlyServerURL": "https://plot.ly",
        "showLink": false
       },
       "data": [
        {
         "name": "Good credit Distribuition",
         "type": "bar",
         "x": [
          "moderate",
          "little",
          "rich"
         ],
         "y": [
          164,
          139,
          49
         ]
        },
        {
         "name": "Bad Credit Distribuition",
         "type": "bar",
         "x": [
          "little",
          "moderate",
          "rich"
         ],
         "y": [
          135,
          105,
          14
         ]
        }
       ],
       "layout": {
        "barmode": "group",
        "template": {
         "data": {
          "bar": [
           {
            "error_x": {
             "color": "#2a3f5f"
            },
            "error_y": {
             "color": "#2a3f5f"
            },
            "marker": {
             "line": {
              "color": "#E5ECF6",
              "width": 0.5
             },
             "pattern": {
              "fillmode": "overlay",
              "size": 10,
              "solidity": 0.2
             }
            },
            "type": "bar"
           }
          ],
          "barpolar": [
           {
            "marker": {
             "line": {
              "color": "#E5ECF6",
              "width": 0.5
             },
             "pattern": {
              "fillmode": "overlay",
              "size": 10,
              "solidity": 0.2
             }
            },
            "type": "barpolar"
           }
          ],
          "carpet": [
           {
            "aaxis": {
             "endlinecolor": "#2a3f5f",
             "gridcolor": "white",
             "linecolor": "white",
             "minorgridcolor": "white",
             "startlinecolor": "#2a3f5f"
            },
            "baxis": {
             "endlinecolor": "#2a3f5f",
             "gridcolor": "white",
             "linecolor": "white",
             "minorgridcolor": "white",
             "startlinecolor": "#2a3f5f"
            },
            "type": "carpet"
           }
          ],
          "choropleth": [
           {
            "colorbar": {
             "outlinewidth": 0,
             "ticks": ""
            },
            "type": "choropleth"
           }
          ],
          "contour": [
           {
            "colorbar": {
             "outlinewidth": 0,
             "ticks": ""
            },
            "colorscale": [
             [
              0,
              "#0d0887"
             ],
             [
              0.1111111111111111,
              "#46039f"
             ],
             [
              0.2222222222222222,
              "#7201a8"
             ],
             [
              0.3333333333333333,
              "#9c179e"
             ],
             [
              0.4444444444444444,
              "#bd3786"
             ],
             [
              0.5555555555555556,
              "#d8576b"
             ],
             [
              0.6666666666666666,
              "#ed7953"
             ],
             [
              0.7777777777777778,
              "#fb9f3a"
             ],
             [
              0.8888888888888888,
              "#fdca26"
             ],
             [
              1,
              "#f0f921"
             ]
            ],
            "type": "contour"
           }
          ],
          "contourcarpet": [
           {
            "colorbar": {
             "outlinewidth": 0,
             "ticks": ""
            },
            "type": "contourcarpet"
           }
          ],
          "heatmap": [
           {
            "colorbar": {
             "outlinewidth": 0,
             "ticks": ""
            },
            "colorscale": [
             [
              0,
              "#0d0887"
             ],
             [
              0.1111111111111111,
              "#46039f"
             ],
             [
              0.2222222222222222,
              "#7201a8"
             ],
             [
              0.3333333333333333,
              "#9c179e"
             ],
             [
              0.4444444444444444,
              "#bd3786"
             ],
             [
              0.5555555555555556,
              "#d8576b"
             ],
             [
              0.6666666666666666,
              "#ed7953"
             ],
             [
              0.7777777777777778,
              "#fb9f3a"
             ],
             [
              0.8888888888888888,
              "#fdca26"
             ],
             [
              1,
              "#f0f921"
             ]
            ],
            "type": "heatmap"
           }
          ],
          "heatmapgl": [
           {
            "colorbar": {
             "outlinewidth": 0,
             "ticks": ""
            },
            "colorscale": [
             [
              0,
              "#0d0887"
             ],
             [
              0.1111111111111111,
              "#46039f"
             ],
             [
              0.2222222222222222,
              "#7201a8"
             ],
             [
              0.3333333333333333,
              "#9c179e"
             ],
             [
              0.4444444444444444,
              "#bd3786"
             ],
             [
              0.5555555555555556,
              "#d8576b"
             ],
             [
              0.6666666666666666,
              "#ed7953"
             ],
             [
              0.7777777777777778,
              "#fb9f3a"
             ],
             [
              0.8888888888888888,
              "#fdca26"
             ],
             [
              1,
              "#f0f921"
             ]
            ],
            "type": "heatmapgl"
           }
          ],
          "histogram": [
           {
            "marker": {
             "pattern": {
              "fillmode": "overlay",
              "size": 10,
              "solidity": 0.2
             }
            },
            "type": "histogram"
           }
          ],
          "histogram2d": [
           {
            "colorbar": {
             "outlinewidth": 0,
             "ticks": ""
            },
            "colorscale": [
             [
              0,
              "#0d0887"
             ],
             [
              0.1111111111111111,
              "#46039f"
             ],
             [
              0.2222222222222222,
              "#7201a8"
             ],
             [
              0.3333333333333333,
              "#9c179e"
             ],
             [
              0.4444444444444444,
              "#bd3786"
             ],
             [
              0.5555555555555556,
              "#d8576b"
             ],
             [
              0.6666666666666666,
              "#ed7953"
             ],
             [
              0.7777777777777778,
              "#fb9f3a"
             ],
             [
              0.8888888888888888,
              "#fdca26"
             ],
             [
              1,
              "#f0f921"
             ]
            ],
            "type": "histogram2d"
           }
          ],
          "histogram2dcontour": [
           {
            "colorbar": {
             "outlinewidth": 0,
             "ticks": ""
            },
            "colorscale": [
             [
              0,
              "#0d0887"
             ],
             [
              0.1111111111111111,
              "#46039f"
             ],
             [
              0.2222222222222222,
              "#7201a8"
             ],
             [
              0.3333333333333333,
              "#9c179e"
             ],
             [
              0.4444444444444444,
              "#bd3786"
             ],
             [
              0.5555555555555556,
              "#d8576b"
             ],
             [
              0.6666666666666666,
              "#ed7953"
             ],
             [
              0.7777777777777778,
              "#fb9f3a"
             ],
             [
              0.8888888888888888,
              "#fdca26"
             ],
             [
              1,
              "#f0f921"
             ]
            ],
            "type": "histogram2dcontour"
           }
          ],
          "mesh3d": [
           {
            "colorbar": {
             "outlinewidth": 0,
             "ticks": ""
            },
            "type": "mesh3d"
           }
          ],
          "parcoords": [
           {
            "line": {
             "colorbar": {
              "outlinewidth": 0,
              "ticks": ""
             }
            },
            "type": "parcoords"
           }
          ],
          "pie": [
           {
            "automargin": true,
            "type": "pie"
           }
          ],
          "scatter": [
           {
            "fillpattern": {
             "fillmode": "overlay",
             "size": 10,
             "solidity": 0.2
            },
            "type": "scatter"
           }
          ],
          "scatter3d": [
           {
            "line": {
             "colorbar": {
              "outlinewidth": 0,
              "ticks": ""
             }
            },
            "marker": {
             "colorbar": {
              "outlinewidth": 0,
              "ticks": ""
             }
            },
            "type": "scatter3d"
           }
          ],
          "scattercarpet": [
           {
            "marker": {
             "colorbar": {
              "outlinewidth": 0,
              "ticks": ""
             }
            },
            "type": "scattercarpet"
           }
          ],
          "scattergeo": [
           {
            "marker": {
             "colorbar": {
              "outlinewidth": 0,
              "ticks": ""
             }
            },
            "type": "scattergeo"
           }
          ],
          "scattergl": [
           {
            "marker": {
             "colorbar": {
              "outlinewidth": 0,
              "ticks": ""
             }
            },
            "type": "scattergl"
           }
          ],
          "scattermapbox": [
           {
            "marker": {
             "colorbar": {
              "outlinewidth": 0,
              "ticks": ""
             }
            },
            "type": "scattermapbox"
           }
          ],
          "scatterpolar": [
           {
            "marker": {
             "colorbar": {
              "outlinewidth": 0,
              "ticks": ""
             }
            },
            "type": "scatterpolar"
           }
          ],
          "scatterpolargl": [
           {
            "marker": {
             "colorbar": {
              "outlinewidth": 0,
              "ticks": ""
             }
            },
            "type": "scatterpolargl"
           }
          ],
          "scatterternary": [
           {
            "marker": {
             "colorbar": {
              "outlinewidth": 0,
              "ticks": ""
             }
            },
            "type": "scatterternary"
           }
          ],
          "surface": [
           {
            "colorbar": {
             "outlinewidth": 0,
             "ticks": ""
            },
            "colorscale": [
             [
              0,
              "#0d0887"
             ],
             [
              0.1111111111111111,
              "#46039f"
             ],
             [
              0.2222222222222222,
              "#7201a8"
             ],
             [
              0.3333333333333333,
              "#9c179e"
             ],
             [
              0.4444444444444444,
              "#bd3786"
             ],
             [
              0.5555555555555556,
              "#d8576b"
             ],
             [
              0.6666666666666666,
              "#ed7953"
             ],
             [
              0.7777777777777778,
              "#fb9f3a"
             ],
             [
              0.8888888888888888,
              "#fdca26"
             ],
             [
              1,
              "#f0f921"
             ]
            ],
            "type": "surface"
           }
          ],
          "table": [
           {
            "cells": {
             "fill": {
              "color": "#EBF0F8"
             },
             "line": {
              "color": "white"
             }
            },
            "header": {
             "fill": {
              "color": "#C8D4E3"
             },
             "line": {
              "color": "white"
             }
            },
            "type": "table"
           }
          ]
         },
         "layout": {
          "annotationdefaults": {
           "arrowcolor": "#2a3f5f",
           "arrowhead": 0,
           "arrowwidth": 1
          },
          "autotypenumbers": "strict",
          "coloraxis": {
           "colorbar": {
            "outlinewidth": 0,
            "ticks": ""
           }
          },
          "colorscale": {
           "diverging": [
            [
             0,
             "#8e0152"
            ],
            [
             0.1,
             "#c51b7d"
            ],
            [
             0.2,
             "#de77ae"
            ],
            [
             0.3,
             "#f1b6da"
            ],
            [
             0.4,
             "#fde0ef"
            ],
            [
             0.5,
             "#f7f7f7"
            ],
            [
             0.6,
             "#e6f5d0"
            ],
            [
             0.7,
             "#b8e186"
            ],
            [
             0.8,
             "#7fbc41"
            ],
            [
             0.9,
             "#4d9221"
            ],
            [
             1,
             "#276419"
            ]
           ],
           "sequential": [
            [
             0,
             "#0d0887"
            ],
            [
             0.1111111111111111,
             "#46039f"
            ],
            [
             0.2222222222222222,
             "#7201a8"
            ],
            [
             0.3333333333333333,
             "#9c179e"
            ],
            [
             0.4444444444444444,
             "#bd3786"
            ],
            [
             0.5555555555555556,
             "#d8576b"
            ],
            [
             0.6666666666666666,
             "#ed7953"
            ],
            [
             0.7777777777777778,
             "#fb9f3a"
            ],
            [
             0.8888888888888888,
             "#fdca26"
            ],
            [
             1,
             "#f0f921"
            ]
           ],
           "sequentialminus": [
            [
             0,
             "#0d0887"
            ],
            [
             0.1111111111111111,
             "#46039f"
            ],
            [
             0.2222222222222222,
             "#7201a8"
            ],
            [
             0.3333333333333333,
             "#9c179e"
            ],
            [
             0.4444444444444444,
             "#bd3786"
            ],
            [
             0.5555555555555556,
             "#d8576b"
            ],
            [
             0.6666666666666666,
             "#ed7953"
            ],
            [
             0.7777777777777778,
             "#fb9f3a"
            ],
            [
             0.8888888888888888,
             "#fdca26"
            ],
            [
             1,
             "#f0f921"
            ]
           ]
          },
          "colorway": [
           "#636efa",
           "#EF553B",
           "#00cc96",
           "#ab63fa",
           "#FFA15A",
           "#19d3f3",
           "#FF6692",
           "#B6E880",
           "#FF97FF",
           "#FECB52"
          ],
          "font": {
           "color": "#2a3f5f"
          },
          "geo": {
           "bgcolor": "white",
           "lakecolor": "white",
           "landcolor": "#E5ECF6",
           "showlakes": true,
           "showland": true,
           "subunitcolor": "white"
          },
          "hoverlabel": {
           "align": "left"
          },
          "hovermode": "closest",
          "mapbox": {
           "style": "light"
          },
          "paper_bgcolor": "white",
          "plot_bgcolor": "#E5ECF6",
          "polar": {
           "angularaxis": {
            "gridcolor": "white",
            "linecolor": "white",
            "ticks": ""
           },
           "bgcolor": "#E5ECF6",
           "radialaxis": {
            "gridcolor": "white",
            "linecolor": "white",
            "ticks": ""
           }
          },
          "scene": {
           "xaxis": {
            "backgroundcolor": "#E5ECF6",
            "gridcolor": "white",
            "gridwidth": 2,
            "linecolor": "white",
            "showbackground": true,
            "ticks": "",
            "zerolinecolor": "white"
           },
           "yaxis": {
            "backgroundcolor": "#E5ECF6",
            "gridcolor": "white",
            "gridwidth": 2,
            "linecolor": "white",
            "showbackground": true,
            "ticks": "",
            "zerolinecolor": "white"
           },
           "zaxis": {
            "backgroundcolor": "#E5ECF6",
            "gridcolor": "white",
            "gridwidth": 2,
            "linecolor": "white",
            "showbackground": true,
            "ticks": "",
            "zerolinecolor": "white"
           }
          },
          "shapedefaults": {
           "line": {
            "color": "#2a3f5f"
           }
          },
          "ternary": {
           "aaxis": {
            "gridcolor": "white",
            "linecolor": "white",
            "ticks": ""
           },
           "baxis": {
            "gridcolor": "white",
            "linecolor": "white",
            "ticks": ""
           },
           "bgcolor": "#E5ECF6",
           "caxis": {
            "gridcolor": "white",
            "linecolor": "white",
            "ticks": ""
           }
          },
          "title": {
           "x": 0.05
          },
          "xaxis": {
           "automargin": true,
           "gridcolor": "white",
           "linecolor": "white",
           "ticks": "",
           "title": {
            "standoff": 15
           },
           "zerolinecolor": "white",
           "zerolinewidth": 2
          },
          "yaxis": {
           "automargin": true,
           "gridcolor": "white",
           "linecolor": "white",
           "ticks": "",
           "title": {
            "standoff": 15
           },
           "zerolinecolor": "white",
           "zerolinewidth": 2
          }
         }
        },
        "title": {
         "text": "Checking accounts Distribuition"
        },
        "xaxis": {
         "title": {
          "text": "Checking accounts name"
         }
        },
        "yaxis": {
         "title": {
          "text": "Count"
         }
        }
       }
      },
      "text/html": [
       "<div>                            <div id=\"ee6b736f-fe9b-4754-b156-44771bc3a376\" class=\"plotly-graph-div\" style=\"height:525px; width:100%;\"></div>            <script type=\"text/javascript\">                require([\"plotly\"], function(Plotly) {                    window.PLOTLYENV=window.PLOTLYENV || {};                                    if (document.getElementById(\"ee6b736f-fe9b-4754-b156-44771bc3a376\")) {                    Plotly.newPlot(                        \"ee6b736f-fe9b-4754-b156-44771bc3a376\",                        [{\"name\":\"Good credit Distribuition\",\"x\":[\"moderate\",\"little\",\"rich\"],\"y\":[164,139,49],\"type\":\"bar\"},{\"name\":\"Bad Credit Distribuition\",\"x\":[\"little\",\"moderate\",\"rich\"],\"y\":[135,105,14],\"type\":\"bar\"}],                        {\"barmode\":\"group\",\"title\":{\"text\":\"Checking accounts Distribuition\"},\"xaxis\":{\"title\":{\"text\":\"Checking accounts name\"}},\"yaxis\":{\"title\":{\"text\":\"Count\"}},\"template\":{\"data\":{\"histogram2dcontour\":[{\"type\":\"histogram2dcontour\",\"colorbar\":{\"outlinewidth\":0,\"ticks\":\"\"},\"colorscale\":[[0.0,\"#0d0887\"],[0.1111111111111111,\"#46039f\"],[0.2222222222222222,\"#7201a8\"],[0.3333333333333333,\"#9c179e\"],[0.4444444444444444,\"#bd3786\"],[0.5555555555555556,\"#d8576b\"],[0.6666666666666666,\"#ed7953\"],[0.7777777777777778,\"#fb9f3a\"],[0.8888888888888888,\"#fdca26\"],[1.0,\"#f0f921\"]]}],\"choropleth\":[{\"type\":\"choropleth\",\"colorbar\":{\"outlinewidth\":0,\"ticks\":\"\"}}],\"histogram2d\":[{\"type\":\"histogram2d\",\"colorbar\":{\"outlinewidth\":0,\"ticks\":\"\"},\"colorscale\":[[0.0,\"#0d0887\"],[0.1111111111111111,\"#46039f\"],[0.2222222222222222,\"#7201a8\"],[0.3333333333333333,\"#9c179e\"],[0.4444444444444444,\"#bd3786\"],[0.5555555555555556,\"#d8576b\"],[0.6666666666666666,\"#ed7953\"],[0.7777777777777778,\"#fb9f3a\"],[0.8888888888888888,\"#fdca26\"],[1.0,\"#f0f921\"]]}],\"heatmap\":[{\"type\":\"heatmap\",\"colorbar\":{\"outlinewidth\":0,\"ticks\":\"\"},\"colorscale\":[[0.0,\"#0d0887\"],[0.1111111111111111,\"#46039f\"],[0.2222222222222222,\"#7201a8\"],[0.3333333333333333,\"#9c179e\"],[0.4444444444444444,\"#bd3786\"],[0.5555555555555556,\"#d8576b\"],[0.6666666666666666,\"#ed7953\"],[0.7777777777777778,\"#fb9f3a\"],[0.8888888888888888,\"#fdca26\"],[1.0,\"#f0f921\"]]}],\"heatmapgl\":[{\"type\":\"heatmapgl\",\"colorbar\":{\"outlinewidth\":0,\"ticks\":\"\"},\"colorscale\":[[0.0,\"#0d0887\"],[0.1111111111111111,\"#46039f\"],[0.2222222222222222,\"#7201a8\"],[0.3333333333333333,\"#9c179e\"],[0.4444444444444444,\"#bd3786\"],[0.5555555555555556,\"#d8576b\"],[0.6666666666666666,\"#ed7953\"],[0.7777777777777778,\"#fb9f3a\"],[0.8888888888888888,\"#fdca26\"],[1.0,\"#f0f921\"]]}],\"contourcarpet\":[{\"type\":\"contourcarpet\",\"colorbar\":{\"outlinewidth\":0,\"ticks\":\"\"}}],\"contour\":[{\"type\":\"contour\",\"colorbar\":{\"outlinewidth\":0,\"ticks\":\"\"},\"colorscale\":[[0.0,\"#0d0887\"],[0.1111111111111111,\"#46039f\"],[0.2222222222222222,\"#7201a8\"],[0.3333333333333333,\"#9c179e\"],[0.4444444444444444,\"#bd3786\"],[0.5555555555555556,\"#d8576b\"],[0.6666666666666666,\"#ed7953\"],[0.7777777777777778,\"#fb9f3a\"],[0.8888888888888888,\"#fdca26\"],[1.0,\"#f0f921\"]]}],\"surface\":[{\"type\":\"surface\",\"colorbar\":{\"outlinewidth\":0,\"ticks\":\"\"},\"colorscale\":[[0.0,\"#0d0887\"],[0.1111111111111111,\"#46039f\"],[0.2222222222222222,\"#7201a8\"],[0.3333333333333333,\"#9c179e\"],[0.4444444444444444,\"#bd3786\"],[0.5555555555555556,\"#d8576b\"],[0.6666666666666666,\"#ed7953\"],[0.7777777777777778,\"#fb9f3a\"],[0.8888888888888888,\"#fdca26\"],[1.0,\"#f0f921\"]]}],\"mesh3d\":[{\"type\":\"mesh3d\",\"colorbar\":{\"outlinewidth\":0,\"ticks\":\"\"}}],\"scatter\":[{\"fillpattern\":{\"fillmode\":\"overlay\",\"size\":10,\"solidity\":0.2},\"type\":\"scatter\"}],\"parcoords\":[{\"type\":\"parcoords\",\"line\":{\"colorbar\":{\"outlinewidth\":0,\"ticks\":\"\"}}}],\"scatterpolargl\":[{\"type\":\"scatterpolargl\",\"marker\":{\"colorbar\":{\"outlinewidth\":0,\"ticks\":\"\"}}}],\"bar\":[{\"error_x\":{\"color\":\"#2a3f5f\"},\"error_y\":{\"color\":\"#2a3f5f\"},\"marker\":{\"line\":{\"color\":\"#E5ECF6\",\"width\":0.5},\"pattern\":{\"fillmode\":\"overlay\",\"size\":10,\"solidity\":0.2}},\"type\":\"bar\"}],\"scattergeo\":[{\"type\":\"scattergeo\",\"marker\":{\"colorbar\":{\"outlinewidth\":0,\"ticks\":\"\"}}}],\"scatterpolar\":[{\"type\":\"scatterpolar\",\"marker\":{\"colorbar\":{\"outlinewidth\":0,\"ticks\":\"\"}}}],\"histogram\":[{\"marker\":{\"pattern\":{\"fillmode\":\"overlay\",\"size\":10,\"solidity\":0.2}},\"type\":\"histogram\"}],\"scattergl\":[{\"type\":\"scattergl\",\"marker\":{\"colorbar\":{\"outlinewidth\":0,\"ticks\":\"\"}}}],\"scatter3d\":[{\"type\":\"scatter3d\",\"line\":{\"colorbar\":{\"outlinewidth\":0,\"ticks\":\"\"}},\"marker\":{\"colorbar\":{\"outlinewidth\":0,\"ticks\":\"\"}}}],\"scattermapbox\":[{\"type\":\"scattermapbox\",\"marker\":{\"colorbar\":{\"outlinewidth\":0,\"ticks\":\"\"}}}],\"scatterternary\":[{\"type\":\"scatterternary\",\"marker\":{\"colorbar\":{\"outlinewidth\":0,\"ticks\":\"\"}}}],\"scattercarpet\":[{\"type\":\"scattercarpet\",\"marker\":{\"colorbar\":{\"outlinewidth\":0,\"ticks\":\"\"}}}],\"carpet\":[{\"aaxis\":{\"endlinecolor\":\"#2a3f5f\",\"gridcolor\":\"white\",\"linecolor\":\"white\",\"minorgridcolor\":\"white\",\"startlinecolor\":\"#2a3f5f\"},\"baxis\":{\"endlinecolor\":\"#2a3f5f\",\"gridcolor\":\"white\",\"linecolor\":\"white\",\"minorgridcolor\":\"white\",\"startlinecolor\":\"#2a3f5f\"},\"type\":\"carpet\"}],\"table\":[{\"cells\":{\"fill\":{\"color\":\"#EBF0F8\"},\"line\":{\"color\":\"white\"}},\"header\":{\"fill\":{\"color\":\"#C8D4E3\"},\"line\":{\"color\":\"white\"}},\"type\":\"table\"}],\"barpolar\":[{\"marker\":{\"line\":{\"color\":\"#E5ECF6\",\"width\":0.5},\"pattern\":{\"fillmode\":\"overlay\",\"size\":10,\"solidity\":0.2}},\"type\":\"barpolar\"}],\"pie\":[{\"automargin\":true,\"type\":\"pie\"}]},\"layout\":{\"autotypenumbers\":\"strict\",\"colorway\":[\"#636efa\",\"#EF553B\",\"#00cc96\",\"#ab63fa\",\"#FFA15A\",\"#19d3f3\",\"#FF6692\",\"#B6E880\",\"#FF97FF\",\"#FECB52\"],\"font\":{\"color\":\"#2a3f5f\"},\"hovermode\":\"closest\",\"hoverlabel\":{\"align\":\"left\"},\"paper_bgcolor\":\"white\",\"plot_bgcolor\":\"#E5ECF6\",\"polar\":{\"bgcolor\":\"#E5ECF6\",\"angularaxis\":{\"gridcolor\":\"white\",\"linecolor\":\"white\",\"ticks\":\"\"},\"radialaxis\":{\"gridcolor\":\"white\",\"linecolor\":\"white\",\"ticks\":\"\"}},\"ternary\":{\"bgcolor\":\"#E5ECF6\",\"aaxis\":{\"gridcolor\":\"white\",\"linecolor\":\"white\",\"ticks\":\"\"},\"baxis\":{\"gridcolor\":\"white\",\"linecolor\":\"white\",\"ticks\":\"\"},\"caxis\":{\"gridcolor\":\"white\",\"linecolor\":\"white\",\"ticks\":\"\"}},\"coloraxis\":{\"colorbar\":{\"outlinewidth\":0,\"ticks\":\"\"}},\"colorscale\":{\"sequential\":[[0.0,\"#0d0887\"],[0.1111111111111111,\"#46039f\"],[0.2222222222222222,\"#7201a8\"],[0.3333333333333333,\"#9c179e\"],[0.4444444444444444,\"#bd3786\"],[0.5555555555555556,\"#d8576b\"],[0.6666666666666666,\"#ed7953\"],[0.7777777777777778,\"#fb9f3a\"],[0.8888888888888888,\"#fdca26\"],[1.0,\"#f0f921\"]],\"sequentialminus\":[[0.0,\"#0d0887\"],[0.1111111111111111,\"#46039f\"],[0.2222222222222222,\"#7201a8\"],[0.3333333333333333,\"#9c179e\"],[0.4444444444444444,\"#bd3786\"],[0.5555555555555556,\"#d8576b\"],[0.6666666666666666,\"#ed7953\"],[0.7777777777777778,\"#fb9f3a\"],[0.8888888888888888,\"#fdca26\"],[1.0,\"#f0f921\"]],\"diverging\":[[0,\"#8e0152\"],[0.1,\"#c51b7d\"],[0.2,\"#de77ae\"],[0.3,\"#f1b6da\"],[0.4,\"#fde0ef\"],[0.5,\"#f7f7f7\"],[0.6,\"#e6f5d0\"],[0.7,\"#b8e186\"],[0.8,\"#7fbc41\"],[0.9,\"#4d9221\"],[1,\"#276419\"]]},\"xaxis\":{\"gridcolor\":\"white\",\"linecolor\":\"white\",\"ticks\":\"\",\"title\":{\"standoff\":15},\"zerolinecolor\":\"white\",\"automargin\":true,\"zerolinewidth\":2},\"yaxis\":{\"gridcolor\":\"white\",\"linecolor\":\"white\",\"ticks\":\"\",\"title\":{\"standoff\":15},\"zerolinecolor\":\"white\",\"automargin\":true,\"zerolinewidth\":2},\"scene\":{\"xaxis\":{\"backgroundcolor\":\"#E5ECF6\",\"gridcolor\":\"white\",\"linecolor\":\"white\",\"showbackground\":true,\"ticks\":\"\",\"zerolinecolor\":\"white\",\"gridwidth\":2},\"yaxis\":{\"backgroundcolor\":\"#E5ECF6\",\"gridcolor\":\"white\",\"linecolor\":\"white\",\"showbackground\":true,\"ticks\":\"\",\"zerolinecolor\":\"white\",\"gridwidth\":2},\"zaxis\":{\"backgroundcolor\":\"#E5ECF6\",\"gridcolor\":\"white\",\"linecolor\":\"white\",\"showbackground\":true,\"ticks\":\"\",\"zerolinecolor\":\"white\",\"gridwidth\":2}},\"shapedefaults\":{\"line\":{\"color\":\"#2a3f5f\"}},\"annotationdefaults\":{\"arrowcolor\":\"#2a3f5f\",\"arrowhead\":0,\"arrowwidth\":1},\"geo\":{\"bgcolor\":\"white\",\"landcolor\":\"#E5ECF6\",\"subunitcolor\":\"white\",\"showland\":true,\"showlakes\":true,\"lakecolor\":\"white\"},\"title\":{\"x\":0.05},\"mapbox\":{\"style\":\"light\"}}}},                        {\"responsive\": true}                    ).then(function(){\n",
       "                            \n",
       "var gd = document.getElementById('ee6b736f-fe9b-4754-b156-44771bc3a376');\n",
       "var x = new MutationObserver(function (mutations, observer) {{\n",
       "        var display = window.getComputedStyle(gd).display;\n",
       "        if (!display || display === 'none') {{\n",
       "            console.log([gd, 'removed!']);\n",
       "            Plotly.purge(gd);\n",
       "            observer.disconnect();\n",
       "        }}\n",
       "}});\n",
       "\n",
       "// Listen for the removal of the full notebook cells\n",
       "var notebookContainer = gd.closest('#notebook-container');\n",
       "if (notebookContainer) {{\n",
       "    x.observe(notebookContainer, {childList: true});\n",
       "}}\n",
       "\n",
       "// Listen for the clearing of the current output cell\n",
       "var outputEl = gd.closest('.output');\n",
       "if (outputEl) {{\n",
       "    x.observe(outputEl, {childList: true});\n",
       "}}\n",
       "\n",
       "                        })                };                });            </script>        </div>"
      ]
     },
     "metadata": {},
     "output_type": "display_data"
    }
   ],
   "source": [
    "#First plot\n",
    "trace0 = go.Bar(\n",
    "    x = df_credit[df_credit[\"Risk\"]== 'good'][\"Checking account\"].value_counts().index.values,\n",
    "    y = df_credit[df_credit[\"Risk\"]== 'good'][\"Checking account\"].value_counts().values,\n",
    "    name='Good credit Distribuition' \n",
    "    \n",
    ")\n",
    "\n",
    "#Second plot\n",
    "trace1 = go.Bar(\n",
    "    x = df_credit[df_credit[\"Risk\"]== 'bad'][\"Checking account\"].value_counts().index.values,\n",
    "    y = df_credit[df_credit[\"Risk\"]== 'bad'][\"Checking account\"].value_counts().values,\n",
    "    name=\"Bad Credit Distribuition\"\n",
    ")\n",
    "\n",
    "data = [trace0, trace1]\n",
    "\n",
    "layout = go.Layout(\n",
    "    title='Checking accounts Distribuition',\n",
    "    xaxis=dict(title='Checking accounts name'),\n",
    "    yaxis=dict(title='Count'),\n",
    "    barmode='group'\n",
    ")\n",
    "\n",
    "\n",
    "fig = go.Figure(data=data, layout=layout)\n",
    "\n",
    "py.iplot(fig, filename = 'Age-ba', validate = False)"
   ]
  },
  {
   "cell_type": "markdown",
   "metadata": {
    "_uuid": "fc4cdbe7701069d2bf7c7309c865fa63374238f8"
   },
   "source": [
    "## Create variable Dummies of the values"
   ]
  },
  {
   "cell_type": "code",
   "execution_count": 22,
   "metadata": {
    "_uuid": "909b478bf2af28cd21e7f9e90f99848c49007a23"
   },
   "outputs": [],
   "source": [
    "def one_hot_encoder(df, nan_as_category = False):\n",
    "    original_columns = list(df.columns)\n",
    "    categorical_columns = [col for col in df.columns if df[col].dtype == 'object']\n",
    "    df = pd.get_dummies(df, columns= categorical_columns, dummy_na= nan_as_category, drop_first=True)\n",
    "    new_columns = [c for c in df.columns if c not in original_columns]\n",
    "    return df, new_columns"
   ]
  },
  {
   "cell_type": "markdown",
   "metadata": {
    "_uuid": "d3ac3838812794fd1b1213732fe5ebe4d22d6775"
   },
   "source": [
    "## Transforming the data into Dummy variables"
   ]
  },
  {
   "cell_type": "code",
   "execution_count": 23,
   "metadata": {
    "_uuid": "bd8cedad464868cff47f03f01a83c902a4a60644"
   },
   "outputs": [],
   "source": [
    "df_credit['Saving accounts'] = df_credit['Saving accounts'].fillna('no_inf')\n",
    "df_credit['Checking account'] = df_credit['Checking account'].fillna('no_inf')\n",
    "\n",
    "#Purpose to Dummies Variable\n",
    "df_credit = df_credit.merge(pd.get_dummies(df_credit.Purpose, drop_first=True, prefix='Purpose'), left_index=True, right_index=True)\n",
    "#Sex feature in dummies\n",
    "df_credit = df_credit.merge(pd.get_dummies(df_credit.Sex, drop_first=True, prefix='Sex'), left_index=True, right_index=True)\n",
    "# Housing get dummies\n",
    "df_credit = df_credit.merge(pd.get_dummies(df_credit.Housing, drop_first=True, prefix='Housing'), left_index=True, right_index=True)\n",
    "# Housing get Saving Accounts\n",
    "df_credit = df_credit.merge(pd.get_dummies(df_credit[\"Saving accounts\"], drop_first=True, prefix='Savings'), left_index=True, right_index=True)\n",
    "# Housing get Risk\n",
    "df_credit = df_credit.merge(pd.get_dummies(df_credit.Risk, prefix='Risk'), left_index=True, right_index=True)\n",
    "# Housing get Checking Account\n",
    "df_credit = df_credit.merge(pd.get_dummies(df_credit[\"Checking account\"], drop_first=True, prefix='Check'), left_index=True, right_index=True)\n",
    "# Housing get Age categorical\n",
    "df_credit = df_credit.merge(pd.get_dummies(df_credit[\"Age_cat\"], drop_first=True, prefix='Age_cat'), left_index=True, right_index=True)"
   ]
  },
  {
   "cell_type": "markdown",
   "metadata": {
    "_uuid": "35deba00af149bdeee83e89db70464e735c3bdff",
    "collapsed": true
   },
   "source": [
    "## Deleting the old features"
   ]
  },
  {
   "cell_type": "code",
   "execution_count": 24,
   "metadata": {
    "_uuid": "3a7d9792cbcb54c6aa4f9f6628303762696d426e"
   },
   "outputs": [],
   "source": [
    "#Excluding the missing columns\n",
    "del df_credit[\"Saving accounts\"]\n",
    "del df_credit[\"Checking account\"]\n",
    "del df_credit[\"Purpose\"]\n",
    "del df_credit[\"Sex\"]\n",
    "del df_credit[\"Housing\"]\n",
    "del df_credit[\"Age_cat\"]\n",
    "del df_credit[\"Risk\"]\n",
    "del df_credit['Risk_good']"
   ]
  },
  {
   "cell_type": "markdown",
   "metadata": {
    "_uuid": "338474de1adaa3ff6075f0eef44cb3eec08bd9a3"
   },
   "source": []
  },
  {
   "cell_type": "markdown",
   "metadata": {
    "_cell_guid": "f98f6b74-20d1-4b32-a549-14b0079fd4e1",
    "_uuid": "783e1c6f2d23d827800df319ce41c9bc200c0e67"
   },
   "source": [
    "# **6. Preprocessing:** <a id=\"Preprocessing\"></a> <br>\n",
    "- Importing ML librarys\n",
    "- Setting X and y variables to the prediction\n",
    "- Splitting Data\n"
   ]
  },
  {
   "cell_type": "code",
   "execution_count": 25,
   "metadata": {
    "_cell_guid": "7d5906f7-bebd-49e1-a1a5-9db82ae75e16",
    "_uuid": "32b245afaf3c349eedddfe0c106b24eede56af60"
   },
   "outputs": [],
   "source": [
    "from sklearn.model_selection import train_test_split, KFold, cross_val_score # to split the data\n",
    "from sklearn.metrics import accuracy_score, confusion_matrix, classification_report, fbeta_score #To evaluate our model\n",
    "\n",
    "from sklearn.model_selection import GridSearchCV\n",
    "\n",
    "# Algorithmns models to be compared\n",
    "from sklearn.ensemble import RandomForestClassifier\n",
    "from sklearn.linear_model import LogisticRegression\n",
    "from sklearn.tree import DecisionTreeClassifier\n",
    "from sklearn.neighbors import KNeighborsClassifier\n",
    "from sklearn.ensemble import RandomForestClassifier\n",
    "from sklearn.discriminant_analysis import LinearDiscriminantAnalysis\n",
    "from sklearn.naive_bayes import GaussianNB\n",
    "from sklearn.svm import SVC\n",
    "from xgboost import XGBClassifier\n"
   ]
  },
  {
   "cell_type": "code",
   "execution_count": 26,
   "metadata": {
    "_uuid": "34718c735d0ddbd8ad676e34cba8950755998809"
   },
   "outputs": [],
   "source": [
    "df_credit['Credit amount'] = np.log(df_credit['Credit amount'])"
   ]
  },
  {
   "cell_type": "code",
   "execution_count": 27,
   "metadata": {},
   "outputs": [
    {
     "data": {
      "text/plain": [
       "300"
      ]
     },
     "execution_count": 27,
     "metadata": {},
     "output_type": "execute_result"
    }
   ],
   "source": [
    "df_credit[\"Risk_bad\"].sum()"
   ]
  },
  {
   "cell_type": "code",
   "execution_count": 28,
   "metadata": {
    "_cell_guid": "be683db1-dc4f-49f3-86fa-e17eb90c3aef",
    "_uuid": "b0eb1cac1b343143c7ff5ccff82931768167c2de"
   },
   "outputs": [
    {
     "name": "stderr",
     "output_type": "stream",
     "text": [
      "C:\\Users\\HARSSH~1\\AppData\\Local\\Temp/ipykernel_3448/2926097931.py:2: FutureWarning:\n",
      "\n",
      "In a future version of pandas all arguments of DataFrame.drop except for the argument 'labels' will be keyword-only\n",
      "\n"
     ]
    }
   ],
   "source": [
    "#Creating the X and y variables\n",
    "X = df_credit.drop('Risk_bad', 1).values\n",
    "y = df_credit[\"Risk_bad\"].values\n",
    "\n",
    "# Spliting X and y into train and test version\n",
    "X_train, X_test, y_train, y_test = train_test_split(X, y, test_size = 0.25, random_state=42, stratify=df_credit[\"Risk_bad\"])"
   ]
  },
  {
   "cell_type": "code",
   "execution_count": 29,
   "metadata": {},
   "outputs": [
    {
     "data": {
      "text/plain": [
       "((1000, 24), (1000,))"
      ]
     },
     "execution_count": 29,
     "metadata": {},
     "output_type": "execute_result"
    }
   ],
   "source": [
    "X.shape, y.shape"
   ]
  },
  {
   "cell_type": "markdown",
   "metadata": {
    "_cell_guid": "dc9dca9e-02a8-4fea-8265-eaf631ae39cd",
    "_uuid": "55565ef692e7418af62bbd6f23babd7994cd2fc2"
   },
   "source": [
    "# **7.1 Model 1 :** <a id=\"Modelling 1\"></a> <br>\n",
    "- Using Random Forest and grid search cv to predictict the credit score \n",
    "- Some of Validation Parameters"
   ]
  },
  {
   "cell_type": "code",
   "execution_count": 30,
   "metadata": {},
   "outputs": [
    {
     "data": {
      "text/plain": [
       "(750, 24)"
      ]
     },
     "execution_count": 30,
     "metadata": {},
     "output_type": "execute_result"
    }
   ],
   "source": [
    "X_train.shape"
   ]
  },
  {
   "cell_type": "code",
   "execution_count": 31,
   "metadata": {
    "_cell_guid": "700ab26d-2e82-4b1c-b575-1f5f5f7a2daf",
    "_kg_hide-output": true,
    "_uuid": "69d73aabd9ed02ca77fe5bd29ab943960f0c99ee",
    "scrolled": false
   },
   "outputs": [
    {
     "name": "stdout",
     "output_type": "stream",
     "text": [
      "Fitting 5 folds for each of 36 candidates, totalling 180 fits\n",
      "[CV 1/5] END max_depth=3, max_features=4, n_estimators=3;, score=0.067 total time=   0.0s\n",
      "[CV 2/5] END max_depth=3, max_features=4, n_estimators=3;, score=0.000 total time=   0.0s\n",
      "[CV 3/5] END max_depth=3, max_features=4, n_estimators=3;, score=0.022 total time=   0.0s\n",
      "[CV 4/5] END max_depth=3, max_features=4, n_estimators=3;, score=0.067 total time=   0.0s\n",
      "[CV 5/5] END max_depth=3, max_features=4, n_estimators=3;, score=0.044 total time=   0.0s\n",
      "[CV 1/5] END max_depth=3, max_features=4, n_estimators=5;, score=0.044 total time=   0.0s\n",
      "[CV 2/5] END max_depth=3, max_features=4, n_estimators=5;, score=0.000 total time=   0.0s\n",
      "[CV 3/5] END max_depth=3, max_features=4, n_estimators=5;, score=0.067 total time=   0.0s\n",
      "[CV 4/5] END max_depth=3, max_features=4, n_estimators=5;, score=0.111 total time=   0.0s\n",
      "[CV 5/5] END max_depth=3, max_features=4, n_estimators=5;, score=0.022 total time=   0.0s\n",
      "[CV 1/5] END max_depth=3, max_features=4, n_estimators=10;, score=0.022 total time=   0.0s\n",
      "[CV 2/5] END max_depth=3, max_features=4, n_estimators=10;, score=0.022 total time=   0.0s\n",
      "[CV 3/5] END max_depth=3, max_features=4, n_estimators=10;, score=0.044 total time=   0.0s\n",
      "[CV 4/5] END max_depth=3, max_features=4, n_estimators=10;, score=0.067 total time=   0.0s\n",
      "[CV 5/5] END max_depth=3, max_features=4, n_estimators=10;, score=0.022 total time=   0.0s\n",
      "[CV 1/5] END max_depth=3, max_features=4, n_estimators=25;, score=0.022 total time=   0.0s\n",
      "[CV 2/5] END max_depth=3, max_features=4, n_estimators=25;, score=0.022 total time=   0.0s\n",
      "[CV 3/5] END max_depth=3, max_features=4, n_estimators=25;, score=0.067 total time=   0.0s\n",
      "[CV 4/5] END max_depth=3, max_features=4, n_estimators=25;, score=0.000 total time=   0.0s\n",
      "[CV 5/5] END max_depth=3, max_features=4, n_estimators=25;, score=0.022 total time=   0.0s\n",
      "[CV 1/5] END max_depth=3, max_features=7, n_estimators=3;, score=0.156 total time=   0.0s\n",
      "[CV 2/5] END max_depth=3, max_features=7, n_estimators=3;, score=0.156 total time=   0.0s\n",
      "[CV 3/5] END max_depth=3, max_features=7, n_estimators=3;, score=0.111 total time=   0.0s\n",
      "[CV 4/5] END max_depth=3, max_features=7, n_estimators=3;, score=0.089 total time=   0.0s\n",
      "[CV 5/5] END max_depth=3, max_features=7, n_estimators=3;, score=0.467 total time=   0.0s\n",
      "[CV 1/5] END max_depth=3, max_features=7, n_estimators=5;, score=0.067 total time=   0.0s\n",
      "[CV 2/5] END max_depth=3, max_features=7, n_estimators=5;, score=0.133 total time=   0.0s\n",
      "[CV 3/5] END max_depth=3, max_features=7, n_estimators=5;, score=0.111 total time=   0.0s\n",
      "[CV 4/5] END max_depth=3, max_features=7, n_estimators=5;, score=0.133 total time=   0.0s\n",
      "[CV 5/5] END max_depth=3, max_features=7, n_estimators=5;, score=0.333 total time=   0.0s\n",
      "[CV 1/5] END max_depth=3, max_features=7, n_estimators=10;, score=0.067 total time=   0.0s\n",
      "[CV 2/5] END max_depth=3, max_features=7, n_estimators=10;, score=0.156 total time=   0.0s\n",
      "[CV 3/5] END max_depth=3, max_features=7, n_estimators=10;, score=0.089 total time=   0.0s\n",
      "[CV 4/5] END max_depth=3, max_features=7, n_estimators=10;, score=0.089 total time=   0.0s\n",
      "[CV 5/5] END max_depth=3, max_features=7, n_estimators=10;, score=0.089 total time=   0.0s\n",
      "[CV 1/5] END max_depth=3, max_features=7, n_estimators=25;, score=0.044 total time=   0.0s\n",
      "[CV 2/5] END max_depth=3, max_features=7, n_estimators=25;, score=0.133 total time=   0.0s\n",
      "[CV 3/5] END max_depth=3, max_features=7, n_estimators=25;, score=0.089 total time=   0.0s\n",
      "[CV 4/5] END max_depth=3, max_features=7, n_estimators=25;, score=0.022 total time=   0.0s\n",
      "[CV 5/5] END max_depth=3, max_features=7, n_estimators=25;, score=0.022 total time=   0.0s\n",
      "[CV 1/5] END max_depth=3, max_features=15, n_estimators=3;, score=0.133 total time=   0.0s\n",
      "[CV 2/5] END max_depth=3, max_features=15, n_estimators=3;, score=0.200 total time=   0.0s\n",
      "[CV 3/5] END max_depth=3, max_features=15, n_estimators=3;, score=0.133 total time=   0.0s\n",
      "[CV 4/5] END max_depth=3, max_features=15, n_estimators=3;, score=0.111 total time=   0.0s\n",
      "[CV 5/5] END max_depth=3, max_features=15, n_estimators=3;, score=0.156 total time=   0.0s\n",
      "[CV 1/5] END max_depth=3, max_features=15, n_estimators=5;, score=0.133 total time=   0.0s\n",
      "[CV 2/5] END max_depth=3, max_features=15, n_estimators=5;, score=0.267 total time=   0.0s\n",
      "[CV 3/5] END max_depth=3, max_features=15, n_estimators=5;, score=0.133 total time=   0.0s\n",
      "[CV 4/5] END max_depth=3, max_features=15, n_estimators=5;, score=0.111 total time=   0.0s\n",
      "[CV 5/5] END max_depth=3, max_features=15, n_estimators=5;, score=0.044 total time=   0.0s\n",
      "[CV 1/5] END max_depth=3, max_features=15, n_estimators=10;, score=0.044 total time=   0.0s\n",
      "[CV 2/5] END max_depth=3, max_features=15, n_estimators=10;, score=0.289 total time=   0.0s\n",
      "[CV 3/5] END max_depth=3, max_features=15, n_estimators=10;, score=0.111 total time=   0.0s\n",
      "[CV 4/5] END max_depth=3, max_features=15, n_estimators=10;, score=0.156 total time=   0.0s\n",
      "[CV 5/5] END max_depth=3, max_features=15, n_estimators=10;, score=0.067 total time=   0.0s\n",
      "[CV 1/5] END max_depth=3, max_features=15, n_estimators=25;, score=0.067 total time=   0.0s\n",
      "[CV 2/5] END max_depth=3, max_features=15, n_estimators=25;, score=0.289 total time=   0.0s\n",
      "[CV 3/5] END max_depth=3, max_features=15, n_estimators=25;, score=0.067 total time=   0.0s\n",
      "[CV 4/5] END max_depth=3, max_features=15, n_estimators=25;, score=0.156 total time=   0.0s\n",
      "[CV 5/5] END max_depth=3, max_features=15, n_estimators=25;, score=0.044 total time=   0.0s\n",
      "[CV 1/5] END max_depth=5, max_features=4, n_estimators=3;, score=0.178 total time=   0.0s\n",
      "[CV 2/5] END max_depth=5, max_features=4, n_estimators=3;, score=0.222 total time=   0.0s\n",
      "[CV 3/5] END max_depth=5, max_features=4, n_estimators=3;, score=0.200 total time=   0.0s\n",
      "[CV 4/5] END max_depth=5, max_features=4, n_estimators=3;, score=0.200 total time=   0.0s\n",
      "[CV 5/5] END max_depth=5, max_features=4, n_estimators=3;, score=0.111 total time=   0.0s\n",
      "[CV 1/5] END max_depth=5, max_features=4, n_estimators=5;, score=0.156 total time=   0.0s\n",
      "[CV 2/5] END max_depth=5, max_features=4, n_estimators=5;, score=0.222 total time=   0.0s\n",
      "[CV 3/5] END max_depth=5, max_features=4, n_estimators=5;, score=0.222 total time=   0.0s\n",
      "[CV 4/5] END max_depth=5, max_features=4, n_estimators=5;, score=0.289 total time=   0.0s\n",
      "[CV 5/5] END max_depth=5, max_features=4, n_estimators=5;, score=0.133 total time=   0.0s\n",
      "[CV 1/5] END max_depth=5, max_features=4, n_estimators=10;, score=0.044 total time=   0.0s\n",
      "[CV 2/5] END max_depth=5, max_features=4, n_estimators=10;, score=0.200 total time=   0.0s\n",
      "[CV 3/5] END max_depth=5, max_features=4, n_estimators=10;, score=0.178 total time=   0.0s\n",
      "[CV 4/5] END max_depth=5, max_features=4, n_estimators=10;, score=0.067 total time=   0.0s\n",
      "[CV 5/5] END max_depth=5, max_features=4, n_estimators=10;, score=0.133 total time=   0.0s\n",
      "[CV 1/5] END max_depth=5, max_features=4, n_estimators=25;, score=0.044 total time=   0.0s\n",
      "[CV 2/5] END max_depth=5, max_features=4, n_estimators=25;, score=0.244 total time=   0.0s\n",
      "[CV 3/5] END max_depth=5, max_features=4, n_estimators=25;, score=0.133 total time=   0.0s\n",
      "[CV 4/5] END max_depth=5, max_features=4, n_estimators=25;, score=0.067 total time=   0.0s\n",
      "[CV 5/5] END max_depth=5, max_features=4, n_estimators=25;, score=0.089 total time=   0.0s\n",
      "[CV 1/5] END max_depth=5, max_features=7, n_estimators=3;, score=0.267 total time=   0.0s\n",
      "[CV 2/5] END max_depth=5, max_features=7, n_estimators=3;, score=0.289 total time=   0.0s\n",
      "[CV 3/5] END max_depth=5, max_features=7, n_estimators=3;, score=0.289 total time=   0.0s\n",
      "[CV 4/5] END max_depth=5, max_features=7, n_estimators=3;, score=0.422 total time=   0.0s\n",
      "[CV 5/5] END max_depth=5, max_features=7, n_estimators=3;, score=0.200 total time=   0.0s\n",
      "[CV 1/5] END max_depth=5, max_features=7, n_estimators=5;, score=0.200 total time=   0.0s\n",
      "[CV 2/5] END max_depth=5, max_features=7, n_estimators=5;, score=0.356 total time=   0.0s\n",
      "[CV 3/5] END max_depth=5, max_features=7, n_estimators=5;, score=0.244 total time=   0.0s\n",
      "[CV 4/5] END max_depth=5, max_features=7, n_estimators=5;, score=0.289 total time=   0.0s\n",
      "[CV 5/5] END max_depth=5, max_features=7, n_estimators=5;, score=0.222 total time=   0.0s\n",
      "[CV 1/5] END max_depth=5, max_features=7, n_estimators=10;, score=0.111 total time=   0.0s\n",
      "[CV 2/5] END max_depth=5, max_features=7, n_estimators=10;, score=0.356 total time=   0.0s\n",
      "[CV 3/5] END max_depth=5, max_features=7, n_estimators=10;, score=0.156 total time=   0.0s\n",
      "[CV 4/5] END max_depth=5, max_features=7, n_estimators=10;, score=0.200 total time=   0.0s\n",
      "[CV 5/5] END max_depth=5, max_features=7, n_estimators=10;, score=0.200 total time=   0.0s\n",
      "[CV 1/5] END max_depth=5, max_features=7, n_estimators=25;, score=0.111 total time=   0.0s\n",
      "[CV 2/5] END max_depth=5, max_features=7, n_estimators=25;, score=0.244 total time=   0.0s\n"
     ]
    },
    {
     "name": "stdout",
     "output_type": "stream",
     "text": [
      "[CV 3/5] END max_depth=5, max_features=7, n_estimators=25;, score=0.111 total time=   0.0s\n",
      "[CV 4/5] END max_depth=5, max_features=7, n_estimators=25;, score=0.267 total time=   0.0s\n",
      "[CV 5/5] END max_depth=5, max_features=7, n_estimators=25;, score=0.178 total time=   0.0s\n",
      "[CV 1/5] END max_depth=5, max_features=15, n_estimators=3;, score=0.200 total time=   0.0s\n",
      "[CV 2/5] END max_depth=5, max_features=15, n_estimators=3;, score=0.422 total time=   0.0s\n",
      "[CV 3/5] END max_depth=5, max_features=15, n_estimators=3;, score=0.222 total time=   0.0s\n",
      "[CV 4/5] END max_depth=5, max_features=15, n_estimators=3;, score=0.200 total time=   0.0s\n",
      "[CV 5/5] END max_depth=5, max_features=15, n_estimators=3;, score=0.378 total time=   0.0s\n",
      "[CV 1/5] END max_depth=5, max_features=15, n_estimators=5;, score=0.200 total time=   0.0s\n",
      "[CV 2/5] END max_depth=5, max_features=15, n_estimators=5;, score=0.356 total time=   0.0s\n",
      "[CV 3/5] END max_depth=5, max_features=15, n_estimators=5;, score=0.267 total time=   0.0s\n",
      "[CV 4/5] END max_depth=5, max_features=15, n_estimators=5;, score=0.222 total time=   0.0s\n",
      "[CV 5/5] END max_depth=5, max_features=15, n_estimators=5;, score=0.311 total time=   0.0s\n",
      "[CV 1/5] END max_depth=5, max_features=15, n_estimators=10;, score=0.222 total time=   0.0s\n",
      "[CV 2/5] END max_depth=5, max_features=15, n_estimators=10;, score=0.289 total time=   0.0s\n",
      "[CV 3/5] END max_depth=5, max_features=15, n_estimators=10;, score=0.244 total time=   0.0s\n",
      "[CV 4/5] END max_depth=5, max_features=15, n_estimators=10;, score=0.267 total time=   0.0s\n",
      "[CV 5/5] END max_depth=5, max_features=15, n_estimators=10;, score=0.244 total time=   0.0s\n",
      "[CV 1/5] END max_depth=5, max_features=15, n_estimators=25;, score=0.244 total time=   0.0s\n",
      "[CV 2/5] END max_depth=5, max_features=15, n_estimators=25;, score=0.400 total time=   0.0s\n",
      "[CV 3/5] END max_depth=5, max_features=15, n_estimators=25;, score=0.222 total time=   0.0s\n",
      "[CV 4/5] END max_depth=5, max_features=15, n_estimators=25;, score=0.311 total time=   0.0s\n",
      "[CV 5/5] END max_depth=5, max_features=15, n_estimators=25;, score=0.244 total time=   0.0s\n",
      "[CV 1/5] END max_depth=None, max_features=4, n_estimators=3;, score=0.444 total time=   0.0s\n",
      "[CV 2/5] END max_depth=None, max_features=4, n_estimators=3;, score=0.400 total time=   0.0s\n",
      "[CV 3/5] END max_depth=None, max_features=4, n_estimators=3;, score=0.400 total time=   0.0s\n",
      "[CV 4/5] END max_depth=None, max_features=4, n_estimators=3;, score=0.289 total time=   0.0s\n",
      "[CV 5/5] END max_depth=None, max_features=4, n_estimators=3;, score=0.356 total time=   0.0s\n",
      "[CV 1/5] END max_depth=None, max_features=4, n_estimators=5;, score=0.422 total time=   0.0s\n",
      "[CV 2/5] END max_depth=None, max_features=4, n_estimators=5;, score=0.489 total time=   0.0s\n",
      "[CV 3/5] END max_depth=None, max_features=4, n_estimators=5;, score=0.422 total time=   0.0s\n",
      "[CV 4/5] END max_depth=None, max_features=4, n_estimators=5;, score=0.289 total time=   0.0s\n",
      "[CV 5/5] END max_depth=None, max_features=4, n_estimators=5;, score=0.356 total time=   0.0s\n",
      "[CV 1/5] END max_depth=None, max_features=4, n_estimators=10;, score=0.289 total time=   0.0s\n",
      "[CV 2/5] END max_depth=None, max_features=4, n_estimators=10;, score=0.444 total time=   0.0s\n",
      "[CV 3/5] END max_depth=None, max_features=4, n_estimators=10;, score=0.400 total time=   0.0s\n",
      "[CV 4/5] END max_depth=None, max_features=4, n_estimators=10;, score=0.200 total time=   0.0s\n",
      "[CV 5/5] END max_depth=None, max_features=4, n_estimators=10;, score=0.289 total time=   0.0s\n",
      "[CV 1/5] END max_depth=None, max_features=4, n_estimators=25;, score=0.422 total time=   0.0s\n",
      "[CV 2/5] END max_depth=None, max_features=4, n_estimators=25;, score=0.422 total time=   0.0s\n",
      "[CV 3/5] END max_depth=None, max_features=4, n_estimators=25;, score=0.378 total time=   0.0s\n",
      "[CV 4/5] END max_depth=None, max_features=4, n_estimators=25;, score=0.289 total time=   0.0s\n",
      "[CV 5/5] END max_depth=None, max_features=4, n_estimators=25;, score=0.311 total time=   0.0s\n",
      "[CV 1/5] END max_depth=None, max_features=7, n_estimators=3;, score=0.400 total time=   0.0s\n",
      "[CV 2/5] END max_depth=None, max_features=7, n_estimators=3;, score=0.356 total time=   0.0s\n",
      "[CV 3/5] END max_depth=None, max_features=7, n_estimators=3;, score=0.378 total time=   0.0s\n",
      "[CV 4/5] END max_depth=None, max_features=7, n_estimators=3;, score=0.378 total time=   0.0s\n",
      "[CV 5/5] END max_depth=None, max_features=7, n_estimators=3;, score=0.378 total time=   0.0s\n",
      "[CV 1/5] END max_depth=None, max_features=7, n_estimators=5;, score=0.400 total time=   0.0s\n",
      "[CV 2/5] END max_depth=None, max_features=7, n_estimators=5;, score=0.467 total time=   0.0s\n",
      "[CV 3/5] END max_depth=None, max_features=7, n_estimators=5;, score=0.378 total time=   0.0s\n",
      "[CV 4/5] END max_depth=None, max_features=7, n_estimators=5;, score=0.489 total time=   0.0s\n",
      "[CV 5/5] END max_depth=None, max_features=7, n_estimators=5;, score=0.356 total time=   0.0s\n",
      "[CV 1/5] END max_depth=None, max_features=7, n_estimators=10;, score=0.289 total time=   0.0s\n",
      "[CV 2/5] END max_depth=None, max_features=7, n_estimators=10;, score=0.400 total time=   0.0s\n",
      "[CV 3/5] END max_depth=None, max_features=7, n_estimators=10;, score=0.356 total time=   0.0s\n",
      "[CV 4/5] END max_depth=None, max_features=7, n_estimators=10;, score=0.311 total time=   0.0s\n",
      "[CV 5/5] END max_depth=None, max_features=7, n_estimators=10;, score=0.267 total time=   0.0s\n",
      "[CV 1/5] END max_depth=None, max_features=7, n_estimators=25;, score=0.378 total time=   0.0s\n",
      "[CV 2/5] END max_depth=None, max_features=7, n_estimators=25;, score=0.444 total time=   0.0s\n",
      "[CV 3/5] END max_depth=None, max_features=7, n_estimators=25;, score=0.356 total time=   0.0s\n",
      "[CV 4/5] END max_depth=None, max_features=7, n_estimators=25;, score=0.333 total time=   0.0s\n",
      "[CV 5/5] END max_depth=None, max_features=7, n_estimators=25;, score=0.289 total time=   0.0s\n",
      "[CV 1/5] END max_depth=None, max_features=15, n_estimators=3;, score=0.422 total time=   0.0s\n",
      "[CV 2/5] END max_depth=None, max_features=15, n_estimators=3;, score=0.444 total time=   0.0s\n",
      "[CV 3/5] END max_depth=None, max_features=15, n_estimators=3;, score=0.400 total time=   0.0s\n",
      "[CV 4/5] END max_depth=None, max_features=15, n_estimators=3;, score=0.422 total time=   0.0s\n",
      "[CV 5/5] END max_depth=None, max_features=15, n_estimators=3;, score=0.378 total time=   0.0s\n",
      "[CV 1/5] END max_depth=None, max_features=15, n_estimators=5;, score=0.422 total time=   0.0s\n",
      "[CV 2/5] END max_depth=None, max_features=15, n_estimators=5;, score=0.489 total time=   0.0s\n",
      "[CV 3/5] END max_depth=None, max_features=15, n_estimators=5;, score=0.356 total time=   0.0s\n",
      "[CV 4/5] END max_depth=None, max_features=15, n_estimators=5;, score=0.511 total time=   0.0s\n",
      "[CV 5/5] END max_depth=None, max_features=15, n_estimators=5;, score=0.400 total time=   0.0s\n",
      "[CV 1/5] END max_depth=None, max_features=15, n_estimators=10;, score=0.311 total time=   0.0s\n",
      "[CV 2/5] END max_depth=None, max_features=15, n_estimators=10;, score=0.422 total time=   0.0s\n",
      "[CV 3/5] END max_depth=None, max_features=15, n_estimators=10;, score=0.400 total time=   0.0s\n",
      "[CV 4/5] END max_depth=None, max_features=15, n_estimators=10;, score=0.311 total time=   0.0s\n",
      "[CV 5/5] END max_depth=None, max_features=15, n_estimators=10;, score=0.311 total time=   0.0s\n",
      "[CV 1/5] END max_depth=None, max_features=15, n_estimators=25;, score=0.311 total time=   0.0s\n",
      "[CV 2/5] END max_depth=None, max_features=15, n_estimators=25;, score=0.511 total time=   0.0s\n",
      "[CV 3/5] END max_depth=None, max_features=15, n_estimators=25;, score=0.422 total time=   0.0s\n",
      "[CV 4/5] END max_depth=None, max_features=15, n_estimators=25;, score=0.444 total time=   0.0s\n",
      "[CV 5/5] END max_depth=None, max_features=15, n_estimators=25;, score=0.400 total time=   0.0s\n"
     ]
    },
    {
     "data": {
      "text/plain": [
       "GridSearchCV(cv=5, estimator=RandomForestClassifier(random_state=2),\n",
       "             param_grid={'max_depth': [3, 5, None], 'max_features': [4, 7, 15],\n",
       "                         'n_estimators': [3, 5, 10, 25]},\n",
       "             scoring='recall', verbose=4)"
      ]
     },
     "execution_count": 31,
     "metadata": {},
     "output_type": "execute_result"
    }
   ],
   "source": [
    "#Seting the Hyper Parameters\n",
    "param_grid = {\"max_depth\": [3,5,None],\n",
    "              \"n_estimators\":[3,5,10,25],\n",
    "              \"max_features\": [4,7,15]}\n",
    "\n",
    "#Creating the classifier\n",
    "model = RandomForestClassifier(random_state=2)\n",
    "\n",
    "grid_search = GridSearchCV(model, param_grid=param_grid, cv=5, scoring='recall', verbose=4)\n",
    "grid_search.fit(X_train, y_train)"
   ]
  },
  {
   "cell_type": "code",
   "execution_count": 32,
   "metadata": {
    "_uuid": "420025da50cbf987174da6a4990032a9abc9f2ee"
   },
   "outputs": [
    {
     "name": "stdout",
     "output_type": "stream",
     "text": [
      "0.43555555555555553\n",
      "{'max_depth': None, 'max_features': 15, 'n_estimators': 5}\n"
     ]
    }
   ],
   "source": [
    "print(grid_search.best_score_)\n",
    "print(grid_search.best_params_)"
   ]
  },
  {
   "cell_type": "code",
   "execution_count": 33,
   "metadata": {
    "_uuid": "ed2f94c143bd97a4ce0931c6fd82aff9ccc7d434"
   },
   "outputs": [
    {
     "data": {
      "text/plain": [
       "RandomForestClassifier(max_features=10, n_estimators=15, random_state=2)"
      ]
     },
     "execution_count": 33,
     "metadata": {},
     "output_type": "execute_result"
    }
   ],
   "source": [
    "rf = RandomForestClassifier(max_depth=None, max_features=10, n_estimators=15, random_state=2)\n",
    "\n",
    "#trainning with the best params\n",
    "rf.fit(X_train, y_train)"
   ]
  },
  {
   "cell_type": "code",
   "execution_count": 34,
   "metadata": {
    "_cell_guid": "df58e526-183d-4136-8bba-181cacd378ff",
    "_uuid": "1708146ad90c695224bff81d73e0a4b37808b3bb"
   },
   "outputs": [
    {
     "name": "stdout",
     "output_type": "stream",
     "text": [
      "0.732\n",
      "\n",
      "\n",
      "[[149  26]\n",
      " [ 41  34]]\n",
      "\n",
      "\n",
      "0.4722222222222222\n"
     ]
    }
   ],
   "source": [
    "#Testing the model \n",
    "#Predicting using our  model\n",
    "y_pred = rf.predict(X_test)\n",
    "\n",
    "# Verificaar os resultados obtidos\n",
    "print(accuracy_score(y_test,y_pred))\n",
    "print(\"\\n\")\n",
    "print(confusion_matrix(y_test, y_pred))\n",
    "print(\"\\n\")\n",
    "print(fbeta_score(y_test, y_pred, beta=2))"
   ]
  },
  {
   "cell_type": "markdown",
   "metadata": {
    "_cell_guid": "ad8f1404-7812-46a5-9f68-94647930b728",
    "_uuid": "fe7fc8bb6c6b392a62972132065d971468b85a3d"
   },
   "source": [
    "# Logistic regression"
   ]
  },
  {
   "cell_type": "code",
   "execution_count": 35,
   "metadata": {
    "_cell_guid": "6e15774a-0b93-41ae-a395-6fde3c1ebd3a",
    "_uuid": "48c5b40e53ad8ed9e6fe5493802445996e597869"
   },
   "outputs": [],
   "source": [
    "from sklearn.linear_model import LogisticRegression"
   ]
  },
  {
   "cell_type": "code",
   "execution_count": 39,
   "metadata": {
    "_cell_guid": "3c980a9e-7cac-4d5b-b0e6-2dde790bb5e4",
    "_uuid": "d2b3aded7d3373de62dbe57e4c1e1f86870a202c"
   },
   "outputs": [
    {
     "name": "stdout",
     "output_type": "stream",
     "text": [
      "Fitting 5 folds for each of 20 candidates, totalling 100 fits\n",
      "[CV 1/5] END ........penalty=l1, solver=newton-cg;, score=nan total time=   0.0s\n",
      "[CV 2/5] END ........penalty=l1, solver=newton-cg;, score=nan total time=   0.0s\n",
      "[CV 3/5] END ........penalty=l1, solver=newton-cg;, score=nan total time=   0.0s\n",
      "[CV 4/5] END ........penalty=l1, solver=newton-cg;, score=nan total time=   0.0s\n",
      "[CV 5/5] END ........penalty=l1, solver=newton-cg;, score=nan total time=   0.0s\n",
      "[CV 1/5] END ............penalty=l1, solver=lbfgs;, score=nan total time=   0.0s\n",
      "[CV 2/5] END ............penalty=l1, solver=lbfgs;, score=nan total time=   0.0s\n",
      "[CV 3/5] END ............penalty=l1, solver=lbfgs;, score=nan total time=   0.0s\n",
      "[CV 4/5] END ............penalty=l1, solver=lbfgs;, score=nan total time=   0.0s\n",
      "[CV 5/5] END ............penalty=l1, solver=lbfgs;, score=nan total time=   0.0s\n",
      "[CV 1/5] END ......penalty=l1, solver=liblinear;, score=0.267 total time=   0.0s\n",
      "[CV 2/5] END ......penalty=l1, solver=liblinear;, score=0.489 total time=   0.0s\n",
      "[CV 3/5] END ......penalty=l1, solver=liblinear;, score=0.333 total time=   0.0s\n",
      "[CV 4/5] END ......penalty=l1, solver=liblinear;, score=0.422 total time=   0.0s\n",
      "[CV 5/5] END ......penalty=l1, solver=liblinear;, score=0.333 total time=   0.0s\n",
      "[CV 1/5] END ..............penalty=l1, solver=sag;, score=nan total time=   0.0s\n",
      "[CV 2/5] END ..............penalty=l1, solver=sag;, score=nan total time=   0.0s\n",
      "[CV 3/5] END ..............penalty=l1, solver=sag;, score=nan total time=   0.0s\n",
      "[CV 4/5] END ..............penalty=l1, solver=sag;, score=nan total time=   0.0s\n",
      "[CV 5/5] END ..............penalty=l1, solver=sag;, score=nan total time=   0.0s\n",
      "[CV 1/5] END ...........penalty=l1, solver=saga;, score=0.156 total time=   0.0s\n",
      "[CV 2/5] END ...........penalty=l1, solver=saga;, score=0.289 total time=   0.0s\n",
      "[CV 3/5] END ...........penalty=l1, solver=saga;, score=0.156 total time=   0.0s\n"
     ]
    },
    {
     "name": "stderr",
     "output_type": "stream",
     "text": [
      "c:\\users\\harsshh wankhayday\\appdata\\local\\programs\\python\\python39\\lib\\site-packages\\sklearn\\model_selection\\_validation.py:615: FitFailedWarning:\n",
      "\n",
      "Estimator fit failed. The score on this train-test partition for these parameters will be set to nan. Details: \n",
      "Traceback (most recent call last):\n",
      "  File \"c:\\users\\harsshh wankhayday\\appdata\\local\\programs\\python\\python39\\lib\\site-packages\\sklearn\\model_selection\\_validation.py\", line 598, in _fit_and_score\n",
      "    estimator.fit(X_train, y_train, **fit_params)\n",
      "  File \"c:\\users\\harsshh wankhayday\\appdata\\local\\programs\\python\\python39\\lib\\site-packages\\sklearn\\linear_model\\_logistic.py\", line 1306, in fit\n",
      "    solver = _check_solver(self.solver, self.penalty, self.dual)\n",
      "  File \"c:\\users\\harsshh wankhayday\\appdata\\local\\programs\\python\\python39\\lib\\site-packages\\sklearn\\linear_model\\_logistic.py\", line 443, in _check_solver\n",
      "    raise ValueError(\"Solver %s supports only 'l2' or 'none' penalties, \"\n",
      "ValueError: Solver newton-cg supports only 'l2' or 'none' penalties, got l1 penalty.\n",
      "\n",
      "\n",
      "c:\\users\\harsshh wankhayday\\appdata\\local\\programs\\python\\python39\\lib\\site-packages\\sklearn\\model_selection\\_validation.py:615: FitFailedWarning:\n",
      "\n",
      "Estimator fit failed. The score on this train-test partition for these parameters will be set to nan. Details: \n",
      "Traceback (most recent call last):\n",
      "  File \"c:\\users\\harsshh wankhayday\\appdata\\local\\programs\\python\\python39\\lib\\site-packages\\sklearn\\model_selection\\_validation.py\", line 598, in _fit_and_score\n",
      "    estimator.fit(X_train, y_train, **fit_params)\n",
      "  File \"c:\\users\\harsshh wankhayday\\appdata\\local\\programs\\python\\python39\\lib\\site-packages\\sklearn\\linear_model\\_logistic.py\", line 1306, in fit\n",
      "    solver = _check_solver(self.solver, self.penalty, self.dual)\n",
      "  File \"c:\\users\\harsshh wankhayday\\appdata\\local\\programs\\python\\python39\\lib\\site-packages\\sklearn\\linear_model\\_logistic.py\", line 443, in _check_solver\n",
      "    raise ValueError(\"Solver %s supports only 'l2' or 'none' penalties, \"\n",
      "ValueError: Solver newton-cg supports only 'l2' or 'none' penalties, got l1 penalty.\n",
      "\n",
      "\n",
      "c:\\users\\harsshh wankhayday\\appdata\\local\\programs\\python\\python39\\lib\\site-packages\\sklearn\\model_selection\\_validation.py:615: FitFailedWarning:\n",
      "\n",
      "Estimator fit failed. The score on this train-test partition for these parameters will be set to nan. Details: \n",
      "Traceback (most recent call last):\n",
      "  File \"c:\\users\\harsshh wankhayday\\appdata\\local\\programs\\python\\python39\\lib\\site-packages\\sklearn\\model_selection\\_validation.py\", line 598, in _fit_and_score\n",
      "    estimator.fit(X_train, y_train, **fit_params)\n",
      "  File \"c:\\users\\harsshh wankhayday\\appdata\\local\\programs\\python\\python39\\lib\\site-packages\\sklearn\\linear_model\\_logistic.py\", line 1306, in fit\n",
      "    solver = _check_solver(self.solver, self.penalty, self.dual)\n",
      "  File \"c:\\users\\harsshh wankhayday\\appdata\\local\\programs\\python\\python39\\lib\\site-packages\\sklearn\\linear_model\\_logistic.py\", line 443, in _check_solver\n",
      "    raise ValueError(\"Solver %s supports only 'l2' or 'none' penalties, \"\n",
      "ValueError: Solver newton-cg supports only 'l2' or 'none' penalties, got l1 penalty.\n",
      "\n",
      "\n",
      "c:\\users\\harsshh wankhayday\\appdata\\local\\programs\\python\\python39\\lib\\site-packages\\sklearn\\model_selection\\_validation.py:615: FitFailedWarning:\n",
      "\n",
      "Estimator fit failed. The score on this train-test partition for these parameters will be set to nan. Details: \n",
      "Traceback (most recent call last):\n",
      "  File \"c:\\users\\harsshh wankhayday\\appdata\\local\\programs\\python\\python39\\lib\\site-packages\\sklearn\\model_selection\\_validation.py\", line 598, in _fit_and_score\n",
      "    estimator.fit(X_train, y_train, **fit_params)\n",
      "  File \"c:\\users\\harsshh wankhayday\\appdata\\local\\programs\\python\\python39\\lib\\site-packages\\sklearn\\linear_model\\_logistic.py\", line 1306, in fit\n",
      "    solver = _check_solver(self.solver, self.penalty, self.dual)\n",
      "  File \"c:\\users\\harsshh wankhayday\\appdata\\local\\programs\\python\\python39\\lib\\site-packages\\sklearn\\linear_model\\_logistic.py\", line 443, in _check_solver\n",
      "    raise ValueError(\"Solver %s supports only 'l2' or 'none' penalties, \"\n",
      "ValueError: Solver newton-cg supports only 'l2' or 'none' penalties, got l1 penalty.\n",
      "\n",
      "\n",
      "c:\\users\\harsshh wankhayday\\appdata\\local\\programs\\python\\python39\\lib\\site-packages\\sklearn\\model_selection\\_validation.py:615: FitFailedWarning:\n",
      "\n",
      "Estimator fit failed. The score on this train-test partition for these parameters will be set to nan. Details: \n",
      "Traceback (most recent call last):\n",
      "  File \"c:\\users\\harsshh wankhayday\\appdata\\local\\programs\\python\\python39\\lib\\site-packages\\sklearn\\model_selection\\_validation.py\", line 598, in _fit_and_score\n",
      "    estimator.fit(X_train, y_train, **fit_params)\n",
      "  File \"c:\\users\\harsshh wankhayday\\appdata\\local\\programs\\python\\python39\\lib\\site-packages\\sklearn\\linear_model\\_logistic.py\", line 1306, in fit\n",
      "    solver = _check_solver(self.solver, self.penalty, self.dual)\n",
      "  File \"c:\\users\\harsshh wankhayday\\appdata\\local\\programs\\python\\python39\\lib\\site-packages\\sklearn\\linear_model\\_logistic.py\", line 443, in _check_solver\n",
      "    raise ValueError(\"Solver %s supports only 'l2' or 'none' penalties, \"\n",
      "ValueError: Solver newton-cg supports only 'l2' or 'none' penalties, got l1 penalty.\n",
      "\n",
      "\n",
      "c:\\users\\harsshh wankhayday\\appdata\\local\\programs\\python\\python39\\lib\\site-packages\\sklearn\\model_selection\\_validation.py:615: FitFailedWarning:\n",
      "\n",
      "Estimator fit failed. The score on this train-test partition for these parameters will be set to nan. Details: \n",
      "Traceback (most recent call last):\n",
      "  File \"c:\\users\\harsshh wankhayday\\appdata\\local\\programs\\python\\python39\\lib\\site-packages\\sklearn\\model_selection\\_validation.py\", line 598, in _fit_and_score\n",
      "    estimator.fit(X_train, y_train, **fit_params)\n",
      "  File \"c:\\users\\harsshh wankhayday\\appdata\\local\\programs\\python\\python39\\lib\\site-packages\\sklearn\\linear_model\\_logistic.py\", line 1306, in fit\n",
      "    solver = _check_solver(self.solver, self.penalty, self.dual)\n",
      "  File \"c:\\users\\harsshh wankhayday\\appdata\\local\\programs\\python\\python39\\lib\\site-packages\\sklearn\\linear_model\\_logistic.py\", line 443, in _check_solver\n",
      "    raise ValueError(\"Solver %s supports only 'l2' or 'none' penalties, \"\n",
      "ValueError: Solver lbfgs supports only 'l2' or 'none' penalties, got l1 penalty.\n",
      "\n",
      "\n",
      "c:\\users\\harsshh wankhayday\\appdata\\local\\programs\\python\\python39\\lib\\site-packages\\sklearn\\model_selection\\_validation.py:615: FitFailedWarning:\n",
      "\n",
      "Estimator fit failed. The score on this train-test partition for these parameters will be set to nan. Details: \n",
      "Traceback (most recent call last):\n",
      "  File \"c:\\users\\harsshh wankhayday\\appdata\\local\\programs\\python\\python39\\lib\\site-packages\\sklearn\\model_selection\\_validation.py\", line 598, in _fit_and_score\n",
      "    estimator.fit(X_train, y_train, **fit_params)\n",
      "  File \"c:\\users\\harsshh wankhayday\\appdata\\local\\programs\\python\\python39\\lib\\site-packages\\sklearn\\linear_model\\_logistic.py\", line 1306, in fit\n",
      "    solver = _check_solver(self.solver, self.penalty, self.dual)\n",
      "  File \"c:\\users\\harsshh wankhayday\\appdata\\local\\programs\\python\\python39\\lib\\site-packages\\sklearn\\linear_model\\_logistic.py\", line 443, in _check_solver\n",
      "    raise ValueError(\"Solver %s supports only 'l2' or 'none' penalties, \"\n",
      "ValueError: Solver lbfgs supports only 'l2' or 'none' penalties, got l1 penalty.\n",
      "\n",
      "\n",
      "c:\\users\\harsshh wankhayday\\appdata\\local\\programs\\python\\python39\\lib\\site-packages\\sklearn\\model_selection\\_validation.py:615: FitFailedWarning:\n",
      "\n",
      "Estimator fit failed. The score on this train-test partition for these parameters will be set to nan. Details: \n",
      "Traceback (most recent call last):\n",
      "  File \"c:\\users\\harsshh wankhayday\\appdata\\local\\programs\\python\\python39\\lib\\site-packages\\sklearn\\model_selection\\_validation.py\", line 598, in _fit_and_score\n",
      "    estimator.fit(X_train, y_train, **fit_params)\n",
      "  File \"c:\\users\\harsshh wankhayday\\appdata\\local\\programs\\python\\python39\\lib\\site-packages\\sklearn\\linear_model\\_logistic.py\", line 1306, in fit\n",
      "    solver = _check_solver(self.solver, self.penalty, self.dual)\n",
      "  File \"c:\\users\\harsshh wankhayday\\appdata\\local\\programs\\python\\python39\\lib\\site-packages\\sklearn\\linear_model\\_logistic.py\", line 443, in _check_solver\n",
      "    raise ValueError(\"Solver %s supports only 'l2' or 'none' penalties, \"\n",
      "ValueError: Solver lbfgs supports only 'l2' or 'none' penalties, got l1 penalty.\n",
      "\n",
      "\n",
      "c:\\users\\harsshh wankhayday\\appdata\\local\\programs\\python\\python39\\lib\\site-packages\\sklearn\\model_selection\\_validation.py:615: FitFailedWarning:\n",
      "\n",
      "Estimator fit failed. The score on this train-test partition for these parameters will be set to nan. Details: \n",
      "Traceback (most recent call last):\n",
      "  File \"c:\\users\\harsshh wankhayday\\appdata\\local\\programs\\python\\python39\\lib\\site-packages\\sklearn\\model_selection\\_validation.py\", line 598, in _fit_and_score\n",
      "    estimator.fit(X_train, y_train, **fit_params)\n",
      "  File \"c:\\users\\harsshh wankhayday\\appdata\\local\\programs\\python\\python39\\lib\\site-packages\\sklearn\\linear_model\\_logistic.py\", line 1306, in fit\n",
      "    solver = _check_solver(self.solver, self.penalty, self.dual)\n",
      "  File \"c:\\users\\harsshh wankhayday\\appdata\\local\\programs\\python\\python39\\lib\\site-packages\\sklearn\\linear_model\\_logistic.py\", line 443, in _check_solver\n",
      "    raise ValueError(\"Solver %s supports only 'l2' or 'none' penalties, \"\n",
      "ValueError: Solver lbfgs supports only 'l2' or 'none' penalties, got l1 penalty.\n",
      "\n",
      "\n",
      "c:\\users\\harsshh wankhayday\\appdata\\local\\programs\\python\\python39\\lib\\site-packages\\sklearn\\model_selection\\_validation.py:615: FitFailedWarning:\n",
      "\n",
      "Estimator fit failed. The score on this train-test partition for these parameters will be set to nan. Details: \n",
      "Traceback (most recent call last):\n",
      "  File \"c:\\users\\harsshh wankhayday\\appdata\\local\\programs\\python\\python39\\lib\\site-packages\\sklearn\\model_selection\\_validation.py\", line 598, in _fit_and_score\n",
      "    estimator.fit(X_train, y_train, **fit_params)\n",
      "  File \"c:\\users\\harsshh wankhayday\\appdata\\local\\programs\\python\\python39\\lib\\site-packages\\sklearn\\linear_model\\_logistic.py\", line 1306, in fit\n",
      "    solver = _check_solver(self.solver, self.penalty, self.dual)\n",
      "  File \"c:\\users\\harsshh wankhayday\\appdata\\local\\programs\\python\\python39\\lib\\site-packages\\sklearn\\linear_model\\_logistic.py\", line 443, in _check_solver\n",
      "    raise ValueError(\"Solver %s supports only 'l2' or 'none' penalties, \"\n",
      "ValueError: Solver lbfgs supports only 'l2' or 'none' penalties, got l1 penalty.\n",
      "\n",
      "\n",
      "c:\\users\\harsshh wankhayday\\appdata\\local\\programs\\python\\python39\\lib\\site-packages\\sklearn\\model_selection\\_validation.py:615: FitFailedWarning:\n",
      "\n",
      "Estimator fit failed. The score on this train-test partition for these parameters will be set to nan. Details: \n",
      "Traceback (most recent call last):\n",
      "  File \"c:\\users\\harsshh wankhayday\\appdata\\local\\programs\\python\\python39\\lib\\site-packages\\sklearn\\model_selection\\_validation.py\", line 598, in _fit_and_score\n",
      "    estimator.fit(X_train, y_train, **fit_params)\n",
      "  File \"c:\\users\\harsshh wankhayday\\appdata\\local\\programs\\python\\python39\\lib\\site-packages\\sklearn\\linear_model\\_logistic.py\", line 1306, in fit\n",
      "    solver = _check_solver(self.solver, self.penalty, self.dual)\n",
      "  File \"c:\\users\\harsshh wankhayday\\appdata\\local\\programs\\python\\python39\\lib\\site-packages\\sklearn\\linear_model\\_logistic.py\", line 443, in _check_solver\n",
      "    raise ValueError(\"Solver %s supports only 'l2' or 'none' penalties, \"\n",
      "ValueError: Solver sag supports only 'l2' or 'none' penalties, got l1 penalty.\n",
      "\n",
      "\n",
      "c:\\users\\harsshh wankhayday\\appdata\\local\\programs\\python\\python39\\lib\\site-packages\\sklearn\\model_selection\\_validation.py:615: FitFailedWarning:\n",
      "\n",
      "Estimator fit failed. The score on this train-test partition for these parameters will be set to nan. Details: \n",
      "Traceback (most recent call last):\n",
      "  File \"c:\\users\\harsshh wankhayday\\appdata\\local\\programs\\python\\python39\\lib\\site-packages\\sklearn\\model_selection\\_validation.py\", line 598, in _fit_and_score\n",
      "    estimator.fit(X_train, y_train, **fit_params)\n",
      "  File \"c:\\users\\harsshh wankhayday\\appdata\\local\\programs\\python\\python39\\lib\\site-packages\\sklearn\\linear_model\\_logistic.py\", line 1306, in fit\n",
      "    solver = _check_solver(self.solver, self.penalty, self.dual)\n",
      "  File \"c:\\users\\harsshh wankhayday\\appdata\\local\\programs\\python\\python39\\lib\\site-packages\\sklearn\\linear_model\\_logistic.py\", line 443, in _check_solver\n",
      "    raise ValueError(\"Solver %s supports only 'l2' or 'none' penalties, \"\n",
      "ValueError: Solver sag supports only 'l2' or 'none' penalties, got l1 penalty.\n",
      "\n",
      "\n",
      "c:\\users\\harsshh wankhayday\\appdata\\local\\programs\\python\\python39\\lib\\site-packages\\sklearn\\model_selection\\_validation.py:615: FitFailedWarning:\n",
      "\n",
      "Estimator fit failed. The score on this train-test partition for these parameters will be set to nan. Details: \n",
      "Traceback (most recent call last):\n",
      "  File \"c:\\users\\harsshh wankhayday\\appdata\\local\\programs\\python\\python39\\lib\\site-packages\\sklearn\\model_selection\\_validation.py\", line 598, in _fit_and_score\n",
      "    estimator.fit(X_train, y_train, **fit_params)\n",
      "  File \"c:\\users\\harsshh wankhayday\\appdata\\local\\programs\\python\\python39\\lib\\site-packages\\sklearn\\linear_model\\_logistic.py\", line 1306, in fit\n",
      "    solver = _check_solver(self.solver, self.penalty, self.dual)\n",
      "  File \"c:\\users\\harsshh wankhayday\\appdata\\local\\programs\\python\\python39\\lib\\site-packages\\sklearn\\linear_model\\_logistic.py\", line 443, in _check_solver\n",
      "    raise ValueError(\"Solver %s supports only 'l2' or 'none' penalties, \"\n",
      "ValueError: Solver sag supports only 'l2' or 'none' penalties, got l1 penalty.\n",
      "\n",
      "\n",
      "c:\\users\\harsshh wankhayday\\appdata\\local\\programs\\python\\python39\\lib\\site-packages\\sklearn\\model_selection\\_validation.py:615: FitFailedWarning:\n",
      "\n",
      "Estimator fit failed. The score on this train-test partition for these parameters will be set to nan. Details: \n",
      "Traceback (most recent call last):\n",
      "  File \"c:\\users\\harsshh wankhayday\\appdata\\local\\programs\\python\\python39\\lib\\site-packages\\sklearn\\model_selection\\_validation.py\", line 598, in _fit_and_score\n",
      "    estimator.fit(X_train, y_train, **fit_params)\n",
      "  File \"c:\\users\\harsshh wankhayday\\appdata\\local\\programs\\python\\python39\\lib\\site-packages\\sklearn\\linear_model\\_logistic.py\", line 1306, in fit\n",
      "    solver = _check_solver(self.solver, self.penalty, self.dual)\n",
      "  File \"c:\\users\\harsshh wankhayday\\appdata\\local\\programs\\python\\python39\\lib\\site-packages\\sklearn\\linear_model\\_logistic.py\", line 443, in _check_solver\n",
      "    raise ValueError(\"Solver %s supports only 'l2' or 'none' penalties, \"\n",
      "ValueError: Solver sag supports only 'l2' or 'none' penalties, got l1 penalty.\n",
      "\n",
      "\n",
      "c:\\users\\harsshh wankhayday\\appdata\\local\\programs\\python\\python39\\lib\\site-packages\\sklearn\\model_selection\\_validation.py:615: FitFailedWarning:\n",
      "\n",
      "Estimator fit failed. The score on this train-test partition for these parameters will be set to nan. Details: \n",
      "Traceback (most recent call last):\n",
      "  File \"c:\\users\\harsshh wankhayday\\appdata\\local\\programs\\python\\python39\\lib\\site-packages\\sklearn\\model_selection\\_validation.py\", line 598, in _fit_and_score\n",
      "    estimator.fit(X_train, y_train, **fit_params)\n",
      "  File \"c:\\users\\harsshh wankhayday\\appdata\\local\\programs\\python\\python39\\lib\\site-packages\\sklearn\\linear_model\\_logistic.py\", line 1306, in fit\n",
      "    solver = _check_solver(self.solver, self.penalty, self.dual)\n",
      "  File \"c:\\users\\harsshh wankhayday\\appdata\\local\\programs\\python\\python39\\lib\\site-packages\\sklearn\\linear_model\\_logistic.py\", line 443, in _check_solver\n",
      "    raise ValueError(\"Solver %s supports only 'l2' or 'none' penalties, \"\n",
      "ValueError: Solver sag supports only 'l2' or 'none' penalties, got l1 penalty.\n",
      "\n",
      "\n",
      "c:\\users\\harsshh wankhayday\\appdata\\local\\programs\\python\\python39\\lib\\site-packages\\sklearn\\linear_model\\_sag.py:328: ConvergenceWarning:\n",
      "\n",
      "The max_iter was reached which means the coef_ did not converge\n",
      "\n",
      "c:\\users\\harsshh wankhayday\\appdata\\local\\programs\\python\\python39\\lib\\site-packages\\sklearn\\linear_model\\_sag.py:328: ConvergenceWarning:\n",
      "\n",
      "The max_iter was reached which means the coef_ did not converge\n",
      "\n",
      "c:\\users\\harsshh wankhayday\\appdata\\local\\programs\\python\\python39\\lib\\site-packages\\sklearn\\linear_model\\_sag.py:328: ConvergenceWarning:\n",
      "\n",
      "The max_iter was reached which means the coef_ did not converge\n",
      "\n",
      "c:\\users\\harsshh wankhayday\\appdata\\local\\programs\\python\\python39\\lib\\site-packages\\sklearn\\linear_model\\_sag.py:328: ConvergenceWarning:\n",
      "\n",
      "The max_iter was reached which means the coef_ did not converge\n",
      "\n"
     ]
    },
    {
     "name": "stdout",
     "output_type": "stream",
     "text": [
      "[CV 4/5] END ...........penalty=l1, solver=saga;, score=0.156 total time=   0.0s\n",
      "[CV 5/5] END ...........penalty=l1, solver=saga;, score=0.111 total time=   0.0s\n",
      "[CV 1/5] END ......penalty=l2, solver=newton-cg;, score=0.267 total time=   0.0s\n",
      "[CV 2/5] END ......penalty=l2, solver=newton-cg;, score=0.511 total time=   0.0s\n",
      "[CV 3/5] END ......penalty=l2, solver=newton-cg;, score=0.333 total time=   0.0s"
     ]
    },
    {
     "name": "stderr",
     "output_type": "stream",
     "text": [
      "c:\\users\\harsshh wankhayday\\appdata\\local\\programs\\python\\python39\\lib\\site-packages\\sklearn\\linear_model\\_sag.py:328: ConvergenceWarning:\n",
      "\n",
      "The max_iter was reached which means the coef_ did not converge\n",
      "\n"
     ]
    },
    {
     "name": "stdout",
     "output_type": "stream",
     "text": [
      "\n",
      "[CV 4/5] END ......penalty=l2, solver=newton-cg;, score=0.422 total time=   0.0s\n",
      "[CV 5/5] END ......penalty=l2, solver=newton-cg;, score=0.289 total time=   0.0s\n",
      "[CV 1/5] END ..........penalty=l2, solver=lbfgs;, score=0.267 total time=   0.0s\n",
      "[CV 2/5] END ..........penalty=l2, solver=lbfgs;, score=0.489 total time=   0.0s\n",
      "[CV 3/5] END ..........penalty=l2, solver=lbfgs;, score=0.311 total time=   0.0s\n"
     ]
    },
    {
     "name": "stderr",
     "output_type": "stream",
     "text": [
      "c:\\users\\harsshh wankhayday\\appdata\\local\\programs\\python\\python39\\lib\\site-packages\\sklearn\\linear_model\\_logistic.py:763: ConvergenceWarning:\n",
      "\n",
      "lbfgs failed to converge (status=1):\n",
      "STOP: TOTAL NO. of ITERATIONS REACHED LIMIT.\n",
      "\n",
      "Increase the number of iterations (max_iter) or scale the data as shown in:\n",
      "    https://scikit-learn.org/stable/modules/preprocessing.html\n",
      "Please also refer to the documentation for alternative solver options:\n",
      "    https://scikit-learn.org/stable/modules/linear_model.html#logistic-regression\n",
      "\n",
      "c:\\users\\harsshh wankhayday\\appdata\\local\\programs\\python\\python39\\lib\\site-packages\\sklearn\\linear_model\\_logistic.py:763: ConvergenceWarning:\n",
      "\n",
      "lbfgs failed to converge (status=1):\n",
      "STOP: TOTAL NO. of ITERATIONS REACHED LIMIT.\n",
      "\n",
      "Increase the number of iterations (max_iter) or scale the data as shown in:\n",
      "    https://scikit-learn.org/stable/modules/preprocessing.html\n",
      "Please also refer to the documentation for alternative solver options:\n",
      "    https://scikit-learn.org/stable/modules/linear_model.html#logistic-regression\n",
      "\n",
      "c:\\users\\harsshh wankhayday\\appdata\\local\\programs\\python\\python39\\lib\\site-packages\\sklearn\\linear_model\\_logistic.py:763: ConvergenceWarning:\n",
      "\n",
      "lbfgs failed to converge (status=1):\n",
      "STOP: TOTAL NO. of ITERATIONS REACHED LIMIT.\n",
      "\n",
      "Increase the number of iterations (max_iter) or scale the data as shown in:\n",
      "    https://scikit-learn.org/stable/modules/preprocessing.html\n",
      "Please also refer to the documentation for alternative solver options:\n",
      "    https://scikit-learn.org/stable/modules/linear_model.html#logistic-regression\n",
      "\n",
      "c:\\users\\harsshh wankhayday\\appdata\\local\\programs\\python\\python39\\lib\\site-packages\\sklearn\\linear_model\\_logistic.py:763: ConvergenceWarning:\n",
      "\n",
      "lbfgs failed to converge (status=1):\n",
      "STOP: TOTAL NO. of ITERATIONS REACHED LIMIT.\n",
      "\n",
      "Increase the number of iterations (max_iter) or scale the data as shown in:\n",
      "    https://scikit-learn.org/stable/modules/preprocessing.html\n",
      "Please also refer to the documentation for alternative solver options:\n",
      "    https://scikit-learn.org/stable/modules/linear_model.html#logistic-regression\n",
      "\n",
      "c:\\users\\harsshh wankhayday\\appdata\\local\\programs\\python\\python39\\lib\\site-packages\\sklearn\\linear_model\\_logistic.py:763: ConvergenceWarning:\n",
      "\n",
      "lbfgs failed to converge (status=1):\n",
      "STOP: TOTAL NO. of ITERATIONS REACHED LIMIT.\n",
      "\n",
      "Increase the number of iterations (max_iter) or scale the data as shown in:\n",
      "    https://scikit-learn.org/stable/modules/preprocessing.html\n",
      "Please also refer to the documentation for alternative solver options:\n",
      "    https://scikit-learn.org/stable/modules/linear_model.html#logistic-regression\n",
      "\n",
      "c:\\users\\harsshh wankhayday\\appdata\\local\\programs\\python\\python39\\lib\\site-packages\\sklearn\\linear_model\\_sag.py:328: ConvergenceWarning:\n",
      "\n",
      "The max_iter was reached which means the coef_ did not converge\n",
      "\n"
     ]
    },
    {
     "name": "stdout",
     "output_type": "stream",
     "text": [
      "[CV 4/5] END ..........penalty=l2, solver=lbfgs;, score=0.422 total time=   0.0s\n",
      "[CV 5/5] END ..........penalty=l2, solver=lbfgs;, score=0.311 total time=   0.0s\n",
      "[CV 1/5] END ......penalty=l2, solver=liblinear;, score=0.267 total time=   0.0s\n",
      "[CV 2/5] END ......penalty=l2, solver=liblinear;, score=0.489 total time=   0.0s\n",
      "[CV 3/5] END ......penalty=l2, solver=liblinear;, score=0.333 total time=   0.0s\n",
      "[CV 4/5] END ......penalty=l2, solver=liblinear;, score=0.422 total time=   0.0s\n",
      "[CV 5/5] END ......penalty=l2, solver=liblinear;, score=0.289 total time=   0.0s\n",
      "[CV 1/5] END ............penalty=l2, solver=sag;, score=0.200 total time=   0.0s\n",
      "[CV 2/5] END ............penalty=l2, solver=sag;, score=0.378 total time=   0.0s\n",
      "[CV 3/5] END ............penalty=l2, solver=sag;, score=0.178 total time=   0.0s\n"
     ]
    },
    {
     "name": "stderr",
     "output_type": "stream",
     "text": [
      "c:\\users\\harsshh wankhayday\\appdata\\local\\programs\\python\\python39\\lib\\site-packages\\sklearn\\linear_model\\_sag.py:328: ConvergenceWarning:\n",
      "\n",
      "The max_iter was reached which means the coef_ did not converge\n",
      "\n",
      "c:\\users\\harsshh wankhayday\\appdata\\local\\programs\\python\\python39\\lib\\site-packages\\sklearn\\linear_model\\_sag.py:328: ConvergenceWarning:\n",
      "\n",
      "The max_iter was reached which means the coef_ did not converge\n",
      "\n",
      "c:\\users\\harsshh wankhayday\\appdata\\local\\programs\\python\\python39\\lib\\site-packages\\sklearn\\linear_model\\_sag.py:328: ConvergenceWarning:\n",
      "\n",
      "The max_iter was reached which means the coef_ did not converge\n",
      "\n",
      "c:\\users\\harsshh wankhayday\\appdata\\local\\programs\\python\\python39\\lib\\site-packages\\sklearn\\linear_model\\_sag.py:328: ConvergenceWarning:\n",
      "\n",
      "The max_iter was reached which means the coef_ did not converge\n",
      "\n",
      "c:\\users\\harsshh wankhayday\\appdata\\local\\programs\\python\\python39\\lib\\site-packages\\sklearn\\linear_model\\_sag.py:328: ConvergenceWarning:\n",
      "\n",
      "The max_iter was reached which means the coef_ did not converge\n",
      "\n",
      "c:\\users\\harsshh wankhayday\\appdata\\local\\programs\\python\\python39\\lib\\site-packages\\sklearn\\linear_model\\_sag.py:328: ConvergenceWarning:\n",
      "\n",
      "The max_iter was reached which means the coef_ did not converge\n",
      "\n",
      "c:\\users\\harsshh wankhayday\\appdata\\local\\programs\\python\\python39\\lib\\site-packages\\sklearn\\linear_model\\_sag.py:328: ConvergenceWarning:\n",
      "\n",
      "The max_iter was reached which means the coef_ did not converge\n",
      "\n",
      "c:\\users\\harsshh wankhayday\\appdata\\local\\programs\\python\\python39\\lib\\site-packages\\sklearn\\linear_model\\_sag.py:328: ConvergenceWarning:\n",
      "\n",
      "The max_iter was reached which means the coef_ did not converge\n",
      "\n"
     ]
    },
    {
     "name": "stdout",
     "output_type": "stream",
     "text": [
      "[CV 4/5] END ............penalty=l2, solver=sag;, score=0.178 total time=   0.0s\n",
      "[CV 5/5] END ............penalty=l2, solver=sag;, score=0.156 total time=   0.0s\n",
      "[CV 1/5] END ...........penalty=l2, solver=saga;, score=0.156 total time=   0.0s\n",
      "[CV 2/5] END ...........penalty=l2, solver=saga;, score=0.289 total time=   0.0s\n",
      "[CV 3/5] END ...........penalty=l2, solver=saga;, score=0.156 total time=   0.0s\n",
      "[CV 4/5] END ...........penalty=l2, solver=saga;, score=0.156 total time=   0.0s\n",
      "[CV 5/5] END ...........penalty=l2, solver=saga;, score=0.111 total time=   0.0s\n",
      "[CV 1/5] END penalty=elasticnet, solver=newton-cg;, score=nan total time=   0.0s\n",
      "[CV 2/5] END penalty=elasticnet, solver=newton-cg;, score=nan total time=   0.0s\n",
      "[CV 3/5] END penalty=elasticnet, solver=newton-cg;, score=nan total time=   0.0s\n"
     ]
    },
    {
     "name": "stderr",
     "output_type": "stream",
     "text": [
      "c:\\users\\harsshh wankhayday\\appdata\\local\\programs\\python\\python39\\lib\\site-packages\\sklearn\\linear_model\\_sag.py:328: ConvergenceWarning:\n",
      "\n",
      "The max_iter was reached which means the coef_ did not converge\n",
      "\n",
      "c:\\users\\harsshh wankhayday\\appdata\\local\\programs\\python\\python39\\lib\\site-packages\\sklearn\\model_selection\\_validation.py:615: FitFailedWarning:\n",
      "\n",
      "Estimator fit failed. The score on this train-test partition for these parameters will be set to nan. Details: \n",
      "Traceback (most recent call last):\n",
      "  File \"c:\\users\\harsshh wankhayday\\appdata\\local\\programs\\python\\python39\\lib\\site-packages\\sklearn\\model_selection\\_validation.py\", line 598, in _fit_and_score\n",
      "    estimator.fit(X_train, y_train, **fit_params)\n",
      "  File \"c:\\users\\harsshh wankhayday\\appdata\\local\\programs\\python\\python39\\lib\\site-packages\\sklearn\\linear_model\\_logistic.py\", line 1306, in fit\n",
      "    solver = _check_solver(self.solver, self.penalty, self.dual)\n",
      "  File \"c:\\users\\harsshh wankhayday\\appdata\\local\\programs\\python\\python39\\lib\\site-packages\\sklearn\\linear_model\\_logistic.py\", line 443, in _check_solver\n",
      "    raise ValueError(\"Solver %s supports only 'l2' or 'none' penalties, \"\n",
      "ValueError: Solver newton-cg supports only 'l2' or 'none' penalties, got elasticnet penalty.\n",
      "\n",
      "\n",
      "c:\\users\\harsshh wankhayday\\appdata\\local\\programs\\python\\python39\\lib\\site-packages\\sklearn\\model_selection\\_validation.py:615: FitFailedWarning:\n",
      "\n",
      "Estimator fit failed. The score on this train-test partition for these parameters will be set to nan. Details: \n",
      "Traceback (most recent call last):\n",
      "  File \"c:\\users\\harsshh wankhayday\\appdata\\local\\programs\\python\\python39\\lib\\site-packages\\sklearn\\model_selection\\_validation.py\", line 598, in _fit_and_score\n",
      "    estimator.fit(X_train, y_train, **fit_params)\n",
      "  File \"c:\\users\\harsshh wankhayday\\appdata\\local\\programs\\python\\python39\\lib\\site-packages\\sklearn\\linear_model\\_logistic.py\", line 1306, in fit\n",
      "    solver = _check_solver(self.solver, self.penalty, self.dual)\n",
      "  File \"c:\\users\\harsshh wankhayday\\appdata\\local\\programs\\python\\python39\\lib\\site-packages\\sklearn\\linear_model\\_logistic.py\", line 443, in _check_solver\n",
      "    raise ValueError(\"Solver %s supports only 'l2' or 'none' penalties, \"\n",
      "ValueError: Solver newton-cg supports only 'l2' or 'none' penalties, got elasticnet penalty.\n",
      "\n",
      "\n",
      "c:\\users\\harsshh wankhayday\\appdata\\local\\programs\\python\\python39\\lib\\site-packages\\sklearn\\model_selection\\_validation.py:615: FitFailedWarning:\n",
      "\n",
      "Estimator fit failed. The score on this train-test partition for these parameters will be set to nan. Details: \n",
      "Traceback (most recent call last):\n",
      "  File \"c:\\users\\harsshh wankhayday\\appdata\\local\\programs\\python\\python39\\lib\\site-packages\\sklearn\\model_selection\\_validation.py\", line 598, in _fit_and_score\n",
      "    estimator.fit(X_train, y_train, **fit_params)\n",
      "  File \"c:\\users\\harsshh wankhayday\\appdata\\local\\programs\\python\\python39\\lib\\site-packages\\sklearn\\linear_model\\_logistic.py\", line 1306, in fit\n",
      "    solver = _check_solver(self.solver, self.penalty, self.dual)\n",
      "  File \"c:\\users\\harsshh wankhayday\\appdata\\local\\programs\\python\\python39\\lib\\site-packages\\sklearn\\linear_model\\_logistic.py\", line 443, in _check_solver\n",
      "    raise ValueError(\"Solver %s supports only 'l2' or 'none' penalties, \"\n",
      "ValueError: Solver newton-cg supports only 'l2' or 'none' penalties, got elasticnet penalty.\n",
      "\n",
      "\n",
      "c:\\users\\harsshh wankhayday\\appdata\\local\\programs\\python\\python39\\lib\\site-packages\\sklearn\\model_selection\\_validation.py:615: FitFailedWarning:\n",
      "\n",
      "Estimator fit failed. The score on this train-test partition for these parameters will be set to nan. Details: \n",
      "Traceback (most recent call last):\n",
      "  File \"c:\\users\\harsshh wankhayday\\appdata\\local\\programs\\python\\python39\\lib\\site-packages\\sklearn\\model_selection\\_validation.py\", line 598, in _fit_and_score\n",
      "    estimator.fit(X_train, y_train, **fit_params)\n",
      "  File \"c:\\users\\harsshh wankhayday\\appdata\\local\\programs\\python\\python39\\lib\\site-packages\\sklearn\\linear_model\\_logistic.py\", line 1306, in fit\n",
      "    solver = _check_solver(self.solver, self.penalty, self.dual)\n",
      "  File \"c:\\users\\harsshh wankhayday\\appdata\\local\\programs\\python\\python39\\lib\\site-packages\\sklearn\\linear_model\\_logistic.py\", line 443, in _check_solver\n",
      "    raise ValueError(\"Solver %s supports only 'l2' or 'none' penalties, \"\n",
      "ValueError: Solver newton-cg supports only 'l2' or 'none' penalties, got elasticnet penalty.\n",
      "\n",
      "\n",
      "c:\\users\\harsshh wankhayday\\appdata\\local\\programs\\python\\python39\\lib\\site-packages\\sklearn\\model_selection\\_validation.py:615: FitFailedWarning:\n",
      "\n",
      "Estimator fit failed. The score on this train-test partition for these parameters will be set to nan. Details: \n",
      "Traceback (most recent call last):\n",
      "  File \"c:\\users\\harsshh wankhayday\\appdata\\local\\programs\\python\\python39\\lib\\site-packages\\sklearn\\model_selection\\_validation.py\", line 598, in _fit_and_score\n",
      "    estimator.fit(X_train, y_train, **fit_params)\n",
      "  File \"c:\\users\\harsshh wankhayday\\appdata\\local\\programs\\python\\python39\\lib\\site-packages\\sklearn\\linear_model\\_logistic.py\", line 1306, in fit\n",
      "    solver = _check_solver(self.solver, self.penalty, self.dual)\n",
      "  File \"c:\\users\\harsshh wankhayday\\appdata\\local\\programs\\python\\python39\\lib\\site-packages\\sklearn\\linear_model\\_logistic.py\", line 443, in _check_solver\n",
      "    raise ValueError(\"Solver %s supports only 'l2' or 'none' penalties, \"\n",
      "ValueError: Solver newton-cg supports only 'l2' or 'none' penalties, got elasticnet penalty.\n",
      "\n",
      "\n",
      "c:\\users\\harsshh wankhayday\\appdata\\local\\programs\\python\\python39\\lib\\site-packages\\sklearn\\model_selection\\_validation.py:615: FitFailedWarning:\n",
      "\n",
      "Estimator fit failed. The score on this train-test partition for these parameters will be set to nan. Details: \n",
      "Traceback (most recent call last):\n",
      "  File \"c:\\users\\harsshh wankhayday\\appdata\\local\\programs\\python\\python39\\lib\\site-packages\\sklearn\\model_selection\\_validation.py\", line 598, in _fit_and_score\n",
      "    estimator.fit(X_train, y_train, **fit_params)\n",
      "  File \"c:\\users\\harsshh wankhayday\\appdata\\local\\programs\\python\\python39\\lib\\site-packages\\sklearn\\linear_model\\_logistic.py\", line 1306, in fit\n",
      "    solver = _check_solver(self.solver, self.penalty, self.dual)\n",
      "  File \"c:\\users\\harsshh wankhayday\\appdata\\local\\programs\\python\\python39\\lib\\site-packages\\sklearn\\linear_model\\_logistic.py\", line 443, in _check_solver\n",
      "    raise ValueError(\"Solver %s supports only 'l2' or 'none' penalties, \"\n",
      "ValueError: Solver lbfgs supports only 'l2' or 'none' penalties, got elasticnet penalty.\n",
      "\n",
      "\n",
      "c:\\users\\harsshh wankhayday\\appdata\\local\\programs\\python\\python39\\lib\\site-packages\\sklearn\\model_selection\\_validation.py:615: FitFailedWarning:\n",
      "\n",
      "Estimator fit failed. The score on this train-test partition for these parameters will be set to nan. Details: \n",
      "Traceback (most recent call last):\n",
      "  File \"c:\\users\\harsshh wankhayday\\appdata\\local\\programs\\python\\python39\\lib\\site-packages\\sklearn\\model_selection\\_validation.py\", line 598, in _fit_and_score\n",
      "    estimator.fit(X_train, y_train, **fit_params)\n",
      "  File \"c:\\users\\harsshh wankhayday\\appdata\\local\\programs\\python\\python39\\lib\\site-packages\\sklearn\\linear_model\\_logistic.py\", line 1306, in fit\n",
      "    solver = _check_solver(self.solver, self.penalty, self.dual)\n",
      "  File \"c:\\users\\harsshh wankhayday\\appdata\\local\\programs\\python\\python39\\lib\\site-packages\\sklearn\\linear_model\\_logistic.py\", line 443, in _check_solver\n",
      "    raise ValueError(\"Solver %s supports only 'l2' or 'none' penalties, \"\n",
      "ValueError: Solver lbfgs supports only 'l2' or 'none' penalties, got elasticnet penalty.\n",
      "\n",
      "\n",
      "c:\\users\\harsshh wankhayday\\appdata\\local\\programs\\python\\python39\\lib\\site-packages\\sklearn\\model_selection\\_validation.py:615: FitFailedWarning:\n",
      "\n",
      "Estimator fit failed. The score on this train-test partition for these parameters will be set to nan. Details: \n",
      "Traceback (most recent call last):\n",
      "  File \"c:\\users\\harsshh wankhayday\\appdata\\local\\programs\\python\\python39\\lib\\site-packages\\sklearn\\model_selection\\_validation.py\", line 598, in _fit_and_score\n",
      "    estimator.fit(X_train, y_train, **fit_params)\n",
      "  File \"c:\\users\\harsshh wankhayday\\appdata\\local\\programs\\python\\python39\\lib\\site-packages\\sklearn\\linear_model\\_logistic.py\", line 1306, in fit\n",
      "    solver = _check_solver(self.solver, self.penalty, self.dual)\n",
      "  File \"c:\\users\\harsshh wankhayday\\appdata\\local\\programs\\python\\python39\\lib\\site-packages\\sklearn\\linear_model\\_logistic.py\", line 443, in _check_solver\n",
      "    raise ValueError(\"Solver %s supports only 'l2' or 'none' penalties, \"\n",
      "ValueError: Solver lbfgs supports only 'l2' or 'none' penalties, got elasticnet penalty.\n",
      "\n",
      "\n",
      "c:\\users\\harsshh wankhayday\\appdata\\local\\programs\\python\\python39\\lib\\site-packages\\sklearn\\model_selection\\_validation.py:615: FitFailedWarning:\n",
      "\n",
      "Estimator fit failed. The score on this train-test partition for these parameters will be set to nan. Details: \n",
      "Traceback (most recent call last):\n",
      "  File \"c:\\users\\harsshh wankhayday\\appdata\\local\\programs\\python\\python39\\lib\\site-packages\\sklearn\\model_selection\\_validation.py\", line 598, in _fit_and_score\n",
      "    estimator.fit(X_train, y_train, **fit_params)\n",
      "  File \"c:\\users\\harsshh wankhayday\\appdata\\local\\programs\\python\\python39\\lib\\site-packages\\sklearn\\linear_model\\_logistic.py\", line 1306, in fit\n",
      "    solver = _check_solver(self.solver, self.penalty, self.dual)\n",
      "  File \"c:\\users\\harsshh wankhayday\\appdata\\local\\programs\\python\\python39\\lib\\site-packages\\sklearn\\linear_model\\_logistic.py\", line 443, in _check_solver\n",
      "    raise ValueError(\"Solver %s supports only 'l2' or 'none' penalties, \"\n",
      "ValueError: Solver lbfgs supports only 'l2' or 'none' penalties, got elasticnet penalty.\n",
      "\n",
      "\n",
      "c:\\users\\harsshh wankhayday\\appdata\\local\\programs\\python\\python39\\lib\\site-packages\\sklearn\\model_selection\\_validation.py:615: FitFailedWarning:\n",
      "\n",
      "Estimator fit failed. The score on this train-test partition for these parameters will be set to nan. Details: \n",
      "Traceback (most recent call last):\n",
      "  File \"c:\\users\\harsshh wankhayday\\appdata\\local\\programs\\python\\python39\\lib\\site-packages\\sklearn\\model_selection\\_validation.py\", line 598, in _fit_and_score\n",
      "    estimator.fit(X_train, y_train, **fit_params)\n",
      "  File \"c:\\users\\harsshh wankhayday\\appdata\\local\\programs\\python\\python39\\lib\\site-packages\\sklearn\\linear_model\\_logistic.py\", line 1306, in fit\n",
      "    solver = _check_solver(self.solver, self.penalty, self.dual)\n",
      "  File \"c:\\users\\harsshh wankhayday\\appdata\\local\\programs\\python\\python39\\lib\\site-packages\\sklearn\\linear_model\\_logistic.py\", line 443, in _check_solver\n",
      "    raise ValueError(\"Solver %s supports only 'l2' or 'none' penalties, \"\n",
      "ValueError: Solver lbfgs supports only 'l2' or 'none' penalties, got elasticnet penalty.\n",
      "\n",
      "\n",
      "c:\\users\\harsshh wankhayday\\appdata\\local\\programs\\python\\python39\\lib\\site-packages\\sklearn\\model_selection\\_validation.py:615: FitFailedWarning:\n",
      "\n",
      "Estimator fit failed. The score on this train-test partition for these parameters will be set to nan. Details: \n",
      "Traceback (most recent call last):\n",
      "  File \"c:\\users\\harsshh wankhayday\\appdata\\local\\programs\\python\\python39\\lib\\site-packages\\sklearn\\model_selection\\_validation.py\", line 598, in _fit_and_score\n",
      "    estimator.fit(X_train, y_train, **fit_params)\n",
      "  File \"c:\\users\\harsshh wankhayday\\appdata\\local\\programs\\python\\python39\\lib\\site-packages\\sklearn\\linear_model\\_logistic.py\", line 1306, in fit\n",
      "    solver = _check_solver(self.solver, self.penalty, self.dual)\n",
      "  File \"c:\\users\\harsshh wankhayday\\appdata\\local\\programs\\python\\python39\\lib\\site-packages\\sklearn\\linear_model\\_logistic.py\", line 450, in _check_solver\n",
      "    raise ValueError(\"Only 'saga' solver supports elasticnet penalty,\"\n",
      "ValueError: Only 'saga' solver supports elasticnet penalty, got solver=liblinear.\n",
      "\n",
      "\n",
      "c:\\users\\harsshh wankhayday\\appdata\\local\\programs\\python\\python39\\lib\\site-packages\\sklearn\\model_selection\\_validation.py:615: FitFailedWarning:\n",
      "\n",
      "Estimator fit failed. The score on this train-test partition for these parameters will be set to nan. Details: \n",
      "Traceback (most recent call last):\n",
      "  File \"c:\\users\\harsshh wankhayday\\appdata\\local\\programs\\python\\python39\\lib\\site-packages\\sklearn\\model_selection\\_validation.py\", line 598, in _fit_and_score\n",
      "    estimator.fit(X_train, y_train, **fit_params)\n",
      "  File \"c:\\users\\harsshh wankhayday\\appdata\\local\\programs\\python\\python39\\lib\\site-packages\\sklearn\\linear_model\\_logistic.py\", line 1306, in fit\n",
      "    solver = _check_solver(self.solver, self.penalty, self.dual)\n",
      "  File \"c:\\users\\harsshh wankhayday\\appdata\\local\\programs\\python\\python39\\lib\\site-packages\\sklearn\\linear_model\\_logistic.py\", line 450, in _check_solver\n",
      "    raise ValueError(\"Only 'saga' solver supports elasticnet penalty,\"\n",
      "ValueError: Only 'saga' solver supports elasticnet penalty, got solver=liblinear.\n",
      "\n",
      "\n",
      "c:\\users\\harsshh wankhayday\\appdata\\local\\programs\\python\\python39\\lib\\site-packages\\sklearn\\model_selection\\_validation.py:615: FitFailedWarning:\n",
      "\n",
      "Estimator fit failed. The score on this train-test partition for these parameters will be set to nan. Details: \n",
      "Traceback (most recent call last):\n",
      "  File \"c:\\users\\harsshh wankhayday\\appdata\\local\\programs\\python\\python39\\lib\\site-packages\\sklearn\\model_selection\\_validation.py\", line 598, in _fit_and_score\n",
      "    estimator.fit(X_train, y_train, **fit_params)\n",
      "  File \"c:\\users\\harsshh wankhayday\\appdata\\local\\programs\\python\\python39\\lib\\site-packages\\sklearn\\linear_model\\_logistic.py\", line 1306, in fit\n",
      "    solver = _check_solver(self.solver, self.penalty, self.dual)\n",
      "  File \"c:\\users\\harsshh wankhayday\\appdata\\local\\programs\\python\\python39\\lib\\site-packages\\sklearn\\linear_model\\_logistic.py\", line 450, in _check_solver\n",
      "    raise ValueError(\"Only 'saga' solver supports elasticnet penalty,\"\n",
      "ValueError: Only 'saga' solver supports elasticnet penalty, got solver=liblinear.\n",
      "\n",
      "\n",
      "c:\\users\\harsshh wankhayday\\appdata\\local\\programs\\python\\python39\\lib\\site-packages\\sklearn\\model_selection\\_validation.py:615: FitFailedWarning:\n",
      "\n",
      "Estimator fit failed. The score on this train-test partition for these parameters will be set to nan. Details: \n",
      "Traceback (most recent call last):\n",
      "  File \"c:\\users\\harsshh wankhayday\\appdata\\local\\programs\\python\\python39\\lib\\site-packages\\sklearn\\model_selection\\_validation.py\", line 598, in _fit_and_score\n",
      "    estimator.fit(X_train, y_train, **fit_params)\n",
      "  File \"c:\\users\\harsshh wankhayday\\appdata\\local\\programs\\python\\python39\\lib\\site-packages\\sklearn\\linear_model\\_logistic.py\", line 1306, in fit\n",
      "    solver = _check_solver(self.solver, self.penalty, self.dual)\n",
      "  File \"c:\\users\\harsshh wankhayday\\appdata\\local\\programs\\python\\python39\\lib\\site-packages\\sklearn\\linear_model\\_logistic.py\", line 450, in _check_solver\n",
      "    raise ValueError(\"Only 'saga' solver supports elasticnet penalty,\"\n",
      "ValueError: Only 'saga' solver supports elasticnet penalty, got solver=liblinear.\n",
      "\n",
      "\n",
      "c:\\users\\harsshh wankhayday\\appdata\\local\\programs\\python\\python39\\lib\\site-packages\\sklearn\\model_selection\\_validation.py:615: FitFailedWarning:\n",
      "\n",
      "Estimator fit failed. The score on this train-test partition for these parameters will be set to nan. Details: \n",
      "Traceback (most recent call last):\n",
      "  File \"c:\\users\\harsshh wankhayday\\appdata\\local\\programs\\python\\python39\\lib\\site-packages\\sklearn\\model_selection\\_validation.py\", line 598, in _fit_and_score\n",
      "    estimator.fit(X_train, y_train, **fit_params)\n",
      "  File \"c:\\users\\harsshh wankhayday\\appdata\\local\\programs\\python\\python39\\lib\\site-packages\\sklearn\\linear_model\\_logistic.py\", line 1306, in fit\n",
      "    solver = _check_solver(self.solver, self.penalty, self.dual)\n",
      "  File \"c:\\users\\harsshh wankhayday\\appdata\\local\\programs\\python\\python39\\lib\\site-packages\\sklearn\\linear_model\\_logistic.py\", line 450, in _check_solver\n",
      "    raise ValueError(\"Only 'saga' solver supports elasticnet penalty,\"\n",
      "ValueError: Only 'saga' solver supports elasticnet penalty, got solver=liblinear.\n",
      "\n",
      "\n",
      "c:\\users\\harsshh wankhayday\\appdata\\local\\programs\\python\\python39\\lib\\site-packages\\sklearn\\model_selection\\_validation.py:615: FitFailedWarning:\n",
      "\n",
      "Estimator fit failed. The score on this train-test partition for these parameters will be set to nan. Details: \n",
      "Traceback (most recent call last):\n",
      "  File \"c:\\users\\harsshh wankhayday\\appdata\\local\\programs\\python\\python39\\lib\\site-packages\\sklearn\\model_selection\\_validation.py\", line 598, in _fit_and_score\n",
      "    estimator.fit(X_train, y_train, **fit_params)\n",
      "  File \"c:\\users\\harsshh wankhayday\\appdata\\local\\programs\\python\\python39\\lib\\site-packages\\sklearn\\linear_model\\_logistic.py\", line 1306, in fit\n",
      "    solver = _check_solver(self.solver, self.penalty, self.dual)\n",
      "  File \"c:\\users\\harsshh wankhayday\\appdata\\local\\programs\\python\\python39\\lib\\site-packages\\sklearn\\linear_model\\_logistic.py\", line 443, in _check_solver\n",
      "    raise ValueError(\"Solver %s supports only 'l2' or 'none' penalties, \"\n",
      "ValueError: Solver sag supports only 'l2' or 'none' penalties, got elasticnet penalty.\n",
      "\n",
      "\n",
      "c:\\users\\harsshh wankhayday\\appdata\\local\\programs\\python\\python39\\lib\\site-packages\\sklearn\\model_selection\\_validation.py:615: FitFailedWarning:\n",
      "\n",
      "Estimator fit failed. The score on this train-test partition for these parameters will be set to nan. Details: \n",
      "Traceback (most recent call last):\n",
      "  File \"c:\\users\\harsshh wankhayday\\appdata\\local\\programs\\python\\python39\\lib\\site-packages\\sklearn\\model_selection\\_validation.py\", line 598, in _fit_and_score\n",
      "    estimator.fit(X_train, y_train, **fit_params)\n",
      "  File \"c:\\users\\harsshh wankhayday\\appdata\\local\\programs\\python\\python39\\lib\\site-packages\\sklearn\\linear_model\\_logistic.py\", line 1306, in fit\n",
      "    solver = _check_solver(self.solver, self.penalty, self.dual)\n",
      "  File \"c:\\users\\harsshh wankhayday\\appdata\\local\\programs\\python\\python39\\lib\\site-packages\\sklearn\\linear_model\\_logistic.py\", line 443, in _check_solver\n",
      "    raise ValueError(\"Solver %s supports only 'l2' or 'none' penalties, \"\n",
      "ValueError: Solver sag supports only 'l2' or 'none' penalties, got elasticnet penalty.\n",
      "\n",
      "\n",
      "c:\\users\\harsshh wankhayday\\appdata\\local\\programs\\python\\python39\\lib\\site-packages\\sklearn\\model_selection\\_validation.py:615: FitFailedWarning:\n",
      "\n",
      "Estimator fit failed. The score on this train-test partition for these parameters will be set to nan. Details: \n",
      "Traceback (most recent call last):\n",
      "  File \"c:\\users\\harsshh wankhayday\\appdata\\local\\programs\\python\\python39\\lib\\site-packages\\sklearn\\model_selection\\_validation.py\", line 598, in _fit_and_score\n",
      "    estimator.fit(X_train, y_train, **fit_params)\n",
      "  File \"c:\\users\\harsshh wankhayday\\appdata\\local\\programs\\python\\python39\\lib\\site-packages\\sklearn\\linear_model\\_logistic.py\", line 1306, in fit\n",
      "    solver = _check_solver(self.solver, self.penalty, self.dual)\n",
      "  File \"c:\\users\\harsshh wankhayday\\appdata\\local\\programs\\python\\python39\\lib\\site-packages\\sklearn\\linear_model\\_logistic.py\", line 443, in _check_solver\n",
      "    raise ValueError(\"Solver %s supports only 'l2' or 'none' penalties, \"\n",
      "ValueError: Solver sag supports only 'l2' or 'none' penalties, got elasticnet penalty.\n",
      "\n",
      "\n",
      "c:\\users\\harsshh wankhayday\\appdata\\local\\programs\\python\\python39\\lib\\site-packages\\sklearn\\model_selection\\_validation.py:615: FitFailedWarning:\n",
      "\n",
      "Estimator fit failed. The score on this train-test partition for these parameters will be set to nan. Details: \n",
      "Traceback (most recent call last):\n",
      "  File \"c:\\users\\harsshh wankhayday\\appdata\\local\\programs\\python\\python39\\lib\\site-packages\\sklearn\\model_selection\\_validation.py\", line 598, in _fit_and_score\n",
      "    estimator.fit(X_train, y_train, **fit_params)\n",
      "  File \"c:\\users\\harsshh wankhayday\\appdata\\local\\programs\\python\\python39\\lib\\site-packages\\sklearn\\linear_model\\_logistic.py\", line 1306, in fit\n",
      "    solver = _check_solver(self.solver, self.penalty, self.dual)\n",
      "  File \"c:\\users\\harsshh wankhayday\\appdata\\local\\programs\\python\\python39\\lib\\site-packages\\sklearn\\linear_model\\_logistic.py\", line 443, in _check_solver\n",
      "    raise ValueError(\"Solver %s supports only 'l2' or 'none' penalties, \"\n",
      "ValueError: Solver sag supports only 'l2' or 'none' penalties, got elasticnet penalty.\n",
      "\n",
      "\n",
      "c:\\users\\harsshh wankhayday\\appdata\\local\\programs\\python\\python39\\lib\\site-packages\\sklearn\\model_selection\\_validation.py:615: FitFailedWarning:\n",
      "\n",
      "Estimator fit failed. The score on this train-test partition for these parameters will be set to nan. Details: \n",
      "Traceback (most recent call last):\n",
      "  File \"c:\\users\\harsshh wankhayday\\appdata\\local\\programs\\python\\python39\\lib\\site-packages\\sklearn\\model_selection\\_validation.py\", line 598, in _fit_and_score\n",
      "    estimator.fit(X_train, y_train, **fit_params)\n",
      "  File \"c:\\users\\harsshh wankhayday\\appdata\\local\\programs\\python\\python39\\lib\\site-packages\\sklearn\\linear_model\\_logistic.py\", line 1306, in fit\n",
      "    solver = _check_solver(self.solver, self.penalty, self.dual)\n",
      "  File \"c:\\users\\harsshh wankhayday\\appdata\\local\\programs\\python\\python39\\lib\\site-packages\\sklearn\\linear_model\\_logistic.py\", line 443, in _check_solver\n",
      "    raise ValueError(\"Solver %s supports only 'l2' or 'none' penalties, \"\n",
      "ValueError: Solver sag supports only 'l2' or 'none' penalties, got elasticnet penalty.\n",
      "\n",
      "\n",
      "c:\\users\\harsshh wankhayday\\appdata\\local\\programs\\python\\python39\\lib\\site-packages\\sklearn\\model_selection\\_validation.py:615: FitFailedWarning:\n",
      "\n",
      "Estimator fit failed. The score on this train-test partition for these parameters will be set to nan. Details: \n",
      "Traceback (most recent call last):\n",
      "  File \"c:\\users\\harsshh wankhayday\\appdata\\local\\programs\\python\\python39\\lib\\site-packages\\sklearn\\model_selection\\_validation.py\", line 598, in _fit_and_score\n",
      "    estimator.fit(X_train, y_train, **fit_params)\n",
      "  File \"c:\\users\\harsshh wankhayday\\appdata\\local\\programs\\python\\python39\\lib\\site-packages\\sklearn\\linear_model\\_logistic.py\", line 1314, in fit\n",
      "    raise ValueError(\"l1_ratio must be between 0 and 1;\"\n",
      "ValueError: l1_ratio must be between 0 and 1; got (l1_ratio=None)\n",
      "\n",
      "\n",
      "c:\\users\\harsshh wankhayday\\appdata\\local\\programs\\python\\python39\\lib\\site-packages\\sklearn\\model_selection\\_validation.py:615: FitFailedWarning:\n",
      "\n",
      "Estimator fit failed. The score on this train-test partition for these parameters will be set to nan. Details: \n",
      "Traceback (most recent call last):\n",
      "  File \"c:\\users\\harsshh wankhayday\\appdata\\local\\programs\\python\\python39\\lib\\site-packages\\sklearn\\model_selection\\_validation.py\", line 598, in _fit_and_score\n",
      "    estimator.fit(X_train, y_train, **fit_params)\n",
      "  File \"c:\\users\\harsshh wankhayday\\appdata\\local\\programs\\python\\python39\\lib\\site-packages\\sklearn\\linear_model\\_logistic.py\", line 1314, in fit\n",
      "    raise ValueError(\"l1_ratio must be between 0 and 1;\"\n",
      "ValueError: l1_ratio must be between 0 and 1; got (l1_ratio=None)\n",
      "\n",
      "\n",
      "c:\\users\\harsshh wankhayday\\appdata\\local\\programs\\python\\python39\\lib\\site-packages\\sklearn\\model_selection\\_validation.py:615: FitFailedWarning:\n",
      "\n",
      "Estimator fit failed. The score on this train-test partition for these parameters will be set to nan. Details: \n",
      "Traceback (most recent call last):\n",
      "  File \"c:\\users\\harsshh wankhayday\\appdata\\local\\programs\\python\\python39\\lib\\site-packages\\sklearn\\model_selection\\_validation.py\", line 598, in _fit_and_score\n",
      "    estimator.fit(X_train, y_train, **fit_params)\n",
      "  File \"c:\\users\\harsshh wankhayday\\appdata\\local\\programs\\python\\python39\\lib\\site-packages\\sklearn\\linear_model\\_logistic.py\", line 1314, in fit\n",
      "    raise ValueError(\"l1_ratio must be between 0 and 1;\"\n",
      "ValueError: l1_ratio must be between 0 and 1; got (l1_ratio=None)\n",
      "\n",
      "\n",
      "c:\\users\\harsshh wankhayday\\appdata\\local\\programs\\python\\python39\\lib\\site-packages\\sklearn\\model_selection\\_validation.py:615: FitFailedWarning:\n",
      "\n",
      "Estimator fit failed. The score on this train-test partition for these parameters will be set to nan. Details: \n",
      "Traceback (most recent call last):\n",
      "  File \"c:\\users\\harsshh wankhayday\\appdata\\local\\programs\\python\\python39\\lib\\site-packages\\sklearn\\model_selection\\_validation.py\", line 598, in _fit_and_score\n",
      "    estimator.fit(X_train, y_train, **fit_params)\n",
      "  File \"c:\\users\\harsshh wankhayday\\appdata\\local\\programs\\python\\python39\\lib\\site-packages\\sklearn\\linear_model\\_logistic.py\", line 1314, in fit\n",
      "    raise ValueError(\"l1_ratio must be between 0 and 1;\"\n",
      "ValueError: l1_ratio must be between 0 and 1; got (l1_ratio=None)\n",
      "\n",
      "\n",
      "c:\\users\\harsshh wankhayday\\appdata\\local\\programs\\python\\python39\\lib\\site-packages\\sklearn\\model_selection\\_validation.py:615: FitFailedWarning:\n",
      "\n",
      "Estimator fit failed. The score on this train-test partition for these parameters will be set to nan. Details: \n",
      "Traceback (most recent call last):\n",
      "  File \"c:\\users\\harsshh wankhayday\\appdata\\local\\programs\\python\\python39\\lib\\site-packages\\sklearn\\model_selection\\_validation.py\", line 598, in _fit_and_score\n",
      "    estimator.fit(X_train, y_train, **fit_params)\n",
      "  File \"c:\\users\\harsshh wankhayday\\appdata\\local\\programs\\python\\python39\\lib\\site-packages\\sklearn\\linear_model\\_logistic.py\", line 1314, in fit\n",
      "    raise ValueError(\"l1_ratio must be between 0 and 1;\"\n",
      "ValueError: l1_ratio must be between 0 and 1; got (l1_ratio=None)\n",
      "\n",
      "\n"
     ]
    },
    {
     "name": "stdout",
     "output_type": "stream",
     "text": [
      "[CV 4/5] END penalty=elasticnet, solver=newton-cg;, score=nan total time=   0.0s\n",
      "[CV 5/5] END penalty=elasticnet, solver=newton-cg;, score=nan total time=   0.0s\n",
      "[CV 1/5] END ....penalty=elasticnet, solver=lbfgs;, score=nan total time=   0.0s\n",
      "[CV 2/5] END ....penalty=elasticnet, solver=lbfgs;, score=nan total time=   0.0s\n",
      "[CV 3/5] END ....penalty=elasticnet, solver=lbfgs;, score=nan total time=   0.0s\n",
      "[CV 4/5] END ....penalty=elasticnet, solver=lbfgs;, score=nan total time=   0.0s\n",
      "[CV 5/5] END ....penalty=elasticnet, solver=lbfgs;, score=nan total time=   0.0s\n",
      "[CV 1/5] END penalty=elasticnet, solver=liblinear;, score=nan total time=   0.0s\n",
      "[CV 2/5] END penalty=elasticnet, solver=liblinear;, score=nan total time=   0.0s\n",
      "[CV 3/5] END penalty=elasticnet, solver=liblinear;, score=nan total time=   0.0s\n",
      "[CV 4/5] END penalty=elasticnet, solver=liblinear;, score=nan total time=   0.0s\n",
      "[CV 5/5] END penalty=elasticnet, solver=liblinear;, score=nan total time=   0.0s\n",
      "[CV 1/5] END ......penalty=elasticnet, solver=sag;, score=nan total time=   0.0s\n",
      "[CV 2/5] END ......penalty=elasticnet, solver=sag;, score=nan total time=   0.0s\n",
      "[CV 3/5] END ......penalty=elasticnet, solver=sag;, score=nan total time=   0.0s\n",
      "[CV 4/5] END ......penalty=elasticnet, solver=sag;, score=nan total time=   0.0s\n",
      "[CV 5/5] END ......penalty=elasticnet, solver=sag;, score=nan total time=   0.0s\n",
      "[CV 1/5] END .....penalty=elasticnet, solver=saga;, score=nan total time=   0.0s\n",
      "[CV 2/5] END .....penalty=elasticnet, solver=saga;, score=nan total time=   0.0s\n",
      "[CV 3/5] END .....penalty=elasticnet, solver=saga;, score=nan total time=   0.0s\n",
      "[CV 4/5] END .....penalty=elasticnet, solver=saga;, score=nan total time=   0.0s\n",
      "[CV 5/5] END .....penalty=elasticnet, solver=saga;, score=nan total time=   0.0s\n",
      "[CV 1/5] END ....penalty=none, solver=newton-cg;, score=0.267 total time=   0.0s\n",
      "[CV 2/5] END ....penalty=none, solver=newton-cg;, score=0.533 total time=   0.0s\n",
      "[CV 3/5] END ....penalty=none, solver=newton-cg;, score=0.333 total time=   0.0s\n",
      "[CV 4/5] END ....penalty=none, solver=newton-cg;, score=0.489 total time=   0.0s\n",
      "[CV 5/5] END ....penalty=none, solver=newton-cg;, score=0.289 total time=   0.1s\n",
      "[CV 1/5] END ........penalty=none, solver=lbfgs;, score=0.289 total time=   0.0s\n",
      "[CV 2/5] END ........penalty=none, solver=lbfgs;, score=0.533 total time=   0.0s\n",
      "[CV 3/5] END ........penalty=none, solver=lbfgs;, score=0.356 total time=   0.0s\n",
      "[CV 4/5] END ........penalty=none, solver=lbfgs;, score=0.444 total time=   0.0s\n"
     ]
    },
    {
     "name": "stderr",
     "output_type": "stream",
     "text": [
      "c:\\users\\harsshh wankhayday\\appdata\\local\\programs\\python\\python39\\lib\\site-packages\\sklearn\\linear_model\\_logistic.py:763: ConvergenceWarning:\n",
      "\n",
      "lbfgs failed to converge (status=1):\n",
      "STOP: TOTAL NO. of ITERATIONS REACHED LIMIT.\n",
      "\n",
      "Increase the number of iterations (max_iter) or scale the data as shown in:\n",
      "    https://scikit-learn.org/stable/modules/preprocessing.html\n",
      "Please also refer to the documentation for alternative solver options:\n",
      "    https://scikit-learn.org/stable/modules/linear_model.html#logistic-regression\n",
      "\n",
      "c:\\users\\harsshh wankhayday\\appdata\\local\\programs\\python\\python39\\lib\\site-packages\\sklearn\\linear_model\\_logistic.py:763: ConvergenceWarning:\n",
      "\n",
      "lbfgs failed to converge (status=1):\n",
      "STOP: TOTAL NO. of ITERATIONS REACHED LIMIT.\n",
      "\n",
      "Increase the number of iterations (max_iter) or scale the data as shown in:\n",
      "    https://scikit-learn.org/stable/modules/preprocessing.html\n",
      "Please also refer to the documentation for alternative solver options:\n",
      "    https://scikit-learn.org/stable/modules/linear_model.html#logistic-regression\n",
      "\n",
      "c:\\users\\harsshh wankhayday\\appdata\\local\\programs\\python\\python39\\lib\\site-packages\\sklearn\\linear_model\\_logistic.py:763: ConvergenceWarning:\n",
      "\n",
      "lbfgs failed to converge (status=1):\n",
      "STOP: TOTAL NO. of ITERATIONS REACHED LIMIT.\n",
      "\n",
      "Increase the number of iterations (max_iter) or scale the data as shown in:\n",
      "    https://scikit-learn.org/stable/modules/preprocessing.html\n",
      "Please also refer to the documentation for alternative solver options:\n",
      "    https://scikit-learn.org/stable/modules/linear_model.html#logistic-regression\n",
      "\n",
      "c:\\users\\harsshh wankhayday\\appdata\\local\\programs\\python\\python39\\lib\\site-packages\\sklearn\\linear_model\\_logistic.py:763: ConvergenceWarning:\n",
      "\n",
      "lbfgs failed to converge (status=1):\n",
      "STOP: TOTAL NO. of ITERATIONS REACHED LIMIT.\n",
      "\n",
      "Increase the number of iterations (max_iter) or scale the data as shown in:\n",
      "    https://scikit-learn.org/stable/modules/preprocessing.html\n",
      "Please also refer to the documentation for alternative solver options:\n",
      "    https://scikit-learn.org/stable/modules/linear_model.html#logistic-regression\n",
      "\n",
      "c:\\users\\harsshh wankhayday\\appdata\\local\\programs\\python\\python39\\lib\\site-packages\\sklearn\\linear_model\\_logistic.py:763: ConvergenceWarning:\n",
      "\n",
      "lbfgs failed to converge (status=1):\n",
      "STOP: TOTAL NO. of ITERATIONS REACHED LIMIT.\n",
      "\n",
      "Increase the number of iterations (max_iter) or scale the data as shown in:\n",
      "    https://scikit-learn.org/stable/modules/preprocessing.html\n",
      "Please also refer to the documentation for alternative solver options:\n",
      "    https://scikit-learn.org/stable/modules/linear_model.html#logistic-regression\n",
      "\n",
      "c:\\users\\harsshh wankhayday\\appdata\\local\\programs\\python\\python39\\lib\\site-packages\\sklearn\\model_selection\\_validation.py:615: FitFailedWarning:\n",
      "\n",
      "Estimator fit failed. The score on this train-test partition for these parameters will be set to nan. Details: \n",
      "Traceback (most recent call last):\n",
      "  File \"c:\\users\\harsshh wankhayday\\appdata\\local\\programs\\python\\python39\\lib\\site-packages\\sklearn\\model_selection\\_validation.py\", line 598, in _fit_and_score\n",
      "    estimator.fit(X_train, y_train, **fit_params)\n",
      "  File \"c:\\users\\harsshh wankhayday\\appdata\\local\\programs\\python\\python39\\lib\\site-packages\\sklearn\\linear_model\\_logistic.py\", line 1306, in fit\n",
      "    solver = _check_solver(self.solver, self.penalty, self.dual)\n",
      "  File \"c:\\users\\harsshh wankhayday\\appdata\\local\\programs\\python\\python39\\lib\\site-packages\\sklearn\\linear_model\\_logistic.py\", line 454, in _check_solver\n",
      "    raise ValueError(\n",
      "ValueError: penalty='none' is not supported for the liblinear solver\n",
      "\n",
      "\n",
      "c:\\users\\harsshh wankhayday\\appdata\\local\\programs\\python\\python39\\lib\\site-packages\\sklearn\\model_selection\\_validation.py:615: FitFailedWarning:\n",
      "\n",
      "Estimator fit failed. The score on this train-test partition for these parameters will be set to nan. Details: \n",
      "Traceback (most recent call last):\n",
      "  File \"c:\\users\\harsshh wankhayday\\appdata\\local\\programs\\python\\python39\\lib\\site-packages\\sklearn\\model_selection\\_validation.py\", line 598, in _fit_and_score\n",
      "    estimator.fit(X_train, y_train, **fit_params)\n",
      "  File \"c:\\users\\harsshh wankhayday\\appdata\\local\\programs\\python\\python39\\lib\\site-packages\\sklearn\\linear_model\\_logistic.py\", line 1306, in fit\n",
      "    solver = _check_solver(self.solver, self.penalty, self.dual)\n",
      "  File \"c:\\users\\harsshh wankhayday\\appdata\\local\\programs\\python\\python39\\lib\\site-packages\\sklearn\\linear_model\\_logistic.py\", line 454, in _check_solver\n",
      "    raise ValueError(\n",
      "ValueError: penalty='none' is not supported for the liblinear solver\n",
      "\n",
      "\n",
      "c:\\users\\harsshh wankhayday\\appdata\\local\\programs\\python\\python39\\lib\\site-packages\\sklearn\\model_selection\\_validation.py:615: FitFailedWarning:\n",
      "\n",
      "Estimator fit failed. The score on this train-test partition for these parameters will be set to nan. Details: \n",
      "Traceback (most recent call last):\n",
      "  File \"c:\\users\\harsshh wankhayday\\appdata\\local\\programs\\python\\python39\\lib\\site-packages\\sklearn\\model_selection\\_validation.py\", line 598, in _fit_and_score\n",
      "    estimator.fit(X_train, y_train, **fit_params)\n",
      "  File \"c:\\users\\harsshh wankhayday\\appdata\\local\\programs\\python\\python39\\lib\\site-packages\\sklearn\\linear_model\\_logistic.py\", line 1306, in fit\n",
      "    solver = _check_solver(self.solver, self.penalty, self.dual)\n",
      "  File \"c:\\users\\harsshh wankhayday\\appdata\\local\\programs\\python\\python39\\lib\\site-packages\\sklearn\\linear_model\\_logistic.py\", line 454, in _check_solver\n",
      "    raise ValueError(\n",
      "ValueError: penalty='none' is not supported for the liblinear solver\n",
      "\n",
      "\n",
      "c:\\users\\harsshh wankhayday\\appdata\\local\\programs\\python\\python39\\lib\\site-packages\\sklearn\\model_selection\\_validation.py:615: FitFailedWarning:\n",
      "\n",
      "Estimator fit failed. The score on this train-test partition for these parameters will be set to nan. Details: \n",
      "Traceback (most recent call last):\n",
      "  File \"c:\\users\\harsshh wankhayday\\appdata\\local\\programs\\python\\python39\\lib\\site-packages\\sklearn\\model_selection\\_validation.py\", line 598, in _fit_and_score\n",
      "    estimator.fit(X_train, y_train, **fit_params)\n",
      "  File \"c:\\users\\harsshh wankhayday\\appdata\\local\\programs\\python\\python39\\lib\\site-packages\\sklearn\\linear_model\\_logistic.py\", line 1306, in fit\n",
      "    solver = _check_solver(self.solver, self.penalty, self.dual)\n",
      "  File \"c:\\users\\harsshh wankhayday\\appdata\\local\\programs\\python\\python39\\lib\\site-packages\\sklearn\\linear_model\\_logistic.py\", line 454, in _check_solver\n",
      "    raise ValueError(\n",
      "ValueError: penalty='none' is not supported for the liblinear solver\n",
      "\n",
      "\n",
      "c:\\users\\harsshh wankhayday\\appdata\\local\\programs\\python\\python39\\lib\\site-packages\\sklearn\\model_selection\\_validation.py:615: FitFailedWarning:\n",
      "\n",
      "Estimator fit failed. The score on this train-test partition for these parameters will be set to nan. Details: \n",
      "Traceback (most recent call last):\n",
      "  File \"c:\\users\\harsshh wankhayday\\appdata\\local\\programs\\python\\python39\\lib\\site-packages\\sklearn\\model_selection\\_validation.py\", line 598, in _fit_and_score\n",
      "    estimator.fit(X_train, y_train, **fit_params)\n",
      "  File \"c:\\users\\harsshh wankhayday\\appdata\\local\\programs\\python\\python39\\lib\\site-packages\\sklearn\\linear_model\\_logistic.py\", line 1306, in fit\n",
      "    solver = _check_solver(self.solver, self.penalty, self.dual)\n",
      "  File \"c:\\users\\harsshh wankhayday\\appdata\\local\\programs\\python\\python39\\lib\\site-packages\\sklearn\\linear_model\\_logistic.py\", line 454, in _check_solver\n",
      "    raise ValueError(\n",
      "ValueError: penalty='none' is not supported for the liblinear solver\n",
      "\n",
      "\n",
      "c:\\users\\harsshh wankhayday\\appdata\\local\\programs\\python\\python39\\lib\\site-packages\\sklearn\\linear_model\\_sag.py:328: ConvergenceWarning:\n",
      "\n",
      "The max_iter was reached which means the coef_ did not converge\n",
      "\n",
      "c:\\users\\harsshh wankhayday\\appdata\\local\\programs\\python\\python39\\lib\\site-packages\\sklearn\\linear_model\\_sag.py:328: ConvergenceWarning:\n",
      "\n",
      "The max_iter was reached which means the coef_ did not converge\n",
      "\n"
     ]
    },
    {
     "name": "stdout",
     "output_type": "stream",
     "text": [
      "[CV 5/5] END ........penalty=none, solver=lbfgs;, score=0.333 total time=   0.0s\n",
      "[CV 1/5] END ......penalty=none, solver=liblinear;, score=nan total time=   0.0s\n",
      "[CV 2/5] END ......penalty=none, solver=liblinear;, score=nan total time=   0.0s\n",
      "[CV 3/5] END ......penalty=none, solver=liblinear;, score=nan total time=   0.0s\n",
      "[CV 4/5] END ......penalty=none, solver=liblinear;, score=nan total time=   0.0s\n",
      "[CV 5/5] END ......penalty=none, solver=liblinear;, score=nan total time=   0.0s\n",
      "[CV 1/5] END ..........penalty=none, solver=sag;, score=0.200 total time=   0.0s\n",
      "[CV 2/5] END ..........penalty=none, solver=sag;, score=0.378 total time=   0.0s\n",
      "[CV 3/5] END ..........penalty=none, solver=sag;, score=0.200 total time=   0.0s\n",
      "[CV 4/5] END ..........penalty=none, solver=sag;, score=0.200 total time=   0.0s\n",
      "[CV 5/5] END ..........penalty=none, solver=sag;, score=0.156 total time=   0.0s\n",
      "[CV 1/5] END .........penalty=none, solver=saga;, score=0.156 total time=   0.0s\n"
     ]
    },
    {
     "name": "stderr",
     "output_type": "stream",
     "text": [
      "c:\\users\\harsshh wankhayday\\appdata\\local\\programs\\python\\python39\\lib\\site-packages\\sklearn\\linear_model\\_sag.py:328: ConvergenceWarning:\n",
      "\n",
      "The max_iter was reached which means the coef_ did not converge\n",
      "\n",
      "c:\\users\\harsshh wankhayday\\appdata\\local\\programs\\python\\python39\\lib\\site-packages\\sklearn\\linear_model\\_sag.py:328: ConvergenceWarning:\n",
      "\n",
      "The max_iter was reached which means the coef_ did not converge\n",
      "\n",
      "c:\\users\\harsshh wankhayday\\appdata\\local\\programs\\python\\python39\\lib\\site-packages\\sklearn\\linear_model\\_sag.py:328: ConvergenceWarning:\n",
      "\n",
      "The max_iter was reached which means the coef_ did not converge\n",
      "\n",
      "c:\\users\\harsshh wankhayday\\appdata\\local\\programs\\python\\python39\\lib\\site-packages\\sklearn\\linear_model\\_sag.py:328: ConvergenceWarning:\n",
      "\n",
      "The max_iter was reached which means the coef_ did not converge\n",
      "\n",
      "c:\\users\\harsshh wankhayday\\appdata\\local\\programs\\python\\python39\\lib\\site-packages\\sklearn\\linear_model\\_sag.py:328: ConvergenceWarning:\n",
      "\n",
      "The max_iter was reached which means the coef_ did not converge\n",
      "\n",
      "c:\\users\\harsshh wankhayday\\appdata\\local\\programs\\python\\python39\\lib\\site-packages\\sklearn\\linear_model\\_sag.py:328: ConvergenceWarning:\n",
      "\n",
      "The max_iter was reached which means the coef_ did not converge\n",
      "\n",
      "c:\\users\\harsshh wankhayday\\appdata\\local\\programs\\python\\python39\\lib\\site-packages\\sklearn\\linear_model\\_sag.py:328: ConvergenceWarning:\n",
      "\n",
      "The max_iter was reached which means the coef_ did not converge\n",
      "\n"
     ]
    },
    {
     "name": "stdout",
     "output_type": "stream",
     "text": [
      "[CV 2/5] END .........penalty=none, solver=saga;, score=0.289 total time=   0.0s\n",
      "[CV 3/5] END .........penalty=none, solver=saga;, score=0.156 total time=   0.0s\n",
      "[CV 4/5] END .........penalty=none, solver=saga;, score=0.156 total time=   0.0s\n",
      "[CV 5/5] END .........penalty=none, solver=saga;, score=0.111 total time=   0.0s\n"
     ]
    },
    {
     "name": "stderr",
     "output_type": "stream",
     "text": [
      "c:\\users\\harsshh wankhayday\\appdata\\local\\programs\\python\\python39\\lib\\site-packages\\sklearn\\linear_model\\_sag.py:328: ConvergenceWarning:\n",
      "\n",
      "The max_iter was reached which means the coef_ did not converge\n",
      "\n",
      "c:\\users\\harsshh wankhayday\\appdata\\local\\programs\\python\\python39\\lib\\site-packages\\sklearn\\model_selection\\_search.py:922: UserWarning:\n",
      "\n",
      "One or more of the test scores are non-finite: [       nan        nan 0.36888889        nan 0.17333333 0.36444444\n",
      " 0.36       0.36       0.21777778 0.17333333        nan        nan\n",
      "        nan        nan        nan 0.38222222 0.39111111        nan\n",
      " 0.22666667 0.17333333]\n",
      "\n",
      "c:\\users\\harsshh wankhayday\\appdata\\local\\programs\\python\\python39\\lib\\site-packages\\sklearn\\linear_model\\_logistic.py:763: ConvergenceWarning:\n",
      "\n",
      "lbfgs failed to converge (status=1):\n",
      "STOP: TOTAL NO. of ITERATIONS REACHED LIMIT.\n",
      "\n",
      "Increase the number of iterations (max_iter) or scale the data as shown in:\n",
      "    https://scikit-learn.org/stable/modules/preprocessing.html\n",
      "Please also refer to the documentation for alternative solver options:\n",
      "    https://scikit-learn.org/stable/modules/linear_model.html#logistic-regression\n",
      "\n"
     ]
    },
    {
     "data": {
      "text/plain": [
       "GridSearchCV(cv=5, estimator=LogisticRegression(),\n",
       "             param_grid={'penalty': ['l1', 'l2', 'elasticnet', 'none'],\n",
       "                         'solver': ['newton-cg', 'lbfgs', 'liblinear', 'sag',\n",
       "                                    'saga']},\n",
       "             scoring='recall', verbose=4)"
      ]
     },
     "execution_count": 39,
     "metadata": {},
     "output_type": "execute_result"
    }
   ],
   "source": [
    "#Seting the Hyper Parameters\n",
    "param_grid_logistic = {\"penalty\": ['l1','l2','elasticnet','none'],\n",
    "              \"solver\": ['newton-cg', 'lbfgs', 'liblinear', 'sag', 'saga']}\n",
    "\n",
    "#Creating the classifier\n",
    "model_logistic = LogisticRegression()\n",
    "\n",
    "grid_search_logistic = GridSearchCV(model_logistic, param_grid=param_grid_logistic, cv=5, scoring='recall', verbose=4)\n",
    "grid_search_logistic.fit(X_train, y_train)"
   ]
  },
  {
   "cell_type": "code",
   "execution_count": 40,
   "metadata": {},
   "outputs": [
    {
     "name": "stdout",
     "output_type": "stream",
     "text": [
      "0.3911111111111111\n",
      "{'penalty': 'none', 'solver': 'lbfgs'}\n"
     ]
    }
   ],
   "source": [
    "print(grid_search_logistic.best_score_)\n",
    "print(grid_search_logistic.best_params_)"
   ]
  },
  {
   "cell_type": "code",
   "execution_count": 42,
   "metadata": {},
   "outputs": [
    {
     "name": "stderr",
     "output_type": "stream",
     "text": [
      "c:\\users\\harsshh wankhayday\\appdata\\local\\programs\\python\\python39\\lib\\site-packages\\sklearn\\linear_model\\_logistic.py:763: ConvergenceWarning:\n",
      "\n",
      "lbfgs failed to converge (status=1):\n",
      "STOP: TOTAL NO. of ITERATIONS REACHED LIMIT.\n",
      "\n",
      "Increase the number of iterations (max_iter) or scale the data as shown in:\n",
      "    https://scikit-learn.org/stable/modules/preprocessing.html\n",
      "Please also refer to the documentation for alternative solver options:\n",
      "    https://scikit-learn.org/stable/modules/linear_model.html#logistic-regression\n",
      "\n"
     ]
    },
    {
     "data": {
      "text/plain": [
       "LogisticRegression(penalty='none')"
      ]
     },
     "execution_count": 42,
     "metadata": {},
     "output_type": "execute_result"
    }
   ],
   "source": [
    "lr=LogisticRegression(penalty='none', solver='lbfgs')\n",
    "lr.fit(X_train,y_train)"
   ]
  },
  {
   "cell_type": "code",
   "execution_count": 43,
   "metadata": {
    "_cell_guid": "797436e3-1d4b-4748-860d-efb282a1d0ce",
    "_uuid": "8cf623e40c3615367b5ed12bc8fdcb5b825ca58d"
   },
   "outputs": [
    {
     "name": "stdout",
     "output_type": "stream",
     "text": [
      "Training score data: \n",
      "0.7546666666666667\n"
     ]
    }
   ],
   "source": [
    "# Printing the Training Score\n",
    "print(\"Training score data: \")\n",
    "print(lr.score(X_train, y_train))"
   ]
  },
  {
   "cell_type": "code",
   "execution_count": 45,
   "metadata": {
    "_cell_guid": "9649fb32-39e0-495a-8a7b-dd659bb24dc9",
    "_uuid": "cd3133deabdf47413f070365a4da6b5566e19e7f"
   },
   "outputs": [
    {
     "name": "stdout",
     "output_type": "stream",
     "text": [
      "0.744\n",
      "\n",
      "\n",
      "              precision    recall  f1-score   support\n",
      "\n",
      "           0       0.79      0.87      0.83       175\n",
      "           1       0.60      0.45      0.52        75\n",
      "\n",
      "    accuracy                           0.74       250\n",
      "   macro avg       0.69      0.66      0.67       250\n",
      "weighted avg       0.73      0.74      0.73       250\n",
      "\n"
     ]
    }
   ],
   "source": [
    "y_pred_logistic = lr.predict(X_test)\n",
    "\n",
    "print(accuracy_score(y_test,y_pred_logistic))\n",
    "print(\"\\n\")\n",
    "print(classification_report(y_test, y_pred_logistic))"
   ]
  },
  {
   "cell_type": "code",
   "execution_count": null,
   "metadata": {
    "_cell_guid": "06356183-c43a-4258-9fda-557b16fda15e",
    "_uuid": "3dd2ac7c21fa16ee53db73a517255544c3618d30"
   },
   "outputs": [],
   "source": [
    "from sklearn.model_selection import KFold\n",
    "from sklearn.model_selection import cross_val_score\n",
    "from sklearn.pipeline import Pipeline\n",
    "from sklearn.pipeline import FeatureUnion\n",
    "from sklearn.feature_selection import SelectKBest"
   ]
  },
  {
   "cell_type": "markdown",
   "metadata": {},
   "source": [
    "# SMOTE Analysis\n"
   ]
  },
  {
   "cell_type": "code",
   "execution_count": 47,
   "metadata": {},
   "outputs": [
    {
     "name": "stdout",
     "output_type": "stream",
     "text": [
      "Requirement already satisfied: imbalanced-learn in c:\\users\\harsshh wankhayday\\appdata\\local\\programs\\python\\python39\\lib\\site-packages (0.8.1)\n",
      "Requirement already satisfied: scikit-learn>=0.24 in c:\\users\\harsshh wankhayday\\appdata\\local\\programs\\python\\python39\\lib\\site-packages (from imbalanced-learn) (0.24.2)\n",
      "Requirement already satisfied: scipy>=0.19.1 in c:\\users\\harsshh wankhayday\\appdata\\local\\programs\\python\\python39\\lib\\site-packages (from imbalanced-learn) (1.7.0)\n",
      "Requirement already satisfied: numpy>=1.13.3 in c:\\users\\harsshh wankhayday\\appdata\\local\\programs\\python\\python39\\lib\\site-packages (from imbalanced-learn) (1.21.0)\n",
      "Requirement already satisfied: joblib>=0.11 in c:\\users\\harsshh wankhayday\\appdata\\local\\programs\\python\\python39\\lib\\site-packages (from imbalanced-learn) (1.0.1)\n",
      "Requirement already satisfied: threadpoolctl>=2.0.0 in c:\\users\\harsshh wankhayday\\appdata\\local\\programs\\python\\python39\\lib\\site-packages (from scikit-learn>=0.24->imbalanced-learn) (2.2.0)\n"
     ]
    },
    {
     "name": "stderr",
     "output_type": "stream",
     "text": [
      "WARNING: You are using pip version 21.1.1; however, version 22.2.2 is available.\n",
      "You should consider upgrading via the 'c:\\users\\harsshh wankhayday\\appdata\\local\\programs\\python\\python39\\python.exe -m pip install --upgrade pip' command.\n"
     ]
    }
   ],
   "source": [
    "!pip install imbalanced-learn"
   ]
  },
  {
   "cell_type": "code",
   "execution_count": 48,
   "metadata": {},
   "outputs": [],
   "source": [
    "import imblearn"
   ]
  },
  {
   "cell_type": "code",
   "execution_count": 49,
   "metadata": {},
   "outputs": [],
   "source": [
    "oversample=imblearn.over_sampling.SMOTE()\n",
    "X_train,y_train=oversample.fit_resample(X_train,y_train)"
   ]
  },
  {
   "cell_type": "code",
   "execution_count": 50,
   "metadata": {},
   "outputs": [
    {
     "data": {
      "text/plain": [
       "(1050, 24)"
      ]
     },
     "execution_count": 50,
     "metadata": {},
     "output_type": "execute_result"
    }
   ],
   "source": [
    "X_train.shape"
   ]
  },
  {
   "cell_type": "code",
   "execution_count": 51,
   "metadata": {},
   "outputs": [],
   "source": [
    "smote_model_log=LogisticRegression(penalty='none', solver='lbfgs')"
   ]
  },
  {
   "cell_type": "code",
   "execution_count": 53,
   "metadata": {},
   "outputs": [
    {
     "name": "stderr",
     "output_type": "stream",
     "text": [
      "c:\\users\\harsshh wankhayday\\appdata\\local\\programs\\python\\python39\\lib\\site-packages\\sklearn\\linear_model\\_logistic.py:763: ConvergenceWarning:\n",
      "\n",
      "lbfgs failed to converge (status=1):\n",
      "STOP: TOTAL NO. of ITERATIONS REACHED LIMIT.\n",
      "\n",
      "Increase the number of iterations (max_iter) or scale the data as shown in:\n",
      "    https://scikit-learn.org/stable/modules/preprocessing.html\n",
      "Please also refer to the documentation for alternative solver options:\n",
      "    https://scikit-learn.org/stable/modules/linear_model.html#logistic-regression\n",
      "\n"
     ]
    },
    {
     "data": {
      "text/plain": [
       "LogisticRegression(penalty='none')"
      ]
     },
     "execution_count": 53,
     "metadata": {},
     "output_type": "execute_result"
    }
   ],
   "source": [
    "smote_model_log.fit(X_train,y_train)"
   ]
  },
  {
   "cell_type": "code",
   "execution_count": 54,
   "metadata": {},
   "outputs": [],
   "source": [
    "y_pred_smote=smote_model_log.predict(X_test)"
   ]
  },
  {
   "cell_type": "code",
   "execution_count": 55,
   "metadata": {},
   "outputs": [
    {
     "name": "stdout",
     "output_type": "stream",
     "text": [
      "0.68\n",
      "\n",
      "\n",
      "[[117  58]\n",
      " [ 22  53]]\n"
     ]
    }
   ],
   "source": [
    "print(accuracy_score(y_test,y_pred_smote))\n",
    "print(\"\\n\")\n",
    "print(confusion_matrix(y_test, y_pred_smote))"
   ]
  },
  {
   "cell_type": "code",
   "execution_count": null,
   "metadata": {},
   "outputs": [],
   "source": []
  },
  {
   "cell_type": "code",
   "execution_count": null,
   "metadata": {},
   "outputs": [],
   "source": []
  },
  {
   "cell_type": "code",
   "execution_count": null,
   "metadata": {},
   "outputs": [],
   "source": []
  },
  {
   "cell_type": "code",
   "execution_count": null,
   "metadata": {},
   "outputs": [],
   "source": []
  },
  {
   "cell_type": "code",
   "execution_count": null,
   "metadata": {},
   "outputs": [],
   "source": []
  },
  {
   "cell_type": "code",
   "execution_count": null,
   "metadata": {},
   "outputs": [],
   "source": []
  }
 ],
 "metadata": {
  "kernelspec": {
   "display_name": "Python 3 (ipykernel)",
   "language": "python",
   "name": "python3"
  },
  "language_info": {
   "codemirror_mode": {
    "name": "ipython",
    "version": 3
   },
   "file_extension": ".py",
   "mimetype": "text/x-python",
   "name": "python",
   "nbconvert_exporter": "python",
   "pygments_lexer": "ipython3",
   "version": "3.9.0"
  }
 },
 "nbformat": 4,
 "nbformat_minor": 1
}
